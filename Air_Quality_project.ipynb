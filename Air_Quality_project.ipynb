{
 "cells": [
  {
   "cell_type": "markdown",
   "metadata": {},
   "source": [
    "Assignment Expectations/Steps -\n",
    "\n",
    "Import and store the data in a data frame. (2.5 points)\n",
    "Remove the outliers from the data (5 points)\n",
    "Treat “Average Fare” – 3rdColumn as your Dependent Variable and Rest of the columns as Independent Variable. (2.5 points)\n",
    "Drop the independent variables which has less than 0.1 correlation with the dependent variable (5 points)\n",
    "Create scatter Plot of Independent Variable vs Dependent Variable. (2.5 points)\n",
    "Divide the data set into training and test data set and build a Multiple Linear Regression model. (5 points)\n",
    "Print the coefficients & intercepts of the linear regression model (5 points)\n",
    "Print the accuracy of the overall model (2.5 points)"
   ]
  },
  {
   "cell_type": "code",
   "execution_count": 67,
   "metadata": {},
   "outputs": [],
   "source": [
    "import warnings \n",
    "warnings.filterwarnings('ignore')"
   ]
  },
  {
   "cell_type": "code",
   "execution_count": 68,
   "metadata": {},
   "outputs": [],
   "source": [
    "import pandas as pd\n",
    "import numpy as np"
   ]
  },
  {
   "cell_type": "code",
   "execution_count": 69,
   "metadata": {},
   "outputs": [],
   "source": [
    "#Import and store the data in a data frame. (2.5 points)\n",
    "# downloaded the data into a text file on local machine\n",
    "aq_df = pd.read_csv(\"Aq_data.txt\", sep=\"\\s+\",header=None)"
   ]
  },
  {
   "cell_type": "code",
   "execution_count": 70,
   "metadata": {},
   "outputs": [
    {
     "name": "stdout",
     "output_type": "stream",
     "text": [
      "<class 'pandas.core.frame.DataFrame'>\n",
      "RangeIndex: 1000 entries, 0 to 999\n",
      "Data columns (total 11 columns):\n",
      "0     1000 non-null object\n",
      "1     1000 non-null object\n",
      "2     1000 non-null float64\n",
      "3     1000 non-null int64\n",
      "4     1000 non-null float64\n",
      "5     1000 non-null object\n",
      "6     1000 non-null float64\n",
      "7     1000 non-null float64\n",
      "8     1000 non-null object\n",
      "9     1000 non-null float64\n",
      "10    1000 non-null float64\n",
      "dtypes: float64(6), int64(1), object(4)\n",
      "memory usage: 86.0+ KB\n"
     ]
    }
   ],
   "source": [
    "aq_df.info() # there are no missing values"
   ]
  },
  {
   "cell_type": "code",
   "execution_count": 71,
   "metadata": {},
   "outputs": [
    {
     "data": {
      "text/html": [
       "<div>\n",
       "<style scoped>\n",
       "    .dataframe tbody tr th:only-of-type {\n",
       "        vertical-align: middle;\n",
       "    }\n",
       "\n",
       "    .dataframe tbody tr th {\n",
       "        vertical-align: top;\n",
       "    }\n",
       "\n",
       "    .dataframe thead th {\n",
       "        text-align: right;\n",
       "    }\n",
       "</style>\n",
       "<table border=\"1\" class=\"dataframe\">\n",
       "  <thead>\n",
       "    <tr style=\"text-align: right;\">\n",
       "      <th></th>\n",
       "      <th>0</th>\n",
       "      <th>1</th>\n",
       "      <th>2</th>\n",
       "      <th>3</th>\n",
       "      <th>4</th>\n",
       "      <th>5</th>\n",
       "      <th>6</th>\n",
       "      <th>7</th>\n",
       "      <th>8</th>\n",
       "      <th>9</th>\n",
       "      <th>10</th>\n",
       "    </tr>\n",
       "  </thead>\n",
       "  <tbody>\n",
       "    <tr>\n",
       "      <th>0</th>\n",
       "      <td>CAK</td>\n",
       "      <td>ATL</td>\n",
       "      <td>114.47</td>\n",
       "      <td>528</td>\n",
       "      <td>424.56</td>\n",
       "      <td>FL</td>\n",
       "      <td>70.19</td>\n",
       "      <td>111.03</td>\n",
       "      <td>FL</td>\n",
       "      <td>70.19</td>\n",
       "      <td>111.03</td>\n",
       "    </tr>\n",
       "    <tr>\n",
       "      <th>1</th>\n",
       "      <td>CAK</td>\n",
       "      <td>MCO</td>\n",
       "      <td>122.47</td>\n",
       "      <td>860</td>\n",
       "      <td>276.84</td>\n",
       "      <td>FL</td>\n",
       "      <td>75.10</td>\n",
       "      <td>123.09</td>\n",
       "      <td>DL</td>\n",
       "      <td>17.23</td>\n",
       "      <td>118.94</td>\n",
       "    </tr>\n",
       "    <tr>\n",
       "      <th>2</th>\n",
       "      <td>ALB</td>\n",
       "      <td>ATL</td>\n",
       "      <td>214.42</td>\n",
       "      <td>852</td>\n",
       "      <td>215.76</td>\n",
       "      <td>DL</td>\n",
       "      <td>78.89</td>\n",
       "      <td>223.98</td>\n",
       "      <td>CO</td>\n",
       "      <td>2.77</td>\n",
       "      <td>167.12</td>\n",
       "    </tr>\n",
       "    <tr>\n",
       "      <th>3</th>\n",
       "      <td>ALB</td>\n",
       "      <td>BWI</td>\n",
       "      <td>69.40</td>\n",
       "      <td>288</td>\n",
       "      <td>606.84</td>\n",
       "      <td>WN</td>\n",
       "      <td>96.97</td>\n",
       "      <td>68.86</td>\n",
       "      <td>WN</td>\n",
       "      <td>96.97</td>\n",
       "      <td>68.86</td>\n",
       "    </tr>\n",
       "    <tr>\n",
       "      <th>4</th>\n",
       "      <td>ALB</td>\n",
       "      <td>ORD</td>\n",
       "      <td>158.13</td>\n",
       "      <td>723</td>\n",
       "      <td>313.04</td>\n",
       "      <td>UA</td>\n",
       "      <td>39.79</td>\n",
       "      <td>161.36</td>\n",
       "      <td>WN</td>\n",
       "      <td>15.34</td>\n",
       "      <td>145.42</td>\n",
       "    </tr>\n",
       "  </tbody>\n",
       "</table>\n",
       "</div>"
      ],
      "text/plain": [
       "    0    1       2    3       4   5      6       7   8      9       10\n",
       "0  CAK  ATL  114.47  528  424.56  FL  70.19  111.03  FL  70.19  111.03\n",
       "1  CAK  MCO  122.47  860  276.84  FL  75.10  123.09  DL  17.23  118.94\n",
       "2  ALB  ATL  214.42  852  215.76  DL  78.89  223.98  CO   2.77  167.12\n",
       "3  ALB  BWI   69.40  288  606.84  WN  96.97   68.86  WN  96.97   68.86\n",
       "4  ALB  ORD  158.13  723  313.04  UA  39.79  161.36  WN  15.34  145.42"
      ]
     },
     "execution_count": 71,
     "metadata": {},
     "output_type": "execute_result"
    }
   ],
   "source": [
    "aq_df.head()"
   ]
  },
  {
   "cell_type": "code",
   "execution_count": 72,
   "metadata": {},
   "outputs": [
    {
     "data": {
      "text/html": [
       "<div>\n",
       "<style scoped>\n",
       "    .dataframe tbody tr th:only-of-type {\n",
       "        vertical-align: middle;\n",
       "    }\n",
       "\n",
       "    .dataframe tbody tr th {\n",
       "        vertical-align: top;\n",
       "    }\n",
       "\n",
       "    .dataframe thead th {\n",
       "        text-align: right;\n",
       "    }\n",
       "</style>\n",
       "<table border=\"1\" class=\"dataframe\">\n",
       "  <thead>\n",
       "    <tr style=\"text-align: right;\">\n",
       "      <th></th>\n",
       "      <th>City1</th>\n",
       "      <th>City2</th>\n",
       "      <th>Avg_Fare1</th>\n",
       "      <th>Distance</th>\n",
       "      <th>Avg_wkly_pssngrs</th>\n",
       "      <th>market_leading_airline</th>\n",
       "      <th>market_share1</th>\n",
       "      <th>Avg_fare2</th>\n",
       "      <th>Low_price_airline</th>\n",
       "      <th>market_share2</th>\n",
       "      <th>price</th>\n",
       "    </tr>\n",
       "  </thead>\n",
       "  <tbody>\n",
       "    <tr>\n",
       "      <th>0</th>\n",
       "      <td>CAK</td>\n",
       "      <td>ATL</td>\n",
       "      <td>114.47</td>\n",
       "      <td>528</td>\n",
       "      <td>424.56</td>\n",
       "      <td>FL</td>\n",
       "      <td>70.19</td>\n",
       "      <td>111.03</td>\n",
       "      <td>FL</td>\n",
       "      <td>70.19</td>\n",
       "      <td>111.03</td>\n",
       "    </tr>\n",
       "    <tr>\n",
       "      <th>1</th>\n",
       "      <td>CAK</td>\n",
       "      <td>MCO</td>\n",
       "      <td>122.47</td>\n",
       "      <td>860</td>\n",
       "      <td>276.84</td>\n",
       "      <td>FL</td>\n",
       "      <td>75.10</td>\n",
       "      <td>123.09</td>\n",
       "      <td>DL</td>\n",
       "      <td>17.23</td>\n",
       "      <td>118.94</td>\n",
       "    </tr>\n",
       "    <tr>\n",
       "      <th>2</th>\n",
       "      <td>ALB</td>\n",
       "      <td>ATL</td>\n",
       "      <td>214.42</td>\n",
       "      <td>852</td>\n",
       "      <td>215.76</td>\n",
       "      <td>DL</td>\n",
       "      <td>78.89</td>\n",
       "      <td>223.98</td>\n",
       "      <td>CO</td>\n",
       "      <td>2.77</td>\n",
       "      <td>167.12</td>\n",
       "    </tr>\n",
       "    <tr>\n",
       "      <th>3</th>\n",
       "      <td>ALB</td>\n",
       "      <td>BWI</td>\n",
       "      <td>69.40</td>\n",
       "      <td>288</td>\n",
       "      <td>606.84</td>\n",
       "      <td>WN</td>\n",
       "      <td>96.97</td>\n",
       "      <td>68.86</td>\n",
       "      <td>WN</td>\n",
       "      <td>96.97</td>\n",
       "      <td>68.86</td>\n",
       "    </tr>\n",
       "    <tr>\n",
       "      <th>4</th>\n",
       "      <td>ALB</td>\n",
       "      <td>ORD</td>\n",
       "      <td>158.13</td>\n",
       "      <td>723</td>\n",
       "      <td>313.04</td>\n",
       "      <td>UA</td>\n",
       "      <td>39.79</td>\n",
       "      <td>161.36</td>\n",
       "      <td>WN</td>\n",
       "      <td>15.34</td>\n",
       "      <td>145.42</td>\n",
       "    </tr>\n",
       "  </tbody>\n",
       "</table>\n",
       "</div>"
      ],
      "text/plain": [
       "  City1 City2  Avg_Fare1  Distance  Avg_wkly_pssngrs market_leading_airline  \\\n",
       "0   CAK   ATL     114.47       528            424.56                     FL   \n",
       "1   CAK   MCO     122.47       860            276.84                     FL   \n",
       "2   ALB   ATL     214.42       852            215.76                     DL   \n",
       "3   ALB   BWI      69.40       288            606.84                     WN   \n",
       "4   ALB   ORD     158.13       723            313.04                     UA   \n",
       "\n",
       "   market_share1  Avg_fare2 Low_price_airline  market_share2   price  \n",
       "0          70.19     111.03                FL          70.19  111.03  \n",
       "1          75.10     123.09                DL          17.23  118.94  \n",
       "2          78.89     223.98                CO           2.77  167.12  \n",
       "3          96.97      68.86                WN          96.97   68.86  \n",
       "4          39.79     161.36                WN          15.34  145.42  "
      ]
     },
     "execution_count": 72,
     "metadata": {},
     "output_type": "execute_result"
    }
   ],
   "source": [
    "aq_df = aq_df.rename(columns = {0:'City1', 1:'City2', 2:'Avg_Fare1', 3:'Distance', 4: 'Avg_wkly_pssngrs', 5:'market_leading_airline', 6: 'market_share1', 7: 'Avg_fare2', 8:'Low_price_airline',9:'market_share2', 10:'price'})\n",
    "aq_df.head()"
   ]
  },
  {
   "cell_type": "code",
   "execution_count": 73,
   "metadata": {},
   "outputs": [],
   "source": [
    "#Remove the outliers from the data (5 points) "
   ]
  },
  {
   "cell_type": "code",
   "execution_count": 74,
   "metadata": {},
   "outputs": [
    {
     "data": {
      "text/html": [
       "<div>\n",
       "<style scoped>\n",
       "    .dataframe tbody tr th:only-of-type {\n",
       "        vertical-align: middle;\n",
       "    }\n",
       "\n",
       "    .dataframe tbody tr th {\n",
       "        vertical-align: top;\n",
       "    }\n",
       "\n",
       "    .dataframe thead th {\n",
       "        text-align: right;\n",
       "    }\n",
       "</style>\n",
       "<table border=\"1\" class=\"dataframe\">\n",
       "  <thead>\n",
       "    <tr style=\"text-align: right;\">\n",
       "      <th></th>\n",
       "      <th>count</th>\n",
       "      <th>mean</th>\n",
       "      <th>std</th>\n",
       "      <th>min</th>\n",
       "      <th>25%</th>\n",
       "      <th>50%</th>\n",
       "      <th>75%</th>\n",
       "      <th>max</th>\n",
       "    </tr>\n",
       "  </thead>\n",
       "  <tbody>\n",
       "    <tr>\n",
       "      <th>Avg_Fare1</th>\n",
       "      <td>1000.0</td>\n",
       "      <td>163.37542</td>\n",
       "      <td>55.365470</td>\n",
       "      <td>50.52</td>\n",
       "      <td>125.9750</td>\n",
       "      <td>161.345</td>\n",
       "      <td>197.3925</td>\n",
       "      <td>401.23</td>\n",
       "    </tr>\n",
       "    <tr>\n",
       "      <th>Distance</th>\n",
       "      <td>1000.0</td>\n",
       "      <td>1056.97300</td>\n",
       "      <td>643.203251</td>\n",
       "      <td>108.00</td>\n",
       "      <td>553.5000</td>\n",
       "      <td>919.000</td>\n",
       "      <td>1452.5000</td>\n",
       "      <td>2724.00</td>\n",
       "    </tr>\n",
       "    <tr>\n",
       "      <th>Avg_wkly_pssngrs</th>\n",
       "      <td>1000.0</td>\n",
       "      <td>672.27914</td>\n",
       "      <td>766.519254</td>\n",
       "      <td>181.41</td>\n",
       "      <td>257.1975</td>\n",
       "      <td>404.780</td>\n",
       "      <td>769.9125</td>\n",
       "      <td>8950.76</td>\n",
       "    </tr>\n",
       "    <tr>\n",
       "      <th>market_share1</th>\n",
       "      <td>1000.0</td>\n",
       "      <td>60.12859</td>\n",
       "      <td>19.367779</td>\n",
       "      <td>17.68</td>\n",
       "      <td>46.5100</td>\n",
       "      <td>59.240</td>\n",
       "      <td>73.5100</td>\n",
       "      <td>100.00</td>\n",
       "    </tr>\n",
       "    <tr>\n",
       "      <th>Avg_fare2</th>\n",
       "      <td>1000.0</td>\n",
       "      <td>166.64756</td>\n",
       "      <td>62.660140</td>\n",
       "      <td>50.52</td>\n",
       "      <td>124.0850</td>\n",
       "      <td>161.400</td>\n",
       "      <td>202.9775</td>\n",
       "      <td>490.03</td>\n",
       "    </tr>\n",
       "    <tr>\n",
       "      <th>market_share2</th>\n",
       "      <td>1000.0</td>\n",
       "      <td>34.55148</td>\n",
       "      <td>27.096999</td>\n",
       "      <td>1.06</td>\n",
       "      <td>13.1950</td>\n",
       "      <td>26.140</td>\n",
       "      <td>52.9725</td>\n",
       "      <td>100.00</td>\n",
       "    </tr>\n",
       "    <tr>\n",
       "      <th>price</th>\n",
       "      <td>1000.0</td>\n",
       "      <td>143.19309</td>\n",
       "      <td>47.229184</td>\n",
       "      <td>49.61</td>\n",
       "      <td>113.7675</td>\n",
       "      <td>137.825</td>\n",
       "      <td>168.5300</td>\n",
       "      <td>387.94</td>\n",
       "    </tr>\n",
       "  </tbody>\n",
       "</table>\n",
       "</div>"
      ],
      "text/plain": [
       "                   count        mean         std     min       25%      50%  \\\n",
       "Avg_Fare1         1000.0   163.37542   55.365470   50.52  125.9750  161.345   \n",
       "Distance          1000.0  1056.97300  643.203251  108.00  553.5000  919.000   \n",
       "Avg_wkly_pssngrs  1000.0   672.27914  766.519254  181.41  257.1975  404.780   \n",
       "market_share1     1000.0    60.12859   19.367779   17.68   46.5100   59.240   \n",
       "Avg_fare2         1000.0   166.64756   62.660140   50.52  124.0850  161.400   \n",
       "market_share2     1000.0    34.55148   27.096999    1.06   13.1950   26.140   \n",
       "price             1000.0   143.19309   47.229184   49.61  113.7675  137.825   \n",
       "\n",
       "                        75%      max  \n",
       "Avg_Fare1          197.3925   401.23  \n",
       "Distance          1452.5000  2724.00  \n",
       "Avg_wkly_pssngrs   769.9125  8950.76  \n",
       "market_share1       73.5100   100.00  \n",
       "Avg_fare2          202.9775   490.03  \n",
       "market_share2       52.9725   100.00  \n",
       "price              168.5300   387.94  "
      ]
     },
     "execution_count": 74,
     "metadata": {},
     "output_type": "execute_result"
    }
   ],
   "source": [
    "aq_df.describe().transpose() # Observation:af1,dist,ms1,af2,ms2 and price do have variations between mean & 50% ."
   ]
  },
  {
   "cell_type": "code",
   "execution_count": 75,
   "metadata": {},
   "outputs": [],
   "source": [
    "# now we can use seabon to visually the outliers for all numeric columns except the Y column.\n",
    "import seaborn as sns"
   ]
  },
  {
   "cell_type": "code",
   "execution_count": 76,
   "metadata": {},
   "outputs": [
    {
     "data": {
      "text/plain": [
       "<matplotlib.axes._subplots.AxesSubplot at 0x1cbddee7ef0>"
      ]
     },
     "execution_count": 76,
     "metadata": {},
     "output_type": "execute_result"
    },
    {
     "data": {
      "image/png": "[encoded data removed]",
      "text/plain": [
       "<Figure size 432x288 with 1 Axes>"
      ]
     },
     "metadata": {
      "needs_background": "light"
     },
     "output_type": "display_data"
    }
   ],
   "source": [
    "sns.boxplot(x=aq_df['Avg_Fare1']) #outliers are observed"
   ]
  },
  {
   "cell_type": "code",
   "execution_count": 77,
   "metadata": {},
   "outputs": [
    {
     "data": {
      "text/plain": [
       "<matplotlib.axes._subplots.AxesSubplot at 0x1cbdbf38f98>"
      ]
     },
     "execution_count": 77,
     "metadata": {},
     "output_type": "execute_result"
    },
    {
     "data": {
      "image/png": "[encoded data removed]",
      "text/plain": [
       "<Figure size 432x288 with 1 Axes>"
      ]
     },
     "metadata": {
      "needs_background": "light"
     },
     "output_type": "display_data"
    }
   ],
   "source": [
    "sns.boxplot(x=aq_df['Distance']) # observations on boxplot of distance, market share 1 &2 reveals that there are no outliers\n",
    "sns.boxplot(x=aq_df['market_share1'])\n",
    "sns.boxplot(x=aq_df['market_share2'])\n"
   ]
  },
  {
   "cell_type": "code",
   "execution_count": 78,
   "metadata": {},
   "outputs": [
    {
     "data": {
      "text/plain": [
       "<matplotlib.axes._subplots.AxesSubplot at 0x1cbdbf764a8>"
      ]
     },
     "execution_count": 78,
     "metadata": {},
     "output_type": "execute_result"
    },
    {
     "data": {
      "image/png": "[encoded data removed]",
      "text/plain": [
       "<Figure size 432x288 with 1 Axes>"
      ]
     },
     "metadata": {
      "needs_background": "light"
     },
     "output_type": "display_data"
    }
   ],
   "source": [
    "sns.boxplot(x=aq_df['Avg_wkly_pssngrs']) #outliers are observed"
   ]
  },
  {
   "cell_type": "code",
   "execution_count": 79,
   "metadata": {},
   "outputs": [
    {
     "data": {
      "text/plain": [
       "<matplotlib.axes._subplots.AxesSubplot at 0x1cbddabf160>"
      ]
     },
     "execution_count": 79,
     "metadata": {},
     "output_type": "execute_result"
    },
    {
     "data": {
      "image/png": "[encoded data removed]",
      "text/plain": [
       "<Figure size 432x288 with 1 Axes>"
      ]
     },
     "metadata": {
      "needs_background": "light"
     },
     "output_type": "display_data"
    }
   ],
   "source": [
    "sns.boxplot(x=aq_df['Avg_fare2'])"
   ]
  },
  {
   "cell_type": "code",
   "execution_count": 80,
   "metadata": {},
   "outputs": [
    {
     "data": {
      "text/plain": [
       "<matplotlib.axes._subplots.AxesSubplot at 0x1cbde4a9b00>"
      ]
     },
     "execution_count": 80,
     "metadata": {},
     "output_type": "execute_result"
    },
    {
     "data": {
      "image/png": "[encoded data removed]",
      "text/plain": [
       "<Figure size 432x288 with 1 Axes>"
      ]
     },
     "metadata": {
      "needs_background": "light"
     },
     "output_type": "display_data"
    }
   ],
   "source": [
    "sns.boxplot(x=aq_df['price']) #outliers are observed"
   ]
  },
  {
   "cell_type": "code",
   "execution_count": 81,
   "metadata": {},
   "outputs": [],
   "source": [
    "# there are 4 numeric columns for which we need to remove outliers - avg fare 1, Avg_weekly-Passgrs, avg fare2 and price."
   ]
  },
  {
   "cell_type": "code",
   "execution_count": 82,
   "metadata": {},
   "outputs": [
    {
     "data": {
      "text/plain": [
       "1000"
      ]
     },
     "execution_count": 82,
     "metadata": {},
     "output_type": "execute_result"
    }
   ],
   "source": [
    "len(aq_df) # original length"
   ]
  },
  {
   "cell_type": "code",
   "execution_count": 83,
   "metadata": {},
   "outputs": [],
   "source": [
    "aq_df['Outlier'] = False # add a temp column to mark outliers for deletion. will be deleted later"
   ]
  },
  {
   "cell_type": "code",
   "execution_count": 84,
   "metadata": {},
   "outputs": [],
   "source": [
    "# define a function which marks the outliers for any column as \"True\" in aq_df , \n",
    "# and returns the count of outliers rows for the column"
   ]
  },
  {
   "cell_type": "code",
   "execution_count": 85,
   "metadata": {},
   "outputs": [],
   "source": [
    "def mark_outlier_row_from_Column(column_name):\n",
    "    count = 0\n",
    "    q1 = aq_df[column_name].quantile(0.25)\n",
    "    q3 = aq_df[column_name].quantile(0.75)\n",
    "    iqr = q3 - q1\n",
    "    lower_bound = q1 -(1.5 * iqr) \n",
    "    upper_bound = q3 +(1.5 * iqr) \n",
    "    for i in range(0,len(aq_df)):\n",
    "        if aq_df[column_name][i] < lower_bound:            \n",
    "            aq_df['Outlier'][i] = True\n",
    "            count = count +1\n",
    "        if aq_df[column_name][i] > upper_bound:            \n",
    "            count = count +1\n",
    "            aq_df['Outlier'][i] = True\n",
    "    return(column_name, count)\n"
   ]
  },
  {
   "cell_type": "code",
   "execution_count": 86,
   "metadata": {},
   "outputs": [],
   "source": [
    "# will pick up the 4 columns with outliers one by one and identify the rows with outliers in \"Outlier\" column\n",
    "# processing for \"price\""
   ]
  },
  {
   "cell_type": "code",
   "execution_count": 87,
   "metadata": {},
   "outputs": [
    {
     "name": "stdout",
     "output_type": "stream",
     "text": [
      "('price', 30)\n"
     ]
    }
   ],
   "source": [
    "print(mark_outlier_row_from_Column('price'))"
   ]
  },
  {
   "cell_type": "code",
   "execution_count": 88,
   "metadata": {},
   "outputs": [],
   "source": [
    "# similarly for other columns"
   ]
  },
  {
   "cell_type": "code",
   "execution_count": 89,
   "metadata": {},
   "outputs": [
    {
     "name": "stdout",
     "output_type": "stream",
     "text": [
      "('Avg_wkly_pssngrs', 79)\n"
     ]
    }
   ],
   "source": [
    "print(mark_outlier_row_from_Column('Avg_wkly_pssngrs'))"
   ]
  },
  {
   "cell_type": "code",
   "execution_count": 90,
   "metadata": {},
   "outputs": [
    {
     "name": "stdout",
     "output_type": "stream",
     "text": [
      "('Avg_fare2', 17)\n"
     ]
    }
   ],
   "source": [
    "print(mark_outlier_row_from_Column('Avg_fare2'))"
   ]
  },
  {
   "cell_type": "code",
   "execution_count": 91,
   "metadata": {},
   "outputs": [
    {
     "name": "stdout",
     "output_type": "stream",
     "text": [
      "('Avg_Fare1', 15)\n"
     ]
    }
   ],
   "source": [
    "print(mark_outlier_row_from_Column('Avg_Fare1'))"
   ]
  },
  {
   "cell_type": "code",
   "execution_count": 92,
   "metadata": {},
   "outputs": [
    {
     "data": {
      "text/plain": [
       "115"
      ]
     },
     "execution_count": 92,
     "metadata": {},
     "output_type": "execute_result"
    }
   ],
   "source": [
    "outlier_df = aq_df[aq_df['Outlier'] == True] \n",
    "len(outlier_df) # 115 outliers in all have to be removed"
   ]
  },
  {
   "cell_type": "code",
   "execution_count": 93,
   "metadata": {},
   "outputs": [],
   "source": [
    "aq_df.drop(aq_df[aq_df['Outlier'] == True].index, inplace = True) "
   ]
  },
  {
   "cell_type": "code",
   "execution_count": 94,
   "metadata": {},
   "outputs": [],
   "source": [
    "# finally remove the outlier column that was added to treat outliers\n",
    "del aq_df['Outlier']\n"
   ]
  },
  {
   "cell_type": "code",
   "execution_count": 95,
   "metadata": {},
   "outputs": [
    {
     "name": "stdout",
     "output_type": "stream",
     "text": [
      "(885, 11)\n"
     ]
    }
   ],
   "source": [
    "print(aq_df.shape)"
   ]
  },
  {
   "cell_type": "code",
   "execution_count": 96,
   "metadata": {},
   "outputs": [
    {
     "data": {
      "text/html": [
       "<div>\n",
       "<style scoped>\n",
       "    .dataframe tbody tr th:only-of-type {\n",
       "        vertical-align: middle;\n",
       "    }\n",
       "\n",
       "    .dataframe tbody tr th {\n",
       "        vertical-align: top;\n",
       "    }\n",
       "\n",
       "    .dataframe thead th {\n",
       "        text-align: right;\n",
       "    }\n",
       "</style>\n",
       "<table border=\"1\" class=\"dataframe\">\n",
       "  <thead>\n",
       "    <tr style=\"text-align: right;\">\n",
       "      <th></th>\n",
       "      <th>count</th>\n",
       "      <th>mean</th>\n",
       "      <th>std</th>\n",
       "      <th>min</th>\n",
       "      <th>25%</th>\n",
       "      <th>50%</th>\n",
       "      <th>75%</th>\n",
       "      <th>max</th>\n",
       "    </tr>\n",
       "  </thead>\n",
       "  <tbody>\n",
       "    <tr>\n",
       "      <th>Avg_Fare1</th>\n",
       "      <td>885.0</td>\n",
       "      <td>160.292068</td>\n",
       "      <td>48.468895</td>\n",
       "      <td>50.52</td>\n",
       "      <td>126.60</td>\n",
       "      <td>160.71</td>\n",
       "      <td>194.05</td>\n",
       "      <td>288.58</td>\n",
       "    </tr>\n",
       "    <tr>\n",
       "      <th>Distance</th>\n",
       "      <td>885.0</td>\n",
       "      <td>1039.383051</td>\n",
       "      <td>615.224361</td>\n",
       "      <td>108.00</td>\n",
       "      <td>564.00</td>\n",
       "      <td>914.00</td>\n",
       "      <td>1381.00</td>\n",
       "      <td>2724.00</td>\n",
       "    </tr>\n",
       "    <tr>\n",
       "      <th>Avg_wkly_pssngrs</th>\n",
       "      <td>885.0</td>\n",
       "      <td>499.132644</td>\n",
       "      <td>327.573566</td>\n",
       "      <td>181.41</td>\n",
       "      <td>249.02</td>\n",
       "      <td>372.93</td>\n",
       "      <td>644.56</td>\n",
       "      <td>1519.89</td>\n",
       "    </tr>\n",
       "    <tr>\n",
       "      <th>market_share1</th>\n",
       "      <td>885.0</td>\n",
       "      <td>60.636938</td>\n",
       "      <td>19.361447</td>\n",
       "      <td>17.68</td>\n",
       "      <td>47.02</td>\n",
       "      <td>59.75</td>\n",
       "      <td>74.66</td>\n",
       "      <td>100.00</td>\n",
       "    </tr>\n",
       "    <tr>\n",
       "      <th>Avg_fare2</th>\n",
       "      <td>885.0</td>\n",
       "      <td>162.589051</td>\n",
       "      <td>53.288002</td>\n",
       "      <td>50.52</td>\n",
       "      <td>125.59</td>\n",
       "      <td>160.74</td>\n",
       "      <td>198.47</td>\n",
       "      <td>315.86</td>\n",
       "    </tr>\n",
       "    <tr>\n",
       "      <th>market_share2</th>\n",
       "      <td>885.0</td>\n",
       "      <td>34.373028</td>\n",
       "      <td>27.183305</td>\n",
       "      <td>1.06</td>\n",
       "      <td>13.06</td>\n",
       "      <td>26.25</td>\n",
       "      <td>52.93</td>\n",
       "      <td>100.00</td>\n",
       "    </tr>\n",
       "    <tr>\n",
       "      <th>price</th>\n",
       "      <td>885.0</td>\n",
       "      <td>140.431073</td>\n",
       "      <td>39.849789</td>\n",
       "      <td>50.52</td>\n",
       "      <td>115.11</td>\n",
       "      <td>138.02</td>\n",
       "      <td>166.26</td>\n",
       "      <td>250.02</td>\n",
       "    </tr>\n",
       "  </tbody>\n",
       "</table>\n",
       "</div>"
      ],
      "text/plain": [
       "                  count         mean         std     min     25%     50%  \\\n",
       "Avg_Fare1         885.0   160.292068   48.468895   50.52  126.60  160.71   \n",
       "Distance          885.0  1039.383051  615.224361  108.00  564.00  914.00   \n",
       "Avg_wkly_pssngrs  885.0   499.132644  327.573566  181.41  249.02  372.93   \n",
       "market_share1     885.0    60.636938   19.361447   17.68   47.02   59.75   \n",
       "Avg_fare2         885.0   162.589051   53.288002   50.52  125.59  160.74   \n",
       "market_share2     885.0    34.373028   27.183305    1.06   13.06   26.25   \n",
       "price             885.0   140.431073   39.849789   50.52  115.11  138.02   \n",
       "\n",
       "                      75%      max  \n",
       "Avg_Fare1          194.05   288.58  \n",
       "Distance          1381.00  2724.00  \n",
       "Avg_wkly_pssngrs   644.56  1519.89  \n",
       "market_share1       74.66   100.00  \n",
       "Avg_fare2          198.47   315.86  \n",
       "market_share2       52.93   100.00  \n",
       "price              166.26   250.02  "
      ]
     },
     "execution_count": 96,
     "metadata": {},
     "output_type": "execute_result"
    }
   ],
   "source": [
    "aq_df.describe().transpose()"
   ]
  },
  {
   "cell_type": "code",
   "execution_count": 97,
   "metadata": {},
   "outputs": [
    {
     "data": {
      "text/html": [
       "<div>\n",
       "<style scoped>\n",
       "    .dataframe tbody tr th:only-of-type {\n",
       "        vertical-align: middle;\n",
       "    }\n",
       "\n",
       "    .dataframe tbody tr th {\n",
       "        vertical-align: top;\n",
       "    }\n",
       "\n",
       "    .dataframe thead th {\n",
       "        text-align: right;\n",
       "    }\n",
       "</style>\n",
       "<table border=\"1\" class=\"dataframe\">\n",
       "  <thead>\n",
       "    <tr style=\"text-align: right;\">\n",
       "      <th></th>\n",
       "      <th>City1</th>\n",
       "      <th>City2</th>\n",
       "      <th>Avg_Fare1</th>\n",
       "      <th>Distance</th>\n",
       "      <th>Avg_wkly_pssngrs</th>\n",
       "      <th>market_leading_airline</th>\n",
       "      <th>market_share1</th>\n",
       "      <th>Avg_fare2</th>\n",
       "      <th>Low_price_airline</th>\n",
       "      <th>market_share2</th>\n",
       "      <th>price</th>\n",
       "    </tr>\n",
       "  </thead>\n",
       "  <tbody>\n",
       "    <tr>\n",
       "      <th>0</th>\n",
       "      <td>16</td>\n",
       "      <td>0</td>\n",
       "      <td>114.47</td>\n",
       "      <td>528</td>\n",
       "      <td>424.56</td>\n",
       "      <td>6</td>\n",
       "      <td>70.19</td>\n",
       "      <td>111.03</td>\n",
       "      <td>7</td>\n",
       "      <td>70.19</td>\n",
       "      <td>111.03</td>\n",
       "    </tr>\n",
       "    <tr>\n",
       "      <th>1</th>\n",
       "      <td>16</td>\n",
       "      <td>40</td>\n",
       "      <td>122.47</td>\n",
       "      <td>860</td>\n",
       "      <td>276.84</td>\n",
       "      <td>6</td>\n",
       "      <td>75.10</td>\n",
       "      <td>123.09</td>\n",
       "      <td>5</td>\n",
       "      <td>17.23</td>\n",
       "      <td>118.94</td>\n",
       "    </tr>\n",
       "    <tr>\n",
       "      <th>2</th>\n",
       "      <td>2</td>\n",
       "      <td>0</td>\n",
       "      <td>214.42</td>\n",
       "      <td>852</td>\n",
       "      <td>215.76</td>\n",
       "      <td>4</td>\n",
       "      <td>78.89</td>\n",
       "      <td>223.98</td>\n",
       "      <td>4</td>\n",
       "      <td>2.77</td>\n",
       "      <td>167.12</td>\n",
       "    </tr>\n",
       "    <tr>\n",
       "      <th>3</th>\n",
       "      <td>2</td>\n",
       "      <td>7</td>\n",
       "      <td>69.40</td>\n",
       "      <td>288</td>\n",
       "      <td>606.84</td>\n",
       "      <td>14</td>\n",
       "      <td>96.97</td>\n",
       "      <td>68.86</td>\n",
       "      <td>16</td>\n",
       "      <td>96.97</td>\n",
       "      <td>68.86</td>\n",
       "    </tr>\n",
       "    <tr>\n",
       "      <th>4</th>\n",
       "      <td>2</td>\n",
       "      <td>52</td>\n",
       "      <td>158.13</td>\n",
       "      <td>723</td>\n",
       "      <td>313.04</td>\n",
       "      <td>12</td>\n",
       "      <td>39.79</td>\n",
       "      <td>161.36</td>\n",
       "      <td>16</td>\n",
       "      <td>15.34</td>\n",
       "      <td>145.42</td>\n",
       "    </tr>\n",
       "  </tbody>\n",
       "</table>\n",
       "</div>"
      ],
      "text/plain": [
       "   City1  City2  Avg_Fare1  Distance  Avg_wkly_pssngrs  \\\n",
       "0     16      0     114.47       528            424.56   \n",
       "1     16     40     122.47       860            276.84   \n",
       "2      2      0     214.42       852            215.76   \n",
       "3      2      7      69.40       288            606.84   \n",
       "4      2     52     158.13       723            313.04   \n",
       "\n",
       "   market_leading_airline  market_share1  Avg_fare2  Low_price_airline  \\\n",
       "0                       6          70.19     111.03                  7   \n",
       "1                       6          75.10     123.09                  5   \n",
       "2                       4          78.89     223.98                  4   \n",
       "3                      14          96.97      68.86                 16   \n",
       "4                      12          39.79     161.36                 16   \n",
       "\n",
       "   market_share2   price  \n",
       "0          70.19  111.03  \n",
       "1          17.23  118.94  \n",
       "2           2.77  167.12  \n",
       "3          96.97   68.86  \n",
       "4          15.34  145.42  "
      ]
     },
     "execution_count": 97,
     "metadata": {},
     "output_type": "execute_result"
    }
   ],
   "source": [
    "# let's convert all the non  categorical fiels to codes for linear modelling\n",
    "aq_df['City1'] = pd.Categorical(aq_df['City1']).codes\n",
    "aq_df['City2'] = pd.Categorical(aq_df['City2']).codes\n",
    "aq_df['market_leading_airline'] = pd.Categorical(aq_df['market_leading_airline']).codes\n",
    "aq_df['Low_price_airline'] = pd.Categorical(aq_df['Low_price_airline']).codes\n",
    "aq_df.head()"
   ]
  },
  {
   "cell_type": "code",
   "execution_count": 98,
   "metadata": {},
   "outputs": [],
   "source": [
    "# Drop the independent variables which has less than 0.1 correlation with the dependent variable (5 points) "
   ]
  },
  {
   "cell_type": "code",
   "execution_count": 99,
   "metadata": {},
   "outputs": [
    {
     "data": {
      "text/plain": [
       "City1                    -0.092398\n",
       "City2                    -0.029294\n",
       "Avg_Fare1                 1.000000\n",
       "Distance                  0.522650\n",
       "Avg_wkly_pssngrs         -0.197005\n",
       "market_leading_airline   -0.321035\n",
       "market_share1            -0.207955\n",
       "Avg_fare2                 0.979713\n",
       "Low_price_airline        -0.173631\n",
       "market_share2            -0.493555\n",
       "price                     0.840993\n",
       "Name: Avg_Fare1, dtype: float64"
      ]
     },
     "execution_count": 99,
     "metadata": {},
     "output_type": "execute_result"
    }
   ],
   "source": [
    "aq_df.corr()['Avg_Fare1'][:] # all negative correlations will be dropped. Positive ones are above 0.1"
   ]
  },
  {
   "cell_type": "code",
   "execution_count": 100,
   "metadata": {},
   "outputs": [],
   "source": [
    "del aq_df['City1']\n",
    "del aq_df['City2'] \n"
   ]
  },
  {
   "cell_type": "code",
   "execution_count": 101,
   "metadata": {},
   "outputs": [],
   "source": [
    "del aq_df['Avg_wkly_pssngrs']\n",
    "del aq_df['market_leading_airline']\n",
    "del aq_df['market_share1']\n",
    "del aq_df['Low_price_airline']\n",
    "del aq_df['market_share2']"
   ]
  },
  {
   "cell_type": "code",
   "execution_count": 102,
   "metadata": {},
   "outputs": [],
   "source": [
    "#  Create scatter Plot of Independent Variable vs Dependent Variable. (2.5 points)"
   ]
  },
  {
   "cell_type": "code",
   "execution_count": 103,
   "metadata": {},
   "outputs": [
    {
     "data": {
      "text/html": [
       "<div>\n",
       "<style scoped>\n",
       "    .dataframe tbody tr th:only-of-type {\n",
       "        vertical-align: middle;\n",
       "    }\n",
       "\n",
       "    .dataframe tbody tr th {\n",
       "        vertical-align: top;\n",
       "    }\n",
       "\n",
       "    .dataframe thead th {\n",
       "        text-align: right;\n",
       "    }\n",
       "</style>\n",
       "<table border=\"1\" class=\"dataframe\">\n",
       "  <thead>\n",
       "    <tr style=\"text-align: right;\">\n",
       "      <th></th>\n",
       "      <th>Avg_Fare1</th>\n",
       "      <th>Distance</th>\n",
       "      <th>Avg_fare2</th>\n",
       "      <th>price</th>\n",
       "    </tr>\n",
       "  </thead>\n",
       "  <tbody>\n",
       "    <tr>\n",
       "      <th>0</th>\n",
       "      <td>114.47</td>\n",
       "      <td>528</td>\n",
       "      <td>111.03</td>\n",
       "      <td>111.03</td>\n",
       "    </tr>\n",
       "    <tr>\n",
       "      <th>1</th>\n",
       "      <td>122.47</td>\n",
       "      <td>860</td>\n",
       "      <td>123.09</td>\n",
       "      <td>118.94</td>\n",
       "    </tr>\n",
       "    <tr>\n",
       "      <th>2</th>\n",
       "      <td>214.42</td>\n",
       "      <td>852</td>\n",
       "      <td>223.98</td>\n",
       "      <td>167.12</td>\n",
       "    </tr>\n",
       "    <tr>\n",
       "      <th>3</th>\n",
       "      <td>69.40</td>\n",
       "      <td>288</td>\n",
       "      <td>68.86</td>\n",
       "      <td>68.86</td>\n",
       "    </tr>\n",
       "    <tr>\n",
       "      <th>4</th>\n",
       "      <td>158.13</td>\n",
       "      <td>723</td>\n",
       "      <td>161.36</td>\n",
       "      <td>145.42</td>\n",
       "    </tr>\n",
       "  </tbody>\n",
       "</table>\n",
       "</div>"
      ],
      "text/plain": [
       "   Avg_Fare1  Distance  Avg_fare2   price\n",
       "0     114.47       528     111.03  111.03\n",
       "1     122.47       860     123.09  118.94\n",
       "2     214.42       852     223.98  167.12\n",
       "3      69.40       288      68.86   68.86\n",
       "4     158.13       723     161.36  145.42"
      ]
     },
     "execution_count": 103,
     "metadata": {},
     "output_type": "execute_result"
    }
   ],
   "source": [
    "aq_df.head()"
   ]
  },
  {
   "cell_type": "code",
   "execution_count": 104,
   "metadata": {},
   "outputs": [
    {
     "data": {
      "text/plain": [
       "<matplotlib.axes._subplots.AxesSubplot at 0x1cbd7500780>"
      ]
     },
     "execution_count": 104,
     "metadata": {},
     "output_type": "execute_result"
    },
    {
     "data": {
      "image/png": "[encoded data removed]",
      "text/plain": [
       "<Figure size 432x288 with 1 Axes>"
      ]
     },
     "metadata": {
      "needs_background": "light"
     },
     "output_type": "display_data"
    }
   ],
   "source": [
    "#sns.pairplot(aq_df, hue = \"Avg_Fare1\")\n",
    "aq_df.plot.scatter(\"Distance\",\"Avg_Fare1\") # observation as distance increases the avg fare goes up, \n",
    "#though there is alot of scatter  after 500 dis, which means that there are influencing factors beyond distance"
   ]
  },
  {
   "cell_type": "code",
   "execution_count": 105,
   "metadata": {},
   "outputs": [
    {
     "data": {
      "text/plain": [
       "<matplotlib.axes._subplots.AxesSubplot at 0x1cbdf901b00>"
      ]
     },
     "execution_count": 105,
     "metadata": {},
     "output_type": "execute_result"
    },
    {
     "data": {
      "image/png": "[encoded data removed]",
      "text/plain": [
       "<Figure size 432x288 with 1 Axes>"
      ]
     },
     "metadata": {
      "needs_background": "light"
     },
     "output_type": "display_data"
    }
   ],
   "source": [
    "aq_df.plot.scatter(\"Avg_fare2\",\"Avg_Fare1\")# observation - a ery clean direct propotionality is observed"
   ]
  },
  {
   "cell_type": "code",
   "execution_count": 106,
   "metadata": {},
   "outputs": [
    {
     "data": {
      "text/plain": [
       "<matplotlib.axes._subplots.AxesSubplot at 0x1cbd29c8588>"
      ]
     },
     "execution_count": 106,
     "metadata": {},
     "output_type": "execute_result"
    },
    {
     "data": {
      "image/png": "[encoded data removed]",
      "text/plain": [
       "<Figure size 432x288 with 1 Axes>"
      ]
     },
     "metadata": {
      "needs_background": "light"
     },
     "output_type": "display_data"
    }
   ],
   "source": [
    "aq_df.plot.scatter(\"price\",\"Avg_Fare1\") # price is directly propostional to increasing fare with slight scater dues for middle order prices"
   ]
  },
  {
   "cell_type": "code",
   "execution_count": 107,
   "metadata": {},
   "outputs": [],
   "source": [
    "#Treat “Average Fare” – 3rdColumn as your Dependent Variable and Rest of the columns as Independent Variable. (2.5 points)\n",
    "# Divide the data set into training and test data set and build a Multiple Linear Regression model. (5 points)"
   ]
  },
  {
   "cell_type": "code",
   "execution_count": 108,
   "metadata": {},
   "outputs": [],
   "source": [
    "#Treat “Average Fare” – 3rdColumn as your Dependent Variable and Rest of the columns as Independent Variable. (2.5 points)\n",
    "from sklearn.model_selection import train_test_split\n",
    "# Copy all the predictor variables into X dataframe. Since 'mpg' is dependent variable drop it\n",
    "X = aq_df.drop('Avg_Fare1', axis=1)\n",
    "\n",
    "# Copy the 'mpg' column alone into the y dataframe. This is the dependent variable\n",
    "y = aq_df[['Avg_Fare1']]\n",
    "\n",
    "#Y_df = aq_df['Avg_Fare1']\n",
    "#X_df =  aq_df[:]\n",
    "#del X_df['Avg_Fare1']\n",
    "#X = X_df.values \n",
    "#Y = Y_df.values   \n",
    "# taking 80:20 training and test set\n",
    "# Random numbmer seeding for reapeatability of the code\n",
    "X_train, X_test, y_train, y_test = train_test_split(X, Y, test_size=0.20, random_state=1)"
   ]
  },
  {
   "cell_type": "code",
   "execution_count": 109,
   "metadata": {},
   "outputs": [
    {
     "data": {
      "text/plain": [
       "LinearRegression(copy_X=True, fit_intercept=True, n_jobs=None,\n",
       "         normalize=False)"
      ]
     },
     "execution_count": 109,
     "metadata": {},
     "output_type": "execute_result"
    }
   ],
   "source": [
    "# build a Multiple Linear Regression model. (5 points)\n",
    "from sklearn.linear_model import LinearRegression\n",
    "\n",
    "# invoke the LinearRegression function and find the bestfit model on training data\n",
    "\n",
    "regression_model = LinearRegression()\n",
    "regression_model.fit(X_train, y_train)"
   ]
  },
  {
   "cell_type": "code",
   "execution_count": 110,
   "metadata": {},
   "outputs": [
    {
     "data": {
      "text/plain": [
       "pandas.core.frame.DataFrame"
      ]
     },
     "execution_count": 110,
     "metadata": {},
     "output_type": "execute_result"
    }
   ],
   "source": [
    "type(X_train)"
   ]
  },
  {
   "cell_type": "code",
   "execution_count": 127,
   "metadata": {},
   "outputs": [
    {
     "name": "stdout",
     "output_type": "stream",
     "text": [
      "The coefficient for Distance is 0.0017030273458205777\n",
      "The coefficient for Avg_fare2 is 0.749701968614342\n",
      "The coefficient for price is 0.21801893962832292\n"
     ]
    }
   ],
   "source": [
    "# Print the coefficients & intercepts of the linear regression model (5 points) \n",
    "\n",
    "# Let us explore the coefficients for each of the independent attributes\n",
    "\n",
    "for idx, col_name in enumerate(X_train.columns):\n",
    "    \n",
    "    print(\"The coefficient for {} is {}\".format(col_name, regression_model.coef_[idx]))\n",
    "    "
   ]
  },
  {
   "cell_type": "code",
   "execution_count": 130,
   "metadata": {},
   "outputs": [
    {
     "name": "stdout",
     "output_type": "stream",
     "text": [
      " The intercept for the model is 5.741402943974379\n"
     ]
    }
   ],
   "source": [
    "# Exploring the intercept for the model\n",
    "print(\" The intercept for the model is {}\".format(regression_model.intercept_))"
   ]
  },
  {
   "cell_type": "code",
   "execution_count": null,
   "metadata": {},
   "outputs": [],
   "source": [
    "# we can write our linear model as:\n",
    "# Y= 5.74 + 0.0017 × dist + 0.75 × avd_fare + 0.218 x price"
   ]
  },
  {
   "cell_type": "code",
   "execution_count": 126,
   "metadata": {},
   "outputs": [],
   "source": [
    "# Print the accuracy of the overall model (2.5 points)"
   ]
  },
  {
   "cell_type": "code",
   "execution_count": 131,
   "metadata": {},
   "outputs": [
    {
     "data": {
      "text/plain": [
       "0.969541977906702"
      ]
     },
     "execution_count": 131,
     "metadata": {},
     "output_type": "execute_result"
    }
   ],
   "source": [
    "# Model score - R2 or coeff of determinant\n",
    "# R^2=1–RSS / TSS\n",
    "\n",
    "regression_model.score(X_test, y_test)"
   ]
  },
  {
   "cell_type": "code",
   "execution_count": null,
   "metadata": {},
   "outputs": [],
   "source": [
    "# accuarcy is pretty high !!"
   ]
  }
 ],
 "metadata": {
  "kernelspec": {
   "display_name": "Python 3",
   "language": "python",
   "name": "python3"
  },
  "language_info": {
   "codemirror_mode": {
    "name": "ipython",
    "version": 3
   },
   "file_extension": ".py",
   "mimetype": "text/x-python",
   "name": "python",
   "nbconvert_exporter": "python",
   "pygments_lexer": "ipython3",
   "version": "3.7.3"
  }
 },
 "nbformat": 4,
 "nbformat_minor": 2
}
