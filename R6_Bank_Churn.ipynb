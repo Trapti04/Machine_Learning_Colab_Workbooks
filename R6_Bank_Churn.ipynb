{
  "nbformat": 4,
  "nbformat_minor": 0,
  "metadata": {
    "colab": {
      "name": "R6_Bank_Churn.ipynb",
      "provenance": [],
      "collapsed_sections": []
    },
    "kernelspec": {
      "name": "python3",
      "display_name": "Python 3"
    }
  },
  "cells": [
    {
      "cell_type": "code",
      "metadata": {
        "id": "Rhxnmuo8qdxE",
        "colab_type": "code",
        "colab": {}
      },
      "source": [
        "!pip3 install -U tensorflow --quiet"
      ],
      "execution_count": 0,
      "outputs": []
    },
    {
      "cell_type": "code",
      "metadata": {
        "id": "BwEo0M-TpA5q",
        "colab_type": "code",
        "colab": {}
      },
      "source": [
        "import numpy as np\n",
        "import tensorflow as tf\n",
        "from sklearn.preprocessing import Normalizer\n",
        "import pandas as pd\n"
      ],
      "execution_count": 0,
      "outputs": []
    },
    {
      "cell_type": "code",
      "metadata": {
        "id": "53tro5Pdskgi",
        "colab_type": "code",
        "colab": {
          "resources": {
            "http://localhost:8080/nbextensions/google.colab/files.js": {
              "data": "Ly8gQ29weXJpZ2h0IDIwMTcgR29vZ2xlIExMQwovLwovLyBMaWNlbnNlZCB1bmRlciB0aGUgQXBhY2hlIExpY2Vuc2UsIFZlcnNpb24gMi4wICh0aGUgIkxpY2Vuc2UiKTsKLy8geW91IG1heSBub3QgdXNlIHRoaXMgZmlsZSBleGNlcHQgaW4gY29tcGxpYW5jZSB3aXRoIHRoZSBMaWNlbnNlLgovLyBZb3UgbWF5IG9idGFpbiBhIGNvcHkgb2YgdGhlIExpY2Vuc2UgYXQKLy8KLy8gICAgICBodHRwOi8vd3d3LmFwYWNoZS5vcmcvbGljZW5zZXMvTElDRU5TRS0yLjAKLy8KLy8gVW5sZXNzIHJlcXVpcmVkIGJ5IGFwcGxpY2FibGUgbGF3IG9yIGFncmVlZCB0byBpbiB3cml0aW5nLCBzb2Z0d2FyZQovLyBkaXN0cmlidXRlZCB1bmRlciB0aGUgTGljZW5zZSBpcyBkaXN0cmlidXRlZCBvbiBhbiAiQVMgSVMiIEJBU0lTLAovLyBXSVRIT1VUIFdBUlJBTlRJRVMgT1IgQ09ORElUSU9OUyBPRiBBTlkgS0lORCwgZWl0aGVyIGV4cHJlc3Mgb3IgaW1wbGllZC4KLy8gU2VlIHRoZSBMaWNlbnNlIGZvciB0aGUgc3BlY2lmaWMgbGFuZ3VhZ2UgZ292ZXJuaW5nIHBlcm1pc3Npb25zIGFuZAovLyBsaW1pdGF0aW9ucyB1bmRlciB0aGUgTGljZW5zZS4KCi8qKgogKiBAZmlsZW92ZXJ2aWV3IEhlbHBlcnMgZm9yIGdvb2dsZS5jb2xhYiBQeXRob24gbW9kdWxlLgogKi8KKGZ1bmN0aW9uKHNjb3BlKSB7CmZ1bmN0aW9uIHNwYW4odGV4dCwgc3R5bGVBdHRyaWJ1dGVzID0ge30pIHsKICBjb25zdCBlbGVtZW50ID0gZG9jdW1lbnQuY3JlYXRlRWxlbWVudCgnc3BhbicpOwogIGVsZW1lbnQudGV4dENvbnRlbnQgPSB0ZXh0OwogIGZvciAoY29uc3Qga2V5IG9mIE9iamVjdC5rZXlzKHN0eWxlQXR0cmlidXRlcykpIHsKICAgIGVsZW1lbnQuc3R5bGVba2V5XSA9IHN0eWxlQXR0cmlidXRlc1trZXldOwogIH0KICByZXR1cm4gZWxlbWVudDsKfQoKLy8gTWF4IG51bWJlciBvZiBieXRlcyB3aGljaCB3aWxsIGJlIHVwbG9hZGVkIGF0IGEgdGltZS4KY29uc3QgTUFYX1BBWUxPQURfU0laRSA9IDEwMCAqIDEwMjQ7Ci8vIE1heCBhbW91bnQgb2YgdGltZSB0byBibG9jayB3YWl0aW5nIGZvciB0aGUgdXNlci4KY29uc3QgRklMRV9DSEFOR0VfVElNRU9VVF9NUyA9IDMwICogMTAwMDsKCmZ1bmN0aW9uIF91cGxvYWRGaWxlcyhpbnB1dElkLCBvdXRwdXRJZCkgewogIGNvbnN0IHN0ZXBzID0gdXBsb2FkRmlsZXNTdGVwKGlucHV0SWQsIG91dHB1dElkKTsKICBjb25zdCBvdXRwdXRFbGVtZW50ID0gZG9jdW1lbnQuZ2V0RWxlbWVudEJ5SWQob3V0cHV0SWQpOwogIC8vIENhY2hlIHN0ZXBzIG9uIHRoZSBvdXRwdXRFbGVtZW50IHRvIG1ha2UgaXQgYXZhaWxhYmxlIGZvciB0aGUgbmV4dCBjYWxsCiAgLy8gdG8gdXBsb2FkRmlsZXNDb250aW51ZSBmcm9tIFB5dGhvbi4KICBvdXRwdXRFbGVtZW50LnN0ZXBzID0gc3RlcHM7CgogIHJldHVybiBfdXBsb2FkRmlsZXNDb250aW51ZShvdXRwdXRJZCk7Cn0KCi8vIFRoaXMgaXMgcm91Z2hseSBhbiBhc3luYyBnZW5lcmF0b3IgKG5vdCBzdXBwb3J0ZWQgaW4gdGhlIGJyb3dzZXIgeWV0KSwKLy8gd2hlcmUgdGhlcmUgYXJlIG11bHRpcGxlIGFzeW5jaHJvbm91cyBzdGVwcyBhbmQgdGhlIFB5dGhvbiBzaWRlIGlzIGdvaW5nCi8vIHRvIHBvbGwgZm9yIGNvbXBsZXRpb24gb2YgZWFjaCBzdGVwLgovLyBUaGlzIHVzZXMgYSBQcm9taXNlIHRvIGJsb2NrIHRoZSBweXRob24gc2lkZSBvbiBjb21wbGV0aW9uIG9mIGVhY2ggc3RlcCwKLy8gdGhlbiBwYXNzZXMgdGhlIHJlc3VsdCBvZiB0aGUgcHJldmlvdXMgc3RlcCBhcyB0aGUgaW5wdXQgdG8gdGhlIG5leHQgc3RlcC4KZnVuY3Rpb24gX3VwbG9hZEZpbGVzQ29udGludWUob3V0cHV0SWQpIHsKICBjb25zdCBvdXRwdXRFbGVtZW50ID0gZG9jdW1lbnQuZ2V0RWxlbWVudEJ5SWQob3V0cHV0SWQpOwogIGNvbnN0IHN0ZXBzID0gb3V0cHV0RWxlbWVudC5zdGVwczsKCiAgY29uc3QgbmV4dCA9IHN0ZXBzLm5leHQob3V0cHV0RWxlbWVudC5sYXN0UHJvbWlzZVZhbHVlKTsKICByZXR1cm4gUHJvbWlzZS5yZXNvbHZlKG5leHQudmFsdWUucHJvbWlzZSkudGhlbigodmFsdWUpID0+IHsKICAgIC8vIENhY2hlIHRoZSBsYXN0IHByb21pc2UgdmFsdWUgdG8gbWFrZSBpdCBhdmFpbGFibGUgdG8gdGhlIG5leHQKICAgIC8vIHN0ZXAgb2YgdGhlIGdlbmVyYXRvci4KICAgIG91dHB1dEVsZW1lbnQubGFzdFByb21pc2VWYWx1ZSA9IHZhbHVlOwogICAgcmV0dXJuIG5leHQudmFsdWUucmVzcG9uc2U7CiAgfSk7Cn0KCi8qKgogKiBHZW5lcmF0b3IgZnVuY3Rpb24gd2hpY2ggaXMgY2FsbGVkIGJldHdlZW4gZWFjaCBhc3luYyBzdGVwIG9mIHRoZSB1cGxvYWQKICogcHJvY2Vzcy4KICogQHBhcmFtIHtzdHJpbmd9IGlucHV0SWQgRWxlbWVudCBJRCBvZiB0aGUgaW5wdXQgZmlsZSBwaWNrZXIgZWxlbWVudC4KICogQHBhcmFtIHtzdHJpbmd9IG91dHB1dElkIEVsZW1lbnQgSUQgb2YgdGhlIG91dHB1dCBkaXNwbGF5LgogKiBAcmV0dXJuIHshSXRlcmFibGU8IU9iamVjdD59IEl0ZXJhYmxlIG9mIG5leHQgc3RlcHMuCiAqLwpmdW5jdGlvbiogdXBsb2FkRmlsZXNTdGVwKGlucHV0SWQsIG91dHB1dElkKSB7CiAgY29uc3QgaW5wdXRFbGVtZW50ID0gZG9jdW1lbnQuZ2V0RWxlbWVudEJ5SWQoaW5wdXRJZCk7CiAgaW5wdXRFbGVtZW50LmRpc2FibGVkID0gZmFsc2U7CgogIGNvbnN0IG91dHB1dEVsZW1lbnQgPSBkb2N1bWVudC5nZXRFbGVtZW50QnlJZChvdXRwdXRJZCk7CiAgb3V0cHV0RWxlbWVudC5pbm5lckhUTUwgPSAnJzsKCiAgY29uc3QgcGlja2VkUHJvbWlzZSA9IG5ldyBQcm9taXNlKChyZXNvbHZlKSA9PiB7CiAgICBpbnB1dEVsZW1lbnQuYWRkRXZlbnRMaXN0ZW5lcignY2hhbmdlJywgKGUpID0+IHsKICAgICAgcmVzb2x2ZShlLnRhcmdldC5maWxlcyk7CiAgICB9KTsKICB9KTsKCiAgY29uc3QgY2FuY2VsID0gZG9jdW1lbnQuY3JlYXRlRWxlbWVudCgnYnV0dG9uJyk7CiAgaW5wdXRFbGVtZW50LnBhcmVudEVsZW1lbnQuYXBwZW5kQ2hpbGQoY2FuY2VsKTsKICBjYW5jZWwudGV4dENvbnRlbnQgPSAnQ2FuY2VsIHVwbG9hZCc7CiAgY29uc3QgY2FuY2VsUHJvbWlzZSA9IG5ldyBQcm9taXNlKChyZXNvbHZlKSA9PiB7CiAgICBjYW5jZWwub25jbGljayA9ICgpID0+IHsKICAgICAgcmVzb2x2ZShudWxsKTsKICAgIH07CiAgfSk7CgogIC8vIENhbmNlbCB1cGxvYWQgaWYgdXNlciBoYXNuJ3QgcGlja2VkIGFueXRoaW5nIGluIHRpbWVvdXQuCiAgY29uc3QgdGltZW91dFByb21pc2UgPSBuZXcgUHJvbWlzZSgocmVzb2x2ZSkgPT4gewogICAgc2V0VGltZW91dCgoKSA9PiB7CiAgICAgIHJlc29sdmUobnVsbCk7CiAgICB9LCBGSUxFX0NIQU5HRV9USU1FT1VUX01TKTsKICB9KTsKCiAgLy8gV2FpdCBmb3IgdGhlIHVzZXIgdG8gcGljayB0aGUgZmlsZXMuCiAgY29uc3QgZmlsZXMgPSB5aWVsZCB7CiAgICBwcm9taXNlOiBQcm9taXNlLnJhY2UoW3BpY2tlZFByb21pc2UsIHRpbWVvdXRQcm9taXNlLCBjYW5jZWxQcm9taXNlXSksCiAgICByZXNwb25zZTogewogICAgICBhY3Rpb246ICdzdGFydGluZycsCiAgICB9CiAgfTsKCiAgaWYgKCFmaWxlcykgewogICAgcmV0dXJuIHsKICAgICAgcmVzcG9uc2U6IHsKICAgICAgICBhY3Rpb246ICdjb21wbGV0ZScsCiAgICAgIH0KICAgIH07CiAgfQoKICBjYW5jZWwucmVtb3ZlKCk7CgogIC8vIERpc2FibGUgdGhlIGlucHV0IGVsZW1lbnQgc2luY2UgZnVydGhlciBwaWNrcyBhcmUgbm90IGFsbG93ZWQuCiAgaW5wdXRFbGVtZW50LmRpc2FibGVkID0gdHJ1ZTsKCiAgZm9yIChjb25zdCBmaWxlIG9mIGZpbGVzKSB7CiAgICBjb25zdCBsaSA9IGRvY3VtZW50LmNyZWF0ZUVsZW1lbnQoJ2xpJyk7CiAgICBsaS5hcHBlbmQoc3BhbihmaWxlLm5hbWUsIHtmb250V2VpZ2h0OiAnYm9sZCd9KSk7CiAgICBsaS5hcHBlbmQoc3BhbigKICAgICAgICBgKCR7ZmlsZS50eXBlIHx8ICduL2EnfSkgLSAke2ZpbGUuc2l6ZX0gYnl0ZXMsIGAgKwogICAgICAgIGBsYXN0IG1vZGlmaWVkOiAkewogICAgICAgICAgICBmaWxlLmxhc3RNb2RpZmllZERhdGUgPyBmaWxlLmxhc3RNb2RpZmllZERhdGUudG9Mb2NhbGVEYXRlU3RyaW5nKCkgOgogICAgICAgICAgICAgICAgICAgICAgICAgICAgICAgICAgICAnbi9hJ30gLSBgKSk7CiAgICBjb25zdCBwZXJjZW50ID0gc3BhbignMCUgZG9uZScpOwogICAgbGkuYXBwZW5kQ2hpbGQocGVyY2VudCk7CgogICAgb3V0cHV0RWxlbWVudC5hcHBlbmRDaGlsZChsaSk7CgogICAgY29uc3QgZmlsZURhdGFQcm9taXNlID0gbmV3IFByb21pc2UoKHJlc29sdmUpID0+IHsKICAgICAgY29uc3QgcmVhZGVyID0gbmV3IEZpbGVSZWFkZXIoKTsKICAgICAgcmVhZGVyLm9ubG9hZCA9IChlKSA9PiB7CiAgICAgICAgcmVzb2x2ZShlLnRhcmdldC5yZXN1bHQpOwogICAgICB9OwogICAgICByZWFkZXIucmVhZEFzQXJyYXlCdWZmZXIoZmlsZSk7CiAgICB9KTsKICAgIC8vIFdhaXQgZm9yIHRoZSBkYXRhIHRvIGJlIHJlYWR5LgogICAgbGV0IGZpbGVEYXRhID0geWllbGQgewogICAgICBwcm9taXNlOiBmaWxlRGF0YVByb21pc2UsCiAgICAgIHJlc3BvbnNlOiB7CiAgICAgICAgYWN0aW9uOiAnY29udGludWUnLAogICAgICB9CiAgICB9OwoKICAgIC8vIFVzZSBhIGNodW5rZWQgc2VuZGluZyB0byBhdm9pZCBtZXNzYWdlIHNpemUgbGltaXRzLiBTZWUgYi82MjExNTY2MC4KICAgIGxldCBwb3NpdGlvbiA9IDA7CiAgICB3aGlsZSAocG9zaXRpb24gPCBmaWxlRGF0YS5ieXRlTGVuZ3RoKSB7CiAgICAgIGNvbnN0IGxlbmd0aCA9IE1hdGgubWluKGZpbGVEYXRhLmJ5dGVMZW5ndGggLSBwb3NpdGlvbiwgTUFYX1BBWUxPQURfU0laRSk7CiAgICAgIGNvbnN0IGNodW5rID0gbmV3IFVpbnQ4QXJyYXkoZmlsZURhdGEsIHBvc2l0aW9uLCBsZW5ndGgpOwogICAgICBwb3NpdGlvbiArPSBsZW5ndGg7CgogICAgICBjb25zdCBiYXNlNjQgPSBidG9hKFN0cmluZy5mcm9tQ2hhckNvZGUuYXBwbHkobnVsbCwgY2h1bmspKTsKICAgICAgeWllbGQgewogICAgICAgIHJlc3BvbnNlOiB7CiAgICAgICAgICBhY3Rpb246ICdhcHBlbmQnLAogICAgICAgICAgZmlsZTogZmlsZS5uYW1lLAogICAgICAgICAgZGF0YTogYmFzZTY0LAogICAgICAgIH0sCiAgICAgIH07CiAgICAgIHBlcmNlbnQudGV4dENvbnRlbnQgPQogICAgICAgICAgYCR7TWF0aC5yb3VuZCgocG9zaXRpb24gLyBmaWxlRGF0YS5ieXRlTGVuZ3RoKSAqIDEwMCl9JSBkb25lYDsKICAgIH0KICB9CgogIC8vIEFsbCBkb25lLgogIHlpZWxkIHsKICAgIHJlc3BvbnNlOiB7CiAgICAgIGFjdGlvbjogJ2NvbXBsZXRlJywKICAgIH0KICB9Owp9CgpzY29wZS5nb29nbGUgPSBzY29wZS5nb29nbGUgfHwge307CnNjb3BlLmdvb2dsZS5jb2xhYiA9IHNjb3BlLmdvb2dsZS5jb2xhYiB8fCB7fTsKc2NvcGUuZ29vZ2xlLmNvbGFiLl9maWxlcyA9IHsKICBfdXBsb2FkRmlsZXMsCiAgX3VwbG9hZEZpbGVzQ29udGludWUsCn07Cn0pKHNlbGYpOwo=",
              "ok": true,
              "headers": [
                [
                  "content-type",
                  "application/javascript"
                ]
              ],
              "status": 200,
              "status_text": ""
            }
          },
          "base_uri": "https://localhost:8080/",
          "height": 74
        },
        "outputId": "25f5120d-1270-42ff-ffe2-dd41c5940146"
      },
      "source": [
        "from google.colab import files\n",
        "uploaded = files.upload()"
      ],
      "execution_count": 8,
      "outputs": [
        {
          "output_type": "display_data",
          "data": {
            "text/html": [
              "\n",
              "     <input type=\"file\" id=\"files-497e2b1b-108e-4317-b346-cc0ad8d34231\" name=\"files[]\" multiple disabled />\n",
              "     <output id=\"result-497e2b1b-108e-4317-b346-cc0ad8d34231\">\n",
              "      Upload widget is only available when the cell has been executed in the\n",
              "      current browser session. Please rerun this cell to enable.\n",
              "      </output>\n",
              "      <script src=\"/nbextensions/google.colab/files.js\"></script> "
            ],
            "text/plain": [
              "<IPython.core.display.HTML object>"
            ]
          },
          "metadata": {
            "tags": []
          }
        },
        {
          "output_type": "stream",
          "text": [
            "Saving Churn.csv to Churn.csv\n"
          ],
          "name": "stdout"
        }
      ]
    },
    {
      "cell_type": "code",
      "metadata": {
        "id": "cIegZtaPs4NQ",
        "colab_type": "code",
        "colab": {}
      },
      "source": [
        "dataset = pd.read_csv('Churn.csv')"
      ],
      "execution_count": 0,
      "outputs": []
    },
    {
      "cell_type": "code",
      "metadata": {
        "id": "gGVukqPRyqRU",
        "colab_type": "code",
        "colab": {
          "base_uri": "https://localhost:8080/",
          "height": 215
        },
        "outputId": "ee4f6f25-3771-4f9b-aa1d-b95f97b38e41"
      },
      "source": [
        "dataset.head()"
      ],
      "execution_count": 10,
      "outputs": [
        {
          "output_type": "execute_result",
          "data": {
            "text/html": [
              "<div>\n",
              "<style scoped>\n",
              "    .dataframe tbody tr th:only-of-type {\n",
              "        vertical-align: middle;\n",
              "    }\n",
              "\n",
              "    .dataframe tbody tr th {\n",
              "        vertical-align: top;\n",
              "    }\n",
              "\n",
              "    .dataframe thead th {\n",
              "        text-align: right;\n",
              "    }\n",
              "</style>\n",
              "<table border=\"1\" class=\"dataframe\">\n",
              "  <thead>\n",
              "    <tr style=\"text-align: right;\">\n",
              "      <th></th>\n",
              "      <th>RowNumber</th>\n",
              "      <th>CustomerId</th>\n",
              "      <th>Surname</th>\n",
              "      <th>CreditScore</th>\n",
              "      <th>Geography</th>\n",
              "      <th>Gender</th>\n",
              "      <th>Age</th>\n",
              "      <th>Tenure</th>\n",
              "      <th>Balance</th>\n",
              "      <th>NumOfProducts</th>\n",
              "      <th>HasCrCard</th>\n",
              "      <th>IsActiveMember</th>\n",
              "      <th>EstimatedSalary</th>\n",
              "      <th>Exited</th>\n",
              "    </tr>\n",
              "  </thead>\n",
              "  <tbody>\n",
              "    <tr>\n",
              "      <th>0</th>\n",
              "      <td>1</td>\n",
              "      <td>15634602</td>\n",
              "      <td>Hargrave</td>\n",
              "      <td>619</td>\n",
              "      <td>France</td>\n",
              "      <td>Female</td>\n",
              "      <td>42</td>\n",
              "      <td>2</td>\n",
              "      <td>0.00</td>\n",
              "      <td>1</td>\n",
              "      <td>1</td>\n",
              "      <td>1</td>\n",
              "      <td>101348.88</td>\n",
              "      <td>1</td>\n",
              "    </tr>\n",
              "    <tr>\n",
              "      <th>1</th>\n",
              "      <td>2</td>\n",
              "      <td>15647311</td>\n",
              "      <td>Hill</td>\n",
              "      <td>608</td>\n",
              "      <td>Spain</td>\n",
              "      <td>Female</td>\n",
              "      <td>41</td>\n",
              "      <td>1</td>\n",
              "      <td>83807.86</td>\n",
              "      <td>1</td>\n",
              "      <td>0</td>\n",
              "      <td>1</td>\n",
              "      <td>112542.58</td>\n",
              "      <td>0</td>\n",
              "    </tr>\n",
              "    <tr>\n",
              "      <th>2</th>\n",
              "      <td>3</td>\n",
              "      <td>15619304</td>\n",
              "      <td>Onio</td>\n",
              "      <td>502</td>\n",
              "      <td>France</td>\n",
              "      <td>Female</td>\n",
              "      <td>42</td>\n",
              "      <td>8</td>\n",
              "      <td>159660.80</td>\n",
              "      <td>3</td>\n",
              "      <td>1</td>\n",
              "      <td>0</td>\n",
              "      <td>113931.57</td>\n",
              "      <td>1</td>\n",
              "    </tr>\n",
              "    <tr>\n",
              "      <th>3</th>\n",
              "      <td>4</td>\n",
              "      <td>15701354</td>\n",
              "      <td>Boni</td>\n",
              "      <td>699</td>\n",
              "      <td>France</td>\n",
              "      <td>Female</td>\n",
              "      <td>39</td>\n",
              "      <td>1</td>\n",
              "      <td>0.00</td>\n",
              "      <td>2</td>\n",
              "      <td>0</td>\n",
              "      <td>0</td>\n",
              "      <td>93826.63</td>\n",
              "      <td>0</td>\n",
              "    </tr>\n",
              "    <tr>\n",
              "      <th>4</th>\n",
              "      <td>5</td>\n",
              "      <td>15737888</td>\n",
              "      <td>Mitchell</td>\n",
              "      <td>850</td>\n",
              "      <td>Spain</td>\n",
              "      <td>Female</td>\n",
              "      <td>43</td>\n",
              "      <td>2</td>\n",
              "      <td>125510.82</td>\n",
              "      <td>1</td>\n",
              "      <td>1</td>\n",
              "      <td>1</td>\n",
              "      <td>79084.10</td>\n",
              "      <td>0</td>\n",
              "    </tr>\n",
              "  </tbody>\n",
              "</table>\n",
              "</div>"
            ],
            "text/plain": [
              "   RowNumber  CustomerId   Surname  ...  IsActiveMember EstimatedSalary Exited\n",
              "0          1    15634602  Hargrave  ...               1       101348.88      1\n",
              "1          2    15647311      Hill  ...               1       112542.58      0\n",
              "2          3    15619304      Onio  ...               0       113931.57      1\n",
              "3          4    15701354      Boni  ...               0        93826.63      0\n",
              "4          5    15737888  Mitchell  ...               1        79084.10      0\n",
              "\n",
              "[5 rows x 14 columns]"
            ]
          },
          "metadata": {
            "tags": []
          },
          "execution_count": 10
        }
      ]
    },
    {
      "cell_type": "code",
      "metadata": {
        "id": "Sh6k48JnzOFG",
        "colab_type": "code",
        "colab": {
          "base_uri": "https://localhost:8080/",
          "height": 336
        },
        "outputId": "8e858601-8652-4f37-fd7f-5908a1dc23b3"
      },
      "source": [
        "dataset.info()"
      ],
      "execution_count": 11,
      "outputs": [
        {
          "output_type": "stream",
          "text": [
            "<class 'pandas.core.frame.DataFrame'>\n",
            "RangeIndex: 10000 entries, 0 to 9999\n",
            "Data columns (total 14 columns):\n",
            "RowNumber          10000 non-null int64\n",
            "CustomerId         10000 non-null int64\n",
            "Surname            10000 non-null object\n",
            "CreditScore        10000 non-null int64\n",
            "Geography          10000 non-null object\n",
            "Gender             10000 non-null object\n",
            "Age                10000 non-null int64\n",
            "Tenure             10000 non-null int64\n",
            "Balance            10000 non-null float64\n",
            "NumOfProducts      10000 non-null int64\n",
            "HasCrCard          10000 non-null int64\n",
            "IsActiveMember     10000 non-null int64\n",
            "EstimatedSalary    10000 non-null float64\n",
            "Exited             10000 non-null int64\n",
            "dtypes: float64(2), int64(9), object(3)\n",
            "memory usage: 1.1+ MB\n"
          ],
          "name": "stdout"
        }
      ]
    },
    {
      "cell_type": "code",
      "metadata": {
        "id": "QMVM6PIMy4c6",
        "colab_type": "code",
        "colab": {
          "base_uri": "https://localhost:8080/",
          "height": 195
        },
        "outputId": "a7e56fb4-8ad9-4de4-d49a-8fca2748d513"
      },
      "source": [
        "#include relevant columns within x and y\n",
        "x = dataset.iloc[:, 3:13] # let go of customerid, rownumber and surname as they are not useful for prediction\n",
        "y = dataset.iloc[:, 13]\n",
        "x.head()"
      ],
      "execution_count": 12,
      "outputs": [
        {
          "output_type": "execute_result",
          "data": {
            "text/html": [
              "<div>\n",
              "<style scoped>\n",
              "    .dataframe tbody tr th:only-of-type {\n",
              "        vertical-align: middle;\n",
              "    }\n",
              "\n",
              "    .dataframe tbody tr th {\n",
              "        vertical-align: top;\n",
              "    }\n",
              "\n",
              "    .dataframe thead th {\n",
              "        text-align: right;\n",
              "    }\n",
              "</style>\n",
              "<table border=\"1\" class=\"dataframe\">\n",
              "  <thead>\n",
              "    <tr style=\"text-align: right;\">\n",
              "      <th></th>\n",
              "      <th>CreditScore</th>\n",
              "      <th>Geography</th>\n",
              "      <th>Gender</th>\n",
              "      <th>Age</th>\n",
              "      <th>Tenure</th>\n",
              "      <th>Balance</th>\n",
              "      <th>NumOfProducts</th>\n",
              "      <th>HasCrCard</th>\n",
              "      <th>IsActiveMember</th>\n",
              "      <th>EstimatedSalary</th>\n",
              "    </tr>\n",
              "  </thead>\n",
              "  <tbody>\n",
              "    <tr>\n",
              "      <th>0</th>\n",
              "      <td>619</td>\n",
              "      <td>France</td>\n",
              "      <td>Female</td>\n",
              "      <td>42</td>\n",
              "      <td>2</td>\n",
              "      <td>0.00</td>\n",
              "      <td>1</td>\n",
              "      <td>1</td>\n",
              "      <td>1</td>\n",
              "      <td>101348.88</td>\n",
              "    </tr>\n",
              "    <tr>\n",
              "      <th>1</th>\n",
              "      <td>608</td>\n",
              "      <td>Spain</td>\n",
              "      <td>Female</td>\n",
              "      <td>41</td>\n",
              "      <td>1</td>\n",
              "      <td>83807.86</td>\n",
              "      <td>1</td>\n",
              "      <td>0</td>\n",
              "      <td>1</td>\n",
              "      <td>112542.58</td>\n",
              "    </tr>\n",
              "    <tr>\n",
              "      <th>2</th>\n",
              "      <td>502</td>\n",
              "      <td>France</td>\n",
              "      <td>Female</td>\n",
              "      <td>42</td>\n",
              "      <td>8</td>\n",
              "      <td>159660.80</td>\n",
              "      <td>3</td>\n",
              "      <td>1</td>\n",
              "      <td>0</td>\n",
              "      <td>113931.57</td>\n",
              "    </tr>\n",
              "    <tr>\n",
              "      <th>3</th>\n",
              "      <td>699</td>\n",
              "      <td>France</td>\n",
              "      <td>Female</td>\n",
              "      <td>39</td>\n",
              "      <td>1</td>\n",
              "      <td>0.00</td>\n",
              "      <td>2</td>\n",
              "      <td>0</td>\n",
              "      <td>0</td>\n",
              "      <td>93826.63</td>\n",
              "    </tr>\n",
              "    <tr>\n",
              "      <th>4</th>\n",
              "      <td>850</td>\n",
              "      <td>Spain</td>\n",
              "      <td>Female</td>\n",
              "      <td>43</td>\n",
              "      <td>2</td>\n",
              "      <td>125510.82</td>\n",
              "      <td>1</td>\n",
              "      <td>1</td>\n",
              "      <td>1</td>\n",
              "      <td>79084.10</td>\n",
              "    </tr>\n",
              "  </tbody>\n",
              "</table>\n",
              "</div>"
            ],
            "text/plain": [
              "   CreditScore Geography  Gender  ...  HasCrCard  IsActiveMember  EstimatedSalary\n",
              "0          619    France  Female  ...          1               1        101348.88\n",
              "1          608     Spain  Female  ...          0               1        112542.58\n",
              "2          502    France  Female  ...          1               0        113931.57\n",
              "3          699    France  Female  ...          0               0         93826.63\n",
              "4          850     Spain  Female  ...          1               1         79084.10\n",
              "\n",
              "[5 rows x 10 columns]"
            ]
          },
          "metadata": {
            "tags": []
          },
          "execution_count": 12
        }
      ]
    },
    {
      "cell_type": "code",
      "metadata": {
        "id": "lfZzjkDWz51m",
        "colab_type": "code",
        "colab": {
          "base_uri": "https://localhost:8080/",
          "height": 195
        },
        "outputId": "b2c15cb7-7431-425b-fd46-2c763e985c37"
      },
      "source": [
        "#deal with categorical data --> encode them\n",
        "\n",
        "from sklearn.preprocessing import LabelEncoder\n",
        "labelencoder_x = LabelEncoder()\n",
        "x.iloc[:, 1] = labelencoder_x.fit_transform(x.iloc[:, 1]) #applying on Geography\n",
        "x.head()"
      ],
      "execution_count": 13,
      "outputs": [
        {
          "output_type": "execute_result",
          "data": {
            "text/html": [
              "<div>\n",
              "<style scoped>\n",
              "    .dataframe tbody tr th:only-of-type {\n",
              "        vertical-align: middle;\n",
              "    }\n",
              "\n",
              "    .dataframe tbody tr th {\n",
              "        vertical-align: top;\n",
              "    }\n",
              "\n",
              "    .dataframe thead th {\n",
              "        text-align: right;\n",
              "    }\n",
              "</style>\n",
              "<table border=\"1\" class=\"dataframe\">\n",
              "  <thead>\n",
              "    <tr style=\"text-align: right;\">\n",
              "      <th></th>\n",
              "      <th>CreditScore</th>\n",
              "      <th>Geography</th>\n",
              "      <th>Gender</th>\n",
              "      <th>Age</th>\n",
              "      <th>Tenure</th>\n",
              "      <th>Balance</th>\n",
              "      <th>NumOfProducts</th>\n",
              "      <th>HasCrCard</th>\n",
              "      <th>IsActiveMember</th>\n",
              "      <th>EstimatedSalary</th>\n",
              "    </tr>\n",
              "  </thead>\n",
              "  <tbody>\n",
              "    <tr>\n",
              "      <th>0</th>\n",
              "      <td>619</td>\n",
              "      <td>0</td>\n",
              "      <td>Female</td>\n",
              "      <td>42</td>\n",
              "      <td>2</td>\n",
              "      <td>0.00</td>\n",
              "      <td>1</td>\n",
              "      <td>1</td>\n",
              "      <td>1</td>\n",
              "      <td>101348.88</td>\n",
              "    </tr>\n",
              "    <tr>\n",
              "      <th>1</th>\n",
              "      <td>608</td>\n",
              "      <td>2</td>\n",
              "      <td>Female</td>\n",
              "      <td>41</td>\n",
              "      <td>1</td>\n",
              "      <td>83807.86</td>\n",
              "      <td>1</td>\n",
              "      <td>0</td>\n",
              "      <td>1</td>\n",
              "      <td>112542.58</td>\n",
              "    </tr>\n",
              "    <tr>\n",
              "      <th>2</th>\n",
              "      <td>502</td>\n",
              "      <td>0</td>\n",
              "      <td>Female</td>\n",
              "      <td>42</td>\n",
              "      <td>8</td>\n",
              "      <td>159660.80</td>\n",
              "      <td>3</td>\n",
              "      <td>1</td>\n",
              "      <td>0</td>\n",
              "      <td>113931.57</td>\n",
              "    </tr>\n",
              "    <tr>\n",
              "      <th>3</th>\n",
              "      <td>699</td>\n",
              "      <td>0</td>\n",
              "      <td>Female</td>\n",
              "      <td>39</td>\n",
              "      <td>1</td>\n",
              "      <td>0.00</td>\n",
              "      <td>2</td>\n",
              "      <td>0</td>\n",
              "      <td>0</td>\n",
              "      <td>93826.63</td>\n",
              "    </tr>\n",
              "    <tr>\n",
              "      <th>4</th>\n",
              "      <td>850</td>\n",
              "      <td>2</td>\n",
              "      <td>Female</td>\n",
              "      <td>43</td>\n",
              "      <td>2</td>\n",
              "      <td>125510.82</td>\n",
              "      <td>1</td>\n",
              "      <td>1</td>\n",
              "      <td>1</td>\n",
              "      <td>79084.10</td>\n",
              "    </tr>\n",
              "  </tbody>\n",
              "</table>\n",
              "</div>"
            ],
            "text/plain": [
              "   CreditScore  Geography  Gender  ...  HasCrCard  IsActiveMember  EstimatedSalary\n",
              "0          619          0  Female  ...          1               1        101348.88\n",
              "1          608          2  Female  ...          0               1        112542.58\n",
              "2          502          0  Female  ...          1               0        113931.57\n",
              "3          699          0  Female  ...          0               0         93826.63\n",
              "4          850          2  Female  ...          1               1         79084.10\n",
              "\n",
              "[5 rows x 10 columns]"
            ]
          },
          "metadata": {
            "tags": []
          },
          "execution_count": 13
        }
      ]
    },
    {
      "cell_type": "code",
      "metadata": {
        "id": "NorCjEPU0KDb",
        "colab_type": "code",
        "colab": {
          "base_uri": "https://localhost:8080/",
          "height": 195
        },
        "outputId": "8c9b898e-e553-4cb9-a8ef-00f57e039622"
      },
      "source": [
        "#apply encoder on Gender as well\n",
        "labelencoder_x_2 = LabelEncoder()\n",
        "x.iloc[:, 2] = labelencoder_x_2.fit_transform(x.iloc[:, 2]) #applying on Gender\n",
        "x.head()"
      ],
      "execution_count": 14,
      "outputs": [
        {
          "output_type": "execute_result",
          "data": {
            "text/html": [
              "<div>\n",
              "<style scoped>\n",
              "    .dataframe tbody tr th:only-of-type {\n",
              "        vertical-align: middle;\n",
              "    }\n",
              "\n",
              "    .dataframe tbody tr th {\n",
              "        vertical-align: top;\n",
              "    }\n",
              "\n",
              "    .dataframe thead th {\n",
              "        text-align: right;\n",
              "    }\n",
              "</style>\n",
              "<table border=\"1\" class=\"dataframe\">\n",
              "  <thead>\n",
              "    <tr style=\"text-align: right;\">\n",
              "      <th></th>\n",
              "      <th>CreditScore</th>\n",
              "      <th>Geography</th>\n",
              "      <th>Gender</th>\n",
              "      <th>Age</th>\n",
              "      <th>Tenure</th>\n",
              "      <th>Balance</th>\n",
              "      <th>NumOfProducts</th>\n",
              "      <th>HasCrCard</th>\n",
              "      <th>IsActiveMember</th>\n",
              "      <th>EstimatedSalary</th>\n",
              "    </tr>\n",
              "  </thead>\n",
              "  <tbody>\n",
              "    <tr>\n",
              "      <th>0</th>\n",
              "      <td>619</td>\n",
              "      <td>0</td>\n",
              "      <td>0</td>\n",
              "      <td>42</td>\n",
              "      <td>2</td>\n",
              "      <td>0.00</td>\n",
              "      <td>1</td>\n",
              "      <td>1</td>\n",
              "      <td>1</td>\n",
              "      <td>101348.88</td>\n",
              "    </tr>\n",
              "    <tr>\n",
              "      <th>1</th>\n",
              "      <td>608</td>\n",
              "      <td>2</td>\n",
              "      <td>0</td>\n",
              "      <td>41</td>\n",
              "      <td>1</td>\n",
              "      <td>83807.86</td>\n",
              "      <td>1</td>\n",
              "      <td>0</td>\n",
              "      <td>1</td>\n",
              "      <td>112542.58</td>\n",
              "    </tr>\n",
              "    <tr>\n",
              "      <th>2</th>\n",
              "      <td>502</td>\n",
              "      <td>0</td>\n",
              "      <td>0</td>\n",
              "      <td>42</td>\n",
              "      <td>8</td>\n",
              "      <td>159660.80</td>\n",
              "      <td>3</td>\n",
              "      <td>1</td>\n",
              "      <td>0</td>\n",
              "      <td>113931.57</td>\n",
              "    </tr>\n",
              "    <tr>\n",
              "      <th>3</th>\n",
              "      <td>699</td>\n",
              "      <td>0</td>\n",
              "      <td>0</td>\n",
              "      <td>39</td>\n",
              "      <td>1</td>\n",
              "      <td>0.00</td>\n",
              "      <td>2</td>\n",
              "      <td>0</td>\n",
              "      <td>0</td>\n",
              "      <td>93826.63</td>\n",
              "    </tr>\n",
              "    <tr>\n",
              "      <th>4</th>\n",
              "      <td>850</td>\n",
              "      <td>2</td>\n",
              "      <td>0</td>\n",
              "      <td>43</td>\n",
              "      <td>2</td>\n",
              "      <td>125510.82</td>\n",
              "      <td>1</td>\n",
              "      <td>1</td>\n",
              "      <td>1</td>\n",
              "      <td>79084.10</td>\n",
              "    </tr>\n",
              "  </tbody>\n",
              "</table>\n",
              "</div>"
            ],
            "text/plain": [
              "   CreditScore  Geography  Gender  ...  HasCrCard  IsActiveMember  EstimatedSalary\n",
              "0          619          0       0  ...          1               1        101348.88\n",
              "1          608          2       0  ...          0               1        112542.58\n",
              "2          502          0       0  ...          1               0        113931.57\n",
              "3          699          0       0  ...          0               0         93826.63\n",
              "4          850          2       0  ...          1               1         79084.10\n",
              "\n",
              "[5 rows x 10 columns]"
            ]
          },
          "metadata": {
            "tags": []
          },
          "execution_count": 14
        }
      ]
    },
    {
      "cell_type": "code",
      "metadata": {
        "id": "MF2QTTk405dW",
        "colab_type": "code",
        "colab": {}
      },
      "source": [
        "#train and test set split, and feature scaling\n",
        "\n",
        "from sklearn.model_selection import train_test_split\n",
        "from sklearn.preprocessing import StandardScaler\n",
        "\n",
        "X_train, X_test, Y_train, Y_test = train_test_split(x, y, test_size = 0.2, random_state = 0)\n",
        "sc = StandardScaler()\n",
        "X_train = sc.fit_transform(X_train)\n",
        "X_test = sc.transform(X_test)"
      ],
      "execution_count": 0,
      "outputs": []
    },
    {
      "cell_type": "code",
      "metadata": {
        "id": "zvnuU2_K8BfO",
        "colab_type": "code",
        "colab": {
          "base_uri": "https://localhost:8080/",
          "height": 34
        },
        "outputId": "ae0a77e0-b13d-49a6-fe36-0a7431421adb"
      },
      "source": [
        "X_train.shape"
      ],
      "execution_count": 16,
      "outputs": [
        {
          "output_type": "execute_result",
          "data": {
            "text/plain": [
              "(8000, 10)"
            ]
          },
          "metadata": {
            "tags": []
          },
          "execution_count": 16
        }
      ]
    },
    {
      "cell_type": "code",
      "metadata": {
        "id": "dKeKeCZ88LHc",
        "colab_type": "code",
        "colab": {}
      },
      "source": [
        "#Initialize model\n",
        "tf.keras.backend.clear_session()"
      ],
      "execution_count": 0,
      "outputs": []
    },
    {
      "cell_type": "code",
      "metadata": {
        "id": "SSxFItKN3L7a",
        "colab_type": "code",
        "colab": {}
      },
      "source": [
        "\n",
        "# build a model using tensorflow keras\n",
        "model = tf.keras.Sequential()\n",
        "\n",
        "#Add Dense layer for prediction - Keras declares weights and bias automatically\n",
        "model.add(tf.keras.layers.Dense(1, input_shape=(10,)))\n",
        "model.add(tf.keras.layers.Dense(500, activation='relu'))\n",
        "model.add(tf.keras.layers.BatchNormalization())\n",
        "model.add(tf.keras.layers.Dense(100, activation='relu'))\n",
        "model.add(tf.keras.layers.BatchNormalization())\n",
        "model.add(tf.keras.layers.Dense(10, activation='relu'))\n",
        "model.add(tf.keras.layers.BatchNormalization())\n",
        "\n",
        "#Add Dense Layer which provides 1 Output after applying softmax\n",
        "model.add(tf.keras.layers.Dense(1, activation='sigmoid'))\n",
        "# as output is binary outcome, and activation should be 'sigmoid'\n",
        "\n",
        "#If dependent variables have more than two categories, use activation = 'softmax'\n",
        "#Compile the model - add Loss and Gradient Descent optimizer\n",
        "\n",
        "#opt_ = tf.keras.optimizers.Adam(learning_rate=0.01, beta_1=0.9, beta_2=0.999, amsgrad=False)\n",
        "#print(opt_)\n",
        "\n",
        "model.compile(optimizer= 'Adam', loss=\"binary_crossentropy\", metrics=['accuracy'])"
      ],
      "execution_count": 0,
      "outputs": []
    },
    {
      "cell_type": "code",
      "metadata": {
        "id": "oRlzbnOK-kPR",
        "colab_type": "code",
        "colab": {
          "base_uri": "https://localhost:8080/",
          "height": 420
        },
        "outputId": "db699d62-99af-444c-da74-8e3b5759e668"
      },
      "source": [
        "model.summary()"
      ],
      "execution_count": 96,
      "outputs": [
        {
          "output_type": "stream",
          "text": [
            "Model: \"sequential\"\n",
            "_________________________________________________________________\n",
            "Layer (type)                 Output Shape              Param #   \n",
            "=================================================================\n",
            "dense (Dense)                (None, 1)                 11        \n",
            "_________________________________________________________________\n",
            "dense_1 (Dense)              (None, 500)               1000      \n",
            "_________________________________________________________________\n",
            "batch_normalization (BatchNo (None, 500)               2000      \n",
            "_________________________________________________________________\n",
            "dense_2 (Dense)              (None, 100)               50100     \n",
            "_________________________________________________________________\n",
            "batch_normalization_1 (Batch (None, 100)               400       \n",
            "_________________________________________________________________\n",
            "dense_3 (Dense)              (None, 10)                1010      \n",
            "_________________________________________________________________\n",
            "batch_normalization_2 (Batch (None, 10)                40        \n",
            "_________________________________________________________________\n",
            "dense_4 (Dense)              (None, 1)                 11        \n",
            "=================================================================\n",
            "Total params: 54,572\n",
            "Trainable params: 53,352\n",
            "Non-trainable params: 1,220\n",
            "_________________________________________________________________\n"
          ],
          "name": "stdout"
        }
      ]
    },
    {
      "cell_type": "code",
      "metadata": {
        "id": "xME3sXhN7EIR",
        "colab_type": "code",
        "colab": {
          "base_uri": "https://localhost:8080/",
          "height": 1000
        },
        "outputId": "24530ac9-8311-4143-a0f0-7c3afd74c3ae"
      },
      "source": [
        "model.fit(X_train, Y_train, \n",
        "          validation_data=(X_test, Y_test), \n",
        "          epochs=100,# 20\n",
        "          batch_size= 20 ) # 50\n",
        "#X_train, X_test, Y_train, Y_test"
      ],
      "execution_count": 111,
      "outputs": [
        {
          "output_type": "stream",
          "text": [
            "Train on 8000 samples, validate on 2000 samples\n",
            "Epoch 1/100\n",
            "8000/8000 [==============================] - 1s 186us/sample - loss: 0.3985 - acc: 0.8253 - val_loss: 0.3925 - val_acc: 0.8410\n",
            "Epoch 2/100\n",
            "8000/8000 [==============================] - 2s 189us/sample - loss: 0.3993 - acc: 0.8230 - val_loss: 0.3992 - val_acc: 0.8205\n",
            "Epoch 3/100\n",
            "8000/8000 [==============================] - 2s 193us/sample - loss: 0.3996 - acc: 0.8245 - val_loss: 0.3876 - val_acc: 0.8185\n",
            "Epoch 4/100\n",
            "8000/8000 [==============================] - 2s 209us/sample - loss: 0.3999 - acc: 0.8226 - val_loss: 0.3821 - val_acc: 0.8295\n",
            "Epoch 5/100\n",
            "8000/8000 [==============================] - 2s 203us/sample - loss: 0.4012 - acc: 0.8245 - val_loss: 0.3905 - val_acc: 0.8195\n",
            "Epoch 6/100\n",
            "8000/8000 [==============================] - 2s 211us/sample - loss: 0.4014 - acc: 0.8225 - val_loss: 0.3822 - val_acc: 0.8255\n",
            "Epoch 7/100\n",
            "8000/8000 [==============================] - 2s 211us/sample - loss: 0.3969 - acc: 0.8264 - val_loss: 0.3864 - val_acc: 0.8340\n",
            "Epoch 8/100\n",
            "8000/8000 [==============================] - 2s 221us/sample - loss: 0.3972 - acc: 0.8241 - val_loss: 0.4234 - val_acc: 0.8215\n",
            "Epoch 9/100\n",
            "8000/8000 [==============================] - 2s 215us/sample - loss: 0.3971 - acc: 0.8224 - val_loss: 0.4420 - val_acc: 0.8165\n",
            "Epoch 10/100\n",
            "8000/8000 [==============================] - 2s 193us/sample - loss: 0.3962 - acc: 0.8248 - val_loss: 0.4116 - val_acc: 0.8190\n",
            "Epoch 11/100\n",
            "8000/8000 [==============================] - 2s 192us/sample - loss: 0.3968 - acc: 0.8231 - val_loss: 0.3812 - val_acc: 0.8250\n",
            "Epoch 12/100\n",
            "8000/8000 [==============================] - 2s 189us/sample - loss: 0.3952 - acc: 0.8264 - val_loss: 0.3893 - val_acc: 0.8125\n",
            "Epoch 13/100\n",
            "8000/8000 [==============================] - 2s 189us/sample - loss: 0.3954 - acc: 0.8209 - val_loss: 0.3809 - val_acc: 0.8320\n",
            "Epoch 14/100\n",
            "8000/8000 [==============================] - 1s 183us/sample - loss: 0.3988 - acc: 0.8254 - val_loss: 0.4687 - val_acc: 0.8280\n",
            "Epoch 15/100\n",
            "8000/8000 [==============================] - 1s 187us/sample - loss: 0.3952 - acc: 0.8242 - val_loss: 0.3800 - val_acc: 0.8325\n",
            "Epoch 16/100\n",
            "8000/8000 [==============================] - 2s 198us/sample - loss: 0.3958 - acc: 0.8235 - val_loss: 0.3831 - val_acc: 0.8210\n",
            "Epoch 17/100\n",
            "8000/8000 [==============================] - 1s 185us/sample - loss: 0.3940 - acc: 0.8264 - val_loss: 0.3820 - val_acc: 0.8225\n",
            "Epoch 18/100\n",
            "8000/8000 [==============================] - 2s 191us/sample - loss: 0.3978 - acc: 0.8224 - val_loss: 0.3798 - val_acc: 0.8220\n",
            "Epoch 19/100\n",
            "8000/8000 [==============================] - 2s 199us/sample - loss: 0.3948 - acc: 0.8240 - val_loss: 0.3920 - val_acc: 0.8245\n",
            "Epoch 20/100\n",
            "8000/8000 [==============================] - 2s 188us/sample - loss: 0.3963 - acc: 0.8226 - val_loss: 0.3923 - val_acc: 0.8220\n",
            "Epoch 21/100\n",
            "8000/8000 [==============================] - 2s 197us/sample - loss: 0.3938 - acc: 0.8249 - val_loss: 0.3763 - val_acc: 0.8220\n",
            "Epoch 22/100\n",
            "8000/8000 [==============================] - 2s 192us/sample - loss: 0.3960 - acc: 0.8230 - val_loss: 0.3819 - val_acc: 0.8220\n",
            "Epoch 23/100\n",
            "8000/8000 [==============================] - 2s 190us/sample - loss: 0.3944 - acc: 0.8239 - val_loss: 0.3811 - val_acc: 0.8290\n",
            "Epoch 24/100\n",
            "8000/8000 [==============================] - 2s 188us/sample - loss: 0.3934 - acc: 0.8264 - val_loss: 0.3932 - val_acc: 0.8185\n",
            "Epoch 25/100\n",
            "8000/8000 [==============================] - 2s 197us/sample - loss: 0.3938 - acc: 0.8256 - val_loss: 0.3792 - val_acc: 0.8260\n",
            "Epoch 26/100\n",
            "8000/8000 [==============================] - 2s 191us/sample - loss: 0.3969 - acc: 0.8234 - val_loss: 0.3785 - val_acc: 0.8315\n",
            "Epoch 27/100\n",
            "8000/8000 [==============================] - 1s 186us/sample - loss: 0.3910 - acc: 0.8250 - val_loss: 0.3767 - val_acc: 0.8385\n",
            "Epoch 28/100\n",
            "8000/8000 [==============================] - 2s 192us/sample - loss: 0.3938 - acc: 0.8279 - val_loss: 0.3856 - val_acc: 0.8220\n",
            "Epoch 29/100\n",
            "8000/8000 [==============================] - 2s 195us/sample - loss: 0.3924 - acc: 0.8251 - val_loss: 0.3841 - val_acc: 0.8295\n",
            "Epoch 30/100\n",
            "8000/8000 [==============================] - 2s 189us/sample - loss: 0.3922 - acc: 0.8328 - val_loss: 0.3952 - val_acc: 0.8220\n",
            "Epoch 31/100\n",
            "8000/8000 [==============================] - 2s 192us/sample - loss: 0.3948 - acc: 0.8271 - val_loss: 0.3990 - val_acc: 0.8125\n",
            "Epoch 32/100\n",
            "8000/8000 [==============================] - 2s 191us/sample - loss: 0.3918 - acc: 0.8260 - val_loss: 0.3769 - val_acc: 0.8410\n",
            "Epoch 33/100\n",
            "8000/8000 [==============================] - 2s 189us/sample - loss: 0.3931 - acc: 0.8267 - val_loss: 0.3853 - val_acc: 0.8390\n",
            "Epoch 34/100\n",
            "8000/8000 [==============================] - 2s 192us/sample - loss: 0.3935 - acc: 0.8259 - val_loss: 0.3830 - val_acc: 0.8230\n",
            "Epoch 35/100\n",
            "8000/8000 [==============================] - 2s 190us/sample - loss: 0.3917 - acc: 0.8259 - val_loss: 0.3810 - val_acc: 0.8330\n",
            "Epoch 36/100\n",
            "8000/8000 [==============================] - 2s 200us/sample - loss: 0.3899 - acc: 0.8311 - val_loss: 0.3887 - val_acc: 0.8215\n",
            "Epoch 37/100\n",
            "8000/8000 [==============================] - 1s 187us/sample - loss: 0.3905 - acc: 0.8319 - val_loss: 0.3834 - val_acc: 0.8325\n",
            "Epoch 38/100\n",
            "8000/8000 [==============================] - 2s 193us/sample - loss: 0.3909 - acc: 0.8299 - val_loss: 0.3781 - val_acc: 0.8405\n",
            "Epoch 39/100\n",
            "8000/8000 [==============================] - 1s 187us/sample - loss: 0.3923 - acc: 0.8304 - val_loss: 0.3805 - val_acc: 0.8400\n",
            "Epoch 40/100\n",
            "8000/8000 [==============================] - 2s 190us/sample - loss: 0.3928 - acc: 0.8321 - val_loss: 0.3882 - val_acc: 0.8235\n",
            "Epoch 41/100\n",
            "8000/8000 [==============================] - 2s 193us/sample - loss: 0.3889 - acc: 0.8325 - val_loss: 0.3852 - val_acc: 0.8345\n",
            "Epoch 42/100\n",
            "8000/8000 [==============================] - 2s 190us/sample - loss: 0.3910 - acc: 0.8299 - val_loss: 0.3733 - val_acc: 0.8495\n",
            "Epoch 43/100\n",
            "8000/8000 [==============================] - 2s 188us/sample - loss: 0.3927 - acc: 0.8320 - val_loss: 0.3825 - val_acc: 0.8330\n",
            "Epoch 44/100\n",
            "8000/8000 [==============================] - 1s 187us/sample - loss: 0.3921 - acc: 0.8295 - val_loss: 0.3734 - val_acc: 0.8475\n",
            "Epoch 45/100\n",
            "8000/8000 [==============================] - 2s 205us/sample - loss: 0.3894 - acc: 0.8342 - val_loss: 0.3918 - val_acc: 0.8205\n",
            "Epoch 46/100\n",
            "8000/8000 [==============================] - 2s 188us/sample - loss: 0.3925 - acc: 0.8315 - val_loss: 0.3841 - val_acc: 0.8205\n",
            "Epoch 47/100\n",
            "8000/8000 [==============================] - 2s 192us/sample - loss: 0.3898 - acc: 0.8363 - val_loss: 0.3723 - val_acc: 0.8455\n",
            "Epoch 48/100\n",
            "8000/8000 [==============================] - 2s 191us/sample - loss: 0.3903 - acc: 0.8322 - val_loss: 0.3769 - val_acc: 0.8450\n",
            "Epoch 49/100\n",
            "8000/8000 [==============================] - 2s 202us/sample - loss: 0.3874 - acc: 0.8335 - val_loss: 0.3711 - val_acc: 0.8450\n",
            "Epoch 50/100\n",
            "8000/8000 [==============================] - 2s 193us/sample - loss: 0.3885 - acc: 0.8330 - val_loss: 0.3740 - val_acc: 0.8485\n",
            "Epoch 51/100\n",
            "8000/8000 [==============================] - 2s 190us/sample - loss: 0.3910 - acc: 0.8303 - val_loss: 0.3722 - val_acc: 0.8480\n",
            "Epoch 52/100\n",
            "8000/8000 [==============================] - 2s 197us/sample - loss: 0.3916 - acc: 0.8325 - val_loss: 0.3837 - val_acc: 0.8345\n",
            "Epoch 53/100\n",
            "8000/8000 [==============================] - 2s 188us/sample - loss: 0.3907 - acc: 0.8306 - val_loss: 0.3833 - val_acc: 0.8385\n",
            "Epoch 54/100\n",
            "8000/8000 [==============================] - 2s 191us/sample - loss: 0.3889 - acc: 0.8370 - val_loss: 0.3815 - val_acc: 0.8290\n",
            "Epoch 55/100\n",
            "8000/8000 [==============================] - 2s 190us/sample - loss: 0.3893 - acc: 0.8356 - val_loss: 0.3787 - val_acc: 0.8375\n",
            "Epoch 56/100\n",
            "8000/8000 [==============================] - 2s 189us/sample - loss: 0.3930 - acc: 0.8320 - val_loss: 0.4011 - val_acc: 0.8115\n",
            "Epoch 57/100\n",
            "8000/8000 [==============================] - 1s 187us/sample - loss: 0.3882 - acc: 0.8304 - val_loss: 0.3889 - val_acc: 0.8245\n",
            "Epoch 58/100\n",
            "8000/8000 [==============================] - 2s 206us/sample - loss: 0.3886 - acc: 0.8342 - val_loss: 0.3762 - val_acc: 0.8495\n",
            "Epoch 59/100\n",
            "8000/8000 [==============================] - 2s 193us/sample - loss: 0.3884 - acc: 0.8347 - val_loss: 0.3789 - val_acc: 0.8415\n",
            "Epoch 60/100\n",
            "8000/8000 [==============================] - 2s 192us/sample - loss: 0.3896 - acc: 0.8340 - val_loss: 0.3828 - val_acc: 0.8370\n",
            "Epoch 61/100\n",
            "8000/8000 [==============================] - 2s 190us/sample - loss: 0.3900 - acc: 0.8356 - val_loss: 0.3789 - val_acc: 0.8405\n",
            "Epoch 62/100\n",
            "8000/8000 [==============================] - 1s 185us/sample - loss: 0.3921 - acc: 0.8319 - val_loss: 0.3774 - val_acc: 0.8350\n",
            "Epoch 63/100\n",
            "8000/8000 [==============================] - 1s 185us/sample - loss: 0.3909 - acc: 0.8295 - val_loss: 0.3734 - val_acc: 0.8445\n",
            "Epoch 64/100\n",
            "8000/8000 [==============================] - 2s 189us/sample - loss: 0.3885 - acc: 0.8314 - val_loss: 0.3823 - val_acc: 0.8455\n",
            "Epoch 65/100\n",
            "8000/8000 [==============================] - 2s 195us/sample - loss: 0.3883 - acc: 0.8303 - val_loss: 0.3748 - val_acc: 0.8480\n",
            "Epoch 66/100\n",
            "8000/8000 [==============================] - 2s 195us/sample - loss: 0.3853 - acc: 0.8330 - val_loss: 0.3930 - val_acc: 0.8395\n",
            "Epoch 67/100\n",
            "8000/8000 [==============================] - 2s 191us/sample - loss: 0.3888 - acc: 0.8332 - val_loss: 0.3911 - val_acc: 0.8305\n",
            "Epoch 68/100\n",
            "8000/8000 [==============================] - 2s 196us/sample - loss: 0.3879 - acc: 0.8374 - val_loss: 0.3863 - val_acc: 0.8375\n",
            "Epoch 69/100\n",
            "8000/8000 [==============================] - 1s 187us/sample - loss: 0.3879 - acc: 0.8351 - val_loss: 0.3785 - val_acc: 0.8350\n",
            "Epoch 70/100\n",
            "8000/8000 [==============================] - 1s 187us/sample - loss: 0.3860 - acc: 0.8345 - val_loss: 0.3956 - val_acc: 0.8300\n",
            "Epoch 71/100\n",
            "8000/8000 [==============================] - 1s 185us/sample - loss: 0.3874 - acc: 0.8315 - val_loss: 0.3732 - val_acc: 0.8500\n",
            "Epoch 72/100\n",
            "8000/8000 [==============================] - 2s 188us/sample - loss: 0.3892 - acc: 0.8311 - val_loss: 0.3698 - val_acc: 0.8450\n",
            "Epoch 73/100\n",
            "8000/8000 [==============================] - 2s 192us/sample - loss: 0.3881 - acc: 0.8336 - val_loss: 0.3834 - val_acc: 0.8505\n",
            "Epoch 74/100\n",
            "8000/8000 [==============================] - 2s 193us/sample - loss: 0.3888 - acc: 0.8353 - val_loss: 0.3712 - val_acc: 0.8415\n",
            "Epoch 75/100\n",
            "8000/8000 [==============================] - 2s 202us/sample - loss: 0.3890 - acc: 0.8350 - val_loss: 0.3806 - val_acc: 0.8440\n",
            "Epoch 76/100\n",
            "8000/8000 [==============================] - 2s 189us/sample - loss: 0.3868 - acc: 0.8342 - val_loss: 0.3785 - val_acc: 0.8365\n",
            "Epoch 77/100\n",
            "8000/8000 [==============================] - 2s 189us/sample - loss: 0.3864 - acc: 0.8349 - val_loss: 0.3734 - val_acc: 0.8400\n",
            "Epoch 78/100\n",
            "8000/8000 [==============================] - 1s 185us/sample - loss: 0.3862 - acc: 0.8339 - val_loss: 0.3755 - val_acc: 0.8460\n",
            "Epoch 79/100\n",
            "8000/8000 [==============================] - 1s 184us/sample - loss: 0.3877 - acc: 0.8360 - val_loss: 0.3789 - val_acc: 0.8255\n",
            "Epoch 80/100\n",
            "8000/8000 [==============================] - 2s 192us/sample - loss: 0.3857 - acc: 0.8347 - val_loss: 0.3786 - val_acc: 0.8305\n",
            "Epoch 81/100\n",
            "8000/8000 [==============================] - 2s 188us/sample - loss: 0.3869 - acc: 0.8349 - val_loss: 0.3790 - val_acc: 0.8415\n",
            "Epoch 82/100\n",
            "8000/8000 [==============================] - 1s 185us/sample - loss: 0.3878 - acc: 0.8321 - val_loss: 0.3769 - val_acc: 0.8330\n",
            "Epoch 83/100\n",
            "8000/8000 [==============================] - 1s 187us/sample - loss: 0.3898 - acc: 0.8330 - val_loss: 0.3787 - val_acc: 0.8470\n",
            "Epoch 84/100\n",
            "8000/8000 [==============================] - 2s 188us/sample - loss: 0.3887 - acc: 0.8341 - val_loss: 0.3806 - val_acc: 0.8370\n",
            "Epoch 85/100\n",
            "8000/8000 [==============================] - 1s 187us/sample - loss: 0.3883 - acc: 0.8359 - val_loss: 0.3706 - val_acc: 0.8485\n",
            "Epoch 86/100\n",
            "8000/8000 [==============================] - 1s 186us/sample - loss: 0.3883 - acc: 0.8344 - val_loss: 0.3726 - val_acc: 0.8465\n",
            "Epoch 87/100\n",
            "8000/8000 [==============================] - 2s 196us/sample - loss: 0.3874 - acc: 0.8385 - val_loss: 0.3773 - val_acc: 0.8365\n",
            "Epoch 88/100\n",
            "8000/8000 [==============================] - 2s 210us/sample - loss: 0.3868 - acc: 0.8342 - val_loss: 0.3695 - val_acc: 0.8485\n",
            "Epoch 89/100\n",
            "8000/8000 [==============================] - 2s 197us/sample - loss: 0.3863 - acc: 0.8342 - val_loss: 0.3751 - val_acc: 0.8440\n",
            "Epoch 90/100\n",
            "8000/8000 [==============================] - 2s 192us/sample - loss: 0.3865 - acc: 0.8347 - val_loss: 0.3749 - val_acc: 0.8430\n",
            "Epoch 91/100\n",
            "8000/8000 [==============================] - 2s 196us/sample - loss: 0.3889 - acc: 0.8339 - val_loss: 0.3715 - val_acc: 0.8370\n",
            "Epoch 92/100\n",
            "8000/8000 [==============================] - 2s 194us/sample - loss: 0.3864 - acc: 0.8366 - val_loss: 0.3761 - val_acc: 0.8430\n",
            "Epoch 93/100\n",
            "8000/8000 [==============================] - 2s 188us/sample - loss: 0.3882 - acc: 0.8335 - val_loss: 0.3873 - val_acc: 0.8435\n",
            "Epoch 94/100\n",
            "8000/8000 [==============================] - 2s 216us/sample - loss: 0.3856 - acc: 0.8376 - val_loss: 0.3765 - val_acc: 0.8445\n",
            "Epoch 95/100\n",
            "8000/8000 [==============================] - 2s 213us/sample - loss: 0.3871 - acc: 0.8330 - val_loss: 0.3753 - val_acc: 0.8440\n",
            "Epoch 96/100\n",
            "8000/8000 [==============================] - 2s 209us/sample - loss: 0.3844 - acc: 0.8380 - val_loss: 0.3808 - val_acc: 0.8315\n",
            "Epoch 97/100\n",
            "8000/8000 [==============================] - 2s 215us/sample - loss: 0.3859 - acc: 0.8354 - val_loss: 0.3730 - val_acc: 0.8395\n",
            "Epoch 98/100\n",
            "8000/8000 [==============================] - 2s 188us/sample - loss: 0.3875 - acc: 0.8372 - val_loss: 0.3792 - val_acc: 0.8220\n",
            "Epoch 99/100\n",
            "8000/8000 [==============================] - 2s 198us/sample - loss: 0.3878 - acc: 0.8330 - val_loss: 0.3762 - val_acc: 0.8420\n",
            "Epoch 100/100\n",
            "8000/8000 [==============================] - 2s 192us/sample - loss: 0.3838 - acc: 0.8370 - val_loss: 0.3716 - val_acc: 0.8400\n"
          ],
          "name": "stdout"
        },
        {
          "output_type": "execute_result",
          "data": {
            "text/plain": [
              "<tensorflow.python.keras.callbacks.History at 0x7f85312fa208>"
            ]
          },
          "metadata": {
            "tags": []
          },
          "execution_count": 111
        }
      ]
    },
    {
      "cell_type": "code",
      "metadata": {
        "id": "VoqHKHVNTVCX",
        "colab_type": "code",
        "colab": {
          "base_uri": "https://localhost:8080/",
          "height": 34
        },
        "outputId": "36e94ffc-029e-4ccb-ee74-fd1bc3c4090f"
      },
      "source": [
        "test_predictions = model.predict(X_test)\n",
        "test_predictions.shape"
      ],
      "execution_count": 112,
      "outputs": [
        {
          "output_type": "execute_result",
          "data": {
            "text/plain": [
              "(2000, 1)"
            ]
          },
          "metadata": {
            "tags": []
          },
          "execution_count": 112
        }
      ]
    },
    {
      "cell_type": "code",
      "metadata": {
        "id": "vLHBrZ9DYNBU",
        "colab_type": "code",
        "colab": {
          "base_uri": "https://localhost:8080/",
          "height": 134
        },
        "outputId": "04ec373c-bd61-49bf-ddf7-fb2781a7590a"
      },
      "source": [
        "test_predictions"
      ],
      "execution_count": 113,
      "outputs": [
        {
          "output_type": "execute_result",
          "data": {
            "text/plain": [
              "array([[0.16655135],\n",
              "       [0.32826945],\n",
              "       [0.31130448],\n",
              "       ...,\n",
              "       [0.03397021],\n",
              "       [0.13233325],\n",
              "       [0.12256646]], dtype=float32)"
            ]
          },
          "metadata": {
            "tags": []
          },
          "execution_count": 113
        }
      ]
    },
    {
      "cell_type": "code",
      "metadata": {
        "id": "sCC0U4JpWeYm",
        "colab_type": "code",
        "colab": {
          "base_uri": "https://localhost:8080/",
          "height": 134
        },
        "outputId": "a3fef05f-51ea-43a5-e265-47a19b9d9456"
      },
      "source": [
        "# predict results using 0.5 as a threshold\n",
        "y_pred = (test_predictions > 0.5)\n",
        "print(y_pred)"
      ],
      "execution_count": 114,
      "outputs": [
        {
          "output_type": "stream",
          "text": [
            "[[False]\n",
            " [False]\n",
            " [False]\n",
            " ...\n",
            " [False]\n",
            " [False]\n",
            " [False]]\n"
          ],
          "name": "stdout"
        }
      ]
    },
    {
      "cell_type": "code",
      "metadata": {
        "id": "kj3z2L1hHx0S",
        "colab_type": "code",
        "colab": {
          "base_uri": "https://localhost:8080/",
          "height": 218
        },
        "outputId": "509cdecf-6c88-488b-b868-672934fbfb9b"
      },
      "source": [
        "print(Y_test)"
      ],
      "execution_count": 117,
      "outputs": [
        {
          "output_type": "stream",
          "text": [
            "9394    0\n",
            "898     1\n",
            "2398    0\n",
            "5906    0\n",
            "2343    0\n",
            "       ..\n",
            "1037    0\n",
            "2899    0\n",
            "9549    0\n",
            "2740    0\n",
            "6690    0\n",
            "Name: Exited, Length: 2000, dtype: int64\n"
          ],
          "name": "stdout"
        }
      ]
    },
    {
      "cell_type": "code",
      "metadata": {
        "id": "I52OdWkRTbn8",
        "colab_type": "code",
        "colab": {
          "base_uri": "https://localhost:8080/",
          "height": 50
        },
        "outputId": "3aa28327-e854-4f3a-a9aa-dcb42e8f50fe"
      },
      "source": [
        "# Compute confusion matrix\n",
        "from sklearn.metrics import confusion_matrix\n",
        "cm = confusion_matrix(Y_test, y_pred)\n",
        "print(cm)"
      ],
      "execution_count": 115,
      "outputs": [
        {
          "output_type": "stream",
          "text": [
            "[[1520   75]\n",
            " [ 245  160]]\n"
          ],
          "name": "stdout"
        }
      ]
    },
    {
      "cell_type": "code",
      "metadata": {
        "id": "RXjBhsURTpBk",
        "colab_type": "code",
        "colab": {
          "base_uri": "https://localhost:8080/",
          "height": 34
        },
        "outputId": "ca95df71-0b88-4ce1-aa24-e754be9a7caa"
      },
      "source": [
        "print (((cm[0][0]+cm[1][1])*100)/(cm[0][0]+cm[1][1]+cm[0][1]+cm[1][0]), '% of testing data was classified correctly')"
      ],
      "execution_count": 116,
      "outputs": [
        {
          "output_type": "stream",
          "text": [
            "84.0 % of testing data was classified correctly\n"
          ],
          "name": "stdout"
        }
      ]
    }
  ]
}