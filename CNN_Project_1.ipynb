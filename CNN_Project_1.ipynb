{
  "nbformat": 4,
  "nbformat_minor": 0,
  "metadata": {
    "colab": {
      "name": "CNN-Project-1.ipynb",
      "provenance": [],
      "collapsed_sections": [],
      "machine_shape": "hm",
      "include_colab_link": true
    },
    "kernelspec": {
      "name": "python3",
      "display_name": "Python 3"
    },
    "accelerator": "GPU"
  },
  "cells": [
    {
      "cell_type": "markdown",
      "metadata": {
        "id": "view-in-github",
        "colab_type": "text"
      },
      "source": [
        "<a href=\"https://colab.research.google.com/github/GreatLearningAIML1/delhi-may19-batch-Trapti04/blob/master/CNN_Project_1.ipynb\" target=\"_parent\"><img src=\"https://colab.research.google.com/assets/colab-badge.svg\" alt=\"Open In Colab\"/></a>"
      ]
    },
    {
      "cell_type": "markdown",
      "metadata": {
        "id": "dFu2KWASriRm",
        "colab_type": "text"
      },
      "source": [
        "# Introduction\n",
        "1.   Based on https://www.kaggle.com/c/plant-seedlings-classification problem\n",
        "2.   Objective : \n",
        "        Classify an image of seedling into one the following 12 different seedling classes.\n",
        "\n",
        "        Black-grass;\n",
        "Charlock;\n",
        "Cleavers;\n",
        "Common Chickweed;\n",
        "Common wheat;\n",
        "Fat Hen;\n",
        "Loose Silky-bent;\n",
        "Maize;\n",
        "Scentless Mayweed;\n",
        "Shepherds Purse;\n",
        "Small-flowered Cranesbill;\n",
        "Sugar beet\n",
        "\n"
      ]
    },
    {
      "cell_type": "code",
      "metadata": {
        "id": "8jTpUQRcLcwB",
        "colab_type": "code",
        "outputId": "dd061875-6458-4b8e-9d2b-fe478dce167f",
        "colab": {
          "base_uri": "https://localhost:8080/",
          "height": 207
        }
      },
      "source": [
        "!pip show tensorflow"
      ],
      "execution_count": 1,
      "outputs": [
        {
          "output_type": "stream",
          "text": [
            "Name: tensorflow\n",
            "Version: 1.15.0\n",
            "Summary: TensorFlow is an open source machine learning framework for everyone.\n",
            "Home-page: https://www.tensorflow.org/\n",
            "Author: Google Inc.\n",
            "Author-email: packages@tensorflow.org\n",
            "License: Apache 2.0\n",
            "Location: /usr/local/lib/python3.6/dist-packages\n",
            "Requires: opt-einsum, google-pasta, astor, absl-py, tensorboard, wrapt, numpy, gast, termcolor, grpcio, keras-preprocessing, six, keras-applications, tensorflow-estimator, wheel, protobuf\n",
            "Required-by: stable-baselines, magenta, fancyimpute\n"
          ],
          "name": "stdout"
        }
      ]
    },
    {
      "cell_type": "code",
      "metadata": {
        "id": "BQBGGTGkERul",
        "colab_type": "code",
        "colab": {
          "base_uri": "https://localhost:8080/",
          "height": 1000
        },
        "outputId": "b92789b8-334c-4a55-f0c5-e60d42f7c8ac"
      },
      "source": [
        "!pip install --upgrade tensorflow"
      ],
      "execution_count": 2,
      "outputs": [
        {
          "output_type": "stream",
          "text": [
            "Collecting tensorflow\n",
            "\u001b[?25l  Downloading https://files.pythonhosted.org/packages/46/0f/7bd55361168bb32796b360ad15a25de6966c9c1beb58a8e30c01c8279862/tensorflow-2.0.0-cp36-cp36m-manylinux2010_x86_64.whl (86.3MB)\n",
            "\u001b[K     |████████████████████████████████| 86.3MB 66kB/s \n",
            "\u001b[?25hRequirement already satisfied, skipping upgrade: keras-preprocessing>=1.0.5 in /usr/local/lib/python3.6/dist-packages (from tensorflow) (1.1.0)\n",
            "Requirement already satisfied, skipping upgrade: google-pasta>=0.1.6 in /usr/local/lib/python3.6/dist-packages (from tensorflow) (0.1.8)\n",
            "Requirement already satisfied, skipping upgrade: gast==0.2.2 in /usr/local/lib/python3.6/dist-packages (from tensorflow) (0.2.2)\n",
            "Requirement already satisfied, skipping upgrade: protobuf>=3.6.1 in /usr/local/lib/python3.6/dist-packages (from tensorflow) (3.10.0)\n",
            "Collecting tensorflow-estimator<2.1.0,>=2.0.0\n",
            "\u001b[?25l  Downloading https://files.pythonhosted.org/packages/fc/08/8b927337b7019c374719145d1dceba21a8bb909b93b1ad6f8fb7d22c1ca1/tensorflow_estimator-2.0.1-py2.py3-none-any.whl (449kB)\n",
            "\u001b[K     |████████████████████████████████| 450kB 47.3MB/s \n",
            "\u001b[?25hRequirement already satisfied, skipping upgrade: wheel>=0.26 in /usr/local/lib/python3.6/dist-packages (from tensorflow) (0.33.6)\n",
            "Requirement already satisfied, skipping upgrade: wrapt>=1.11.1 in /usr/local/lib/python3.6/dist-packages (from tensorflow) (1.11.2)\n",
            "Requirement already satisfied, skipping upgrade: opt-einsum>=2.3.2 in /usr/local/lib/python3.6/dist-packages (from tensorflow) (3.1.0)\n",
            "Requirement already satisfied, skipping upgrade: absl-py>=0.7.0 in /usr/local/lib/python3.6/dist-packages (from tensorflow) (0.8.1)\n",
            "Requirement already satisfied, skipping upgrade: grpcio>=1.8.6 in /usr/local/lib/python3.6/dist-packages (from tensorflow) (1.15.0)\n",
            "Requirement already satisfied, skipping upgrade: numpy<2.0,>=1.16.0 in /usr/local/lib/python3.6/dist-packages (from tensorflow) (1.17.4)\n",
            "Collecting tensorboard<2.1.0,>=2.0.0\n",
            "\u001b[?25l  Downloading https://files.pythonhosted.org/packages/76/54/99b9d5d52d5cb732f099baaaf7740403e83fe6b0cedde940fabd2b13d75a/tensorboard-2.0.2-py3-none-any.whl (3.8MB)\n",
            "\u001b[K     |████████████████████████████████| 3.8MB 26.5MB/s \n",
            "\u001b[?25hRequirement already satisfied, skipping upgrade: keras-applications>=1.0.8 in /usr/local/lib/python3.6/dist-packages (from tensorflow) (1.0.8)\n",
            "Requirement already satisfied, skipping upgrade: termcolor>=1.1.0 in /usr/local/lib/python3.6/dist-packages (from tensorflow) (1.1.0)\n",
            "Requirement already satisfied, skipping upgrade: six>=1.10.0 in /usr/local/lib/python3.6/dist-packages (from tensorflow) (1.12.0)\n",
            "Requirement already satisfied, skipping upgrade: astor>=0.6.0 in /usr/local/lib/python3.6/dist-packages (from tensorflow) (0.8.1)\n",
            "Requirement already satisfied, skipping upgrade: setuptools in /usr/local/lib/python3.6/dist-packages (from protobuf>=3.6.1->tensorflow) (42.0.2)\n",
            "Requirement already satisfied, skipping upgrade: werkzeug>=0.11.15 in /usr/local/lib/python3.6/dist-packages (from tensorboard<2.1.0,>=2.0.0->tensorflow) (0.16.0)\n",
            "Requirement already satisfied, skipping upgrade: requests<3,>=2.21.0 in /usr/local/lib/python3.6/dist-packages (from tensorboard<2.1.0,>=2.0.0->tensorflow) (2.21.0)\n",
            "Requirement already satisfied, skipping upgrade: markdown>=2.6.8 in /usr/local/lib/python3.6/dist-packages (from tensorboard<2.1.0,>=2.0.0->tensorflow) (3.1.1)\n",
            "Collecting google-auth<2,>=1.6.3\n",
            "\u001b[?25l  Downloading https://files.pythonhosted.org/packages/36/f8/84b5771faec3eba9fe0c91c8c5896364a8ba08852c0dea5ad2025026dd95/google_auth-1.10.0-py2.py3-none-any.whl (76kB)\n",
            "\u001b[K     |████████████████████████████████| 81kB 10.2MB/s \n",
            "\u001b[?25hRequirement already satisfied, skipping upgrade: google-auth-oauthlib<0.5,>=0.4.1 in /usr/local/lib/python3.6/dist-packages (from tensorboard<2.1.0,>=2.0.0->tensorflow) (0.4.1)\n",
            "Requirement already satisfied, skipping upgrade: h5py in /usr/local/lib/python3.6/dist-packages (from keras-applications>=1.0.8->tensorflow) (2.8.0)\n",
            "Requirement already satisfied, skipping upgrade: certifi>=2017.4.17 in /usr/local/lib/python3.6/dist-packages (from requests<3,>=2.21.0->tensorboard<2.1.0,>=2.0.0->tensorflow) (2019.11.28)\n",
            "Requirement already satisfied, skipping upgrade: idna<2.9,>=2.5 in /usr/local/lib/python3.6/dist-packages (from requests<3,>=2.21.0->tensorboard<2.1.0,>=2.0.0->tensorflow) (2.8)\n",
            "Requirement already satisfied, skipping upgrade: chardet<3.1.0,>=3.0.2 in /usr/local/lib/python3.6/dist-packages (from requests<3,>=2.21.0->tensorboard<2.1.0,>=2.0.0->tensorflow) (3.0.4)\n",
            "Requirement already satisfied, skipping upgrade: urllib3<1.25,>=1.21.1 in /usr/local/lib/python3.6/dist-packages (from requests<3,>=2.21.0->tensorboard<2.1.0,>=2.0.0->tensorflow) (1.24.3)\n",
            "Requirement already satisfied, skipping upgrade: cachetools<5.0,>=2.0.0 in /usr/local/lib/python3.6/dist-packages (from google-auth<2,>=1.6.3->tensorboard<2.1.0,>=2.0.0->tensorflow) (4.0.0)\n",
            "Requirement already satisfied, skipping upgrade: rsa<4.1,>=3.1.4 in /usr/local/lib/python3.6/dist-packages (from google-auth<2,>=1.6.3->tensorboard<2.1.0,>=2.0.0->tensorflow) (4.0)\n",
            "Requirement already satisfied, skipping upgrade: pyasn1-modules>=0.2.1 in /usr/local/lib/python3.6/dist-packages (from google-auth<2,>=1.6.3->tensorboard<2.1.0,>=2.0.0->tensorflow) (0.2.7)\n",
            "Requirement already satisfied, skipping upgrade: requests-oauthlib>=0.7.0 in /usr/local/lib/python3.6/dist-packages (from google-auth-oauthlib<0.5,>=0.4.1->tensorboard<2.1.0,>=2.0.0->tensorflow) (1.3.0)\n",
            "Requirement already satisfied, skipping upgrade: pyasn1>=0.1.3 in /usr/local/lib/python3.6/dist-packages (from rsa<4.1,>=3.1.4->google-auth<2,>=1.6.3->tensorboard<2.1.0,>=2.0.0->tensorflow) (0.4.8)\n",
            "Requirement already satisfied, skipping upgrade: oauthlib>=3.0.0 in /usr/local/lib/python3.6/dist-packages (from requests-oauthlib>=0.7.0->google-auth-oauthlib<0.5,>=0.4.1->tensorboard<2.1.0,>=2.0.0->tensorflow) (3.1.0)\n",
            "\u001b[31mERROR: tensorboard 2.0.2 has requirement grpcio>=1.24.3, but you'll have grpcio 1.15.0 which is incompatible.\u001b[0m\n",
            "\u001b[31mERROR: google-colab 1.0.0 has requirement google-auth~=1.4.0, but you'll have google-auth 1.10.0 which is incompatible.\u001b[0m\n",
            "Installing collected packages: tensorflow-estimator, google-auth, tensorboard, tensorflow\n",
            "  Found existing installation: tensorflow-estimator 1.15.1\n",
            "    Uninstalling tensorflow-estimator-1.15.1:\n",
            "      Successfully uninstalled tensorflow-estimator-1.15.1\n",
            "  Found existing installation: google-auth 1.4.2\n",
            "    Uninstalling google-auth-1.4.2:\n",
            "      Successfully uninstalled google-auth-1.4.2\n",
            "  Found existing installation: tensorboard 1.15.0\n",
            "    Uninstalling tensorboard-1.15.0:\n",
            "      Successfully uninstalled tensorboard-1.15.0\n",
            "  Found existing installation: tensorflow 1.15.0\n",
            "    Uninstalling tensorflow-1.15.0:\n",
            "      Successfully uninstalled tensorflow-1.15.0\n",
            "Successfully installed google-auth-1.10.0 tensorboard-2.0.2 tensorflow-2.0.0 tensorflow-estimator-2.0.1\n"
          ],
          "name": "stdout"
        },
        {
          "output_type": "display_data",
          "data": {
            "application/vnd.colab-display-data+json": {
              "pip_warning": {
                "packages": [
                  "google"
                ]
              }
            }
          },
          "metadata": {
            "tags": []
          }
        }
      ]
    },
    {
      "cell_type": "code",
      "metadata": {
        "id": "xKMpCe-UFSIM",
        "colab_type": "code",
        "outputId": "5acb891f-f4f2-41db-ba87-7bd5b7c53947",
        "colab": {
          "base_uri": "https://localhost:8080/",
          "height": 122
        }
      },
      "source": [
        "from google.colab import drive\n",
        "drive.mount('/content/drive')"
      ],
      "execution_count": 1,
      "outputs": [
        {
          "output_type": "stream",
          "text": [
            "Go to this URL in a browser: https://accounts.google.com/o/oauth2/auth?client_id=947318989803-6bn6qk8qdgf4n4g3pfee6491hc0brc4i.apps.googleusercontent.com&redirect_uri=urn%3aietf%3awg%3aoauth%3a2.0%3aoob&response_type=code&scope=email%20https%3a%2f%2fwww.googleapis.com%2fauth%2fdocs.test%20https%3a%2f%2fwww.googleapis.com%2fauth%2fdrive%20https%3a%2f%2fwww.googleapis.com%2fauth%2fdrive.photos.readonly%20https%3a%2f%2fwww.googleapis.com%2fauth%2fpeopleapi.readonly\n",
            "\n",
            "Enter your authorization code:\n",
            "··········\n",
            "Mounted at /content/drive\n"
          ],
          "name": "stdout"
        }
      ]
    },
    {
      "cell_type": "code",
      "metadata": {
        "id": "l8f8LOXLNLNu",
        "colab_type": "code",
        "colab": {}
      },
      "source": [
        "# Ignore warnings\n",
        "import warnings\n",
        "warnings.filterwarnings('ignore')"
      ],
      "execution_count": 0,
      "outputs": []
    },
    {
      "cell_type": "markdown",
      "metadata": {
        "id": "3LV1eQR1qwGb",
        "colab_type": "text"
      },
      "source": [
        "#Load libraries required"
      ]
    },
    {
      "cell_type": "code",
      "metadata": {
        "id": "iubfUNZBWssU",
        "colab_type": "code",
        "colab": {}
      },
      "source": [
        "# System related\n",
        "import os\n",
        "import csv # for writing to file\n",
        "import itertools\n",
        "\n",
        "#Image related\n",
        "import cv2\n",
        "import tensorflow.keras.preprocessing.image \n",
        "from tensorflow.keras.preprocessing.image import ImageDataGenerator,load_img,img_to_array\n",
        "\n",
        "# Data handling\n",
        "import numpy as np\n",
        "import pandas as pd\n",
        "from sklearn.model_selection import train_test_split\n",
        "\n",
        "# Model building\n",
        "from tensorflow.keras.models import Sequential\n",
        "from tensorflow.keras.layers import Dense, Dropout, Flatten, GlobalMaxPooling2D\n",
        "from tensorflow.keras.layers import Conv2D, MaxPooling2D\n",
        "from tensorflow.keras.callbacks import ModelCheckpoint, EarlyStopping\n",
        "from tensorflow.keras.optimizers import Adam\n",
        "from tensorflow.keras.losses import categorical_crossentropy\n",
        "\n",
        "from tensorflow.keras.models import load_model\n",
        "\n",
        "# visualization\n",
        "\n",
        "import matplotlib\n",
        "import matplotlib.pyplot as plt\n",
        "\n",
        "# metrics related\n",
        "from sklearn.metrics import confusion_matrix\n",
        "\n"
      ],
      "execution_count": 0,
      "outputs": []
    },
    {
      "cell_type": "markdown",
      "metadata": {
        "id": "4k9dOKgTUoC_",
        "colab_type": "text"
      },
      "source": [
        "#Description:\n",
        "The Plant Seedlings Dataset contains images of approximately 960 unique plants belonging to 12 species at several growth stages.It comprises annotated RGB images with a physical resolution of roughly 10 pixels per mm.\n",
        "\n",
        "# Evaluation criteria\n",
        "Submissions are evaluated on MeanFScore,\n",
        "which at Kaggle is actually a micro-averaged F1-score.\n",
        "\n",
        "Given positive/negative rates for each class k, the resulting score is computed this way:\n",
        "$$Precision{micro} = \\frac{\\sum{k \\in C} TPk}{\\sum{k \\in C} TPk + FPk}\n",
        "\n",
        "Recall{micro} = \\frac{\\sum{k \\in C} TPk}{\\sum{k \\in C} TPk + FNk}\n",
        "\n",
        "F1−score is the harmonic mean of precision and recall\n",
        "MeanFScore = F1{micro}= \\frac{2 Precision{micro} Recall{micro}}{Precision{micro} + Recall_{micro}}$$.\n",
        "\n",
        "fro wikipedia: The harmonic mean of the precision (true positives per predicted positive) and the recall (true positives per real positive) is often used as an aggregated performance score for the evaluation of algorithms and systems: the F-score (or F-measure). This is used in information retrieval because only the positive class is of relevance, while number of negatives, in general, is large and unknown.[12] It is thus a trade-off as to whether the correct positive predictions should be measured in relation to the number of predicted positives or the number of real positives, so it is measured versus a putative number of positives that is an arithmetic mean of the two possible denominators.\n",
        "\n",
        "# Steps to solve\n",
        "Step 1: load the data from my google drive- observe the dataset for imbalance ; nature of pictures to see what feature engineering might be required."
      ]
    },
    {
      "cell_type": "code",
      "metadata": {
        "id": "-JuLfFH6OORy",
        "colab_type": "code",
        "outputId": "25466885-8591-49c4-e8e5-5f831fe0cb8b",
        "colab": {
          "base_uri": "https://localhost:8080/",
          "height": 85
        }
      },
      "source": [
        "%ls \"/content/drive/My Drive/Computer vision/Project1-CNN/train\"\n",
        " "
      ],
      "execution_count": 4,
      "outputs": [
        {
          "output_type": "stream",
          "text": [
            " \u001b[0m\u001b[01;34mBlack-grass\u001b[0m/        \u001b[01;34m'Common wheat'\u001b[0m/      \u001b[01;34m'Scentless Mayweed'\u001b[0m/\n",
            " \u001b[01;34mCharlock\u001b[0m/           \u001b[01;34m'Fat Hen'\u001b[0m/           \u001b[01;34m'Shepherds Purse'\u001b[0m/\n",
            " \u001b[01;34mCleavers\u001b[0m/           \u001b[01;34m'Loose Silky-bent'\u001b[0m/  \u001b[01;34m'Small-flowered Cranesbill'\u001b[0m/\n",
            "\u001b[01;34m'Common Chickweed'\u001b[0m/   \u001b[01;34mMaize\u001b[0m/              \u001b[01;34m'Sugar beet'\u001b[0m/\n"
          ],
          "name": "stdout"
        }
      ]
    },
    {
      "cell_type": "code",
      "metadata": {
        "id": "MeEvMYUvl8sA",
        "colab_type": "code",
        "colab": {}
      },
      "source": [
        "def classes_to_int(label):\n",
        "    label = label.strip()\n",
        "    if label == \"Black-grass\":  return 0\n",
        "    if label == \"Charlock\":  return 1\n",
        "    if label == \"Cleavers\":  return 2\n",
        "    if label == \"Common Chickweed\":  return 3\n",
        "    if label == \"Common wheat\":  return 4\n",
        "    if label == \"Fat Hen\":  return 5\n",
        "    if label == \"Loose Silky-bent\": return 6\n",
        "    if label == \"Maize\":  return 7\n",
        "    if label == \"Scentless Mayweed\": return 8\n",
        "    if label == \"Shepherds Purse\": return 9\n",
        "    if label == \"Small-flowered Cranesbill\": return 10\n",
        "    if label == \"Sugar beet\": return 11\n",
        "    print(\"Invalid Label\", label)\n",
        "    return 12\n",
        "\n",
        "def int_to_classes(i):\n",
        "    if i == 0: return \"Black-grass\"\n",
        "    elif i == 1: return \"Charlock\"\n",
        "    elif i == 2: return \"Cleavers\"\n",
        "    elif i == 3: return \"Common Chickweed\"\n",
        "    elif i == 4: return \"Common wheat\"\n",
        "    elif i == 5: return \"Fat Hen\"\n",
        "    elif i == 6: return \"Loose Silky-bent\"\n",
        "    elif i == 7: return \"Maize\"\n",
        "    elif i == 8: return \"Scentless Mayweed\"\n",
        "    elif i == 9: return \"Shepherds Purse\"\n",
        "    elif i == 10: return \"Small-flowered Cranesbill\"\n",
        "    elif i == 11: return \"Sugar beet\"\n",
        "    print(\"Invalid class \", i)\n",
        "    return \"Invalid Class\""
      ],
      "execution_count": 0,
      "outputs": []
    },
    {
      "cell_type": "code",
      "metadata": {
        "id": "F3gbxUUChpif",
        "colab_type": "code",
        "colab": {}
      },
      "source": [
        "HEIGHT = 128\n",
        "WIDTH = 128"
      ],
      "execution_count": 0,
      "outputs": []
    },
    {
      "cell_type": "code",
      "metadata": {
        "id": "X4Njmd5FQUMg",
        "colab_type": "code",
        "colab": {}
      },
      "source": [
        "def readTrainData(trainDir):\n",
        "    data = []\n",
        "    labels = []\n",
        "    \n",
        "    # loop over the input images\n",
        "    dirs = os.listdir(trainDir) \n",
        "    for dir in dirs:\n",
        "        absDirPath = os.path.join(os.path.sep,trainDir, dir)\n",
        "        images = os.listdir(absDirPath)\n",
        "        for imageFileName in images:\n",
        "            # load the image, pre-process it, and store it in the data list\n",
        "            imageFullPath = os.path.join(trainDir, dir, imageFileName)\n",
        "            #print(imageFullPath)\n",
        "            img = load_img(imageFullPath)\n",
        "            arr = img_to_array(img)  # Numpy array with shape (233,233,3)\n",
        "            arr = cv2.resize(arr, (HEIGHT,WIDTH)) #Numpy array with shape (HEIGHT, WIDTH,3)\n",
        "            #print(arr.shape) \n",
        "            data.append(arr)\n",
        "            label = classes_to_int(dir)\n",
        "            labels.append(label)\n",
        "    return data, labels"
      ],
      "execution_count": 0,
      "outputs": []
    },
    {
      "cell_type": "code",
      "metadata": {
        "id": "53aOEOEwitzm",
        "colab_type": "code",
        "colab": {}
      },
      "source": [
        "X, Y = readTrainData(\"/content/drive/My Drive/Computer vision/Project1-CNN/train\")"
      ],
      "execution_count": 0,
      "outputs": []
    },
    {
      "cell_type": "code",
      "metadata": {
        "id": "1NZzGO5991dN",
        "colab_type": "code",
        "outputId": "200bc369-3c92-4eb5-97bd-f7cff0ad3a53",
        "colab": {
          "base_uri": "https://localhost:8080/",
          "height": 221
        }
      },
      "source": [
        "#see number of images in each label\n",
        "images = np.array(X)\n",
        "#Y_class = np.array([np.argmax(y, axis=None, out=None) for y in Y ])\n",
        "classes = np.array(Y)\n",
        "#print(\"images shape: \", X.shape)\n",
        "#print(\"classes shape: \", Y_class.shape)\n",
        "#for key,value in images_per_class.items():\n",
        "   # print(\"number of {0} images is  -> {1}\".format(key, len(value)))\n",
        "  \n",
        "for label in set(classes):\n",
        "\n",
        "  print(\"number of {} images is  -> {}\".format(\n",
        "        label, \n",
        "        len(images[classes == label])))"
      ],
      "execution_count": 9,
      "outputs": [
        {
          "output_type": "stream",
          "text": [
            "number of 0 images is  -> 263\n",
            "number of 1 images is  -> 390\n",
            "number of 2 images is  -> 287\n",
            "number of 3 images is  -> 611\n",
            "number of 4 images is  -> 221\n",
            "number of 5 images is  -> 475\n",
            "number of 6 images is  -> 654\n",
            "number of 7 images is  -> 221\n",
            "number of 8 images is  -> 516\n",
            "number of 9 images is  -> 231\n",
            "number of 10 images is  -> 496\n",
            "number of 11 images is  -> 385\n"
          ],
          "name": "stdout"
        }
      ]
    },
    {
      "cell_type": "code",
      "metadata": {
        "id": "FBNw4FObFDXh",
        "colab_type": "code",
        "outputId": "87da7941-d3e6-4b54-b38f-e02b7ef125f5",
        "colab": {
          "base_uri": "https://localhost:8080/",
          "height": 510
        }
      },
      "source": [
        "values =[]\n",
        "labels=[]\n",
        "for label in set(classes):\n",
        "  values.append(len(images[classes == label]))\n",
        "  labels.append(label)\n",
        "\n",
        "fig, ax = plt.subplots(figsize=(12,7))\n",
        "ax.bar(labels, values)\n",
        "ax.set_xlabel(\" classes\")\n",
        "ax.set_ylabel(\"number of images\")\n",
        "#axs[1].scatter(label, )\n",
        "  #axs[2].plot(names, values)\n",
        "fig.suptitle('Categorical Plotting')"
      ],
      "execution_count": 10,
      "outputs": [
        {
          "output_type": "execute_result",
          "data": {
            "text/plain": [
              "Text(0.5, 0.98, 'Categorical Plotting')"
            ]
          },
          "metadata": {
            "tags": []
          },
          "execution_count": 10
        },
        {
          "output_type": "display_data",
          "data": {
            "image/png": "[encoded data removed]",
            "text/plain": [
              "<Figure size 864x504 with 1 Axes>"
            ]
          },
          "metadata": {
            "tags": []
          }
        }
      ]
    },
    {
      "cell_type": "markdown",
      "metadata": {
        "id": "r2XTKqKHIe6i",
        "colab_type": "text"
      },
      "source": [
        "Step 2: The classes are imbalanced and we need to see if we can under/ over sample to get over the imbalance  if it can deliver better accuracy. we will also  see what other improvements can be made to get better classification basis initial confustion matrix"
      ]
    },
    {
      "cell_type": "code",
      "metadata": {
        "id": "pw4OIkkqs_vz",
        "colab_type": "code",
        "colab": {}
      },
      "source": [
        "X = np.array(X, dtype=\"float\") / 255.0\n",
        "Y = np.array(Y)\n",
        "# convert the labels from integers to vectors\n",
        "Y =  tensorflow.keras.utils.to_categorical(Y, num_classes=12)"
      ],
      "execution_count": 0,
      "outputs": []
    },
    {
      "cell_type": "code",
      "metadata": {
        "id": "RViUUfQDFU3b",
        "colab_type": "code",
        "colab": {}
      },
      "source": [
        "# partition the data into training and testing splits using 75% training and 25% for validation\n",
        "(trainX, valX, trainY, valY) = train_test_split(X,Y,test_size=0.25, random_state= 70)\n"
      ],
      "execution_count": 0,
      "outputs": []
    },
    {
      "cell_type": "code",
      "metadata": {
        "id": "Qi3cyAM8Gwwp",
        "colab_type": "code",
        "colab": {}
      },
      "source": [
        "#construct the image generator for data augmentation\n",
        "\n",
        "aug = ImageDataGenerator(\n",
        "        featurewise_center=False,  # set input mean to 0 over the dataset\n",
        "        samplewise_center=False,  # set each sample mean to 0\n",
        "        featurewise_std_normalization=False,  # divide inputs by std of the dataset\n",
        "        samplewise_std_normalization=False,  # divide each input by its std\n",
        "        zca_whitening=False,  # apply ZCA whitening\n",
        "        rotation_range=30,  # randomly rotate images in the range (degrees, 0 to 180)\n",
        "        shear_range=0.2,\n",
        "        zoom_range = 0.2, # Randomly zoom image \n",
        "        width_shift_range=0.1,  # randomly shift images horizontally (fraction of total width)\n",
        "        height_shift_range=0.1,  # randomly shift images vertically (fraction of total height)\n",
        "        horizontal_flip=True,  # randomly flip images\n",
        "        vertical_flip=False,  # randomly flip images\n",
        "        fill_mode =\"nearest\")\n"
      ],
      "execution_count": 0,
      "outputs": []
    },
    {
      "cell_type": "code",
      "metadata": {
        "id": "kbMjviBPRHT3",
        "colab_type": "code",
        "colab": {}
      },
      "source": [
        "NUM_CLASSES = 12\n",
        "# we need images of same size so we convert them into the size\n",
        "DEPTH = 3\n",
        "inputShape = (WIDTH, HEIGHT, DEPTH)\n",
        "# initialize number of epochs to train for, initial learning rate and batch size\n",
        "EPOCHS = 40\n",
        "INIT_LR = 1e-3\n",
        "BS = 32"
      ],
      "execution_count": 0,
      "outputs": []
    },
    {
      "cell_type": "code",
      "metadata": {
        "id": "j_BhTe9kG3mr",
        "colab_type": "code",
        "colab": {}
      },
      "source": [
        "def createModel():\n",
        "    model = Sequential()\n",
        "    # first set of CONV => RELU => POOL layers\n",
        "    # The CONV  layer will learn 32 convolution filters, each of which are 5×5.\n",
        "    model.add(Conv2D(32, (5, 5), padding=\"same\",activation = \"relu\", input_shape=inputShape))\n",
        "      \n",
        "    # second set of CONV => RELU => POOL layers\n",
        "    model.add(Conv2D(filters = 32, kernel_size = (5,5),padding = 'Same', activation ='relu'))\n",
        "    model.add(MaxPooling2D(pool_size=(2, 2), strides=(2, 2)))\n",
        "    model.add(Dropout(0.2))\n",
        "    # third set of CONV => RELU => POOL layers\n",
        "    #This time we are learning 64 convolutional filters rather than the 32 convolutional\n",
        "    #filters as in the previous layer set. It’s common to see the number of CONV \n",
        "    #filters learned increase the deeper we go in the network architecture.\n",
        "    model.add(Conv2D(filters = 64, kernel_size = (3,3),padding = 'same', \n",
        "                 activation ='relu'))\n",
        "    model.add(Conv2D(filters = 64, kernel_size = (3,3),padding = 'same', \n",
        "                 activation ='relu'))\n",
        "    model.add(MaxPooling2D(pool_size=(2,2), strides=(2,2)))\n",
        "    model.add(Dropout(0.3))\n",
        "    \n",
        "    # 4th layer\n",
        " \n",
        "    model.add(Conv2D(filters = 128, kernel_size = (3,3),padding = 'Same', \n",
        "                 activation ='relu'))\n",
        "    model.add(MaxPooling2D(pool_size=(2,2), strides=(2,2)))\n",
        "    model.add(Dropout(0.4))\n",
        "    # Flattening out the volume into a set of fully-connected layers\n",
        "    # Take the output of the preceding MaxPooling2D layer and flatten it into a single vector.\n",
        "    # This operation allows us to apply our dense/fully-connected layers.\n",
        "    # Fully-connected layer contains 256 nodes which is passed through another \n",
        "    # nonlinear ReLU activation.\n",
        "    model.add(GlobalMaxPooling2D())\n",
        "    model.add(Flatten())\n",
        "    \n",
        "    model.add(Dense(300, activation = \"relu\"))\n",
        "    model.add(Dropout(0.5))\n",
        "    # softmax classifier\n",
        "    # Another fully-connected layer, but this one is special — the number of nodes is equal \n",
        "    # to the number of classes  (i.e., the classes we want to recognize).\n",
        "    # This Dense layer is then fed into our softmax classifier\n",
        "    # which will yield the probability for each class.\n",
        "    model.add(Dense(NUM_CLASSES, activation = \"softmax\"))\n",
        "    model.summary()\n",
        "    # returns our fully constructed deep learning + Keras image classifier \n",
        "    #opt = Adam(lr=INIT_LR, decay=INIT_LR / EPOCHS)\n",
        "    opt = Adam(lr=INIT_LR)\n",
        "    # use binary_crossentropy if there are two classes\n",
        "    model.compile(loss=\"categorical_crossentropy\", optimizer=opt, metrics=[\"accuracy\"])\n",
        "\n",
        "\n",
        "\n",
        "    return model"
      ],
      "execution_count": 0,
      "outputs": []
    },
    {
      "cell_type": "code",
      "metadata": {
        "id": "QC6Ce5RxeEee",
        "colab_type": "code",
        "colab": {}
      },
      "source": [
        "from tensorflow.keras.callbacks import ReduceLROnPlateau\n",
        "\n",
        "learning_rate_reduction = ReduceLROnPlateau(monitor='val_accuracy', \n",
        "                                            patience=3, \n",
        "                                            verbose=1, \n",
        "                                            factor=0.5, \n",
        "                                            min_lr=0.00001)\n"
      ],
      "execution_count": 0,
      "outputs": []
    },
    {
      "cell_type": "code",
      "metadata": {
        "id": "vMmjb7hPHYW2",
        "colab_type": "code",
        "outputId": "5f228d88-b64f-4d88-a03d-e1d0de0dcd82",
        "colab": {
          "base_uri": "https://localhost:8080/",
          "height": 765
        }
      },
      "source": [
        "\n",
        "\n",
        "# initialize the model\n",
        "print(\"compiling model...\")\n",
        "#sys.stdout.flush()\n",
        "model = createModel()\n",
        "# train the network\n",
        "print(\"training network...\")\n",
        "#sys.stdout.flush()\n",
        "H = model.fit_generator(aug.flow(trainX, trainY, batch_size=BS), \\\n",
        "    validation_data=(valX, valY), \\\n",
        "    steps_per_epoch=len(trainX) // BS, epochs=EPOCHS, verbose=1,\\\n",
        "    callbacks = [learning_rate_reduction])\n",
        "# callbacks = [learning_rate_reduction]\n",
        "# save the model to disk\n",
        "print(\"Saving model to disk\")\n",
        "#sys.stdout.flush()\n",
        "model.save(\"/tmp/1_model\")"
      ],
      "execution_count": 0,
      "outputs": [
        {
          "output_type": "stream",
          "text": [
            "compiling model...\n",
            "Model: \"sequential_1\"\n",
            "_________________________________________________________________\n",
            "Layer (type)                 Output Shape              Param #   \n",
            "=================================================================\n",
            "conv2d_5 (Conv2D)            (None, 128, 128, 32)      2432      \n",
            "_________________________________________________________________\n",
            "conv2d_6 (Conv2D)            (None, 128, 128, 32)      25632     \n",
            "_________________________________________________________________\n",
            "max_pooling2d_3 (MaxPooling2 (None, 64, 64, 32)        0         \n",
            "_________________________________________________________________\n",
            "dropout_4 (Dropout)          (None, 64, 64, 32)        0         \n",
            "_________________________________________________________________\n",
            "conv2d_7 (Conv2D)            (None, 64, 64, 64)        18496     \n",
            "_________________________________________________________________\n",
            "conv2d_8 (Conv2D)            (None, 64, 64, 64)        36928     \n",
            "_________________________________________________________________\n",
            "max_pooling2d_4 (MaxPooling2 (None, 32, 32, 64)        0         \n",
            "_________________________________________________________________\n",
            "dropout_5 (Dropout)          (None, 32, 32, 64)        0         \n",
            "_________________________________________________________________\n",
            "conv2d_9 (Conv2D)            (None, 32, 32, 128)       73856     \n",
            "_________________________________________________________________\n",
            "max_pooling2d_5 (MaxPooling2 (None, 16, 16, 128)       0         \n",
            "_________________________________________________________________\n",
            "dropout_6 (Dropout)          (None, 16, 16, 128)       0         \n",
            "_________________________________________________________________\n",
            "global_max_pooling2d_1 (Glob (None, 128)               0         \n",
            "_________________________________________________________________\n",
            "flatten_1 (Flatten)          (None, 128)               0         \n",
            "_________________________________________________________________\n",
            "dense_2 (Dense)              (None, 300)               38700     \n",
            "_________________________________________________________________\n",
            "dropout_7 (Dropout)          (None, 300)               0         \n",
            "_________________________________________________________________\n",
            "dense_3 (Dense)              (None, 12)                3612      \n",
            "=================================================================\n",
            "Total params: 199,656\n",
            "Trainable params: 199,656\n",
            "Non-trainable params: 0\n",
            "_________________________________________________________________\n",
            "training network...\n",
            "Epoch 1/40\n",
            " 33/111 [=======>......................] - ETA: 8:05 - loss: 2.4275 - accuracy: 0.1316"
          ],
          "name": "stdout"
        }
      ]
    },
    {
      "cell_type": "code",
      "metadata": {
        "id": "iezP8jvpiMpf",
        "colab_type": "code",
        "colab": {}
      },
      "source": [
        "%matplotlib inline"
      ],
      "execution_count": 0,
      "outputs": []
    },
    {
      "cell_type": "code",
      "metadata": {
        "id": "xo4XSWqHnllt",
        "colab_type": "code",
        "colab": {}
      },
      "source": [
        "# set the matplotlib backend so figures can be saved in the background\n",
        "# plot the training loss and accuracy\n",
        "print(\"Generating plots...\")\n",
        "\n",
        "matplotlib.use(\"Agg\")\n",
        "matplotlib.pyplot.style.use(\"ggplot\")\n",
        "matplotlib.pyplot.figure()\n",
        "N = EPOCHS\n",
        "matplotlib.pyplot.plot(np.arange(0, N), H.history[\"loss\"], label=\"train_loss\")\n",
        "matplotlib.pyplot.plot(np.arange(0, N), H.history[\"val_loss\"], label=\"val_loss\")\n",
        "matplotlib.pyplot.plot(np.arange(0, N), H.history[\"accuracy\"], label=\"train_acc\")\n",
        "matplotlib.pyplot.plot(np.arange(0, N), H.history[\"val_accuracy\"], label=\"val_acc\")\n",
        "matplotlib.pyplot.title(\"Training Loss and Accuracy on  crop classification\")\n",
        "matplotlib.pyplot.xlabel(\"Epoch #\")\n",
        "matplotlib.pyplot.ylabel(\"Loss/Accuracy\")\n",
        "matplotlib.pyplot.legend(loc=\"lower left\")\n",
        "matplotlib.pyplot.savefig(\"plot.png\")\n"
      ],
      "execution_count": 0,
      "outputs": []
    },
    {
      "cell_type": "markdown",
      "metadata": {
        "id": "frUtaSyd8umt",
        "colab_type": "text"
      },
      "source": [
        "# Model Evaluation"
      ]
    },
    {
      "cell_type": "code",
      "metadata": {
        "id": "HvsIEMXz7-JT",
        "colab_type": "code",
        "colab": {}
      },
      "source": [
        "\n",
        "fig, ax = plt.subplots(2,1 , figsize=(20,7))\n",
        "ax[0].plot(H.history['loss'], color='b', label=\"Training loss\")\n",
        "ax[0].plot(H.history['val_loss'], color='r', label=\"validation loss\",axes =ax[0])\n",
        "legend = ax[0].legend(loc='best', shadow=True)\n",
        "\n",
        "ax[1].plot(H.history['accuracy'], color='b', label=\"Training accuracy\")\n",
        "ax[1].plot(H.history['val_accuracy'], color='r',label=\"Validation accuracy\")\n",
        "legend = ax[1].legend(loc='best', shadow=True)\n",
        "plt.savefig(\"loss-acc-plot.png\")\n"
      ],
      "execution_count": 0,
      "outputs": []
    },
    {
      "cell_type": "code",
      "metadata": {
        "id": "anv4eP2uoQ3S",
        "colab_type": "code",
        "colab": {}
      },
      "source": [
        "def readTestData(testDir):\n",
        "    data = []\n",
        "    filenames = []\n",
        "    # loop over the input images\n",
        "    images = os.listdir(testDir)\n",
        "    for imageFileName in images:\n",
        "        # load the image, pre-process it, and store it in the data list\n",
        "        imageFullPath = os.path.join(testDir, imageFileName)\n",
        "        #print(imageFullPath)\n",
        "        img = load_img(imageFullPath)\n",
        "        arr = img_to_array(img)  # Numpy array with shape (...,..,3)\n",
        "        arr = cv2.resize(arr, (HEIGHT,WIDTH)) \n",
        "        data.append(arr)\n",
        "        filenames.append(imageFileName)\n",
        "    return data, filenames"
      ],
      "execution_count": 0,
      "outputs": []
    },
    {
      "cell_type": "code",
      "metadata": {
        "id": "bcl-qCEjonoY",
        "colab_type": "code",
        "colab": {}
      },
      "source": [
        "# read test data and find its classification\n",
        "testX, filenames = readTestData(\"/content/drive/My Drive/Computer vision/Project1-CNN/test\")\n",
        "# scale the raw pixel intensities to the range [0, 1]\n",
        "testX = np.array(testX, dtype=\"float\") / 255.0"
      ],
      "execution_count": 0,
      "outputs": []
    },
    {
      "cell_type": "code",
      "metadata": {
        "id": "YfeWl37rpOGT",
        "colab_type": "code",
        "colab": {}
      },
      "source": [
        "\n",
        "mymodel = load_model('/tmp/1_model')\n",
        "yFit = mymodel.predict(testX, batch_size=10, verbose=1)\n"
      ],
      "execution_count": 0,
      "outputs": []
    },
    {
      "cell_type": "code",
      "metadata": {
        "id": "ibHFZ4zlpkLk",
        "colab_type": "code",
        "colab": {}
      },
      "source": [
        " \n",
        "with open('output.csv', 'w', newline='') as csvfile:\n",
        "    fieldnames = ['file', 'species']\n",
        "    writer = csv.DictWriter(csvfile, fieldnames=fieldnames)\n",
        "    writer.writeheader()\n",
        "    for index, file in enumerate(filenames):\n",
        "        classesProbs = yFit[index]\n",
        "        maxIdx = 0\n",
        "        maxProb = 0;\n",
        "        for idx in range(0,11):\n",
        "            if(classesProbs[idx] > maxProb):\n",
        "                maxIdx = idx\n",
        "                maxProb = classesProbs[idx]\n",
        "        writer.writerow({'file': file, 'species': int_to_classes(maxIdx)})\n",
        "print(\"Writing complete\")"
      ],
      "execution_count": 0,
      "outputs": []
    },
    {
      "cell_type": "code",
      "metadata": {
        "id": "3AO5ItV3r-FL",
        "colab_type": "code",
        "colab": {}
      },
      "source": [
        "\n",
        "plt.subplots(figsize=(22,7)) #set the size of the plot \n",
        "\n",
        "def plot_confusion_matrix(cm, classes,\n",
        "                          normalize= False,\n",
        "                          title='Confusion matrix',\n",
        "                          cmap=plt.cm.Blues):\n",
        "    \"\"\"\n",
        "    This function prints and plots the confusion matrix.\n",
        "    Normalization can be applied by setting `normalize=True`.\n",
        "    \"\"\"\n",
        "    plt.imshow(cm, interpolation='nearest', cmap=cmap)\n",
        "    plt.title(title)\n",
        "    plt.colorbar()\n",
        "    tick_marks = np.arange(len(classes))\n",
        "    plt.xticks(tick_marks, classes, rotation=45)\n",
        "    plt.yticks(tick_marks, classes)\n",
        "\n",
        "    if normalize:\n",
        "        cm = cm.astype('float') / cm.sum(axis=1)[:, np.newaxis]\n",
        "\n",
        "    thresh = cm.max() / 2.\n",
        "    for i, j in itertools.product(range(cm.shape[0]), range(cm.shape[1])):\n",
        "        plt.text(j, i, cm[i, j],\n",
        "                 horizontalalignment=\"center\",\n",
        "                 color=\"white\" if cm[i, j] > thresh else \"black\")\n",
        "\n",
        "    plt.tight_layout()\n",
        "    plt.ylabel('True label')\n",
        "    plt.xlabel('Predicted label')\n",
        "    plt.savefig(\"confusion_matrix.png\")\n",
        "\n",
        "\n",
        "# Predict the values from the validation dataset\n",
        "Y_pred = model.predict(valX)\n",
        "# Convert predictions classes to one hot vectors \n",
        "Y_pred_classes = np.argmax(Y_pred ,axis = 1) \n",
        "# Convert validation observations to one hot vectors\n",
        "Y_true = np.argmax(valY,axis = 1) \n",
        "# compute the confusion matrix\n",
        "\n",
        "confusion_mtx = confusion_matrix(Y_true, Y_pred_classes) \n",
        "# plot the confusion matrix\n",
        "plot_confusion_matrix(confusion_mtx, classes = range(NUM_CLASSES))"
      ],
      "execution_count": 0,
      "outputs": []
    },
    {
      "cell_type": "code",
      "metadata": {
        "id": "mc5HKAvTQ190",
        "colab_type": "code",
        "colab": {}
      },
      "source": [
        "from sklearn.metrics import classification_report\n",
        "target_names = ['class 0', 'class 1', 'class 2', 'class 3', 'class 4', 'class 5', 'class 6', 'class 7', 'class 8', 'class 9', 'class 10', 'class 11']\n",
        "print(classification_report(Y_true, Y_pred_classes, target_names=target_names))"
      ],
      "execution_count": 0,
      "outputs": []
    },
    {
      "cell_type": "markdown",
      "metadata": {
        "id": "nn-NKTFCLhME",
        "colab_type": "text"
      },
      "source": [
        "Observations on various runs:\n",
        "\n",
        "Itr 1: used RGB and 128 by 128 pixel images, no feature egineering. model used was basic with 2 Conv2D and 2 max pooling layers. accuracy achieved  0.77 with Lr 0.001 and decay as 0.001/15[15= number of epochs]\n",
        "\n",
        "Itr 2; repeating with same  but epochs are 30. accuracy increases to 0.7980. F1 score = 0.80\n",
        "\n",
        "Itr3: Learning rate reduction on Plateau and epochs 50. F1 accuarcy increased to 0.87\n",
        "\n",
        "Itr4: Image resize has 256 * 256 rather than 128 * 128 - result errors out due to RAm limitation with TPU on colab.  errors out at 200 * 200 as well. Hence moving it back to 128 * 128, only item introduced was reducing learnng rate on plateau and no. of epochs reduced to 40. F1 accuarcy was 0.79.\n",
        "Itr5: same as Itr4 but with the last Dense layer having 500 neurons instead of 256.\n",
        "\n",
        "itr 5:  modified the model definition to include 2 additional Conv2D layers with more drop outs at each layer. no of epochs are 40\n",
        "\n",
        "itr6: With prepocessing of images\n",
        "\n",
        "\n"
      ]
    }
  ]
}