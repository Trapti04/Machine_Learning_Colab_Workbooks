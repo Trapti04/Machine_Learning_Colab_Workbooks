{
 "cells": [
  {
   "cell_type": "markdown",
   "metadata": {},
   "source": [
    "Objectives compare old v/s new sales scheme for a months sales  for 30 sales persons \n",
    "\n",
    "1.Find the mean of old scheme and new scheme column. (5 points)\n",
    "2.Use the five percent significance test over the data to determine the p value to check new scheme has significantly raised outputs? (10 points)\n",
    "3.What conclusion does the test (p-value) lead to? (2.5 points)\n",
    "4.Suppose it has been calculated that in order for Titan to break even, the average output must increase by £5000 in the scheme compared to the old scheme. If this figure is alternative hypothesis, what is:\n",
    "        a) The probability of a type 1 error? (2.5 points)\n",
    "\n",
    "        b) What is the p- value of the hypothesis test if we test for a difference of $5000? (10 points)\n",
    "\n",
    "        c) Power of the test (5 points)"
   ]
  },
  {
   "cell_type": "code",
   "execution_count": 2,
   "metadata": {},
   "outputs": [],
   "source": [
    "from scipy import stats \n",
    "import numpy as np\n",
    "import pandas as pd\n",
    "\n",
    "# set up data\n",
    "sales_df = pd.read_csv('sales.csv')\n",
    "\n",
    "sales_df.set_index('s_person',drop=True,inplace=True)\n"
   ]
  },
  {
   "cell_type": "code",
   "execution_count": 3,
   "metadata": {},
   "outputs": [],
   "source": [
    "sales_df['old_sch'] = sales_df['old_sch'] * 1000"
   ]
  },
  {
   "cell_type": "code",
   "execution_count": 4,
   "metadata": {},
   "outputs": [],
   "source": [
    "sales_df['new_sch'] = sales_df['new_sch'] * 1000"
   ]
  },
  {
   "cell_type": "code",
   "execution_count": 5,
   "metadata": {},
   "outputs": [
    {
     "data": {
      "text/html": [
       "<div>\n",
       "<style scoped>\n",
       "    .dataframe tbody tr th:only-of-type {\n",
       "        vertical-align: middle;\n",
       "    }\n",
       "\n",
       "    .dataframe tbody tr th {\n",
       "        vertical-align: top;\n",
       "    }\n",
       "\n",
       "    .dataframe thead th {\n",
       "        text-align: right;\n",
       "    }\n",
       "</style>\n",
       "<table border=\"1\" class=\"dataframe\">\n",
       "  <thead>\n",
       "    <tr style=\"text-align: right;\">\n",
       "      <th></th>\n",
       "      <th>old_sch</th>\n",
       "      <th>new_sch</th>\n",
       "    </tr>\n",
       "    <tr>\n",
       "      <th>s_person</th>\n",
       "      <th></th>\n",
       "      <th></th>\n",
       "    </tr>\n",
       "  </thead>\n",
       "  <tbody>\n",
       "    <tr>\n",
       "      <th>1</th>\n",
       "      <td>57000</td>\n",
       "      <td>62000</td>\n",
       "    </tr>\n",
       "    <tr>\n",
       "      <th>2</th>\n",
       "      <td>103000</td>\n",
       "      <td>122000</td>\n",
       "    </tr>\n",
       "    <tr>\n",
       "      <th>3</th>\n",
       "      <td>59000</td>\n",
       "      <td>54000</td>\n",
       "    </tr>\n",
       "    <tr>\n",
       "      <th>4</th>\n",
       "      <td>75000</td>\n",
       "      <td>82000</td>\n",
       "    </tr>\n",
       "    <tr>\n",
       "      <th>5</th>\n",
       "      <td>84000</td>\n",
       "      <td>84000</td>\n",
       "    </tr>\n",
       "  </tbody>\n",
       "</table>\n",
       "</div>"
      ],
      "text/plain": [
       "          old_sch  new_sch\n",
       "s_person                  \n",
       "1           57000    62000\n",
       "2          103000   122000\n",
       "3           59000    54000\n",
       "4           75000    82000\n",
       "5           84000    84000"
      ]
     },
     "execution_count": 5,
     "metadata": {},
     "output_type": "execute_result"
    }
   ],
   "source": [
    "sales_df.head()"
   ]
  },
  {
   "cell_type": "code",
   "execution_count": 6,
   "metadata": {},
   "outputs": [
    {
     "data": {
      "text/plain": [
       "68033.33333333333"
      ]
     },
     "execution_count": 6,
     "metadata": {},
     "output_type": "execute_result"
    }
   ],
   "source": [
    "sales_df['old_sch'].mean() # old mean of sales"
   ]
  },
  {
   "cell_type": "code",
   "execution_count": 7,
   "metadata": {},
   "outputs": [
    {
     "data": {
      "text/plain": [
       "72033.33333333333"
      ]
     },
     "execution_count": 7,
     "metadata": {},
     "output_type": "execute_result"
    }
   ],
   "source": [
    "sales_df['new_sch'].mean() # new mean of sales"
   ]
  },
  {
   "cell_type": "code",
   "execution_count": 8,
   "metadata": {},
   "outputs": [
    {
     "data": {
      "text/plain": [
       "4000.0"
      ]
     },
     "execution_count": 8,
     "metadata": {},
     "output_type": "execute_result"
    }
   ],
   "source": [
    "mean_diff = sales_df['new_sch'].mean() - sales_df['old_sch'].mean()\n",
    "mean_diff"
   ]
  },
  {
   "cell_type": "code",
   "execution_count": 9,
   "metadata": {},
   "outputs": [],
   "source": [
    "#Q2 :Use the five percent significance test over the data to determine the p value to check new scheme has significantly raised outputs?\n",
    "\n",
    "#H0: There is no significant increase from old to new to old sales scheme ie mean-diff = 0\n",
    "#H1: There is significant increase mean_diff > 0\n",
    "\n",
    "#We will do  two-sample paired T test since the 2 data sets are related\n",
    "#A Paired sample t-test compares means from the same group at different times.\n"
   ]
  },
  {
   "cell_type": "code",
   "execution_count": 10,
   "metadata": {},
   "outputs": [
    {
     "name": "stdout",
     "output_type": "stream",
     "text": [
      "-1.5559143823544377 0.13057553961337662\n"
     ]
    }
   ],
   "source": [
    "from scipy.stats import ttest_rel\n",
    "t_statistic_zero, p_value_zero = ttest_rel(sales_df['old_sch'],sales_df['new_sch'])\n",
    "print(t_statistic_zero, p_value_zero)\n"
   ]
  },
  {
   "cell_type": "code",
   "execution_count": 11,
   "metadata": {},
   "outputs": [],
   "source": [
    "# alpha = 0.05 as this is a 1 tailed test [ undirectional]\n",
    "# reject H0 if P value if p value is > 0.05. \n",
    "# In this case P value > 0.05 hence it falls in the region of rejection , do not reject H0 . \n",
    "# Answer to Q3:thus we will assume that the new mean increase with the new scheme  does not help in raising the sales.\n"
   ]
  },
  {
   "cell_type": "code",
   "execution_count": 12,
   "metadata": {},
   "outputs": [],
   "source": [
    "# Q4 - new mean - old mean = mean_diff = 5000 to break even\n",
    "# Thus using  hypothesis \n",
    "#H0 : mean_diff <= 5000\n",
    "#H1: mean_diff > 5000\n",
    "# we again to  Paired sample t-test which compares means from the same group at different times. It will be a right tailed test."
   ]
  },
  {
   "cell_type": "code",
   "execution_count": 13,
   "metadata": {},
   "outputs": [
    {
     "name": "stdout",
     "output_type": "stream",
     "text": [
      "-1.5559143823544377 0.13057553961337662\n"
     ]
    }
   ],
   "source": [
    "tstat, pV = ttest_rel(sales_df['old_sch'],sales_df['new_sch'])\n",
    "print(tstat, pV)"
   ]
  },
  {
   "cell_type": "code",
   "execution_count": 44,
   "metadata": {},
   "outputs": [
    {
     "data": {
      "text/plain": [
       "1.6991270265334972"
      ]
     },
     "execution_count": 44,
     "metadata": {},
     "output_type": "execute_result"
    }
   ],
   "source": [
    "#x_bar at t critical is \n",
    "# calculate the critical value\n",
    "from scipy.stats import t\n",
    "t_critical =  - t.ppf(1.0 - 0.95, 29)\n",
    "t_critical"
   ]
  },
  {
   "cell_type": "code",
   "execution_count": 108,
   "metadata": {},
   "outputs": [],
   "source": [
    "\n",
    "sales_diff_sd = (sales_df['new_sch'] - sales_df['old_sch']).std()\n",
    "se = sales_diff_sd / (30 ** 0.5)\n",
    "x_critical =   t_critical*se"
   ]
  },
  {
   "cell_type": "code",
   "execution_count": 110,
   "metadata": {},
   "outputs": [],
   "source": [
    "new_tstat = (x_critical - 5000)/se\n"
   ]
  },
  {
   "cell_type": "code",
   "execution_count": 111,
   "metadata": {},
   "outputs": [
    {
     "data": {
      "text/plain": [
       "0.5962027475205683"
      ]
     },
     "execution_count": 111,
     "metadata": {},
     "output_type": "execute_result"
    }
   ],
   "source": [
    "beta = stats.t.sf(new_tstat, 29)\n",
    "beta"
   ]
  },
  {
   "cell_type": "code",
   "execution_count": 112,
   "metadata": {},
   "outputs": [
    {
     "data": {
      "text/plain": [
       "0.40379725247943166"
      ]
     },
     "execution_count": 112,
     "metadata": {},
     "output_type": "execute_result"
    }
   ],
   "source": [
    "power = 1 - beta\n",
    "power"
   ]
  },
  {
   "cell_type": "code",
   "execution_count": 101,
   "metadata": {},
   "outputs": [],
   "source": [
    "#power of the test (1- beta) = 0.404"
   ]
  },
  {
   "cell_type": "code",
   "execution_count": null,
   "metadata": {},
   "outputs": [],
   "source": [
    "#"
   ]
  }
 ],
 "metadata": {
  "kernelspec": {
   "display_name": "Python 3",
   "language": "python",
   "name": "python3"
  },
  "language_info": {
   "codemirror_mode": {
    "name": "ipython",
    "version": 3
   },
   "file_extension": ".py",
   "mimetype": "text/x-python",
   "name": "python",
   "nbconvert_exporter": "python",
   "pygments_lexer": "ipython3",
   "version": "3.7.3"
  }
 },
 "nbformat": 4,
 "nbformat_minor": 2
}
