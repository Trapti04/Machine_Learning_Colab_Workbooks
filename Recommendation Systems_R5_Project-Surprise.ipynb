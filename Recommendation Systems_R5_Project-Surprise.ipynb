{
 "cells": [
  {
   "cell_type": "code",
   "execution_count": 16,
   "metadata": {},
   "outputs": [],
   "source": [
    "import pandas as pd"
   ]
  },
  {
   "cell_type": "markdown",
   "metadata": {},
   "source": [
    "# Data Handling "
   ]
  },
  {
   "cell_type": "code",
   "execution_count": 17,
   "metadata": {
    "scrolled": true
   },
   "outputs": [],
   "source": [
    "# Directly import a tar file , decompress and extract contents into a dataframe\n",
    "import tarfile\n",
    "import pandas as pd\n",
    "with tarfile.open(\"ratings_Electronics_Ver3.tar-1\", \"r:*\") as tar:\n",
    "    csv_path = tar.getnames()[0]\n",
    "    df = pd.read_csv(tar.extractfile(csv_path), header = None, sep=\",\")"
   ]
  },
  {
   "cell_type": "code",
   "execution_count": 18,
   "metadata": {},
   "outputs": [
    {
     "data": {
      "text/html": [
       "<div>\n",
       "<style scoped>\n",
       "    .dataframe tbody tr th:only-of-type {\n",
       "        vertical-align: middle;\n",
       "    }\n",
       "\n",
       "    .dataframe tbody tr th {\n",
       "        vertical-align: top;\n",
       "    }\n",
       "\n",
       "    .dataframe thead th {\n",
       "        text-align: right;\n",
       "    }\n",
       "</style>\n",
       "<table border=\"1\" class=\"dataframe\">\n",
       "  <thead>\n",
       "    <tr style=\"text-align: right;\">\n",
       "      <th></th>\n",
       "      <th>0</th>\n",
       "      <th>1</th>\n",
       "      <th>2</th>\n",
       "      <th>3</th>\n",
       "    </tr>\n",
       "  </thead>\n",
       "  <tbody>\n",
       "    <tr>\n",
       "      <th>0</th>\n",
       "      <td>AKM1MP6P0OYPR</td>\n",
       "      <td>0132793040</td>\n",
       "      <td>5.0</td>\n",
       "      <td>1365811200</td>\n",
       "    </tr>\n",
       "    <tr>\n",
       "      <th>1</th>\n",
       "      <td>A2CX7LUOHB2NDG</td>\n",
       "      <td>0321732944</td>\n",
       "      <td>5.0</td>\n",
       "      <td>1341100800</td>\n",
       "    </tr>\n",
       "    <tr>\n",
       "      <th>2</th>\n",
       "      <td>A2NWSAGRHCP8N5</td>\n",
       "      <td>0439886341</td>\n",
       "      <td>1.0</td>\n",
       "      <td>1367193600</td>\n",
       "    </tr>\n",
       "    <tr>\n",
       "      <th>3</th>\n",
       "      <td>A2WNBOD3WNDNKT</td>\n",
       "      <td>0439886341</td>\n",
       "      <td>3.0</td>\n",
       "      <td>1374451200</td>\n",
       "    </tr>\n",
       "    <tr>\n",
       "      <th>4</th>\n",
       "      <td>A1GI0U4ZRJA8WN</td>\n",
       "      <td>0439886341</td>\n",
       "      <td>1.0</td>\n",
       "      <td>1334707200</td>\n",
       "    </tr>\n",
       "  </tbody>\n",
       "</table>\n",
       "</div>"
      ],
      "text/plain": [
       "                0           1    2           3\n",
       "0   AKM1MP6P0OYPR  0132793040  5.0  1365811200\n",
       "1  A2CX7LUOHB2NDG  0321732944  5.0  1341100800\n",
       "2  A2NWSAGRHCP8N5  0439886341  1.0  1367193600\n",
       "3  A2WNBOD3WNDNKT  0439886341  3.0  1374451200\n",
       "4  A1GI0U4ZRJA8WN  0439886341  1.0  1334707200"
      ]
     },
     "execution_count": 18,
     "metadata": {},
     "output_type": "execute_result"
    }
   ],
   "source": [
    "df.head()"
   ]
  },
  {
   "cell_type": "code",
   "execution_count": 19,
   "metadata": {},
   "outputs": [
    {
     "name": "stdout",
     "output_type": "stream",
     "text": [
      "(7824482, 3)\n",
      "<class 'pandas.core.frame.DataFrame'>\n",
      "RangeIndex: 7824482 entries, 0 to 7824481\n",
      "Data columns (total 3 columns):\n",
      "userid       object\n",
      "productid    object\n",
      "rating       float64\n",
      "dtypes: float64(1), object(2)\n",
      "memory usage: 179.1+ MB\n"
     ]
    }
   ],
   "source": [
    "df.columns = [\"userid\", \"productid\", \"rating\", \"timestamp\"]\n",
    "df.drop(\"timestamp\", axis = 1, inplace = True)\n",
    "print(df.shape)\n",
    "df.info()"
   ]
  },
  {
   "cell_type": "code",
   "execution_count": 21,
   "metadata": {},
   "outputs": [
    {
     "name": "stdout",
     "output_type": "stream",
     "text": [
      "Total number of users:  4201696 Total number of products:  476002\n"
     ]
    }
   ],
   "source": [
    "# find no. of unique products and users each in the data set\n",
    "print(\"Total number of users: \", df['userid'].nunique() ,\"Total number of products: \", df['productid'].nunique())"
   ]
  },
  {
   "cell_type": "code",
   "execution_count": 22,
   "metadata": {},
   "outputs": [
    {
     "name": "stdout",
     "output_type": "stream",
     "text": [
      "Empty DataFrame\n",
      "Columns: [userid, productid, rating]\n",
      "Index: []\n"
     ]
    }
   ],
   "source": [
    "# Check whether any user - product records with missing ratings\n",
    "print(df[df['rating'] == 0]) # none found, lets proceed with EDA"
   ]
  },
  {
   "cell_type": "markdown",
   "metadata": {},
   "source": [
    "# EDA"
   ]
  },
  {
   "cell_type": "code",
   "execution_count": 25,
   "metadata": {},
   "outputs": [
    {
     "data": {
      "image/png": "[encoded data removed]",
      "text/plain": [
       "<Figure size 432x288 with 1 Axes>"
      ]
     },
     "metadata": {
      "needs_background": "light"
     },
     "output_type": "display_data"
    }
   ],
   "source": [
    "# plotting histogram to understand the users distribution of ratings for products in the dataset\n",
    "\n",
    "%matplotlib inline\n",
    "import matplotlib.pyplot as plt\n",
    "ratings = df['rating']\n",
    "\n",
    "plt.hist([ratings])\n",
    "plt.xticks(range(0, 6))\n",
    "\n",
    "plt.show()"
   ]
  },
  {
   "cell_type": "code",
   "execution_count": 26,
   "metadata": {},
   "outputs": [],
   "source": [
    "# Maximum user ratings are 5 followed by 4. \n",
    "# the dataset leaning largely towards  products with higher ratings. \n",
    "# Should check once on this with the company to make sure data provide is correct, and no products left out."
   ]
  },
  {
   "cell_type": "markdown",
   "metadata": {},
   "source": [
    "# Product Popularity Table[ by rating scale, no of ratings]"
   ]
  },
  {
   "cell_type": "code",
   "execution_count": 27,
   "metadata": {},
   "outputs": [],
   "source": [
    "# analysis by products - find the mean ratings of the products, the no. of ratings providing and sort by ascending ratings\n",
    "# this will give a product wise popularity table with product mean ratings and count of ratings received\n",
    "# In cold start, recommendation of popularly rated and/or highly rated items irrespective of content/ user similarity can be provided by this table."
   ]
  },
  {
   "cell_type": "code",
   "execution_count": 28,
   "metadata": {},
   "outputs": [
    {
     "data": {
      "text/plain": [
       "productid\n",
       "BT008V9J9U    5.0\n",
       "B0058PPK8Y    5.0\n",
       "B0058OQ9Q2    5.0\n",
       "B0058OKSMS    5.0\n",
       "B0058OHGX2    5.0\n",
       "Name: rating, dtype: float64"
      ]
     },
     "execution_count": 28,
     "metadata": {},
     "output_type": "execute_result"
    }
   ],
   "source": [
    "df.groupby('productid')['rating'].mean().sort_values(ascending=False).head()  # finding mean ratings of products and sorting"
   ]
  },
  {
   "cell_type": "code",
   "execution_count": 29,
   "metadata": {},
   "outputs": [
    {
     "data": {
      "text/plain": [
       "productid\n",
       "B0074BW614    18244\n",
       "B00DR0PDNE    16454\n",
       "B007WTAJTO    14172\n",
       "B0019EHU8G    12285\n",
       "B006GWO5WK    12226\n",
       "Name: rating, dtype: int64"
      ]
     },
     "execution_count": 29,
     "metadata": {},
     "output_type": "execute_result"
    }
   ],
   "source": [
    "df.groupby('productid')['rating'].count().sort_values(ascending=False).head() # finding count of ratings and sorting to see"
   ]
  },
  {
   "cell_type": "code",
   "execution_count": 30,
   "metadata": {},
   "outputs": [],
   "source": [
    "# lets build a popularity recommendation table with product mean ratings and count of ratings received\n",
    "#Then we can recommend items which a popularly rated and/ or highly rated."
   ]
  },
  {
   "cell_type": "code",
   "execution_count": 31,
   "metadata": {},
   "outputs": [
    {
     "name": "stdout",
     "output_type": "stream",
     "text": [
      "<class 'pandas.core.frame.DataFrame'>\n",
      "Index: 476002 entries, 0132793040 to BT008V9J9U\n",
      "Data columns (total 2 columns):\n",
      "rating           476002 non-null float64\n",
      "rating_counts    476002 non-null int64\n",
      "dtypes: float64(1), int64(1)\n",
      "memory usage: 10.9+ MB\n"
     ]
    }
   ],
   "source": [
    "Pop_r_df = pd.DataFrame(df.groupby('productid')['rating'].mean())\n",
    "Pop_r_df['rating_counts'] = pd.DataFrame(df.groupby('productid')['rating'].count())\n",
    "Pop_r_df.info()"
   ]
  },
  {
   "cell_type": "code",
   "execution_count": 80,
   "metadata": {},
   "outputs": [],
   "source": [
    "# rating and rating_counts in  descending order\n",
    "Popularity_top10_df = Pop_r_df.sort_values(['rating', 'rating_counts'], ascending=[False, False])[:10]"
   ]
  },
  {
   "cell_type": "code",
   "execution_count": 77,
   "metadata": {},
   "outputs": [
    {
     "data": {
      "text/html": [
       "<div>\n",
       "<style scoped>\n",
       "    .dataframe tbody tr th:only-of-type {\n",
       "        vertical-align: middle;\n",
       "    }\n",
       "\n",
       "    .dataframe tbody tr th {\n",
       "        vertical-align: top;\n",
       "    }\n",
       "\n",
       "    .dataframe thead th {\n",
       "        text-align: right;\n",
       "    }\n",
       "</style>\n",
       "<table border=\"1\" class=\"dataframe\">\n",
       "  <thead>\n",
       "    <tr style=\"text-align: right;\">\n",
       "      <th></th>\n",
       "      <th>rating</th>\n",
       "      <th>rating_counts</th>\n",
       "    </tr>\n",
       "    <tr>\n",
       "      <th>productid</th>\n",
       "      <th></th>\n",
       "      <th></th>\n",
       "    </tr>\n",
       "  </thead>\n",
       "  <tbody>\n",
       "    <tr>\n",
       "      <th>0132793040</th>\n",
       "      <td>5.000000</td>\n",
       "      <td>1</td>\n",
       "    </tr>\n",
       "    <tr>\n",
       "      <th>0321732944</th>\n",
       "      <td>5.000000</td>\n",
       "      <td>1</td>\n",
       "    </tr>\n",
       "    <tr>\n",
       "      <th>0439886341</th>\n",
       "      <td>1.666667</td>\n",
       "      <td>3</td>\n",
       "    </tr>\n",
       "    <tr>\n",
       "      <th>0511189877</th>\n",
       "      <td>4.500000</td>\n",
       "      <td>6</td>\n",
       "    </tr>\n",
       "    <tr>\n",
       "      <th>0528881469</th>\n",
       "      <td>2.851852</td>\n",
       "      <td>27</td>\n",
       "    </tr>\n",
       "  </tbody>\n",
       "</table>\n",
       "</div>"
      ],
      "text/plain": [
       "              rating  rating_counts\n",
       "productid                          \n",
       "0132793040  5.000000              1\n",
       "0321732944  5.000000              1\n",
       "0439886341  1.666667              3\n",
       "0511189877  4.500000              6\n",
       "0528881469  2.851852             27"
      ]
     },
     "execution_count": 77,
     "metadata": {},
     "output_type": "execute_result"
    }
   ],
   "source": [
    "Pop_r_df.head() "
   ]
  },
  {
   "cell_type": "code",
   "execution_count": 35,
   "metadata": {},
   "outputs": [
    {
     "data": {
      "image/png": "[encoded data removed]",
      "text/plain": [
       "<Figure size 432x288 with 1 Axes>"
      ]
     },
     "metadata": {
      "needs_background": "light"
     },
     "output_type": "display_data"
    }
   ],
   "source": [
    "plt.hist([Pop_r_df['rating']]) # plotting product wise mean ratings\n",
    "plt.xticks(range(0, 6))\n",
    "\n",
    "plt.show()"
   ]
  },
  {
   "cell_type": "code",
   "execution_count": null,
   "metadata": {},
   "outputs": [],
   "source": [
    "# We can see that no. of product wise low ratings reduce ; and there is a predominance of higher rated products in dataset"
   ]
  },
  {
   "cell_type": "code",
   "execution_count": null,
   "metadata": {},
   "outputs": [],
   "source": []
  },
  {
   "cell_type": "markdown",
   "metadata": {},
   "source": [
    "# To reduce the dimensionality of the dataset, we will filter out rarely rated products and rarely rating users."
   ]
  },
  {
   "cell_type": "code",
   "execution_count": 41,
   "metadata": {},
   "outputs": [],
   "source": [
    "user_counts = df['userid'].value_counts() "
   ]
  },
  {
   "cell_type": "code",
   "execution_count": 42,
   "metadata": {},
   "outputs": [
    {
     "data": {
      "text/plain": [
       "A5JLAU2ARJ0BO     520\n",
       "ADLVFFE4VBT8      501\n",
       "A3OXHLG6DIBRW8    498\n",
       "A6FIAB28IS79      431\n",
       "A680RUE1FDO8B     406\n",
       "A1ODOGXEYECQQ8    380\n",
       "A36K2N527TXXJN    314\n",
       "A2AY4YUOX2N1BQ    311\n",
       "AWPODHOB4GFWL     308\n",
       "A25C2M3QF9G7OQ    296\n",
       "ARBKYIVNYWK3C     296\n",
       "A22CW0ZHY3NJH8    292\n",
       "A3EXWV8FNSSFL6    282\n",
       "A38RMU1Y5TDP9     282\n",
       "A3LGT6UZL99IW1    279\n",
       "A2NOW4U7W3F7RI    277\n",
       "A23GFTVIETX7DS    270\n",
       "A3PD8JD9L4WEII    266\n",
       "A17BUUBOU0598B    261\n",
       "A3AYSYSLHU26U9    257\n",
       "A2XRMQA6PJ5ZJ8    253\n",
       "A12DQZKRKTNF5E    252\n",
       "A231WM2Z2JL0U3    252\n",
       "A1UQBFCERIP7VJ    247\n",
       "AGVWTYW0ULXHT     244\n",
       "A203OCQQ12MAVT    240\n",
       "AEJAGHLC675A7     239\n",
       "A2NYK9KWFMJV4Y    238\n",
       "A3A4ZAIBQWKOZS    236\n",
       "A1T1YSCDW0PD25    227\n",
       "                 ... \n",
       "ARBDIT1T7J6F3       1\n",
       "A4B0S53W3XTNK       1\n",
       "A1D8ABQO0NVTEI      1\n",
       "AQHKNXP0C7Z3T       1\n",
       "A1C9OBGSK8J02P      1\n",
       "A3PUWC4Q4C8OAK      1\n",
       "A254PEDZTILCKG      1\n",
       "AEUFH9DQJKX16       1\n",
       "A349O62FQN7MIT      1\n",
       "A3AHXP1US1XC9R      1\n",
       "ASRQ9FC5DU4G2       1\n",
       "A211CLGP7K51IL      1\n",
       "A3DOQG7FAJ1UQP      1\n",
       "AXOOCFPI27YRE       1\n",
       "AXVQ6D48VGQF9       1\n",
       "AFHLV9DXVTI8V       1\n",
       "A1JP8DODVWZLPY      1\n",
       "A35GPTXOQ97ST2      1\n",
       "A1UJFNUBL7GGPC      1\n",
       "A21TOH736H37OC      1\n",
       "A2SNCMYSHLLZ9P      1\n",
       "A1RSHDW5BI1O4P      1\n",
       "A66VBQXHGTUSN       1\n",
       "A9UVVTA3VX5GG       1\n",
       "ADG4799ZATL0W       1\n",
       "A3GQ68RJOZZB81      1\n",
       "A3DRG9D54WD8M1      1\n",
       "A1KL73AETTX74G      1\n",
       "A2QWAOK61QF37Q      1\n",
       "A1P4RZLIZRCO6       1\n",
       "Name: userid, Length: 4201696, dtype: int64"
      ]
     },
     "execution_count": 42,
     "metadata": {},
     "output_type": "execute_result"
    }
   ],
   "source": [
    "user_counts # no. product ratings provided per user"
   ]
  },
  {
   "cell_type": "markdown",
   "metadata": {},
   "source": [
    "Consider users who have only rated atleast 50 products in the dataset to create a \"denser\" dataset, also include products which are rated ateast more than once only."
   ]
  },
  {
   "cell_type": "code",
   "execution_count": 46,
   "metadata": {},
   "outputs": [
    {
     "name": "stdout",
     "output_type": "stream",
     "text": [
      "records after removing users with below 50 ratings:  userid       122171\n",
      "productid    122171\n",
      "rating       122171\n",
      "dtype: int64\n",
      "new no. of unique users:  1466\n",
      "new no. of products:  47155\n"
     ]
    }
   ],
   "source": [
    "# step 1: eliminating users with < 50 ratings\n",
    "denser_df = df[df['userid'].isin(user_counts[user_counts > 50].index)]\n",
    "print(\"records after removing users with below 50 ratings: \", denser_df.count())\n",
    "print(\"new no. of unique users: \", denser_df['userid'].nunique())\n",
    "print(\"new no. of products: \", denser_df['productid'].nunique() )"
   ]
  },
  {
   "cell_type": "code",
   "execution_count": 47,
   "metadata": {},
   "outputs": [
    {
     "name": "stdout",
     "output_type": "stream",
     "text": [
      "<class 'pandas.core.frame.DataFrame'>\n",
      "Int64Index: 91947 entries, 177 to 7824438\n",
      "Data columns (total 3 columns):\n",
      "userid       91947 non-null object\n",
      "productid    91947 non-null object\n",
      "rating       91947 non-null float64\n",
      "dtypes: float64(1), object(2)\n",
      "memory usage: 2.8+ MB\n"
     ]
    }
   ],
   "source": [
    "#step 2: eliminating  products with less than 1 rating\n",
    "Pop_r_denser_df = pd.DataFrame(denser_df.groupby('productid')['rating'].mean())\n",
    "Pop_r_denser_df['rating_counts'] = pd.DataFrame(denser_df.groupby('productid')['rating'].count())\n",
    "Pop_r_V_denser_df = Pop_r_denser_df[Pop_r_denser_df['rating_counts']>1]\n",
    "V_denser_df = denser_df[denser_df['productid'].isin(Pop_r_V_denser_df.index)]\n",
    "V_denser_df.info()"
   ]
  },
  {
   "cell_type": "code",
   "execution_count": 48,
   "metadata": {},
   "outputs": [
    {
     "name": "stdout",
     "output_type": "stream",
     "text": [
      "records after removing products rated less than once:  userid       91947\n",
      "productid    91947\n",
      "rating       91947\n",
      "dtype: int64\n",
      "new no. of unique users:  1466\n",
      "new no. of products:  16931\n"
     ]
    }
   ],
   "source": [
    "print(\"records after removing products rated less than once: \", V_denser_df.count())\n",
    "print(\"new no. of unique users: \", V_denser_df['userid'].nunique())\n",
    "print(\"new no. of products: \", V_denser_df['productid'].nunique() )"
   ]
  },
  {
   "cell_type": "code",
   "execution_count": 49,
   "metadata": {},
   "outputs": [
    {
     "data": {
      "image/png": "[encoded data removed]",
      "text/plain": [
       "<Figure size 432x288 with 1 Axes>"
      ]
     },
     "metadata": {
      "needs_background": "light"
     },
     "output_type": "display_data"
    }
   ],
   "source": [
    "# review the distribution to see if it has changed from original\n",
    "\n",
    "d_ratings = V_denser_df['rating']\n",
    "\n",
    "plt.hist([d_ratings])\n",
    "plt.xticks(range(0, 6))\n",
    "\n",
    "plt.show() # Conclusion: no of  products with high ratings comparison remains more or less similar to full data set.\n"
   ]
  },
  {
   "cell_type": "code",
   "execution_count": 50,
   "metadata": {},
   "outputs": [
    {
     "data": {
      "text/html": [
       "<div>\n",
       "<style scoped>\n",
       "    .dataframe tbody tr th:only-of-type {\n",
       "        vertical-align: middle;\n",
       "    }\n",
       "\n",
       "    .dataframe tbody tr th {\n",
       "        vertical-align: top;\n",
       "    }\n",
       "\n",
       "    .dataframe thead th {\n",
       "        text-align: right;\n",
       "    }\n",
       "</style>\n",
       "<table border=\"1\" class=\"dataframe\">\n",
       "  <thead>\n",
       "    <tr style=\"text-align: right;\">\n",
       "      <th></th>\n",
       "      <th>userid</th>\n",
       "      <th>productid</th>\n",
       "      <th>rating</th>\n",
       "    </tr>\n",
       "  </thead>\n",
       "  <tbody>\n",
       "    <tr>\n",
       "      <th>177</th>\n",
       "      <td>A32HSNCNPRUMTR</td>\n",
       "      <td>0970407998</td>\n",
       "      <td>1.0</td>\n",
       "    </tr>\n",
       "    <tr>\n",
       "      <th>178</th>\n",
       "      <td>A17HMM1M7T9PJ1</td>\n",
       "      <td>0970407998</td>\n",
       "      <td>4.0</td>\n",
       "    </tr>\n",
       "    <tr>\n",
       "      <th>492</th>\n",
       "      <td>A3CLWR1UUZT6TG</td>\n",
       "      <td>0972683275</td>\n",
       "      <td>5.0</td>\n",
       "    </tr>\n",
       "    <tr>\n",
       "      <th>631</th>\n",
       "      <td>A3TAS1AG6FMBQW</td>\n",
       "      <td>0972683275</td>\n",
       "      <td>5.0</td>\n",
       "    </tr>\n",
       "    <tr>\n",
       "      <th>1138</th>\n",
       "      <td>A25RTRAPQAJBDJ</td>\n",
       "      <td>0972683275</td>\n",
       "      <td>5.0</td>\n",
       "    </tr>\n",
       "  </tbody>\n",
       "</table>\n",
       "</div>"
      ],
      "text/plain": [
       "              userid   productid  rating\n",
       "177   A32HSNCNPRUMTR  0970407998     1.0\n",
       "178   A17HMM1M7T9PJ1  0970407998     4.0\n",
       "492   A3CLWR1UUZT6TG  0972683275     5.0\n",
       "631   A3TAS1AG6FMBQW  0972683275     5.0\n",
       "1138  A25RTRAPQAJBDJ  0972683275     5.0"
      ]
     },
     "execution_count": 50,
     "metadata": {},
     "output_type": "execute_result"
    }
   ],
   "source": [
    "V_denser_df.head()"
   ]
  },
  {
   "cell_type": "code",
   "execution_count": 52,
   "metadata": {},
   "outputs": [
    {
     "name": "stdout",
     "output_type": "stream",
     "text": [
      "The original data frame shape:\t(7824482, 3)\n",
      "The new data frame shape:\t(91947, 3)\n"
     ]
    }
   ],
   "source": [
    "print('The original data frame shape:\\t{}'.format(df.shape))\n",
    "print('The new data frame shape:\\t{}'.format(V_denser_df.shape))"
   ]
  },
  {
   "cell_type": "markdown",
   "metadata": {},
   "source": [
    "# Convert dataframe to Surprise format & Split into Train and test data set [ 70:30]"
   ]
  },
  {
   "cell_type": "markdown",
   "metadata": {},
   "source": [
    "# Surprise\n",
    "To load a dataset from a pandas dataframe, we will use the load_from_df() method, we will also need a Reader object, and the rating_scale parameter must be specified. The dataframe must have three columns, corresponding to the user ids, the prod ids, and the ratings in this order. Each row thus corresponds to a given rating."
   ]
  },
  {
   "cell_type": "code",
   "execution_count": 53,
   "metadata": {},
   "outputs": [],
   "source": [
    "from surprise import Reader\n",
    "from surprise import Dataset\n",
    "from surprise.model_selection import cross_validate\n",
    "from surprise import NormalPredictor\n",
    "from surprise import KNNBasic\n",
    "from surprise import KNNWithMeans\n",
    "from surprise import KNNWithZScore\n",
    "from surprise import KNNBaseline\n",
    "from surprise import SVD\n",
    "from surprise import BaselineOnly\n",
    "from surprise import SVDpp\n",
    "from surprise import NMF\n",
    "from surprise import SlopeOne\n",
    "from surprise import CoClustering\n",
    "from surprise.accuracy import rmse\n",
    "from surprise import accuracy\n",
    "from surprise.model_selection import train_test_split"
   ]
  },
  {
   "cell_type": "code",
   "execution_count": 69,
   "metadata": {},
   "outputs": [],
   "source": [
    "reader = Reader(rating_scale=(1, 5)) # can be skipped as this is the default rating scale\n",
    "pdata = Dataset.load_from_df(V_denser_df[['userid', 'productid', 'rating']], reader)\n",
    "\n",
    "trainset, testset = train_test_split(pdata, test_size=0.30)"
   ]
  },
  {
   "cell_type": "code",
   "execution_count": 70,
   "metadata": {},
   "outputs": [
    {
     "data": {
      "text/plain": [
       "<surprise.dataset.DatasetAutoFolds at 0x19ab6b3e358>"
      ]
     },
     "execution_count": 70,
     "metadata": {},
     "output_type": "execute_result"
    }
   ],
   "source": [
    "pdata"
   ]
  },
  {
   "cell_type": "markdown",
   "metadata": {},
   "source": [
    "# Collaborative Filtering using Surprise SVD"
   ]
  },
  {
   "cell_type": "code",
   "execution_count": 71,
   "metadata": {},
   "outputs": [],
   "source": [
    "# since this is computationally expensive we will start from denser_df[ users who rated 50 products or more]"
   ]
  },
  {
   "cell_type": "code",
   "execution_count": 72,
   "metadata": {},
   "outputs": [
    {
     "name": "stdout",
     "output_type": "stream",
     "text": [
      "RMSE: 0.9444\n"
     ]
    },
    {
     "data": {
      "text/plain": [
       "0.944416128583826"
      ]
     },
     "execution_count": 72,
     "metadata": {},
     "output_type": "execute_result"
    }
   ],
   "source": [
    "algo = SVD()\n",
    "predictions = algo.fit(trainset).test(testset)\n",
    "accuracy.rmse(predictions)"
   ]
  },
  {
   "cell_type": "code",
   "execution_count": 73,
   "metadata": {},
   "outputs": [],
   "source": [
    "def get_Iu(uid):\n",
    "    \"\"\" return the number of items rated by given user\n",
    "    args: \n",
    "      uid: the id of the user\n",
    "    returns: \n",
    "      the number of items rated by the user\n",
    "    \"\"\"\n",
    "    try:\n",
    "        return len(trainset.ur[trainset.to_inner_uid(uid)])\n",
    "    except ValueError: # user was not part of the trainset\n",
    "        return 0\n",
    "    \n",
    "def get_Ui(iid):\n",
    "    \"\"\" return number of users that have rated given item\n",
    "    args:\n",
    "      iid: the raw id of the item\n",
    "    returns:\n",
    "      the number of users that have rated the item.\n",
    "    \"\"\"\n",
    "    try: \n",
    "        return len(trainset.ir[trainset.to_inner_iid(iid)])\n",
    "    except ValueError:\n",
    "        return 0\n",
    "    \n",
    "df = pd.DataFrame(predictions, columns=['uid', 'iid', 'rui', 'est', 'details'])\n",
    "df['Iu'] = df.uid.apply(get_Iu)\n",
    "df['Ui'] = df.iid.apply(get_Ui)\n",
    "df['err'] = abs(df.est - df.rui)"
   ]
  },
  {
   "cell_type": "code",
   "execution_count": 74,
   "metadata": {},
   "outputs": [
    {
     "data": {
      "text/html": [
       "<div>\n",
       "<style scoped>\n",
       "    .dataframe tbody tr th:only-of-type {\n",
       "        vertical-align: middle;\n",
       "    }\n",
       "\n",
       "    .dataframe tbody tr th {\n",
       "        vertical-align: top;\n",
       "    }\n",
       "\n",
       "    .dataframe thead th {\n",
       "        text-align: right;\n",
       "    }\n",
       "</style>\n",
       "<table border=\"1\" class=\"dataframe\">\n",
       "  <thead>\n",
       "    <tr style=\"text-align: right;\">\n",
       "      <th></th>\n",
       "      <th>uid</th>\n",
       "      <th>iid</th>\n",
       "      <th>rui</th>\n",
       "      <th>est</th>\n",
       "      <th>details</th>\n",
       "      <th>Iu</th>\n",
       "      <th>Ui</th>\n",
       "      <th>err</th>\n",
       "    </tr>\n",
       "  </thead>\n",
       "  <tbody>\n",
       "    <tr>\n",
       "      <th>0</th>\n",
       "      <td>A2TA40MV2H4O6F</td>\n",
       "      <td>B007XOQ3BQ</td>\n",
       "      <td>5.0</td>\n",
       "      <td>4.414350</td>\n",
       "      <td>{'was_impossible': False}</td>\n",
       "      <td>39</td>\n",
       "      <td>4</td>\n",
       "      <td>0.585650</td>\n",
       "    </tr>\n",
       "    <tr>\n",
       "      <th>1</th>\n",
       "      <td>A2NX6PABLIJLP1</td>\n",
       "      <td>B0007RV3IE</td>\n",
       "      <td>5.0</td>\n",
       "      <td>4.311129</td>\n",
       "      <td>{'was_impossible': False}</td>\n",
       "      <td>36</td>\n",
       "      <td>3</td>\n",
       "      <td>0.688871</td>\n",
       "    </tr>\n",
       "    <tr>\n",
       "      <th>2</th>\n",
       "      <td>A18A5VSD0IPN14</td>\n",
       "      <td>B003Y34AK6</td>\n",
       "      <td>3.0</td>\n",
       "      <td>4.658294</td>\n",
       "      <td>{'was_impossible': False}</td>\n",
       "      <td>29</td>\n",
       "      <td>1</td>\n",
       "      <td>1.658294</td>\n",
       "    </tr>\n",
       "    <tr>\n",
       "      <th>3</th>\n",
       "      <td>A2BCDZO1XQLDH</td>\n",
       "      <td>B00HQ883T4</td>\n",
       "      <td>1.0</td>\n",
       "      <td>3.858107</td>\n",
       "      <td>{'was_impossible': False}</td>\n",
       "      <td>30</td>\n",
       "      <td>1</td>\n",
       "      <td>2.858107</td>\n",
       "    </tr>\n",
       "    <tr>\n",
       "      <th>4</th>\n",
       "      <td>A33YZNZIRA3H97</td>\n",
       "      <td>B00004TX77</td>\n",
       "      <td>5.0</td>\n",
       "      <td>4.102362</td>\n",
       "      <td>{'was_impossible': False}</td>\n",
       "      <td>78</td>\n",
       "      <td>1</td>\n",
       "      <td>0.897638</td>\n",
       "    </tr>\n",
       "  </tbody>\n",
       "</table>\n",
       "</div>"
      ],
      "text/plain": [
       "              uid         iid  rui       est                    details  Iu  \\\n",
       "0  A2TA40MV2H4O6F  B007XOQ3BQ  5.0  4.414350  {'was_impossible': False}  39   \n",
       "1  A2NX6PABLIJLP1  B0007RV3IE  5.0  4.311129  {'was_impossible': False}  36   \n",
       "2  A18A5VSD0IPN14  B003Y34AK6  3.0  4.658294  {'was_impossible': False}  29   \n",
       "3   A2BCDZO1XQLDH  B00HQ883T4  1.0  3.858107  {'was_impossible': False}  30   \n",
       "4  A33YZNZIRA3H97  B00004TX77  5.0  4.102362  {'was_impossible': False}  78   \n",
       "\n",
       "   Ui       err  \n",
       "0   4  0.585650  \n",
       "1   3  0.688871  \n",
       "2   1  1.658294  \n",
       "3   1  2.858107  \n",
       "4   1  0.897638  "
      ]
     },
     "execution_count": 74,
     "metadata": {},
     "output_type": "execute_result"
    }
   ],
   "source": [
    "df.head()"
   ]
  },
  {
   "cell_type": "code",
   "execution_count": 64,
   "metadata": {},
   "outputs": [],
   "source": [
    "\n",
    "best_predictions = df.sort_values(by='err')[:10]\n",
    "worst_predictions = df.sort_values(by='err')[-10:]"
   ]
  },
  {
   "cell_type": "code",
   "execution_count": 65,
   "metadata": {},
   "outputs": [
    {
     "data": {
      "text/html": [
       "<div>\n",
       "<style scoped>\n",
       "    .dataframe tbody tr th:only-of-type {\n",
       "        vertical-align: middle;\n",
       "    }\n",
       "\n",
       "    .dataframe tbody tr th {\n",
       "        vertical-align: top;\n",
       "    }\n",
       "\n",
       "    .dataframe thead th {\n",
       "        text-align: right;\n",
       "    }\n",
       "</style>\n",
       "<table border=\"1\" class=\"dataframe\">\n",
       "  <thead>\n",
       "    <tr style=\"text-align: right;\">\n",
       "      <th></th>\n",
       "      <th>uid</th>\n",
       "      <th>iid</th>\n",
       "      <th>rui</th>\n",
       "      <th>est</th>\n",
       "      <th>details</th>\n",
       "      <th>Iu</th>\n",
       "      <th>Ui</th>\n",
       "      <th>err</th>\n",
       "    </tr>\n",
       "  </thead>\n",
       "  <tbody>\n",
       "    <tr>\n",
       "      <th>17370</th>\n",
       "      <td>A3REK3OFONWB1Q</td>\n",
       "      <td>B00834SJNA</td>\n",
       "      <td>5.0</td>\n",
       "      <td>5.0</td>\n",
       "      <td>{'was_impossible': False}</td>\n",
       "      <td>56</td>\n",
       "      <td>64</td>\n",
       "      <td>0.0</td>\n",
       "    </tr>\n",
       "    <tr>\n",
       "      <th>13626</th>\n",
       "      <td>A3RGJ1FXOB1ZLL</td>\n",
       "      <td>B0036Q7MV0</td>\n",
       "      <td>5.0</td>\n",
       "      <td>5.0</td>\n",
       "      <td>{'was_impossible': False}</td>\n",
       "      <td>42</td>\n",
       "      <td>25</td>\n",
       "      <td>0.0</td>\n",
       "    </tr>\n",
       "    <tr>\n",
       "      <th>13625</th>\n",
       "      <td>A2QI2JHSIQ3SN3</td>\n",
       "      <td>B0019EHU8G</td>\n",
       "      <td>5.0</td>\n",
       "      <td>5.0</td>\n",
       "      <td>{'was_impossible': False}</td>\n",
       "      <td>28</td>\n",
       "      <td>67</td>\n",
       "      <td>0.0</td>\n",
       "    </tr>\n",
       "    <tr>\n",
       "      <th>15720</th>\n",
       "      <td>A12EVK82QUTSA6</td>\n",
       "      <td>B003ES5ZUU</td>\n",
       "      <td>5.0</td>\n",
       "      <td>5.0</td>\n",
       "      <td>{'was_impossible': False}</td>\n",
       "      <td>39</td>\n",
       "      <td>129</td>\n",
       "      <td>0.0</td>\n",
       "    </tr>\n",
       "    <tr>\n",
       "      <th>13616</th>\n",
       "      <td>A1TQBAHI3M4ZBQ</td>\n",
       "      <td>B002V88HFE</td>\n",
       "      <td>5.0</td>\n",
       "      <td>5.0</td>\n",
       "      <td>{'was_impossible': False}</td>\n",
       "      <td>32</td>\n",
       "      <td>68</td>\n",
       "      <td>0.0</td>\n",
       "    </tr>\n",
       "    <tr>\n",
       "      <th>17710</th>\n",
       "      <td>A3D0UM4ZD2CMAW</td>\n",
       "      <td>B003ZM7YTA</td>\n",
       "      <td>5.0</td>\n",
       "      <td>5.0</td>\n",
       "      <td>{'was_impossible': False}</td>\n",
       "      <td>52</td>\n",
       "      <td>5</td>\n",
       "      <td>0.0</td>\n",
       "    </tr>\n",
       "    <tr>\n",
       "      <th>11291</th>\n",
       "      <td>A1PV5T5S4D5NPI</td>\n",
       "      <td>B000KKPN5C</td>\n",
       "      <td>5.0</td>\n",
       "      <td>5.0</td>\n",
       "      <td>{'was_impossible': False}</td>\n",
       "      <td>45</td>\n",
       "      <td>7</td>\n",
       "      <td>0.0</td>\n",
       "    </tr>\n",
       "    <tr>\n",
       "      <th>5677</th>\n",
       "      <td>A680RUE1FDO8B</td>\n",
       "      <td>B00HMREOLK</td>\n",
       "      <td>5.0</td>\n",
       "      <td>5.0</td>\n",
       "      <td>{'was_impossible': False}</td>\n",
       "      <td>223</td>\n",
       "      <td>13</td>\n",
       "      <td>0.0</td>\n",
       "    </tr>\n",
       "    <tr>\n",
       "      <th>15726</th>\n",
       "      <td>A2HMF8ZR67BNZS</td>\n",
       "      <td>B002WE4HE2</td>\n",
       "      <td>5.0</td>\n",
       "      <td>5.0</td>\n",
       "      <td>{'was_impossible': False}</td>\n",
       "      <td>74</td>\n",
       "      <td>36</td>\n",
       "      <td>0.0</td>\n",
       "    </tr>\n",
       "    <tr>\n",
       "      <th>7617</th>\n",
       "      <td>A18U49406IPPIJ</td>\n",
       "      <td>B000CKVOOY</td>\n",
       "      <td>5.0</td>\n",
       "      <td>5.0</td>\n",
       "      <td>{'was_impossible': False}</td>\n",
       "      <td>47</td>\n",
       "      <td>24</td>\n",
       "      <td>0.0</td>\n",
       "    </tr>\n",
       "  </tbody>\n",
       "</table>\n",
       "</div>"
      ],
      "text/plain": [
       "                  uid         iid  rui  est                    details   Iu  \\\n",
       "17370  A3REK3OFONWB1Q  B00834SJNA  5.0  5.0  {'was_impossible': False}   56   \n",
       "13626  A3RGJ1FXOB1ZLL  B0036Q7MV0  5.0  5.0  {'was_impossible': False}   42   \n",
       "13625  A2QI2JHSIQ3SN3  B0019EHU8G  5.0  5.0  {'was_impossible': False}   28   \n",
       "15720  A12EVK82QUTSA6  B003ES5ZUU  5.0  5.0  {'was_impossible': False}   39   \n",
       "13616  A1TQBAHI3M4ZBQ  B002V88HFE  5.0  5.0  {'was_impossible': False}   32   \n",
       "17710  A3D0UM4ZD2CMAW  B003ZM7YTA  5.0  5.0  {'was_impossible': False}   52   \n",
       "11291  A1PV5T5S4D5NPI  B000KKPN5C  5.0  5.0  {'was_impossible': False}   45   \n",
       "5677    A680RUE1FDO8B  B00HMREOLK  5.0  5.0  {'was_impossible': False}  223   \n",
       "15726  A2HMF8ZR67BNZS  B002WE4HE2  5.0  5.0  {'was_impossible': False}   74   \n",
       "7617   A18U49406IPPIJ  B000CKVOOY  5.0  5.0  {'was_impossible': False}   47   \n",
       "\n",
       "        Ui  err  \n",
       "17370   64  0.0  \n",
       "13626   25  0.0  \n",
       "13625   67  0.0  \n",
       "15720  129  0.0  \n",
       "13616   68  0.0  \n",
       "17710    5  0.0  \n",
       "11291    7  0.0  \n",
       "5677    13  0.0  \n",
       "15726   36  0.0  \n",
       "7617    24  0.0  "
      ]
     },
     "execution_count": 65,
     "metadata": {},
     "output_type": "execute_result"
    }
   ],
   "source": [
    "best_predictions # top ten predictions"
   ]
  },
  {
   "cell_type": "code",
   "execution_count": 66,
   "metadata": {},
   "outputs": [
    {
     "data": {
      "text/html": [
       "<div>\n",
       "<style scoped>\n",
       "    .dataframe tbody tr th:only-of-type {\n",
       "        vertical-align: middle;\n",
       "    }\n",
       "\n",
       "    .dataframe tbody tr th {\n",
       "        vertical-align: top;\n",
       "    }\n",
       "\n",
       "    .dataframe thead th {\n",
       "        text-align: right;\n",
       "    }\n",
       "</style>\n",
       "<table border=\"1\" class=\"dataframe\">\n",
       "  <thead>\n",
       "    <tr style=\"text-align: right;\">\n",
       "      <th></th>\n",
       "      <th>uid</th>\n",
       "      <th>iid</th>\n",
       "      <th>rui</th>\n",
       "      <th>est</th>\n",
       "      <th>details</th>\n",
       "      <th>Iu</th>\n",
       "      <th>Ui</th>\n",
       "      <th>err</th>\n",
       "    </tr>\n",
       "  </thead>\n",
       "  <tbody>\n",
       "    <tr>\n",
       "      <th>13671</th>\n",
       "      <td>A3TA1UJWRJF9NC</td>\n",
       "      <td>B000MX48VM</td>\n",
       "      <td>1.0</td>\n",
       "      <td>4.897757</td>\n",
       "      <td>{'was_impossible': False}</td>\n",
       "      <td>29</td>\n",
       "      <td>28</td>\n",
       "      <td>3.897757</td>\n",
       "    </tr>\n",
       "    <tr>\n",
       "      <th>1674</th>\n",
       "      <td>A1ZBEIL78MLR9Z</td>\n",
       "      <td>B00D856NOG</td>\n",
       "      <td>1.0</td>\n",
       "      <td>4.922797</td>\n",
       "      <td>{'was_impossible': False}</td>\n",
       "      <td>34</td>\n",
       "      <td>12</td>\n",
       "      <td>3.922797</td>\n",
       "    </tr>\n",
       "    <tr>\n",
       "      <th>23720</th>\n",
       "      <td>A6KL17KKN0A5L</td>\n",
       "      <td>B000JE7GPY</td>\n",
       "      <td>1.0</td>\n",
       "      <td>4.934786</td>\n",
       "      <td>{'was_impossible': False}</td>\n",
       "      <td>25</td>\n",
       "      <td>36</td>\n",
       "      <td>3.934786</td>\n",
       "    </tr>\n",
       "    <tr>\n",
       "      <th>835</th>\n",
       "      <td>A1V4VVBQBFXRHC</td>\n",
       "      <td>B003ZBZ64Q</td>\n",
       "      <td>1.0</td>\n",
       "      <td>4.961943</td>\n",
       "      <td>{'was_impossible': False}</td>\n",
       "      <td>63</td>\n",
       "      <td>14</td>\n",
       "      <td>3.961943</td>\n",
       "    </tr>\n",
       "    <tr>\n",
       "      <th>19127</th>\n",
       "      <td>A11EYMH9UV9XG7</td>\n",
       "      <td>B00D1GYNT4</td>\n",
       "      <td>1.0</td>\n",
       "      <td>4.972377</td>\n",
       "      <td>{'was_impossible': False}</td>\n",
       "      <td>42</td>\n",
       "      <td>20</td>\n",
       "      <td>3.972377</td>\n",
       "    </tr>\n",
       "    <tr>\n",
       "      <th>10811</th>\n",
       "      <td>A1KY5G5FP31F2F</td>\n",
       "      <td>B007PTCFFW</td>\n",
       "      <td>1.0</td>\n",
       "      <td>4.978442</td>\n",
       "      <td>{'was_impossible': False}</td>\n",
       "      <td>37</td>\n",
       "      <td>28</td>\n",
       "      <td>3.978442</td>\n",
       "    </tr>\n",
       "    <tr>\n",
       "      <th>17341</th>\n",
       "      <td>A35KBAQ4VBNQ6L</td>\n",
       "      <td>B00BGGDVOO</td>\n",
       "      <td>1.0</td>\n",
       "      <td>4.980448</td>\n",
       "      <td>{'was_impossible': False}</td>\n",
       "      <td>31</td>\n",
       "      <td>42</td>\n",
       "      <td>3.980448</td>\n",
       "    </tr>\n",
       "    <tr>\n",
       "      <th>14218</th>\n",
       "      <td>A1H55L0BLPCWYF</td>\n",
       "      <td>B0002L5R78</td>\n",
       "      <td>1.0</td>\n",
       "      <td>5.000000</td>\n",
       "      <td>{'was_impossible': False}</td>\n",
       "      <td>24</td>\n",
       "      <td>35</td>\n",
       "      <td>4.000000</td>\n",
       "    </tr>\n",
       "    <tr>\n",
       "      <th>21205</th>\n",
       "      <td>A2PICNZWHEINQC</td>\n",
       "      <td>B002RM08RE</td>\n",
       "      <td>1.0</td>\n",
       "      <td>5.000000</td>\n",
       "      <td>{'was_impossible': False}</td>\n",
       "      <td>32</td>\n",
       "      <td>18</td>\n",
       "      <td>4.000000</td>\n",
       "    </tr>\n",
       "    <tr>\n",
       "      <th>20281</th>\n",
       "      <td>AK3GKIV8DEY8B</td>\n",
       "      <td>B001542X64</td>\n",
       "      <td>1.0</td>\n",
       "      <td>5.000000</td>\n",
       "      <td>{'was_impossible': False}</td>\n",
       "      <td>41</td>\n",
       "      <td>6</td>\n",
       "      <td>4.000000</td>\n",
       "    </tr>\n",
       "  </tbody>\n",
       "</table>\n",
       "</div>"
      ],
      "text/plain": [
       "                  uid         iid  rui       est                    details  \\\n",
       "13671  A3TA1UJWRJF9NC  B000MX48VM  1.0  4.897757  {'was_impossible': False}   \n",
       "1674   A1ZBEIL78MLR9Z  B00D856NOG  1.0  4.922797  {'was_impossible': False}   \n",
       "23720   A6KL17KKN0A5L  B000JE7GPY  1.0  4.934786  {'was_impossible': False}   \n",
       "835    A1V4VVBQBFXRHC  B003ZBZ64Q  1.0  4.961943  {'was_impossible': False}   \n",
       "19127  A11EYMH9UV9XG7  B00D1GYNT4  1.0  4.972377  {'was_impossible': False}   \n",
       "10811  A1KY5G5FP31F2F  B007PTCFFW  1.0  4.978442  {'was_impossible': False}   \n",
       "17341  A35KBAQ4VBNQ6L  B00BGGDVOO  1.0  4.980448  {'was_impossible': False}   \n",
       "14218  A1H55L0BLPCWYF  B0002L5R78  1.0  5.000000  {'was_impossible': False}   \n",
       "21205  A2PICNZWHEINQC  B002RM08RE  1.0  5.000000  {'was_impossible': False}   \n",
       "20281   AK3GKIV8DEY8B  B001542X64  1.0  5.000000  {'was_impossible': False}   \n",
       "\n",
       "       Iu  Ui       err  \n",
       "13671  29  28  3.897757  \n",
       "1674   34  12  3.922797  \n",
       "23720  25  36  3.934786  \n",
       "835    63  14  3.961943  \n",
       "19127  42  20  3.972377  \n",
       "10811  37  28  3.978442  \n",
       "17341  31  42  3.980448  \n",
       "14218  24  35  4.000000  \n",
       "21205  32  18  4.000000  \n",
       "20281  41   6  4.000000  "
      ]
     },
     "execution_count": 66,
     "metadata": {},
     "output_type": "execute_result"
    }
   ],
   "source": [
    "worst_predictions # worst ten predictions"
   ]
  },
  {
   "cell_type": "markdown",
   "metadata": {},
   "source": [
    "# Popularity  model \n",
    "This is  independent of user similarity, here we  will present the same list to all users\n",
    "Mostly we assume these are users with a cold start visiting first time or with on history on the product site"
   ]
  },
  {
   "cell_type": "code",
   "execution_count": 81,
   "metadata": {},
   "outputs": [
    {
     "data": {
      "text/html": [
       "<div>\n",
       "<style scoped>\n",
       "    .dataframe tbody tr th:only-of-type {\n",
       "        vertical-align: middle;\n",
       "    }\n",
       "\n",
       "    .dataframe tbody tr th {\n",
       "        vertical-align: top;\n",
       "    }\n",
       "\n",
       "    .dataframe thead th {\n",
       "        text-align: right;\n",
       "    }\n",
       "</style>\n",
       "<table border=\"1\" class=\"dataframe\">\n",
       "  <thead>\n",
       "    <tr style=\"text-align: right;\">\n",
       "      <th></th>\n",
       "      <th>rating</th>\n",
       "      <th>rating_counts</th>\n",
       "    </tr>\n",
       "    <tr>\n",
       "      <th>productid</th>\n",
       "      <th></th>\n",
       "      <th></th>\n",
       "    </tr>\n",
       "  </thead>\n",
       "  <tbody>\n",
       "    <tr>\n",
       "      <th>B008I64AQ8</th>\n",
       "      <td>5.0</td>\n",
       "      <td>45</td>\n",
       "    </tr>\n",
       "    <tr>\n",
       "      <th>B00GQDCMVA</th>\n",
       "      <td>5.0</td>\n",
       "      <td>41</td>\n",
       "    </tr>\n",
       "    <tr>\n",
       "      <th>B007WMOCW6</th>\n",
       "      <td>5.0</td>\n",
       "      <td>38</td>\n",
       "    </tr>\n",
       "    <tr>\n",
       "      <th>B002T3JN0Y</th>\n",
       "      <td>5.0</td>\n",
       "      <td>36</td>\n",
       "    </tr>\n",
       "    <tr>\n",
       "      <th>B00592002W</th>\n",
       "      <td>5.0</td>\n",
       "      <td>36</td>\n",
       "    </tr>\n",
       "    <tr>\n",
       "      <th>B00DWLPUZY</th>\n",
       "      <td>5.0</td>\n",
       "      <td>34</td>\n",
       "    </tr>\n",
       "    <tr>\n",
       "      <th>B00KC7I2GU</th>\n",
       "      <td>5.0</td>\n",
       "      <td>31</td>\n",
       "    </tr>\n",
       "    <tr>\n",
       "      <th>B00009R8ZW</th>\n",
       "      <td>5.0</td>\n",
       "      <td>28</td>\n",
       "    </tr>\n",
       "    <tr>\n",
       "      <th>B000FIJA6W</th>\n",
       "      <td>5.0</td>\n",
       "      <td>28</td>\n",
       "    </tr>\n",
       "    <tr>\n",
       "      <th>B0002VAVII</th>\n",
       "      <td>5.0</td>\n",
       "      <td>25</td>\n",
       "    </tr>\n",
       "  </tbody>\n",
       "</table>\n",
       "</div>"
      ],
      "text/plain": [
       "            rating  rating_counts\n",
       "productid                        \n",
       "B008I64AQ8     5.0             45\n",
       "B00GQDCMVA     5.0             41\n",
       "B007WMOCW6     5.0             38\n",
       "B002T3JN0Y     5.0             36\n",
       "B00592002W     5.0             36\n",
       "B00DWLPUZY     5.0             34\n",
       "B00KC7I2GU     5.0             31\n",
       "B00009R8ZW     5.0             28\n",
       "B000FIJA6W     5.0             28\n",
       "B0002VAVII     5.0             25"
      ]
     },
     "execution_count": 81,
     "metadata": {},
     "output_type": "execute_result"
    }
   ],
   "source": [
    "Popularity_top10_df # list of most popular 10 items"
   ]
  },
  {
   "cell_type": "markdown",
   "metadata": {},
   "source": [
    "# Summarization of findings"
   ]
  },
  {
   "cell_type": "markdown",
   "metadata": {},
   "source": [
    "1. Summarized the data based on the no. of users, products and review the rating trends.\n",
    "2. The good thing in the dataset is that there were no null values, all records had ratings\n",
    "3. Created a popularity recommendation table basis highest ratings with highest frequecy of being rated. This is idependent of user  and/ or item similarity. We could do this on full data set\n",
    "4. For the computationally intensive matrix factorization based SVD algo we removed the users with less that 50 products rated: and the  products w th only one rating.\n",
    "5. convert the datset into Surpise lib format and split that dats for train-test.\n",
    "6. ran the SDV algo from surprise , obtained the rmse and studied the best and worse predictions  after trainng on the test set.\n",
    "7. the list of top 10 predictions for products for  both popularity  based and factorization based methods in lsited above.\n",
    "8. for a new user we  can recommend the most poplar trending products, once a user has started rating some items\n",
    "9. we can then graduacte to recommendations using the SDV model."
   ]
  },
  {
   "cell_type": "code",
   "execution_count": null,
   "metadata": {},
   "outputs": [],
   "source": []
  },
  {
   "cell_type": "markdown",
   "metadata": {},
   "source": [
    "# scipy SDVS implementation - just to try"
   ]
  },
  {
   "cell_type": "code",
   "execution_count": 144,
   "metadata": {},
   "outputs": [
    {
     "name": "stdout",
     "output_type": "stream",
     "text": [
      "(1466, 16931)\n"
     ]
    },
    {
     "data": {
      "text/html": [
       "<div>\n",
       "<style scoped>\n",
       "    .dataframe tbody tr th:only-of-type {\n",
       "        vertical-align: middle;\n",
       "    }\n",
       "\n",
       "    .dataframe tbody tr th {\n",
       "        vertical-align: top;\n",
       "    }\n",
       "\n",
       "    .dataframe thead th {\n",
       "        text-align: right;\n",
       "    }\n",
       "</style>\n",
       "<table border=\"1\" class=\"dataframe\">\n",
       "  <thead>\n",
       "    <tr style=\"text-align: right;\">\n",
       "      <th>productid</th>\n",
       "      <th>0970407998</th>\n",
       "      <th>0972683275</th>\n",
       "      <th>1400501466</th>\n",
       "      <th>1400501776</th>\n",
       "      <th>1400532620</th>\n",
       "      <th>1400532655</th>\n",
       "      <th>140053271X</th>\n",
       "      <th>1400599997</th>\n",
       "      <th>1400698987</th>\n",
       "      <th>787988002X</th>\n",
       "      <th>...</th>\n",
       "      <th>B00KYMCJF8</th>\n",
       "      <th>B00L1I80K2</th>\n",
       "      <th>B00L21HC7A</th>\n",
       "      <th>B00L2442H0</th>\n",
       "      <th>B00L26YDA4</th>\n",
       "      <th>B00L3YHF6O</th>\n",
       "      <th>B00L8I6SFY</th>\n",
       "      <th>B00LA6T0LS</th>\n",
       "      <th>B00LGQ6HL8</th>\n",
       "      <th>B00LI4ZZO8</th>\n",
       "    </tr>\n",
       "    <tr>\n",
       "      <th>userid</th>\n",
       "      <th></th>\n",
       "      <th></th>\n",
       "      <th></th>\n",
       "      <th></th>\n",
       "      <th></th>\n",
       "      <th></th>\n",
       "      <th></th>\n",
       "      <th></th>\n",
       "      <th></th>\n",
       "      <th></th>\n",
       "      <th></th>\n",
       "      <th></th>\n",
       "      <th></th>\n",
       "      <th></th>\n",
       "      <th></th>\n",
       "      <th></th>\n",
       "      <th></th>\n",
       "      <th></th>\n",
       "      <th></th>\n",
       "      <th></th>\n",
       "      <th></th>\n",
       "    </tr>\n",
       "  </thead>\n",
       "  <tbody>\n",
       "    <tr>\n",
       "      <th>A100UD67AHFODS</th>\n",
       "      <td>NaN</td>\n",
       "      <td>NaN</td>\n",
       "      <td>NaN</td>\n",
       "      <td>NaN</td>\n",
       "      <td>NaN</td>\n",
       "      <td>NaN</td>\n",
       "      <td>NaN</td>\n",
       "      <td>NaN</td>\n",
       "      <td>NaN</td>\n",
       "      <td>NaN</td>\n",
       "      <td>...</td>\n",
       "      <td>NaN</td>\n",
       "      <td>NaN</td>\n",
       "      <td>NaN</td>\n",
       "      <td>NaN</td>\n",
       "      <td>NaN</td>\n",
       "      <td>NaN</td>\n",
       "      <td>NaN</td>\n",
       "      <td>NaN</td>\n",
       "      <td>NaN</td>\n",
       "      <td>NaN</td>\n",
       "    </tr>\n",
       "    <tr>\n",
       "      <th>A100WO06OQR8BQ</th>\n",
       "      <td>NaN</td>\n",
       "      <td>NaN</td>\n",
       "      <td>NaN</td>\n",
       "      <td>NaN</td>\n",
       "      <td>NaN</td>\n",
       "      <td>NaN</td>\n",
       "      <td>NaN</td>\n",
       "      <td>NaN</td>\n",
       "      <td>NaN</td>\n",
       "      <td>NaN</td>\n",
       "      <td>...</td>\n",
       "      <td>NaN</td>\n",
       "      <td>NaN</td>\n",
       "      <td>NaN</td>\n",
       "      <td>NaN</td>\n",
       "      <td>NaN</td>\n",
       "      <td>NaN</td>\n",
       "      <td>NaN</td>\n",
       "      <td>NaN</td>\n",
       "      <td>NaN</td>\n",
       "      <td>NaN</td>\n",
       "    </tr>\n",
       "    <tr>\n",
       "      <th>A105S56ODHGJEK</th>\n",
       "      <td>NaN</td>\n",
       "      <td>NaN</td>\n",
       "      <td>NaN</td>\n",
       "      <td>NaN</td>\n",
       "      <td>NaN</td>\n",
       "      <td>NaN</td>\n",
       "      <td>NaN</td>\n",
       "      <td>NaN</td>\n",
       "      <td>NaN</td>\n",
       "      <td>NaN</td>\n",
       "      <td>...</td>\n",
       "      <td>NaN</td>\n",
       "      <td>NaN</td>\n",
       "      <td>NaN</td>\n",
       "      <td>NaN</td>\n",
       "      <td>NaN</td>\n",
       "      <td>NaN</td>\n",
       "      <td>NaN</td>\n",
       "      <td>NaN</td>\n",
       "      <td>NaN</td>\n",
       "      <td>NaN</td>\n",
       "    </tr>\n",
       "    <tr>\n",
       "      <th>A105TOJ6LTVMBG</th>\n",
       "      <td>NaN</td>\n",
       "      <td>NaN</td>\n",
       "      <td>NaN</td>\n",
       "      <td>NaN</td>\n",
       "      <td>NaN</td>\n",
       "      <td>NaN</td>\n",
       "      <td>NaN</td>\n",
       "      <td>NaN</td>\n",
       "      <td>NaN</td>\n",
       "      <td>NaN</td>\n",
       "      <td>...</td>\n",
       "      <td>NaN</td>\n",
       "      <td>NaN</td>\n",
       "      <td>NaN</td>\n",
       "      <td>NaN</td>\n",
       "      <td>NaN</td>\n",
       "      <td>NaN</td>\n",
       "      <td>NaN</td>\n",
       "      <td>NaN</td>\n",
       "      <td>NaN</td>\n",
       "      <td>NaN</td>\n",
       "    </tr>\n",
       "    <tr>\n",
       "      <th>A10AFVU66A79Y1</th>\n",
       "      <td>NaN</td>\n",
       "      <td>NaN</td>\n",
       "      <td>NaN</td>\n",
       "      <td>NaN</td>\n",
       "      <td>NaN</td>\n",
       "      <td>NaN</td>\n",
       "      <td>NaN</td>\n",
       "      <td>NaN</td>\n",
       "      <td>NaN</td>\n",
       "      <td>NaN</td>\n",
       "      <td>...</td>\n",
       "      <td>NaN</td>\n",
       "      <td>NaN</td>\n",
       "      <td>NaN</td>\n",
       "      <td>NaN</td>\n",
       "      <td>NaN</td>\n",
       "      <td>NaN</td>\n",
       "      <td>NaN</td>\n",
       "      <td>NaN</td>\n",
       "      <td>NaN</td>\n",
       "      <td>NaN</td>\n",
       "    </tr>\n",
       "  </tbody>\n",
       "</table>\n",
       "<p>5 rows × 16931 columns</p>\n",
       "</div>"
      ],
      "text/plain": [
       "productid       0970407998  0972683275  1400501466  1400501776  1400532620  \\\n",
       "userid                                                                       \n",
       "A100UD67AHFODS         NaN         NaN         NaN         NaN         NaN   \n",
       "A100WO06OQR8BQ         NaN         NaN         NaN         NaN         NaN   \n",
       "A105S56ODHGJEK         NaN         NaN         NaN         NaN         NaN   \n",
       "A105TOJ6LTVMBG         NaN         NaN         NaN         NaN         NaN   \n",
       "A10AFVU66A79Y1         NaN         NaN         NaN         NaN         NaN   \n",
       "\n",
       "productid       1400532655  140053271X  1400599997  1400698987  787988002X  \\\n",
       "userid                                                                       \n",
       "A100UD67AHFODS         NaN         NaN         NaN         NaN         NaN   \n",
       "A100WO06OQR8BQ         NaN         NaN         NaN         NaN         NaN   \n",
       "A105S56ODHGJEK         NaN         NaN         NaN         NaN         NaN   \n",
       "A105TOJ6LTVMBG         NaN         NaN         NaN         NaN         NaN   \n",
       "A10AFVU66A79Y1         NaN         NaN         NaN         NaN         NaN   \n",
       "\n",
       "productid       ...  B00KYMCJF8  B00L1I80K2  B00L21HC7A  B00L2442H0  \\\n",
       "userid          ...                                                   \n",
       "A100UD67AHFODS  ...         NaN         NaN         NaN         NaN   \n",
       "A100WO06OQR8BQ  ...         NaN         NaN         NaN         NaN   \n",
       "A105S56ODHGJEK  ...         NaN         NaN         NaN         NaN   \n",
       "A105TOJ6LTVMBG  ...         NaN         NaN         NaN         NaN   \n",
       "A10AFVU66A79Y1  ...         NaN         NaN         NaN         NaN   \n",
       "\n",
       "productid       B00L26YDA4  B00L3YHF6O  B00L8I6SFY  B00LA6T0LS  B00LGQ6HL8  \\\n",
       "userid                                                                       \n",
       "A100UD67AHFODS         NaN         NaN         NaN         NaN         NaN   \n",
       "A100WO06OQR8BQ         NaN         NaN         NaN         NaN         NaN   \n",
       "A105S56ODHGJEK         NaN         NaN         NaN         NaN         NaN   \n",
       "A105TOJ6LTVMBG         NaN         NaN         NaN         NaN         NaN   \n",
       "A10AFVU66A79Y1         NaN         NaN         NaN         NaN         NaN   \n",
       "\n",
       "productid       B00LI4ZZO8  \n",
       "userid                      \n",
       "A100UD67AHFODS         NaN  \n",
       "A100WO06OQR8BQ         NaN  \n",
       "A105S56ODHGJEK         NaN  \n",
       "A105TOJ6LTVMBG         NaN  \n",
       "A10AFVU66A79Y1         NaN  \n",
       "\n",
       "[5 rows x 16931 columns]"
      ]
     },
     "execution_count": 144,
     "metadata": {},
     "output_type": "execute_result"
    }
   ],
   "source": [
    " #Generating ratings matrix from explicit ratings\n",
    " ratings_matrix = V_denser_df.pivot(index ='userid',columns ='productid',values ='rating')\n",
    " userid = V_denser_df.index\n",
    " productid = V_denser_df.columns\n",
    " print(ratings_matrix.shape)\n",
    " ratings_matrix.head()"
   ]
  },
  {
   "cell_type": "code",
   "execution_count": 145,
   "metadata": {},
   "outputs": [],
   "source": [
    "#ratings_matrix_1 = ratings_matrix.iloc[:, :-22000]"
   ]
  },
  {
   "cell_type": "code",
   "execution_count": 146,
   "metadata": {},
   "outputs": [],
   "source": [
    "#ratings_matrix_1.shape"
   ]
  },
  {
   "cell_type": "code",
   "execution_count": 147,
   "metadata": {},
   "outputs": [],
   "source": [
    "ratings_matrix.fillna(0, inplace = True)"
   ]
  },
  {
   "cell_type": "code",
   "execution_count": 148,
   "metadata": {},
   "outputs": [
    {
     "name": "stdout",
     "output_type": "stream",
     "text": [
      "<class 'pandas.core.frame.DataFrame'>\n",
      "Index: 1466 entries, A100UD67AHFODS to AZOK5STV85FBJ\n",
      "Columns: 16931 entries, 0970407998 to B00LI4ZZO8\n",
      "dtypes: float64(16931)\n",
      "memory usage: 189.4+ MB\n"
     ]
    }
   ],
   "source": [
    " ratings_matrix.info()"
   ]
  },
  {
   "cell_type": "code",
   "execution_count": 149,
   "metadata": {},
   "outputs": [],
   "source": [
    "from scipy.sparse.linalg import svds\n",
    "U, sigma, Vt = svds(ratings_matrix, k = 50)"
   ]
  },
  {
   "cell_type": "code",
   "execution_count": 150,
   "metadata": {},
   "outputs": [
    {
     "data": {
      "text/plain": [
       "array([ 60.13061499,  60.34949267,  60.59702138,  60.78008451,\n",
       "        60.97766603,  61.24204755,  61.37279726,  61.80856137,\n",
       "        61.86491769,  62.12771735,  62.42827307,  62.58804782,\n",
       "        62.96581963,  63.41612666,  63.55662795,  64.02386887,\n",
       "        64.13062772,  64.44699867,  64.67223347,  65.13040825,\n",
       "        65.47922693,  65.60415119,  66.1040875 ,  66.58038997,\n",
       "        66.9622794 ,  67.55314911,  67.96004071,  68.40646877,\n",
       "        68.74587672,  69.37848204,  69.82724727,  70.43343816,\n",
       "        70.67652398,  71.25435523,  71.87268916,  72.15130386,\n",
       "        72.71428785,  73.39620545,  75.30230095,  76.70166246,\n",
       "        77.63844932,  79.57392693,  81.95169987,  82.5808894 ,\n",
       "        83.87227005,  87.75342157,  91.82485959, 104.1248037 ,\n",
       "       116.79609688, 180.02600353])"
      ]
     },
     "execution_count": 150,
     "metadata": {},
     "output_type": "execute_result"
    }
   ],
   "source": [
    "sigma"
   ]
  },
  {
   "cell_type": "code",
   "execution_count": null,
   "metadata": {},
   "outputs": [],
   "source": []
  }
 ],
 "metadata": {
  "kernelspec": {
   "display_name": "Python 3",
   "language": "python",
   "name": "python3"
  },
  "language_info": {
   "codemirror_mode": {
    "name": "ipython",
    "version": 3
   },
   "file_extension": ".py",
   "mimetype": "text/x-python",
   "name": "python",
   "nbconvert_exporter": "python",
   "pygments_lexer": "ipython3",
   "version": "3.7.3"
  }
 },
 "nbformat": 4,
 "nbformat_minor": 2
}
