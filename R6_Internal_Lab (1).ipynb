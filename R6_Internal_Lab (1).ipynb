{
  "nbformat": 4,
  "nbformat_minor": 0,
  "metadata": {
    "colab": {
      "name": "R6_Internal_Lab.ipynb",
      "provenance": [],
      "collapsed_sections": [
        "XiipRpe7rbVh"
      ]
    },
    "kernelspec": {
      "name": "python3",
      "display_name": "Python 3"
    },
    "accelerator": "GPU"
  },
  "cells": [
    {
      "cell_type": "markdown",
      "metadata": {
        "colab_type": "text",
        "id": "84Q8JfvaeZZ6"
      },
      "source": [
        "## Linear Classifier in TensorFlow \n",
        "Using Low Level API in Eager Execution mode"
      ]
    },
    {
      "cell_type": "markdown",
      "metadata": {
        "colab_type": "text",
        "id": "sb7Epo0VOB58"
      },
      "source": [
        "### Load tensorflow"
      ]
    },
    {
      "cell_type": "code",
      "metadata": {
        "colab_type": "code",
        "id": "fHpCNRv1OB5-",
        "outputId": "dc98cc95-326e-4721-db16-8e5f306ad494",
        "colab": {
          "base_uri": "https://localhost:8080/",
          "height": 760
        }
      },
      "source": [
        "!pip install tensorflow-gpu\n",
        "\n"
      ],
      "execution_count": 275,
      "outputs": [
        {
          "output_type": "stream",
          "text": [
            "Collecting tensorflow-gpu\n",
            "\u001b[?25l  Downloading https://files.pythonhosted.org/packages/25/44/47f0722aea081697143fbcf5d2aa60d1aee4aaacb5869aee2b568974777b/tensorflow_gpu-2.0.0-cp36-cp36m-manylinux2010_x86_64.whl (380.8MB)\n",
            "\u001b[K     |████████████████████████████████| 380.8MB 47kB/s \n",
            "\u001b[?25hRequirement already satisfied: numpy<2.0,>=1.16.0 in /usr/local/lib/python3.6/dist-packages (from tensorflow-gpu) (1.17.3)\n",
            "Requirement already satisfied: grpcio>=1.8.6 in /usr/local/lib/python3.6/dist-packages (from tensorflow-gpu) (1.15.0)\n",
            "Requirement already satisfied: keras-applications>=1.0.8 in /usr/local/lib/python3.6/dist-packages (from tensorflow-gpu) (1.0.8)\n",
            "Requirement already satisfied: termcolor>=1.1.0 in /usr/local/lib/python3.6/dist-packages (from tensorflow-gpu) (1.1.0)\n",
            "Requirement already satisfied: wheel>=0.26 in /usr/local/lib/python3.6/dist-packages (from tensorflow-gpu) (0.33.6)\n",
            "Requirement already satisfied: wrapt>=1.11.1 in /usr/local/lib/python3.6/dist-packages (from tensorflow-gpu) (1.11.2)\n",
            "Requirement already satisfied: six>=1.10.0 in /usr/local/lib/python3.6/dist-packages (from tensorflow-gpu) (1.12.0)\n",
            "Requirement already satisfied: opt-einsum>=2.3.2 in /usr/local/lib/python3.6/dist-packages (from tensorflow-gpu) (3.1.0)\n",
            "Requirement already satisfied: absl-py>=0.7.0 in /usr/local/lib/python3.6/dist-packages (from tensorflow-gpu) (0.8.1)\n",
            "Requirement already satisfied: protobuf>=3.6.1 in /usr/local/lib/python3.6/dist-packages (from tensorflow-gpu) (3.10.0)\n",
            "Requirement already satisfied: gast==0.2.2 in /usr/local/lib/python3.6/dist-packages (from tensorflow-gpu) (0.2.2)\n",
            "Requirement already satisfied: google-pasta>=0.1.6 in /usr/local/lib/python3.6/dist-packages (from tensorflow-gpu) (0.1.7)\n",
            "Requirement already satisfied: tensorboard<2.1.0,>=2.0.0 in /usr/local/lib/python3.6/dist-packages (from tensorflow-gpu) (2.0.1)\n",
            "Requirement already satisfied: tensorflow-estimator<2.1.0,>=2.0.0 in /usr/local/lib/python3.6/dist-packages (from tensorflow-gpu) (2.0.1)\n",
            "Requirement already satisfied: astor>=0.6.0 in /usr/local/lib/python3.6/dist-packages (from tensorflow-gpu) (0.8.0)\n",
            "Requirement already satisfied: keras-preprocessing>=1.0.5 in /usr/local/lib/python3.6/dist-packages (from tensorflow-gpu) (1.1.0)\n",
            "Requirement already satisfied: h5py in /usr/local/lib/python3.6/dist-packages (from keras-applications>=1.0.8->tensorflow-gpu) (2.8.0)\n",
            "Requirement already satisfied: setuptools in /usr/local/lib/python3.6/dist-packages (from protobuf>=3.6.1->tensorflow-gpu) (41.4.0)\n",
            "Requirement already satisfied: google-auth<2,>=1.6.3 in /usr/local/lib/python3.6/dist-packages (from tensorboard<2.1.0,>=2.0.0->tensorflow-gpu) (1.6.3)\n",
            "Requirement already satisfied: google-auth-oauthlib<0.5,>=0.4.1 in /usr/local/lib/python3.6/dist-packages (from tensorboard<2.1.0,>=2.0.0->tensorflow-gpu) (0.4.1)\n",
            "Requirement already satisfied: markdown>=2.6.8 in /usr/local/lib/python3.6/dist-packages (from tensorboard<2.1.0,>=2.0.0->tensorflow-gpu) (3.1.1)\n",
            "Requirement already satisfied: werkzeug>=0.11.15 in /usr/local/lib/python3.6/dist-packages (from tensorboard<2.1.0,>=2.0.0->tensorflow-gpu) (0.16.0)\n",
            "Requirement already satisfied: pyasn1-modules>=0.2.1 in /usr/local/lib/python3.6/dist-packages (from google-auth<2,>=1.6.3->tensorboard<2.1.0,>=2.0.0->tensorflow-gpu) (0.2.7)\n",
            "Requirement already satisfied: cachetools>=2.0.0 in /usr/local/lib/python3.6/dist-packages (from google-auth<2,>=1.6.3->tensorboard<2.1.0,>=2.0.0->tensorflow-gpu) (3.1.1)\n",
            "Requirement already satisfied: rsa>=3.1.4 in /usr/local/lib/python3.6/dist-packages (from google-auth<2,>=1.6.3->tensorboard<2.1.0,>=2.0.0->tensorflow-gpu) (4.0)\n",
            "Requirement already satisfied: requests-oauthlib>=0.7.0 in /usr/local/lib/python3.6/dist-packages (from google-auth-oauthlib<0.5,>=0.4.1->tensorboard<2.1.0,>=2.0.0->tensorflow-gpu) (1.2.0)\n",
            "Requirement already satisfied: pyasn1<0.5.0,>=0.4.6 in /usr/local/lib/python3.6/dist-packages (from pyasn1-modules>=0.2.1->google-auth<2,>=1.6.3->tensorboard<2.1.0,>=2.0.0->tensorflow-gpu) (0.4.7)\n",
            "Requirement already satisfied: oauthlib>=3.0.0 in /usr/local/lib/python3.6/dist-packages (from requests-oauthlib>=0.7.0->google-auth-oauthlib<0.5,>=0.4.1->tensorboard<2.1.0,>=2.0.0->tensorflow-gpu) (3.1.0)\n",
            "Requirement already satisfied: requests>=2.0.0 in /usr/local/lib/python3.6/dist-packages (from requests-oauthlib>=0.7.0->google-auth-oauthlib<0.5,>=0.4.1->tensorboard<2.1.0,>=2.0.0->tensorflow-gpu) (2.21.0)\n",
            "Requirement already satisfied: chardet<3.1.0,>=3.0.2 in /usr/local/lib/python3.6/dist-packages (from requests>=2.0.0->requests-oauthlib>=0.7.0->google-auth-oauthlib<0.5,>=0.4.1->tensorboard<2.1.0,>=2.0.0->tensorflow-gpu) (3.0.4)\n",
            "Requirement already satisfied: idna<2.9,>=2.5 in /usr/local/lib/python3.6/dist-packages (from requests>=2.0.0->requests-oauthlib>=0.7.0->google-auth-oauthlib<0.5,>=0.4.1->tensorboard<2.1.0,>=2.0.0->tensorflow-gpu) (2.8)\n",
            "Requirement already satisfied: urllib3<1.25,>=1.21.1 in /usr/local/lib/python3.6/dist-packages (from requests>=2.0.0->requests-oauthlib>=0.7.0->google-auth-oauthlib<0.5,>=0.4.1->tensorboard<2.1.0,>=2.0.0->tensorflow-gpu) (1.24.3)\n",
            "Requirement already satisfied: certifi>=2017.4.17 in /usr/local/lib/python3.6/dist-packages (from requests>=2.0.0->requests-oauthlib>=0.7.0->google-auth-oauthlib<0.5,>=0.4.1->tensorboard<2.1.0,>=2.0.0->tensorflow-gpu) (2019.9.11)\n",
            "Installing collected packages: tensorflow-gpu\n",
            "Successfully installed tensorflow-gpu-2.0.0\n"
          ],
          "name": "stdout"
        },
        {
          "output_type": "display_data",
          "data": {
            "application/vnd.colab-display-data+json": {
              "pip_warning": {
                "packages": [
                  "tensorflow",
                  "tensorflow_core"
                ]
              }
            }
          },
          "metadata": {
            "tags": []
          }
        }
      ]
    },
    {
      "cell_type": "code",
      "metadata": {
        "id": "UIjN7osHOiL0",
        "colab_type": "code",
        "colab": {}
      },
      "source": [
        "import tensorflow as tf\n",
        "tf.enable_eager_execution\n",
        "tf.__version__\n"
      ],
      "execution_count": 0,
      "outputs": []
    },
    {
      "cell_type": "code",
      "metadata": {
        "colab_type": "code",
        "id": "Mjtb-EMcm5K0",
        "colab": {}
      },
      "source": [
        "#Enable Eager Execution if using tensflow version < 2.0\n",
        "#From tensorflow v2.0 onwards, Eager Execution will be enabled by default\n"
      ],
      "execution_count": 0,
      "outputs": []
    },
    {
      "cell_type": "markdown",
      "metadata": {
        "colab_type": "text",
        "id": "DxJDmJqqOB6K"
      },
      "source": [
        "### Collect Data"
      ]
    },
    {
      "cell_type": "code",
      "metadata": {
        "colab_type": "code",
        "id": "FhllFLyKOB6N",
        "outputId": "84b8168a-ff14-4c48-94c2-c5cae86c4e5e",
        "colab": {
          "base_uri": "https://localhost:8080/",
          "height": 34
        }
      },
      "source": [
        "from google.colab import drive\n",
        "drive.mount('/gdrive')"
      ],
      "execution_count": 164,
      "outputs": [
        {
          "output_type": "stream",
          "text": [
            "Drive already mounted at /gdrive; to attempt to forcibly remount, call drive.mount(\"/gdrive\", force_remount=True).\n"
          ],
          "name": "stdout"
        }
      ]
    },
    {
      "cell_type": "code",
      "metadata": {
        "colab_type": "code",
        "id": "KiObW4V4SIOz",
        "colab": {}
      },
      "source": [
        "import pandas as pd\n",
        "import numpy as np"
      ],
      "execution_count": 0,
      "outputs": []
    },
    {
      "cell_type": "code",
      "metadata": {
        "colab_type": "code",
        "id": "B4yQKMiJOB6R",
        "colab": {}
      },
      "source": [
        "data = pd.read_csv('/gdrive/My Drive/Documents/R6InternalLab/prices.csv')"
      ],
      "execution_count": 0,
      "outputs": []
    },
    {
      "cell_type": "markdown",
      "metadata": {
        "colab_type": "text",
        "id": "fgkX6SEqOB6W"
      },
      "source": [
        "### Check all columns in the dataset"
      ]
    },
    {
      "cell_type": "code",
      "metadata": {
        "colab_type": "code",
        "id": "7K8pWsNQOB6X",
        "outputId": "9d19066d-41ed-4dc2-dc88-2559b5790830",
        "colab": {
          "base_uri": "https://localhost:8080/",
          "height": 195
        }
      },
      "source": [
        "data.head()"
      ],
      "execution_count": 181,
      "outputs": [
        {
          "output_type": "execute_result",
          "data": {
            "text/html": [
              "<div>\n",
              "<style scoped>\n",
              "    .dataframe tbody tr th:only-of-type {\n",
              "        vertical-align: middle;\n",
              "    }\n",
              "\n",
              "    .dataframe tbody tr th {\n",
              "        vertical-align: top;\n",
              "    }\n",
              "\n",
              "    .dataframe thead th {\n",
              "        text-align: right;\n",
              "    }\n",
              "</style>\n",
              "<table border=\"1\" class=\"dataframe\">\n",
              "  <thead>\n",
              "    <tr style=\"text-align: right;\">\n",
              "      <th></th>\n",
              "      <th>date</th>\n",
              "      <th>symbol</th>\n",
              "      <th>open</th>\n",
              "      <th>close</th>\n",
              "      <th>low</th>\n",
              "      <th>high</th>\n",
              "      <th>volume</th>\n",
              "    </tr>\n",
              "  </thead>\n",
              "  <tbody>\n",
              "    <tr>\n",
              "      <th>0</th>\n",
              "      <td>2016-01-05 00:00:00</td>\n",
              "      <td>WLTW</td>\n",
              "      <td>123.430000</td>\n",
              "      <td>125.839996</td>\n",
              "      <td>122.309998</td>\n",
              "      <td>126.250000</td>\n",
              "      <td>2163600.0</td>\n",
              "    </tr>\n",
              "    <tr>\n",
              "      <th>1</th>\n",
              "      <td>2016-01-06 00:00:00</td>\n",
              "      <td>WLTW</td>\n",
              "      <td>125.239998</td>\n",
              "      <td>119.980003</td>\n",
              "      <td>119.940002</td>\n",
              "      <td>125.540001</td>\n",
              "      <td>2386400.0</td>\n",
              "    </tr>\n",
              "    <tr>\n",
              "      <th>2</th>\n",
              "      <td>2016-01-07 00:00:00</td>\n",
              "      <td>WLTW</td>\n",
              "      <td>116.379997</td>\n",
              "      <td>114.949997</td>\n",
              "      <td>114.930000</td>\n",
              "      <td>119.739998</td>\n",
              "      <td>2489500.0</td>\n",
              "    </tr>\n",
              "    <tr>\n",
              "      <th>3</th>\n",
              "      <td>2016-01-08 00:00:00</td>\n",
              "      <td>WLTW</td>\n",
              "      <td>115.480003</td>\n",
              "      <td>116.620003</td>\n",
              "      <td>113.500000</td>\n",
              "      <td>117.440002</td>\n",
              "      <td>2006300.0</td>\n",
              "    </tr>\n",
              "    <tr>\n",
              "      <th>4</th>\n",
              "      <td>2016-01-11 00:00:00</td>\n",
              "      <td>WLTW</td>\n",
              "      <td>117.010002</td>\n",
              "      <td>114.970001</td>\n",
              "      <td>114.089996</td>\n",
              "      <td>117.330002</td>\n",
              "      <td>1408600.0</td>\n",
              "    </tr>\n",
              "  </tbody>\n",
              "</table>\n",
              "</div>"
            ],
            "text/plain": [
              "                  date symbol        open  ...         low        high     volume\n",
              "0  2016-01-05 00:00:00   WLTW  123.430000  ...  122.309998  126.250000  2163600.0\n",
              "1  2016-01-06 00:00:00   WLTW  125.239998  ...  119.940002  125.540001  2386400.0\n",
              "2  2016-01-07 00:00:00   WLTW  116.379997  ...  114.930000  119.739998  2489500.0\n",
              "3  2016-01-08 00:00:00   WLTW  115.480003  ...  113.500000  117.440002  2006300.0\n",
              "4  2016-01-11 00:00:00   WLTW  117.010002  ...  114.089996  117.330002  1408600.0\n",
              "\n",
              "[5 rows x 7 columns]"
            ]
          },
          "metadata": {
            "tags": []
          },
          "execution_count": 181
        }
      ]
    },
    {
      "cell_type": "markdown",
      "metadata": {
        "colab_type": "text",
        "id": "7dU6X7MpOB6c"
      },
      "source": [
        "### Drop columns `date` and  `symbol`"
      ]
    },
    {
      "cell_type": "code",
      "metadata": {
        "colab_type": "code",
        "id": "lh_6spSKOB6e",
        "colab": {}
      },
      "source": [
        "data.drop(\"date\", inplace = True, axis = 1)\n",
        "data.drop(\"symbol\", inplace = True, axis = 1)"
      ],
      "execution_count": 0,
      "outputs": []
    },
    {
      "cell_type": "code",
      "metadata": {
        "colab_type": "code",
        "id": "xlwbUgTwOB6i",
        "outputId": "5f3aa820-cb5f-430e-f42d-e6e590f8b5e8",
        "colab": {
          "base_uri": "https://localhost:8080/",
          "height": 195
        }
      },
      "source": [
        "data.head()"
      ],
      "execution_count": 183,
      "outputs": [
        {
          "output_type": "execute_result",
          "data": {
            "text/html": [
              "<div>\n",
              "<style scoped>\n",
              "    .dataframe tbody tr th:only-of-type {\n",
              "        vertical-align: middle;\n",
              "    }\n",
              "\n",
              "    .dataframe tbody tr th {\n",
              "        vertical-align: top;\n",
              "    }\n",
              "\n",
              "    .dataframe thead th {\n",
              "        text-align: right;\n",
              "    }\n",
              "</style>\n",
              "<table border=\"1\" class=\"dataframe\">\n",
              "  <thead>\n",
              "    <tr style=\"text-align: right;\">\n",
              "      <th></th>\n",
              "      <th>open</th>\n",
              "      <th>close</th>\n",
              "      <th>low</th>\n",
              "      <th>high</th>\n",
              "      <th>volume</th>\n",
              "    </tr>\n",
              "  </thead>\n",
              "  <tbody>\n",
              "    <tr>\n",
              "      <th>0</th>\n",
              "      <td>123.430000</td>\n",
              "      <td>125.839996</td>\n",
              "      <td>122.309998</td>\n",
              "      <td>126.250000</td>\n",
              "      <td>2163600.0</td>\n",
              "    </tr>\n",
              "    <tr>\n",
              "      <th>1</th>\n",
              "      <td>125.239998</td>\n",
              "      <td>119.980003</td>\n",
              "      <td>119.940002</td>\n",
              "      <td>125.540001</td>\n",
              "      <td>2386400.0</td>\n",
              "    </tr>\n",
              "    <tr>\n",
              "      <th>2</th>\n",
              "      <td>116.379997</td>\n",
              "      <td>114.949997</td>\n",
              "      <td>114.930000</td>\n",
              "      <td>119.739998</td>\n",
              "      <td>2489500.0</td>\n",
              "    </tr>\n",
              "    <tr>\n",
              "      <th>3</th>\n",
              "      <td>115.480003</td>\n",
              "      <td>116.620003</td>\n",
              "      <td>113.500000</td>\n",
              "      <td>117.440002</td>\n",
              "      <td>2006300.0</td>\n",
              "    </tr>\n",
              "    <tr>\n",
              "      <th>4</th>\n",
              "      <td>117.010002</td>\n",
              "      <td>114.970001</td>\n",
              "      <td>114.089996</td>\n",
              "      <td>117.330002</td>\n",
              "      <td>1408600.0</td>\n",
              "    </tr>\n",
              "  </tbody>\n",
              "</table>\n",
              "</div>"
            ],
            "text/plain": [
              "         open       close         low        high     volume\n",
              "0  123.430000  125.839996  122.309998  126.250000  2163600.0\n",
              "1  125.239998  119.980003  119.940002  125.540001  2386400.0\n",
              "2  116.379997  114.949997  114.930000  119.739998  2489500.0\n",
              "3  115.480003  116.620003  113.500000  117.440002  2006300.0\n",
              "4  117.010002  114.970001  114.089996  117.330002  1408600.0"
            ]
          },
          "metadata": {
            "tags": []
          },
          "execution_count": 183
        }
      ]
    },
    {
      "cell_type": "markdown",
      "metadata": {
        "colab_type": "text",
        "id": "3DBv3WWYOB6q"
      },
      "source": [
        "### Consider only first 1000 rows in the dataset for building feature set and target set\n",
        "Target 'Volume' has very high values. Divide 'Volume' by 1000,000"
      ]
    },
    {
      "cell_type": "code",
      "metadata": {
        "colab_type": "code",
        "id": "Z_hG9rGBOB6s",
        "colab": {}
      },
      "source": [
        "#import copy\n",
        "prices_df = data.head(1000)"
      ],
      "execution_count": 0,
      "outputs": []
    },
    {
      "cell_type": "code",
      "metadata": {
        "id": "JKg89hYQh-jh",
        "colab_type": "code",
        "outputId": "2114c3bb-e76e-4d98-859c-508290f50367",
        "colab": {
          "base_uri": "https://localhost:8080/",
          "height": 34
        }
      },
      "source": [
        "prices_df.shape"
      ],
      "execution_count": 185,
      "outputs": [
        {
          "output_type": "execute_result",
          "data": {
            "text/plain": [
              "(1000, 5)"
            ]
          },
          "metadata": {
            "tags": []
          },
          "execution_count": 185
        }
      ]
    },
    {
      "cell_type": "code",
      "metadata": {
        "id": "f4SOKd71lMJq",
        "colab_type": "code",
        "outputId": "f0a2e389-d665-4795-903f-46b7890ece1b",
        "colab": {
          "base_uri": "https://localhost:8080/",
          "height": 138
        }
      },
      "source": [
        "prices_df[\"volume\"] = prices_df[\"volume\"]/1000000"
      ],
      "execution_count": 186,
      "outputs": [
        {
          "output_type": "stream",
          "text": [
            "/usr/local/lib/python3.6/dist-packages/ipykernel_launcher.py:1: SettingWithCopyWarning: \n",
            "A value is trying to be set on a copy of a slice from a DataFrame.\n",
            "Try using .loc[row_indexer,col_indexer] = value instead\n",
            "\n",
            "See the caveats in the documentation: http://pandas.pydata.org/pandas-docs/stable/user_guide/indexing.html#returning-a-view-versus-a-copy\n",
            "  \"\"\"Entry point for launching an IPython kernel.\n"
          ],
          "name": "stderr"
        }
      ]
    },
    {
      "cell_type": "code",
      "metadata": {
        "id": "A221fQhEl25L",
        "colab_type": "code",
        "outputId": "5f28dbf9-ec12-4a2b-82f5-c2397cb8708e",
        "colab": {
          "base_uri": "https://localhost:8080/",
          "height": 195
        }
      },
      "source": [
        "prices_df.head()"
      ],
      "execution_count": 187,
      "outputs": [
        {
          "output_type": "execute_result",
          "data": {
            "text/html": [
              "<div>\n",
              "<style scoped>\n",
              "    .dataframe tbody tr th:only-of-type {\n",
              "        vertical-align: middle;\n",
              "    }\n",
              "\n",
              "    .dataframe tbody tr th {\n",
              "        vertical-align: top;\n",
              "    }\n",
              "\n",
              "    .dataframe thead th {\n",
              "        text-align: right;\n",
              "    }\n",
              "</style>\n",
              "<table border=\"1\" class=\"dataframe\">\n",
              "  <thead>\n",
              "    <tr style=\"text-align: right;\">\n",
              "      <th></th>\n",
              "      <th>open</th>\n",
              "      <th>close</th>\n",
              "      <th>low</th>\n",
              "      <th>high</th>\n",
              "      <th>volume</th>\n",
              "    </tr>\n",
              "  </thead>\n",
              "  <tbody>\n",
              "    <tr>\n",
              "      <th>0</th>\n",
              "      <td>123.430000</td>\n",
              "      <td>125.839996</td>\n",
              "      <td>122.309998</td>\n",
              "      <td>126.250000</td>\n",
              "      <td>2.1636</td>\n",
              "    </tr>\n",
              "    <tr>\n",
              "      <th>1</th>\n",
              "      <td>125.239998</td>\n",
              "      <td>119.980003</td>\n",
              "      <td>119.940002</td>\n",
              "      <td>125.540001</td>\n",
              "      <td>2.3864</td>\n",
              "    </tr>\n",
              "    <tr>\n",
              "      <th>2</th>\n",
              "      <td>116.379997</td>\n",
              "      <td>114.949997</td>\n",
              "      <td>114.930000</td>\n",
              "      <td>119.739998</td>\n",
              "      <td>2.4895</td>\n",
              "    </tr>\n",
              "    <tr>\n",
              "      <th>3</th>\n",
              "      <td>115.480003</td>\n",
              "      <td>116.620003</td>\n",
              "      <td>113.500000</td>\n",
              "      <td>117.440002</td>\n",
              "      <td>2.0063</td>\n",
              "    </tr>\n",
              "    <tr>\n",
              "      <th>4</th>\n",
              "      <td>117.010002</td>\n",
              "      <td>114.970001</td>\n",
              "      <td>114.089996</td>\n",
              "      <td>117.330002</td>\n",
              "      <td>1.4086</td>\n",
              "    </tr>\n",
              "  </tbody>\n",
              "</table>\n",
              "</div>"
            ],
            "text/plain": [
              "         open       close         low        high  volume\n",
              "0  123.430000  125.839996  122.309998  126.250000  2.1636\n",
              "1  125.239998  119.980003  119.940002  125.540001  2.3864\n",
              "2  116.379997  114.949997  114.930000  119.739998  2.4895\n",
              "3  115.480003  116.620003  113.500000  117.440002  2.0063\n",
              "4  117.010002  114.970001  114.089996  117.330002  1.4086"
            ]
          },
          "metadata": {
            "tags": []
          },
          "execution_count": 187
        }
      ]
    },
    {
      "cell_type": "markdown",
      "metadata": {
        "colab_type": "text",
        "id": "M3UaApqYOB6x"
      },
      "source": [
        "### Divide the data into train and test sets"
      ]
    },
    {
      "cell_type": "code",
      "metadata": {
        "colab_type": "code",
        "id": "4LE4U8lTdQJq",
        "colab": {}
      },
      "source": [
        "from sklearn.model_selection import train_test_split\n",
        "X = prices_df[prices_df.columns[0:-1]]\n",
        "y = prices_df[\"volume\"]\n",
        "\n",
        "\n",
        "\n",
        "X_train, X_test, y_train, y_test = train_test_split(X_std, y, test_size = 0.30)"
      ],
      "execution_count": 0,
      "outputs": []
    },
    {
      "cell_type": "code",
      "metadata": {
        "id": "h5_uU5_NFz6H",
        "colab_type": "code",
        "colab": {
          "base_uri": "https://localhost:8080/",
          "height": 34
        },
        "outputId": "cd7b4377-a3a3-48ed-8c62-81181e925991"
      },
      "source": [
        "X.shape"
      ],
      "execution_count": 189,
      "outputs": [
        {
          "output_type": "execute_result",
          "data": {
            "text/plain": [
              "(1000, 4)"
            ]
          },
          "metadata": {
            "tags": []
          },
          "execution_count": 189
        }
      ]
    },
    {
      "cell_type": "markdown",
      "metadata": {
        "colab_type": "text",
        "id": "oYK-aUuLbrz2"
      },
      "source": [
        "#### Convert Training and Test Data to numpy float32 arrays\n"
      ]
    },
    {
      "cell_type": "code",
      "metadata": {
        "colab_type": "code",
        "id": "Ao-S0tQGcncz",
        "colab": {}
      },
      "source": [
        "X_train = np.array(X_train).astype('float32')\n",
        "y_train = np.array(y_train).astype('float32')"
      ],
      "execution_count": 0,
      "outputs": []
    },
    {
      "cell_type": "code",
      "metadata": {
        "id": "tiV31n4LoSQi",
        "colab_type": "code",
        "colab": {}
      },
      "source": [
        "X_test = np.array(X_test).astype('float32')\n",
        "y_test = np.array(y_test).astype('float32')"
      ],
      "execution_count": 0,
      "outputs": []
    },
    {
      "cell_type": "markdown",
      "metadata": {
        "colab_type": "text",
        "id": "im1ZegbDdKgv"
      },
      "source": [
        "### Normalize the data\n",
        "You can use Normalizer from sklearn.preprocessing"
      ]
    },
    {
      "cell_type": "code",
      "metadata": {
        "colab_type": "code",
        "id": "2EkKAy7fOB6y",
        "colab": {}
      },
      "source": [
        "from sklearn.preprocessing import Normalizer\n",
        "nm = Normalizer()\n",
        "X_train =  nm.fit_transform(X_train)"
      ],
      "execution_count": 0,
      "outputs": []
    },
    {
      "cell_type": "code",
      "metadata": {
        "id": "Aau9dKaIo8Ji",
        "colab_type": "code",
        "colab": {}
      },
      "source": [
        "from sklearn.preprocessing import Normalizer\n",
        "X_test =  nm.transform(X_test)"
      ],
      "execution_count": 0,
      "outputs": []
    },
    {
      "cell_type": "markdown",
      "metadata": {
        "colab_type": "text",
        "id": "v6vE4eYCOB62"
      },
      "source": [
        "## Building the Model in tensorflow"
      ]
    },
    {
      "cell_type": "markdown",
      "metadata": {
        "colab_type": "text",
        "id": "297_qja4OB7A"
      },
      "source": [
        "1.Define Weights and Bias, use tf.zeros to initialize weights and Bias"
      ]
    },
    {
      "cell_type": "code",
      "metadata": {
        "colab_type": "code",
        "id": "L205qPeQOB7B",
        "outputId": "8b354e55-cde8-4b07-8389-e84854fee71f",
        "colab": {
          "base_uri": "https://localhost:8080/",
          "height": 34
        }
      },
      "source": [
        "X_train.shape"
      ],
      "execution_count": 194,
      "outputs": [
        {
          "output_type": "execute_result",
          "data": {
            "text/plain": [
              "(700, 4)"
            ]
          },
          "metadata": {
            "tags": []
          },
          "execution_count": 194
        }
      ]
    },
    {
      "cell_type": "code",
      "metadata": {
        "id": "lVmzrhRjqKgg",
        "colab_type": "code",
        "colab": {}
      },
      "source": [
        "w = tf.zeros(shape=(4,1))\n",
        "b = tf.zeros(shape=(1))"
      ],
      "execution_count": 0,
      "outputs": []
    },
    {
      "cell_type": "markdown",
      "metadata": {
        "colab_type": "text",
        "id": "HgtWA-UIOB7F"
      },
      "source": [
        "2.Define a function to calculate prediction"
      ]
    },
    {
      "cell_type": "code",
      "metadata": {
        "colab_type": "code",
        "id": "JveGlx25OB7H",
        "colab": {}
      },
      "source": [
        "def prediction(x, w, b):\n",
        "    \n",
        "    xw_matmul = tf.matmul(x, w)\n",
        "    y = tf.add(xw_matmul, b)\n",
        "    \n",
        "    return y"
      ],
      "execution_count": 0,
      "outputs": []
    },
    {
      "cell_type": "markdown",
      "metadata": {
        "colab_type": "text",
        "id": "TL1hIwf_OB7M"
      },
      "source": [
        "3.Loss (Cost) Function [Mean square error]"
      ]
    },
    {
      "cell_type": "code",
      "metadata": {
        "colab_type": "code",
        "id": "8VSWPiGXOB7P",
        "colab": {}
      },
      "source": [
        "def loss(y_actual, y_predicted):\n",
        "    \n",
        "    diff = y_actual - y_predicted\n",
        "    sqr = tf.square(diff)\n",
        "    avg = tf.reduce_mean(sqr)\n",
        "    \n",
        "    return avg"
      ],
      "execution_count": 0,
      "outputs": []
    },
    {
      "cell_type": "markdown",
      "metadata": {
        "colab_type": "text",
        "id": "jzG85FUlOB7U"
      },
      "source": [
        "4.Function to train the Model\n",
        "\n",
        "1.   Record all the mathematical steps to calculate Loss\n",
        "2.   Calculate Gradients of Loss w.r.t weights and bias\n",
        "3.   Update Weights and Bias based on gradients and learning rate to minimize loss"
      ]
    },
    {
      "cell_type": "code",
      "metadata": {
        "colab_type": "code",
        "id": "cj802w-3OB7X",
        "colab": {}
      },
      "source": [
        "def train(x, y_actual, w, b, learning_rate=0.01):\n",
        "    \n",
        "    #Record mathematical operations on 'tape' to calculate loss\n",
        "    with tf.GradientTape() as t:\n",
        "        \n",
        "        t.watch([w,b])\n",
        "        \n",
        "        current_prediction = prediction(x, w, b)\n",
        "        current_loss = loss(y_actual, current_prediction)\n",
        "    \n",
        "    #Calculate Gradients for Loss with respect to Weights and Bias\n",
        "    dw, db = t.gradient(current_loss,[w, b])\n",
        "    \n",
        "    #Update Weights and Bias\n",
        "    w = w - learning_rate*dw\n",
        "    b = b - learning_rate*db\n",
        "    \n",
        "    return w, b"
      ],
      "execution_count": 0,
      "outputs": []
    },
    {
      "cell_type": "markdown",
      "metadata": {
        "colab_type": "text",
        "id": "xSypb_u8OB7e"
      },
      "source": [
        "## Train the model for 100 epochs \n",
        "1. Observe the training loss at every iteration\n",
        "2. Observe Train loss at every 5th iteration"
      ]
    },
    {
      "cell_type": "code",
      "metadata": {
        "colab_type": "code",
        "id": "DVvgj7eQOB7f",
        "outputId": "8ecc1163-1701-4e0e-c858-aab21ea3d28d",
        "colab": {
          "base_uri": "https://localhost:8080/",
          "height": 1000
        }
      },
      "source": [
        "for i in range(100):\n",
        "    \n",
        "    w, b = train(X_train, y_train, w, b)\n",
        "    print('Current Loss on iteration', i, loss(y_train, prediction(X_train, w, b)))"
      ],
      "execution_count": 199,
      "outputs": [
        {
          "output_type": "stream",
          "text": [
            "Current Loss on iteration 0 Tensor(\"Mean_403:0\", shape=(), dtype=float32)\n",
            "Current Loss on iteration 1 Tensor(\"Mean_405:0\", shape=(), dtype=float32)\n",
            "Current Loss on iteration 2 Tensor(\"Mean_407:0\", shape=(), dtype=float32)\n",
            "Current Loss on iteration 3 Tensor(\"Mean_409:0\", shape=(), dtype=float32)\n",
            "Current Loss on iteration 4 Tensor(\"Mean_411:0\", shape=(), dtype=float32)\n",
            "Current Loss on iteration 5 Tensor(\"Mean_413:0\", shape=(), dtype=float32)\n",
            "Current Loss on iteration 6 Tensor(\"Mean_415:0\", shape=(), dtype=float32)\n",
            "Current Loss on iteration 7 Tensor(\"Mean_417:0\", shape=(), dtype=float32)\n",
            "Current Loss on iteration 8 Tensor(\"Mean_419:0\", shape=(), dtype=float32)\n",
            "Current Loss on iteration 9 Tensor(\"Mean_421:0\", shape=(), dtype=float32)\n",
            "Current Loss on iteration 10 Tensor(\"Mean_423:0\", shape=(), dtype=float32)\n",
            "Current Loss on iteration 11 Tensor(\"Mean_425:0\", shape=(), dtype=float32)\n",
            "Current Loss on iteration 12 Tensor(\"Mean_427:0\", shape=(), dtype=float32)\n",
            "Current Loss on iteration 13 Tensor(\"Mean_429:0\", shape=(), dtype=float32)\n",
            "Current Loss on iteration 14 Tensor(\"Mean_431:0\", shape=(), dtype=float32)\n",
            "Current Loss on iteration 15 Tensor(\"Mean_433:0\", shape=(), dtype=float32)\n",
            "Current Loss on iteration 16 Tensor(\"Mean_435:0\", shape=(), dtype=float32)\n",
            "Current Loss on iteration 17 Tensor(\"Mean_437:0\", shape=(), dtype=float32)\n",
            "Current Loss on iteration 18 Tensor(\"Mean_439:0\", shape=(), dtype=float32)\n",
            "Current Loss on iteration 19 Tensor(\"Mean_441:0\", shape=(), dtype=float32)\n",
            "Current Loss on iteration 20 Tensor(\"Mean_443:0\", shape=(), dtype=float32)\n",
            "Current Loss on iteration 21 Tensor(\"Mean_445:0\", shape=(), dtype=float32)\n",
            "Current Loss on iteration 22 Tensor(\"Mean_447:0\", shape=(), dtype=float32)\n",
            "Current Loss on iteration 23 Tensor(\"Mean_449:0\", shape=(), dtype=float32)\n",
            "Current Loss on iteration 24 Tensor(\"Mean_451:0\", shape=(), dtype=float32)\n",
            "Current Loss on iteration 25 Tensor(\"Mean_453:0\", shape=(), dtype=float32)\n",
            "Current Loss on iteration 26 Tensor(\"Mean_455:0\", shape=(), dtype=float32)\n",
            "Current Loss on iteration 27 Tensor(\"Mean_457:0\", shape=(), dtype=float32)\n",
            "Current Loss on iteration 28 Tensor(\"Mean_459:0\", shape=(), dtype=float32)\n",
            "Current Loss on iteration 29 Tensor(\"Mean_461:0\", shape=(), dtype=float32)\n",
            "Current Loss on iteration 30 Tensor(\"Mean_463:0\", shape=(), dtype=float32)\n",
            "Current Loss on iteration 31 Tensor(\"Mean_465:0\", shape=(), dtype=float32)\n",
            "Current Loss on iteration 32 Tensor(\"Mean_467:0\", shape=(), dtype=float32)\n",
            "Current Loss on iteration 33 Tensor(\"Mean_469:0\", shape=(), dtype=float32)\n",
            "Current Loss on iteration 34 Tensor(\"Mean_471:0\", shape=(), dtype=float32)\n",
            "Current Loss on iteration 35 Tensor(\"Mean_473:0\", shape=(), dtype=float32)\n",
            "Current Loss on iteration 36 Tensor(\"Mean_475:0\", shape=(), dtype=float32)\n",
            "Current Loss on iteration 37 Tensor(\"Mean_477:0\", shape=(), dtype=float32)\n",
            "Current Loss on iteration 38 Tensor(\"Mean_479:0\", shape=(), dtype=float32)\n",
            "Current Loss on iteration 39 Tensor(\"Mean_481:0\", shape=(), dtype=float32)\n",
            "Current Loss on iteration 40 Tensor(\"Mean_483:0\", shape=(), dtype=float32)\n",
            "Current Loss on iteration 41 Tensor(\"Mean_485:0\", shape=(), dtype=float32)\n",
            "Current Loss on iteration 42 Tensor(\"Mean_487:0\", shape=(), dtype=float32)\n",
            "Current Loss on iteration 43 Tensor(\"Mean_489:0\", shape=(), dtype=float32)\n",
            "Current Loss on iteration 44 Tensor(\"Mean_491:0\", shape=(), dtype=float32)\n",
            "Current Loss on iteration 45 Tensor(\"Mean_493:0\", shape=(), dtype=float32)\n",
            "Current Loss on iteration 46 Tensor(\"Mean_495:0\", shape=(), dtype=float32)\n",
            "Current Loss on iteration 47 Tensor(\"Mean_497:0\", shape=(), dtype=float32)\n",
            "Current Loss on iteration 48 Tensor(\"Mean_499:0\", shape=(), dtype=float32)\n",
            "Current Loss on iteration 49 Tensor(\"Mean_501:0\", shape=(), dtype=float32)\n",
            "Current Loss on iteration 50 Tensor(\"Mean_503:0\", shape=(), dtype=float32)\n",
            "Current Loss on iteration 51 Tensor(\"Mean_505:0\", shape=(), dtype=float32)\n",
            "Current Loss on iteration 52 Tensor(\"Mean_507:0\", shape=(), dtype=float32)\n",
            "Current Loss on iteration 53 Tensor(\"Mean_509:0\", shape=(), dtype=float32)\n",
            "Current Loss on iteration 54 Tensor(\"Mean_511:0\", shape=(), dtype=float32)\n",
            "Current Loss on iteration 55 Tensor(\"Mean_513:0\", shape=(), dtype=float32)\n",
            "Current Loss on iteration 56 Tensor(\"Mean_515:0\", shape=(), dtype=float32)\n",
            "Current Loss on iteration 57 Tensor(\"Mean_517:0\", shape=(), dtype=float32)\n",
            "Current Loss on iteration 58 Tensor(\"Mean_519:0\", shape=(), dtype=float32)\n",
            "Current Loss on iteration 59 Tensor(\"Mean_521:0\", shape=(), dtype=float32)\n",
            "Current Loss on iteration 60 Tensor(\"Mean_523:0\", shape=(), dtype=float32)\n",
            "Current Loss on iteration 61 Tensor(\"Mean_525:0\", shape=(), dtype=float32)\n",
            "Current Loss on iteration 62 Tensor(\"Mean_527:0\", shape=(), dtype=float32)\n",
            "Current Loss on iteration 63 Tensor(\"Mean_529:0\", shape=(), dtype=float32)\n",
            "Current Loss on iteration 64 Tensor(\"Mean_531:0\", shape=(), dtype=float32)\n",
            "Current Loss on iteration 65 Tensor(\"Mean_533:0\", shape=(), dtype=float32)\n",
            "Current Loss on iteration 66 Tensor(\"Mean_535:0\", shape=(), dtype=float32)\n",
            "Current Loss on iteration 67 Tensor(\"Mean_537:0\", shape=(), dtype=float32)\n",
            "Current Loss on iteration 68 Tensor(\"Mean_539:0\", shape=(), dtype=float32)\n",
            "Current Loss on iteration 69 Tensor(\"Mean_541:0\", shape=(), dtype=float32)\n",
            "Current Loss on iteration 70 Tensor(\"Mean_543:0\", shape=(), dtype=float32)\n",
            "Current Loss on iteration 71 Tensor(\"Mean_545:0\", shape=(), dtype=float32)\n",
            "Current Loss on iteration 72 Tensor(\"Mean_547:0\", shape=(), dtype=float32)\n",
            "Current Loss on iteration 73 Tensor(\"Mean_549:0\", shape=(), dtype=float32)\n",
            "Current Loss on iteration 74 Tensor(\"Mean_551:0\", shape=(), dtype=float32)\n",
            "Current Loss on iteration 75 Tensor(\"Mean_553:0\", shape=(), dtype=float32)\n",
            "Current Loss on iteration 76 Tensor(\"Mean_555:0\", shape=(), dtype=float32)\n",
            "Current Loss on iteration 77 Tensor(\"Mean_557:0\", shape=(), dtype=float32)\n",
            "Current Loss on iteration 78 Tensor(\"Mean_559:0\", shape=(), dtype=float32)\n",
            "Current Loss on iteration 79 Tensor(\"Mean_561:0\", shape=(), dtype=float32)\n",
            "Current Loss on iteration 80 Tensor(\"Mean_563:0\", shape=(), dtype=float32)\n",
            "Current Loss on iteration 81 Tensor(\"Mean_565:0\", shape=(), dtype=float32)\n",
            "Current Loss on iteration 82 Tensor(\"Mean_567:0\", shape=(), dtype=float32)\n",
            "Current Loss on iteration 83 Tensor(\"Mean_569:0\", shape=(), dtype=float32)\n",
            "Current Loss on iteration 84 Tensor(\"Mean_571:0\", shape=(), dtype=float32)\n",
            "Current Loss on iteration 85 Tensor(\"Mean_573:0\", shape=(), dtype=float32)\n",
            "Current Loss on iteration 86 Tensor(\"Mean_575:0\", shape=(), dtype=float32)\n",
            "Current Loss on iteration 87 Tensor(\"Mean_577:0\", shape=(), dtype=float32)\n",
            "Current Loss on iteration 88 Tensor(\"Mean_579:0\", shape=(), dtype=float32)\n",
            "Current Loss on iteration 89 Tensor(\"Mean_581:0\", shape=(), dtype=float32)\n",
            "Current Loss on iteration 90 Tensor(\"Mean_583:0\", shape=(), dtype=float32)\n",
            "Current Loss on iteration 91 Tensor(\"Mean_585:0\", shape=(), dtype=float32)\n",
            "Current Loss on iteration 92 Tensor(\"Mean_587:0\", shape=(), dtype=float32)\n",
            "Current Loss on iteration 93 Tensor(\"Mean_589:0\", shape=(), dtype=float32)\n",
            "Current Loss on iteration 94 Tensor(\"Mean_591:0\", shape=(), dtype=float32)\n",
            "Current Loss on iteration 95 Tensor(\"Mean_593:0\", shape=(), dtype=float32)\n",
            "Current Loss on iteration 96 Tensor(\"Mean_595:0\", shape=(), dtype=float32)\n",
            "Current Loss on iteration 97 Tensor(\"Mean_597:0\", shape=(), dtype=float32)\n",
            "Current Loss on iteration 98 Tensor(\"Mean_599:0\", shape=(), dtype=float32)\n",
            "Current Loss on iteration 99 Tensor(\"Mean_601:0\", shape=(), dtype=float32)\n"
          ],
          "name": "stdout"
        }
      ]
    },
    {
      "cell_type": "markdown",
      "metadata": {
        "colab_type": "text",
        "id": "DOL2ncA1OB7q"
      },
      "source": [
        "### Get the shapes and values of W and b"
      ]
    },
    {
      "cell_type": "code",
      "metadata": {
        "colab_type": "code",
        "id": "ZGvtyTeuOB7r",
        "outputId": "60656a6e-b03e-44ac-91f8-779d095d7911",
        "colab": {
          "base_uri": "https://localhost:8080/",
          "height": 50
        }
      },
      "source": [
        "print('Weights:\\n', w)\n"
      ],
      "execution_count": 200,
      "outputs": [
        {
          "output_type": "stream",
          "text": [
            "Weights:\n",
            " Tensor(\"sub_1205:0\", shape=(4, 1), dtype=float32)\n"
          ],
          "name": "stdout"
        }
      ]
    },
    {
      "cell_type": "code",
      "metadata": {
        "colab_type": "code",
        "id": "vhDtOv5UOB7x",
        "outputId": "30bcdd48-e841-40c3-ed85-e721e2c094ae",
        "colab": {
          "base_uri": "https://localhost:8080/",
          "height": 50
        }
      },
      "source": [
        "print('Bias:\\n',b)"
      ],
      "execution_count": 201,
      "outputs": [
        {
          "output_type": "stream",
          "text": [
            "Bias:\n",
            " Tensor(\"sub_1206:0\", shape=(1,), dtype=float32)\n"
          ],
          "name": "stdout"
        }
      ]
    },
    {
      "cell_type": "markdown",
      "metadata": {
        "colab_type": "text",
        "id": "ERq9GOKKciho"
      },
      "source": [
        "### Model Prediction on 1st Examples in Test Dataset"
      ]
    },
    {
      "cell_type": "code",
      "metadata": {
        "colab_type": "code",
        "id": "gKGvUWahcihp",
        "colab": {
          "base_uri": "https://localhost:8080/",
          "height": 50
        },
        "outputId": "9fa001b5-86da-426f-e60b-714f27dbd584"
      },
      "source": [
        "X_test[0:1]"
      ],
      "execution_count": 202,
      "outputs": [
        {
          "output_type": "execute_result",
          "data": {
            "text/plain": [
              "array([[-0.51530534, -0.4959871 , -0.4933617 , -0.49502668]],\n",
              "      dtype=float32)"
            ]
          },
          "metadata": {
            "tags": []
          },
          "execution_count": 202
        }
      ]
    },
    {
      "cell_type": "code",
      "metadata": {
        "id": "nHbFdwqHvfyZ",
        "colab_type": "code",
        "colab": {
          "base_uri": "https://localhost:8080/",
          "height": 34
        },
        "outputId": "d670eada-5369-4652-e96b-3e146aac337f"
      },
      "source": [
        "prediction(X_test[0:1], w, b)"
      ],
      "execution_count": 203,
      "outputs": [
        {
          "output_type": "execute_result",
          "data": {
            "text/plain": [
              "<tf.Tensor 'Add_607:0' shape=(1, 1) dtype=float32>"
            ]
          },
          "metadata": {
            "tags": []
          },
          "execution_count": 203
        }
      ]
    },
    {
      "cell_type": "markdown",
      "metadata": {
        "colab_type": "text",
        "id": "YJRBuqXhOB7_"
      },
      "source": [
        "## Classification using tf.Keras\n",
        "\n",
        "In this exercise, we will build a Deep Neural Network using tf.Keras. We will use Iris Dataset for this exercise."
      ]
    },
    {
      "cell_type": "markdown",
      "metadata": {
        "colab_type": "text",
        "id": "O0g6lorycihf"
      },
      "source": [
        "### Load the given Iris data using pandas (Iris.csv)"
      ]
    },
    {
      "cell_type": "code",
      "metadata": {
        "colab_type": "code",
        "id": "6xFvb5sRcihg",
        "colab": {}
      },
      "source": [
        "iris_df = pd.read_csv('/gdrive/My Drive/Documents/R6InternalLab/Iris.csv')"
      ],
      "execution_count": 0,
      "outputs": []
    },
    {
      "cell_type": "code",
      "metadata": {
        "id": "aFIld097zV2z",
        "colab_type": "code",
        "colab": {
          "base_uri": "https://localhost:8080/",
          "height": 34
        },
        "outputId": "1b12022f-e3c5-4aca-97e0-07e751070736"
      },
      "source": [
        "iris_df.shape"
      ],
      "execution_count": 239,
      "outputs": [
        {
          "output_type": "execute_result",
          "data": {
            "text/plain": [
              "(150, 6)"
            ]
          },
          "metadata": {
            "tags": []
          },
          "execution_count": 239
        }
      ]
    },
    {
      "cell_type": "code",
      "metadata": {
        "id": "re7-Zq5bzdJ_",
        "colab_type": "code",
        "colab": {
          "base_uri": "https://localhost:8080/",
          "height": 202
        },
        "outputId": "c19997c3-132f-40c5-ce51-96e582debbb4"
      },
      "source": [
        "iris_df.info()"
      ],
      "execution_count": 240,
      "outputs": [
        {
          "output_type": "stream",
          "text": [
            "<class 'pandas.core.frame.DataFrame'>\n",
            "RangeIndex: 150 entries, 0 to 149\n",
            "Data columns (total 6 columns):\n",
            "Id               150 non-null int64\n",
            "SepalLengthCm    150 non-null float64\n",
            "SepalWidthCm     150 non-null float64\n",
            "PetalLengthCm    150 non-null float64\n",
            "PetalWidthCm     150 non-null float64\n",
            "Species          150 non-null object\n",
            "dtypes: float64(4), int64(1), object(1)\n",
            "memory usage: 7.2+ KB\n"
          ],
          "name": "stdout"
        }
      ]
    },
    {
      "cell_type": "markdown",
      "metadata": {
        "colab_type": "text",
        "id": "SAB--Qdwcihm"
      },
      "source": [
        "### Target set has different categories. So, Label encode them. And convert into one-hot vectors using get_dummies in pandas."
      ]
    },
    {
      "cell_type": "code",
      "metadata": {
        "colab_type": "code",
        "id": "IJr5dYnocihm",
        "colab": {}
      },
      "source": [
        "# preprocessing to convert the  target object type columns to numeric.\n",
        "from sklearn.preprocessing import LabelEncoder\n",
        "from sklearn import preprocessing\n",
        "\n",
        "\n",
        "dummy = pd.get_dummies(iris_df['Species'], prefix_sep ='_')"
      ],
      "execution_count": 0,
      "outputs": []
    },
    {
      "cell_type": "code",
      "metadata": {
        "id": "JdvBeVHi5Oj4",
        "colab_type": "code",
        "colab": {}
      },
      "source": [
        "iris_df = pd.concat([iris_df,dummy], axis = 1)"
      ],
      "execution_count": 0,
      "outputs": []
    },
    {
      "cell_type": "code",
      "metadata": {
        "id": "z_WR312Y0SAw",
        "colab_type": "code",
        "colab": {
          "base_uri": "https://localhost:8080/",
          "height": 252
        },
        "outputId": "aeeb147e-8978-43f1-cca0-373d9d984578"
      },
      "source": [
        "iris_df.info()"
      ],
      "execution_count": 243,
      "outputs": [
        {
          "output_type": "stream",
          "text": [
            "<class 'pandas.core.frame.DataFrame'>\n",
            "RangeIndex: 150 entries, 0 to 149\n",
            "Data columns (total 9 columns):\n",
            "Id                 150 non-null int64\n",
            "SepalLengthCm      150 non-null float64\n",
            "SepalWidthCm       150 non-null float64\n",
            "PetalLengthCm      150 non-null float64\n",
            "PetalWidthCm       150 non-null float64\n",
            "Species            150 non-null object\n",
            "Iris-setosa        150 non-null uint8\n",
            "Iris-versicolor    150 non-null uint8\n",
            "Iris-virginica     150 non-null uint8\n",
            "dtypes: float64(4), int64(1), object(1), uint8(3)\n",
            "memory usage: 7.6+ KB\n"
          ],
          "name": "stdout"
        }
      ]
    },
    {
      "cell_type": "code",
      "metadata": {
        "id": "Dg3H-nL71HQa",
        "colab_type": "code",
        "colab": {}
      },
      "source": [
        "iris_df.drop(\"Species\", inplace = True, axis = 1)"
      ],
      "execution_count": 0,
      "outputs": []
    },
    {
      "cell_type": "code",
      "metadata": {
        "id": "kFxJYHGoC1ER",
        "colab_type": "code",
        "colab": {}
      },
      "source": [
        "iris_df.drop(\"Id\", inplace = True, axis = 1)"
      ],
      "execution_count": 0,
      "outputs": []
    },
    {
      "cell_type": "markdown",
      "metadata": {
        "colab_type": "text",
        "id": "D95nY5ILcihj"
      },
      "source": [
        "### Splitting the data into feature set and target set"
      ]
    },
    {
      "cell_type": "code",
      "metadata": {
        "colab_type": "code",
        "id": "RyMQoLMucihj",
        "colab": {}
      },
      "source": [
        "X_features = iris_df[iris_df.columns[0:4]]"
      ],
      "execution_count": 0,
      "outputs": []
    },
    {
      "cell_type": "code",
      "metadata": {
        "id": "Nu0OjYcMCs2-",
        "colab_type": "code",
        "colab": {
          "base_uri": "https://localhost:8080/",
          "height": 195
        },
        "outputId": "19ce62e8-942b-48c5-e930-0c2d5c7cdc9f"
      },
      "source": [
        "X_features.head()"
      ],
      "execution_count": 247,
      "outputs": [
        {
          "output_type": "execute_result",
          "data": {
            "text/html": [
              "<div>\n",
              "<style scoped>\n",
              "    .dataframe tbody tr th:only-of-type {\n",
              "        vertical-align: middle;\n",
              "    }\n",
              "\n",
              "    .dataframe tbody tr th {\n",
              "        vertical-align: top;\n",
              "    }\n",
              "\n",
              "    .dataframe thead th {\n",
              "        text-align: right;\n",
              "    }\n",
              "</style>\n",
              "<table border=\"1\" class=\"dataframe\">\n",
              "  <thead>\n",
              "    <tr style=\"text-align: right;\">\n",
              "      <th></th>\n",
              "      <th>SepalLengthCm</th>\n",
              "      <th>SepalWidthCm</th>\n",
              "      <th>PetalLengthCm</th>\n",
              "      <th>PetalWidthCm</th>\n",
              "    </tr>\n",
              "  </thead>\n",
              "  <tbody>\n",
              "    <tr>\n",
              "      <th>0</th>\n",
              "      <td>5.1</td>\n",
              "      <td>3.5</td>\n",
              "      <td>1.4</td>\n",
              "      <td>0.2</td>\n",
              "    </tr>\n",
              "    <tr>\n",
              "      <th>1</th>\n",
              "      <td>4.9</td>\n",
              "      <td>3.0</td>\n",
              "      <td>1.4</td>\n",
              "      <td>0.2</td>\n",
              "    </tr>\n",
              "    <tr>\n",
              "      <th>2</th>\n",
              "      <td>4.7</td>\n",
              "      <td>3.2</td>\n",
              "      <td>1.3</td>\n",
              "      <td>0.2</td>\n",
              "    </tr>\n",
              "    <tr>\n",
              "      <th>3</th>\n",
              "      <td>4.6</td>\n",
              "      <td>3.1</td>\n",
              "      <td>1.5</td>\n",
              "      <td>0.2</td>\n",
              "    </tr>\n",
              "    <tr>\n",
              "      <th>4</th>\n",
              "      <td>5.0</td>\n",
              "      <td>3.6</td>\n",
              "      <td>1.4</td>\n",
              "      <td>0.2</td>\n",
              "    </tr>\n",
              "  </tbody>\n",
              "</table>\n",
              "</div>"
            ],
            "text/plain": [
              "   SepalLengthCm  SepalWidthCm  PetalLengthCm  PetalWidthCm\n",
              "0            5.1           3.5            1.4           0.2\n",
              "1            4.9           3.0            1.4           0.2\n",
              "2            4.7           3.2            1.3           0.2\n",
              "3            4.6           3.1            1.5           0.2\n",
              "4            5.0           3.6            1.4           0.2"
            ]
          },
          "metadata": {
            "tags": []
          },
          "execution_count": 247
        }
      ]
    },
    {
      "cell_type": "code",
      "metadata": {
        "id": "jYuF0bVKC_8F",
        "colab_type": "code",
        "colab": {}
      },
      "source": [
        "Y_target = iris_df[iris_df.columns[4:7]]"
      ],
      "execution_count": 0,
      "outputs": []
    },
    {
      "cell_type": "code",
      "metadata": {
        "id": "y5FjVhWNDJly",
        "colab_type": "code",
        "colab": {
          "base_uri": "https://localhost:8080/",
          "height": 195
        },
        "outputId": "c9e95d6c-8e72-4ecb-a947-a01ab11453e2"
      },
      "source": [
        "Y_target.head()"
      ],
      "execution_count": 249,
      "outputs": [
        {
          "output_type": "execute_result",
          "data": {
            "text/html": [
              "<div>\n",
              "<style scoped>\n",
              "    .dataframe tbody tr th:only-of-type {\n",
              "        vertical-align: middle;\n",
              "    }\n",
              "\n",
              "    .dataframe tbody tr th {\n",
              "        vertical-align: top;\n",
              "    }\n",
              "\n",
              "    .dataframe thead th {\n",
              "        text-align: right;\n",
              "    }\n",
              "</style>\n",
              "<table border=\"1\" class=\"dataframe\">\n",
              "  <thead>\n",
              "    <tr style=\"text-align: right;\">\n",
              "      <th></th>\n",
              "      <th>Iris-setosa</th>\n",
              "      <th>Iris-versicolor</th>\n",
              "      <th>Iris-virginica</th>\n",
              "    </tr>\n",
              "  </thead>\n",
              "  <tbody>\n",
              "    <tr>\n",
              "      <th>0</th>\n",
              "      <td>1</td>\n",
              "      <td>0</td>\n",
              "      <td>0</td>\n",
              "    </tr>\n",
              "    <tr>\n",
              "      <th>1</th>\n",
              "      <td>1</td>\n",
              "      <td>0</td>\n",
              "      <td>0</td>\n",
              "    </tr>\n",
              "    <tr>\n",
              "      <th>2</th>\n",
              "      <td>1</td>\n",
              "      <td>0</td>\n",
              "      <td>0</td>\n",
              "    </tr>\n",
              "    <tr>\n",
              "      <th>3</th>\n",
              "      <td>1</td>\n",
              "      <td>0</td>\n",
              "      <td>0</td>\n",
              "    </tr>\n",
              "    <tr>\n",
              "      <th>4</th>\n",
              "      <td>1</td>\n",
              "      <td>0</td>\n",
              "      <td>0</td>\n",
              "    </tr>\n",
              "  </tbody>\n",
              "</table>\n",
              "</div>"
            ],
            "text/plain": [
              "   Iris-setosa  Iris-versicolor  Iris-virginica\n",
              "0            1                0               0\n",
              "1            1                0               0\n",
              "2            1                0               0\n",
              "3            1                0               0\n",
              "4            1                0               0"
            ]
          },
          "metadata": {
            "tags": []
          },
          "execution_count": 249
        }
      ]
    },
    {
      "cell_type": "code",
      "metadata": {
        "id": "LmmiFhSDDciI",
        "colab_type": "code",
        "colab": {}
      },
      "source": [
        "X_train_iris, X_test_iris, y_train_iris, y_test_iris = train_test_split(X_features, Y_target, test_size = 0.30)"
      ],
      "execution_count": 0,
      "outputs": []
    },
    {
      "cell_type": "markdown",
      "metadata": {
        "colab_type": "text",
        "id": "b22qpC5xcihr"
      },
      "source": [
        "###  Building Model in tf.keras\n",
        "\n",
        "Build a Linear Classifier model  <br>\n",
        "1.  Use Dense Layer  with input shape of 4 (according to the feature set) and number of outputs set to 3<br> \n",
        "2. Apply Softmax on Dense Layer outputs <br>\n",
        "3. Use SGD as Optimizer\n",
        "4. Use categorical_crossentropy as loss function "
      ]
    },
    {
      "cell_type": "code",
      "metadata": {
        "id": "fykaZu9SHMLR",
        "colab_type": "code",
        "colab": {
          "base_uri": "https://localhost:8080/",
          "height": 34
        },
        "outputId": "88d00de0-f167-470a-a1fa-630275021c8b"
      },
      "source": [
        "X_train_iris.shape"
      ],
      "execution_count": 251,
      "outputs": [
        {
          "output_type": "execute_result",
          "data": {
            "text/plain": [
              "(105, 4)"
            ]
          },
          "metadata": {
            "tags": []
          },
          "execution_count": 251
        }
      ]
    },
    {
      "cell_type": "code",
      "metadata": {
        "colab_type": "code",
        "id": "Hov_UFnUciht",
        "colab": {}
      },
      "source": [
        "#Initialize Sequential model\n",
        "model = tf.keras.models.Sequential()\n",
        "\n",
        "#Reshape data from 2D to 1D -> 1*4 to 784\n",
        "#model.add(tf.keras.layers.Reshape((4,),input_shape=(4,)))\n",
        "#model.add(tf.keras.layers.Reshape((784,),input_shape=(28,28,)))\n",
        "\n",
        "#Normalize the data\n",
        "#model.add(tf.keras.layers.BatchNormalization())\n",
        "\n",
        "#Add Dense Layer which provides 3 Outputs after applying softmax\n",
        "model.add(tf.keras.layers.Dense(3, input_shape=(4,), activation='softmax'))\n",
        "\n",
        "#Comile the model\n",
        "model.compile(optimizer='sgd', loss='categorical_crossentropy', \n",
        "              metrics=['accuracy'])"
      ],
      "execution_count": 0,
      "outputs": []
    },
    {
      "cell_type": "code",
      "metadata": {
        "id": "M1-yN_PgLiEI",
        "colab_type": "code",
        "colab": {
          "base_uri": "https://localhost:8080/",
          "height": 34
        },
        "outputId": "6a69ad31-fb50-47af-eee6-658851f6bac7"
      },
      "source": [
        "y_test_iris.shape"
      ],
      "execution_count": 258,
      "outputs": [
        {
          "output_type": "execute_result",
          "data": {
            "text/plain": [
              "(45, 3)"
            ]
          },
          "metadata": {
            "tags": []
          },
          "execution_count": 258
        }
      ]
    },
    {
      "cell_type": "markdown",
      "metadata": {
        "colab_type": "text",
        "id": "T5FdzqIKcihw"
      },
      "source": [
        "### Model Training "
      ]
    },
    {
      "cell_type": "code",
      "metadata": {
        "colab_type": "code",
        "id": "4qLEdHPscihx",
        "colab": {
          "base_uri": "https://localhost:8080/",
          "height": 1000
        },
        "outputId": "2281f87b-3c7d-461a-88af-3d9ab0b013a0"
      },
      "source": [
        "model.fit(X_train_iris, y_train_iris, \n",
        "          validation_data=(X_test_iris, y_test_iris), \n",
        "          epochs=100,\n",
        "          batch_size=32)"
      ],
      "execution_count": 259,
      "outputs": [
        {
          "output_type": "stream",
          "text": [
            "Train on 105 samples, validate on 45 samples\n",
            "Epoch 1/100\n",
            "105/105 [==============================] - 1s 11ms/sample - loss: 9.8701 - acc: 0.3429 - val_loss: 8.7820 - val_acc: 0.3111\n",
            "Epoch 2/100\n",
            "105/105 [==============================] - 0s 195us/sample - loss: 7.9075 - acc: 0.3429 - val_loss: 6.8173 - val_acc: 0.3111\n",
            "Epoch 3/100\n",
            "105/105 [==============================] - 0s 187us/sample - loss: 6.0109 - acc: 0.3429 - val_loss: 4.8457 - val_acc: 0.3111\n",
            "Epoch 4/100\n",
            "105/105 [==============================] - 0s 174us/sample - loss: 4.1884 - acc: 0.3429 - val_loss: 3.3189 - val_acc: 0.3111\n",
            "Epoch 5/100\n",
            "105/105 [==============================] - 0s 187us/sample - loss: 2.8537 - acc: 0.3143 - val_loss: 2.1751 - val_acc: 0.0000e+00\n",
            "Epoch 6/100\n",
            "105/105 [==============================] - 0s 174us/sample - loss: 2.0097 - acc: 0.0000e+00 - val_loss: 1.7751 - val_acc: 0.0000e+00\n",
            "Epoch 7/100\n",
            "105/105 [==============================] - 0s 194us/sample - loss: 1.7515 - acc: 0.0571 - val_loss: 1.5893 - val_acc: 0.2444\n",
            "Epoch 8/100\n",
            "105/105 [==============================] - 0s 177us/sample - loss: 1.6017 - acc: 0.2952 - val_loss: 1.5336 - val_acc: 0.1778\n",
            "Epoch 9/100\n",
            "105/105 [==============================] - 0s 166us/sample - loss: 1.5499 - acc: 0.2381 - val_loss: 1.4830 - val_acc: 0.3333\n",
            "Epoch 10/100\n",
            "105/105 [==============================] - 0s 172us/sample - loss: 1.5035 - acc: 0.2952 - val_loss: 1.4496 - val_acc: 0.3333\n",
            "Epoch 11/100\n",
            "105/105 [==============================] - 0s 234us/sample - loss: 1.4758 - acc: 0.3333 - val_loss: 1.4051 - val_acc: 0.3333\n",
            "Epoch 12/100\n",
            "105/105 [==============================] - 0s 180us/sample - loss: 1.4233 - acc: 0.3333 - val_loss: 1.3567 - val_acc: 0.3333\n",
            "Epoch 13/100\n",
            "105/105 [==============================] - 0s 198us/sample - loss: 1.3812 - acc: 0.3333 - val_loss: 1.3231 - val_acc: 0.3333\n",
            "Epoch 14/100\n",
            "105/105 [==============================] - 0s 196us/sample - loss: 1.3483 - acc: 0.3333 - val_loss: 1.2822 - val_acc: 0.3333\n",
            "Epoch 15/100\n",
            "105/105 [==============================] - 0s 161us/sample - loss: 1.3069 - acc: 0.3333 - val_loss: 1.2531 - val_acc: 0.3333\n",
            "Epoch 16/100\n",
            "105/105 [==============================] - 0s 163us/sample - loss: 1.2816 - acc: 0.3333 - val_loss: 1.2178 - val_acc: 0.3556\n",
            "Epoch 17/100\n",
            "105/105 [==============================] - 0s 241us/sample - loss: 1.2397 - acc: 0.3429 - val_loss: 1.1871 - val_acc: 0.3556\n",
            "Epoch 18/100\n",
            "105/105 [==============================] - 0s 190us/sample - loss: 1.1988 - acc: 0.3429 - val_loss: 1.1563 - val_acc: 0.3778\n",
            "Epoch 19/100\n",
            "105/105 [==============================] - 0s 178us/sample - loss: 1.1703 - acc: 0.3714 - val_loss: 1.1275 - val_acc: 0.3778\n",
            "Epoch 20/100\n",
            "105/105 [==============================] - 0s 197us/sample - loss: 1.1516 - acc: 0.3714 - val_loss: 1.0993 - val_acc: 0.3556\n",
            "Epoch 21/100\n",
            "105/105 [==============================] - 0s 178us/sample - loss: 1.1049 - acc: 0.3429 - val_loss: 1.0752 - val_acc: 0.3333\n",
            "Epoch 22/100\n",
            "105/105 [==============================] - 0s 195us/sample - loss: 1.0785 - acc: 0.3333 - val_loss: 1.0484 - val_acc: 0.3333\n",
            "Epoch 23/100\n",
            "105/105 [==============================] - 0s 205us/sample - loss: 1.0534 - acc: 0.3429 - val_loss: 1.0315 - val_acc: 0.3333\n",
            "Epoch 24/100\n",
            "105/105 [==============================] - 0s 191us/sample - loss: 1.0251 - acc: 0.3333 - val_loss: 1.0001 - val_acc: 0.3556\n",
            "Epoch 25/100\n",
            "105/105 [==============================] - 0s 185us/sample - loss: 0.9994 - acc: 0.3333 - val_loss: 0.9772 - val_acc: 0.3556\n",
            "Epoch 26/100\n",
            "105/105 [==============================] - 0s 179us/sample - loss: 0.9802 - acc: 0.4190 - val_loss: 0.9567 - val_acc: 0.3556\n",
            "Epoch 27/100\n",
            "105/105 [==============================] - 0s 175us/sample - loss: 0.9566 - acc: 0.3810 - val_loss: 0.9410 - val_acc: 0.3333\n",
            "Epoch 28/100\n",
            "105/105 [==============================] - 0s 195us/sample - loss: 0.9358 - acc: 0.3333 - val_loss: 0.9192 - val_acc: 0.3556\n",
            "Epoch 29/100\n",
            "105/105 [==============================] - 0s 190us/sample - loss: 0.9175 - acc: 0.3333 - val_loss: 0.8998 - val_acc: 0.3556\n",
            "Epoch 30/100\n",
            "105/105 [==============================] - 0s 184us/sample - loss: 0.8974 - acc: 0.4000 - val_loss: 0.8855 - val_acc: 0.4667\n",
            "Epoch 31/100\n",
            "105/105 [==============================] - 0s 192us/sample - loss: 0.8764 - acc: 0.3905 - val_loss: 0.8758 - val_acc: 0.6444\n",
            "Epoch 32/100\n",
            "105/105 [==============================] - 0s 210us/sample - loss: 0.8601 - acc: 0.6762 - val_loss: 0.8513 - val_acc: 0.7111\n",
            "Epoch 33/100\n",
            "105/105 [==============================] - 0s 196us/sample - loss: 0.8440 - acc: 0.8286 - val_loss: 0.8488 - val_acc: 0.6444\n",
            "Epoch 34/100\n",
            "105/105 [==============================] - 0s 183us/sample - loss: 0.8334 - acc: 0.6762 - val_loss: 0.8253 - val_acc: 0.6444\n",
            "Epoch 35/100\n",
            "105/105 [==============================] - 0s 153us/sample - loss: 0.8158 - acc: 0.6857 - val_loss: 0.8168 - val_acc: 0.6444\n",
            "Epoch 36/100\n",
            "105/105 [==============================] - 0s 185us/sample - loss: 0.7997 - acc: 0.6762 - val_loss: 0.7969 - val_acc: 0.7778\n",
            "Epoch 37/100\n",
            "105/105 [==============================] - 0s 171us/sample - loss: 0.7851 - acc: 0.8286 - val_loss: 0.7837 - val_acc: 0.8222\n",
            "Epoch 38/100\n",
            "105/105 [==============================] - 0s 178us/sample - loss: 0.7731 - acc: 0.8381 - val_loss: 0.7731 - val_acc: 0.9111\n",
            "Epoch 39/100\n",
            "105/105 [==============================] - 0s 192us/sample - loss: 0.7662 - acc: 0.8571 - val_loss: 0.7682 - val_acc: 0.9556\n",
            "Epoch 40/100\n",
            "105/105 [==============================] - 0s 201us/sample - loss: 0.7589 - acc: 0.9619 - val_loss: 0.7516 - val_acc: 0.7778\n",
            "Epoch 41/100\n",
            "105/105 [==============================] - 0s 192us/sample - loss: 0.7404 - acc: 0.8095 - val_loss: 0.7475 - val_acc: 0.6444\n",
            "Epoch 42/100\n",
            "105/105 [==============================] - 0s 243us/sample - loss: 0.7296 - acc: 0.6857 - val_loss: 0.7363 - val_acc: 0.6667\n",
            "Epoch 43/100\n",
            "105/105 [==============================] - 0s 162us/sample - loss: 0.7184 - acc: 0.6762 - val_loss: 0.7231 - val_acc: 0.7111\n",
            "Epoch 44/100\n",
            "105/105 [==============================] - 0s 179us/sample - loss: 0.7123 - acc: 0.7238 - val_loss: 0.7146 - val_acc: 0.9111\n",
            "Epoch 45/100\n",
            "105/105 [==============================] - 0s 177us/sample - loss: 0.7015 - acc: 0.9429 - val_loss: 0.7056 - val_acc: 0.7111\n",
            "Epoch 46/100\n",
            "105/105 [==============================] - 0s 228us/sample - loss: 0.6947 - acc: 0.7333 - val_loss: 0.6972 - val_acc: 0.7556\n",
            "Epoch 47/100\n",
            "105/105 [==============================] - 0s 191us/sample - loss: 0.6834 - acc: 0.7714 - val_loss: 0.6928 - val_acc: 0.9778\n",
            "Epoch 48/100\n",
            "105/105 [==============================] - 0s 200us/sample - loss: 0.6785 - acc: 0.9238 - val_loss: 0.6827 - val_acc: 0.7556\n",
            "Epoch 49/100\n",
            "105/105 [==============================] - 0s 196us/sample - loss: 0.6777 - acc: 0.7810 - val_loss: 0.6753 - val_acc: 0.8667\n",
            "Epoch 50/100\n",
            "105/105 [==============================] - 0s 194us/sample - loss: 0.6631 - acc: 0.8857 - val_loss: 0.6741 - val_acc: 0.6667\n",
            "Epoch 51/100\n",
            "105/105 [==============================] - 0s 299us/sample - loss: 0.6597 - acc: 0.7048 - val_loss: 0.6627 - val_acc: 0.9111\n",
            "Epoch 52/100\n",
            "105/105 [==============================] - 0s 193us/sample - loss: 0.6489 - acc: 0.8286 - val_loss: 0.6569 - val_acc: 0.9111\n",
            "Epoch 53/100\n",
            "105/105 [==============================] - 0s 157us/sample - loss: 0.6426 - acc: 0.8857 - val_loss: 0.6510 - val_acc: 0.7778\n",
            "Epoch 54/100\n",
            "105/105 [==============================] - 0s 162us/sample - loss: 0.6385 - acc: 0.7810 - val_loss: 0.6507 - val_acc: 0.6667\n",
            "Epoch 55/100\n",
            "105/105 [==============================] - 0s 232us/sample - loss: 0.6308 - acc: 0.7048 - val_loss: 0.6409 - val_acc: 0.7333\n",
            "Epoch 56/100\n",
            "105/105 [==============================] - 0s 212us/sample - loss: 0.6233 - acc: 0.7905 - val_loss: 0.6344 - val_acc: 0.8667\n",
            "Epoch 57/100\n",
            "105/105 [==============================] - 0s 156us/sample - loss: 0.6266 - acc: 0.7810 - val_loss: 0.6356 - val_acc: 0.9556\n",
            "Epoch 58/100\n",
            "105/105 [==============================] - 0s 165us/sample - loss: 0.6257 - acc: 0.9048 - val_loss: 0.6323 - val_acc: 0.9111\n",
            "Epoch 59/100\n",
            "105/105 [==============================] - 0s 168us/sample - loss: 0.6188 - acc: 0.9524 - val_loss: 0.6209 - val_acc: 0.9111\n",
            "Epoch 60/100\n",
            "105/105 [==============================] - 0s 171us/sample - loss: 0.6059 - acc: 0.8952 - val_loss: 0.6165 - val_acc: 0.9111\n",
            "Epoch 61/100\n",
            "105/105 [==============================] - 0s 169us/sample - loss: 0.5996 - acc: 0.9429 - val_loss: 0.6150 - val_acc: 0.7111\n",
            "Epoch 62/100\n",
            "105/105 [==============================] - 0s 173us/sample - loss: 0.5941 - acc: 0.7714 - val_loss: 0.6070 - val_acc: 0.9111\n",
            "Epoch 63/100\n",
            "105/105 [==============================] - 0s 163us/sample - loss: 0.5932 - acc: 0.8571 - val_loss: 0.6053 - val_acc: 0.7111\n",
            "Epoch 64/100\n",
            "105/105 [==============================] - 0s 165us/sample - loss: 0.5874 - acc: 0.7810 - val_loss: 0.6003 - val_acc: 0.9778\n",
            "Epoch 65/100\n",
            "105/105 [==============================] - 0s 160us/sample - loss: 0.5836 - acc: 0.9048 - val_loss: 0.5961 - val_acc: 0.9111\n",
            "Epoch 66/100\n",
            "105/105 [==============================] - 0s 159us/sample - loss: 0.5800 - acc: 0.8381 - val_loss: 0.5930 - val_acc: 0.8000\n",
            "Epoch 67/100\n",
            "105/105 [==============================] - 0s 168us/sample - loss: 0.5732 - acc: 0.8381 - val_loss: 0.5910 - val_acc: 0.7556\n",
            "Epoch 68/100\n",
            "105/105 [==============================] - 0s 184us/sample - loss: 0.5706 - acc: 0.8000 - val_loss: 0.5856 - val_acc: 0.8222\n",
            "Epoch 69/100\n",
            "105/105 [==============================] - 0s 185us/sample - loss: 0.5665 - acc: 0.8571 - val_loss: 0.5823 - val_acc: 0.8000\n",
            "Epoch 70/100\n",
            "105/105 [==============================] - 0s 173us/sample - loss: 0.5632 - acc: 0.8095 - val_loss: 0.5819 - val_acc: 0.9778\n",
            "Epoch 71/100\n",
            "105/105 [==============================] - 0s 180us/sample - loss: 0.5634 - acc: 0.9429 - val_loss: 0.5763 - val_acc: 0.9778\n",
            "Epoch 72/100\n",
            "105/105 [==============================] - 0s 163us/sample - loss: 0.5597 - acc: 0.9143 - val_loss: 0.5713 - val_acc: 0.8889\n",
            "Epoch 73/100\n",
            "105/105 [==============================] - 0s 166us/sample - loss: 0.5539 - acc: 0.8667 - val_loss: 0.5683 - val_acc: 0.8667\n",
            "Epoch 74/100\n",
            "105/105 [==============================] - 0s 158us/sample - loss: 0.5506 - acc: 0.8952 - val_loss: 0.5710 - val_acc: 0.6889\n",
            "Epoch 75/100\n",
            "105/105 [==============================] - 0s 158us/sample - loss: 0.5501 - acc: 0.7619 - val_loss: 0.5653 - val_acc: 0.7556\n",
            "Epoch 76/100\n",
            "105/105 [==============================] - 0s 157us/sample - loss: 0.5493 - acc: 0.8286 - val_loss: 0.5600 - val_acc: 0.9111\n",
            "Epoch 77/100\n",
            "105/105 [==============================] - 0s 148us/sample - loss: 0.5467 - acc: 0.8667 - val_loss: 0.5576 - val_acc: 0.9778\n",
            "Epoch 78/100\n",
            "105/105 [==============================] - 0s 180us/sample - loss: 0.5400 - acc: 0.9333 - val_loss: 0.5548 - val_acc: 0.8222\n",
            "Epoch 79/100\n",
            "105/105 [==============================] - 0s 171us/sample - loss: 0.5368 - acc: 0.9048 - val_loss: 0.5576 - val_acc: 0.7111\n",
            "Epoch 80/100\n",
            "105/105 [==============================] - 0s 181us/sample - loss: 0.5387 - acc: 0.7810 - val_loss: 0.5609 - val_acc: 0.6667\n",
            "Epoch 81/100\n",
            "105/105 [==============================] - 0s 176us/sample - loss: 0.5348 - acc: 0.7333 - val_loss: 0.5599 - val_acc: 0.6667\n",
            "Epoch 82/100\n",
            "105/105 [==============================] - 0s 194us/sample - loss: 0.5345 - acc: 0.7333 - val_loss: 0.5455 - val_acc: 0.8222\n",
            "Epoch 83/100\n",
            "105/105 [==============================] - 0s 177us/sample - loss: 0.5261 - acc: 0.8476 - val_loss: 0.5437 - val_acc: 0.8222\n",
            "Epoch 84/100\n",
            "105/105 [==============================] - 0s 236us/sample - loss: 0.5218 - acc: 0.8381 - val_loss: 0.5398 - val_acc: 0.9111\n",
            "Epoch 85/100\n",
            "105/105 [==============================] - 0s 169us/sample - loss: 0.5189 - acc: 0.9143 - val_loss: 0.5399 - val_acc: 0.8000\n",
            "Epoch 86/100\n",
            "105/105 [==============================] - 0s 170us/sample - loss: 0.5170 - acc: 0.8381 - val_loss: 0.5362 - val_acc: 0.9333\n",
            "Epoch 87/100\n",
            "105/105 [==============================] - 0s 178us/sample - loss: 0.5150 - acc: 0.9429 - val_loss: 0.5344 - val_acc: 0.9111\n",
            "Epoch 88/100\n",
            "105/105 [==============================] - 0s 176us/sample - loss: 0.5122 - acc: 0.8667 - val_loss: 0.5318 - val_acc: 0.9333\n",
            "Epoch 89/100\n",
            "105/105 [==============================] - 0s 165us/sample - loss: 0.5166 - acc: 0.9048 - val_loss: 0.5316 - val_acc: 0.9778\n",
            "Epoch 90/100\n",
            "105/105 [==============================] - 0s 155us/sample - loss: 0.5128 - acc: 0.9333 - val_loss: 0.5277 - val_acc: 0.9111\n",
            "Epoch 91/100\n",
            "105/105 [==============================] - 0s 158us/sample - loss: 0.5055 - acc: 0.9143 - val_loss: 0.5246 - val_acc: 0.9111\n",
            "Epoch 92/100\n",
            "105/105 [==============================] - 0s 171us/sample - loss: 0.5054 - acc: 0.8857 - val_loss: 0.5227 - val_acc: 0.9111\n",
            "Epoch 93/100\n",
            "105/105 [==============================] - 0s 188us/sample - loss: 0.5031 - acc: 0.9143 - val_loss: 0.5206 - val_acc: 0.9111\n",
            "Epoch 94/100\n",
            "105/105 [==============================] - 0s 159us/sample - loss: 0.4994 - acc: 0.9143 - val_loss: 0.5187 - val_acc: 0.9111\n",
            "Epoch 95/100\n",
            "105/105 [==============================] - 0s 223us/sample - loss: 0.4978 - acc: 0.9048 - val_loss: 0.5178 - val_acc: 0.8222\n",
            "Epoch 96/100\n",
            "105/105 [==============================] - 0s 196us/sample - loss: 0.4976 - acc: 0.8762 - val_loss: 0.5156 - val_acc: 0.8889\n",
            "Epoch 97/100\n",
            "105/105 [==============================] - 0s 163us/sample - loss: 0.4941 - acc: 0.9048 - val_loss: 0.5149 - val_acc: 0.8000\n",
            "Epoch 98/100\n",
            "105/105 [==============================] - 0s 162us/sample - loss: 0.4931 - acc: 0.8571 - val_loss: 0.5186 - val_acc: 0.7333\n",
            "Epoch 99/100\n",
            "105/105 [==============================] - 0s 155us/sample - loss: 0.4972 - acc: 0.8095 - val_loss: 0.5098 - val_acc: 0.9778\n",
            "Epoch 100/100\n",
            "105/105 [==============================] - 0s 150us/sample - loss: 0.4899 - acc: 0.9619 - val_loss: 0.5085 - val_acc: 0.9778\n"
          ],
          "name": "stdout"
        },
        {
          "output_type": "execute_result",
          "data": {
            "text/plain": [
              "<tensorflow.python.keras.callbacks.History at 0x7f11309e9f98>"
            ]
          },
          "metadata": {
            "tags": []
          },
          "execution_count": 259
        }
      ]
    },
    {
      "cell_type": "markdown",
      "metadata": {
        "colab_type": "text",
        "id": "y-SgSSdRcih5"
      },
      "source": [
        "### Model Prediction"
      ]
    },
    {
      "cell_type": "code",
      "metadata": {
        "colab_type": "code",
        "id": "GBgKZkhkcih6",
        "colab": {
          "base_uri": "https://localhost:8080/",
          "height": 185
        },
        "outputId": "b3526ca0-ddd8-4717-e5f0-f0e73dc7a416"
      },
      "source": [
        "model.summary()"
      ],
      "execution_count": 260,
      "outputs": [
        {
          "output_type": "stream",
          "text": [
            "Model: \"sequential_13\"\n",
            "_________________________________________________________________\n",
            "Layer (type)                 Output Shape              Param #   \n",
            "=================================================================\n",
            "dense_7 (Dense)              (None, 3)                 15        \n",
            "=================================================================\n",
            "Total params: 15\n",
            "Trainable params: 15\n",
            "Non-trainable params: 0\n",
            "_________________________________________________________________\n"
          ],
          "name": "stdout"
        }
      ]
    },
    {
      "cell_type": "code",
      "metadata": {
        "id": "c9KHOdx6MBjh",
        "colab_type": "code",
        "colab": {
          "base_uri": "https://localhost:8080/",
          "height": 773
        },
        "outputId": "d1f7179f-4c6a-4c45-e7fd-5aa8a3d413f8"
      },
      "source": [
        " model.predict(X_test_iris)\n"
      ],
      "execution_count": 271,
      "outputs": [
        {
          "output_type": "execute_result",
          "data": {
            "text/plain": [
              "array([[0.01841033, 0.4114952 , 0.57009447],\n",
              "       [0.11527586, 0.47758296, 0.40714118],\n",
              "       [0.8673047 , 0.1110481 , 0.02164722],\n",
              "       [0.10490694, 0.45451206, 0.440581  ],\n",
              "       [0.01797216, 0.3510977 , 0.6309301 ],\n",
              "       [0.12872168, 0.47474095, 0.39653733],\n",
              "       [0.74827325, 0.20289469, 0.04883197],\n",
              "       [0.01906055, 0.34831494, 0.63262457],\n",
              "       [0.85289216, 0.12794916, 0.01915866],\n",
              "       [0.77344227, 0.18865374, 0.03790398],\n",
              "       [0.8323937 , 0.13930704, 0.02829924],\n",
              "       [0.01748811, 0.42622918, 0.55628276],\n",
              "       [0.6733374 , 0.26165226, 0.06501035],\n",
              "       [0.12827438, 0.5039741 , 0.36775154],\n",
              "       [0.18272084, 0.48158723, 0.3356919 ],\n",
              "       [0.02673583, 0.38241208, 0.5908521 ],\n",
              "       [0.10865043, 0.4524046 , 0.43894494],\n",
              "       [0.08186446, 0.5047965 , 0.41333908],\n",
              "       [0.7751601 , 0.18283515, 0.04200479],\n",
              "       [0.02122071, 0.3557388 , 0.62304044],\n",
              "       [0.02057401, 0.31460142, 0.66482455],\n",
              "       [0.12324074, 0.5154525 , 0.3613068 ],\n",
              "       [0.80382943, 0.16434719, 0.03182342],\n",
              "       [0.12191717, 0.54381835, 0.33426446],\n",
              "       [0.09341729, 0.49096555, 0.4156171 ],\n",
              "       [0.05855909, 0.41264394, 0.528797  ],\n",
              "       [0.81979835, 0.1506844 , 0.02951728],\n",
              "       [0.08129229, 0.47197744, 0.44673026],\n",
              "       [0.05428179, 0.42385015, 0.5218681 ],\n",
              "       [0.1284661 , 0.48704395, 0.38448998],\n",
              "       [0.01984544, 0.335552  , 0.6446026 ],\n",
              "       [0.827145  , 0.14580676, 0.02704827],\n",
              "       [0.01987649, 0.4420361 , 0.5380874 ],\n",
              "       [0.0345206 , 0.42903993, 0.5364394 ],\n",
              "       [0.77344227, 0.18865374, 0.03790398],\n",
              "       [0.82977813, 0.14229292, 0.02792901],\n",
              "       [0.03372931, 0.44931695, 0.51695377],\n",
              "       [0.04281282, 0.42776236, 0.52942485],\n",
              "       [0.21342175, 0.5128025 , 0.27377576],\n",
              "       [0.08361311, 0.5381092 , 0.37827772],\n",
              "       [0.02935022, 0.4129105 , 0.5577393 ],\n",
              "       [0.13365965, 0.51023334, 0.35610694],\n",
              "       [0.02997811, 0.4505513 , 0.5194706 ],\n",
              "       [0.79828423, 0.16634153, 0.03537428],\n",
              "       [0.88769305, 0.09649355, 0.01581337]], dtype=float32)"
            ]
          },
          "metadata": {
            "tags": []
          },
          "execution_count": 271
        }
      ]
    },
    {
      "cell_type": "markdown",
      "metadata": {
        "colab_type": "text",
        "id": "P32ASP1Vjt0a"
      },
      "source": [
        "### Save the Model"
      ]
    },
    {
      "cell_type": "code",
      "metadata": {
        "colab_type": "code",
        "id": "n8rd0jjAjyTR",
        "colab": {}
      },
      "source": [
        "model.save('iris_lir.h5')"
      ],
      "execution_count": 0,
      "outputs": []
    },
    {
      "cell_type": "markdown",
      "metadata": {
        "colab_type": "text",
        "id": "XiipRpe7rbVh"
      },
      "source": [
        "### Build and Train a Deep Neural network with 2 hidden layer  - Optional - For Practice\n",
        "\n",
        "Does it perform better than Linear Classifier? What could be the reason for difference in performance?"
      ]
    },
    {
      "cell_type": "code",
      "metadata": {
        "colab_type": "code",
        "id": "v5Du3lubr4sA",
        "colab": {}
      },
      "source": [
        ""
      ],
      "execution_count": 0,
      "outputs": []
    }
  ]
}