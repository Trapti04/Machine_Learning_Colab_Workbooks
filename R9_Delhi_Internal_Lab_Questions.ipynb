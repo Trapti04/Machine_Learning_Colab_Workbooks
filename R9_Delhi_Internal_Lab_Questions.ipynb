{
  "nbformat": 4,
  "nbformat_minor": 0,
  "metadata": {
    "colab": {
      "name": "R9_Delhi_Internal_Lab_Questions.ipynb",
      "provenance": [],
      "collapsed_sections": [],
      "include_colab_link": true
    },
    "kernelspec": {
      "display_name": "Python 3",
      "language": "python",
      "name": "python3"
    },
    "language_info": {
      "codemirror_mode": {
        "name": "ipython",
        "version": 3
      },
      "file_extension": ".py",
      "mimetype": "text/x-python",
      "name": "python",
      "nbconvert_exporter": "python",
      "pygments_lexer": "ipython3",
      "version": "3.7.3"
    }
  },
  "cells": [
    {
      "cell_type": "markdown",
      "metadata": {
        "id": "view-in-github",
        "colab_type": "text"
      },
      "source": [
        "<a href=\"https://colab.research.google.com/github/GreatLearningAIML1/delhi-may19-batch-Trapti04/blob/master/R9_Delhi_Internal_Lab_Questions.ipynb\" target=\"_parent\"><img src=\"https://colab.research.google.com/assets/colab-badge.svg\" alt=\"Open In Colab\"/></a>"
      ]
    },
    {
      "cell_type": "markdown",
      "metadata": {
        "colab_type": "text",
        "id": "I-P5m4iA_xe7"
      },
      "source": [
        "# Bounding box detection - Racoon data\n",
        "\n",
        "\n",
        "## Data files\n",
        "- images_racoon.rar: contain images of racoons\n",
        "- train_labels.cv: contains coordinates for bounding box for every image"
      ]
    },
    {
      "cell_type": "code",
      "metadata": {
        "id": "lqoIZeZKK5PI",
        "colab_type": "code",
        "colab": {
          "base_uri": "https://localhost:8080/",
          "height": 122
        },
        "outputId": "2c7b1129-cbd3-4327-f100-5cea9ce36fb9"
      },
      "source": [
        "from google.colab import drive\n",
        "drive.mount('/content/drive')"
      ],
      "execution_count": 1,
      "outputs": [
        {
          "output_type": "stream",
          "text": [
            "Go to this URL in a browser: https://accounts.google.com/o/oauth2/auth?client_id=947318989803-6bn6qk8qdgf4n4g3pfee6491hc0brc4i.apps.googleusercontent.com&redirect_uri=urn%3aietf%3awg%3aoauth%3a2.0%3aoob&response_type=code&scope=email%20https%3a%2f%2fwww.googleapis.com%2fauth%2fdocs.test%20https%3a%2f%2fwww.googleapis.com%2fauth%2fdrive%20https%3a%2f%2fwww.googleapis.com%2fauth%2fdrive.photos.readonly%20https%3a%2f%2fwww.googleapis.com%2fauth%2fpeopleapi.readonly\n",
            "\n",
            "Enter your authorization code:\n",
            "··········\n",
            "Mounted at /content/drive\n"
          ],
          "name": "stdout"
        }
      ]
    },
    {
      "cell_type": "markdown",
      "metadata": {
        "colab_type": "text",
        "id": "d8M5gzwKWGiU"
      },
      "source": [
        "### Import the necessary libraries"
      ]
    },
    {
      "cell_type": "code",
      "metadata": {
        "colab_type": "code",
        "id": "VOMKpZJcWGiV",
        "colab": {}
      },
      "source": [
        "import os\n",
        "import pandas as pd\n",
        "import patoolib\n",
        "import csv\n",
        "import numpy as np\n",
        "from PIL import Image\n",
        "\n",
        "from keras import Model\n",
        "from keras.applications.mobilenet import MobileNet, preprocess_input\n",
        "from keras.callbacks import ModelCheckpoint, EarlyStopping, ReduceLROnPlateau, Callback\n",
        "from keras.layers import Conv2D, Reshape\n",
        "from keras.utils import Sequence\n",
        "from keras.backend import epsilon\n",
        "\n",
        "import tensorflow as tf"
      ],
      "execution_count": 0,
      "outputs": []
    },
    {
      "cell_type": "markdown",
      "metadata": {
        "colab_type": "text",
        "id": "Z_INIZOi_tUW"
      },
      "source": [
        "### Change directory"
      ]
    },
    {
      "cell_type": "code",
      "metadata": {
        "colab_type": "code",
        "id": "Sxgw3GT1AR9Y",
        "colab": {}
      },
      "source": [
        "\n",
        "os.chdir('/content/drive/My Drive/R9_Delhi_Internal_Dataset')"
      ],
      "execution_count": 0,
      "outputs": []
    },
    {
      "cell_type": "markdown",
      "metadata": {
        "colab_type": "text",
        "id": "lwxBtvYRWGii"
      },
      "source": [
        "### Load the training data from train.csv file"
      ]
    },
    {
      "cell_type": "code",
      "metadata": {
        "colab_type": "code",
        "id": "wiTjjKtpWGij",
        "colab": {
          "base_uri": "https://localhost:8080/",
          "height": 204
        },
        "outputId": "931d8339-65f2-4156-984d-11a0d0208845"
      },
      "source": [
        "DATASET_FOLDER = '/content/drive/My Drive/R9_Delhi_Internal_Dataset/'\n",
        "TRAIN_CSV = DATASET_FOLDER+\"train_labels.csv\"\n",
        "rar_location = DATASET_FOLDER + \"images_racoon.rar\"\n",
        "IMAGE_PATH = DATASET_FOLDER + \"images\"\n",
        "train_df = pd.read_csv(TRAIN_CSV)\n",
        "train_df.head(5)"
      ],
      "execution_count": 79,
      "outputs": [
        {
          "output_type": "execute_result",
          "data": {
            "text/html": [
              "<div>\n",
              "<style scoped>\n",
              "    .dataframe tbody tr th:only-of-type {\n",
              "        vertical-align: middle;\n",
              "    }\n",
              "\n",
              "    .dataframe tbody tr th {\n",
              "        vertical-align: top;\n",
              "    }\n",
              "\n",
              "    .dataframe thead th {\n",
              "        text-align: right;\n",
              "    }\n",
              "</style>\n",
              "<table border=\"1\" class=\"dataframe\">\n",
              "  <thead>\n",
              "    <tr style=\"text-align: right;\">\n",
              "      <th></th>\n",
              "      <th>filename</th>\n",
              "      <th>width</th>\n",
              "      <th>height</th>\n",
              "      <th>class</th>\n",
              "      <th>xmin</th>\n",
              "      <th>ymin</th>\n",
              "      <th>xmax</th>\n",
              "      <th>ymax</th>\n",
              "    </tr>\n",
              "  </thead>\n",
              "  <tbody>\n",
              "    <tr>\n",
              "      <th>0</th>\n",
              "      <td>raccoon-17.jpg</td>\n",
              "      <td>259</td>\n",
              "      <td>194</td>\n",
              "      <td>raccoon</td>\n",
              "      <td>95</td>\n",
              "      <td>60</td>\n",
              "      <td>167</td>\n",
              "      <td>118</td>\n",
              "    </tr>\n",
              "    <tr>\n",
              "      <th>1</th>\n",
              "      <td>raccoon-11.jpg</td>\n",
              "      <td>660</td>\n",
              "      <td>432</td>\n",
              "      <td>raccoon</td>\n",
              "      <td>3</td>\n",
              "      <td>1</td>\n",
              "      <td>461</td>\n",
              "      <td>431</td>\n",
              "    </tr>\n",
              "    <tr>\n",
              "      <th>2</th>\n",
              "      <td>raccoon-63.jpg</td>\n",
              "      <td>600</td>\n",
              "      <td>400</td>\n",
              "      <td>raccoon</td>\n",
              "      <td>74</td>\n",
              "      <td>107</td>\n",
              "      <td>280</td>\n",
              "      <td>290</td>\n",
              "    </tr>\n",
              "    <tr>\n",
              "      <th>3</th>\n",
              "      <td>raccoon-63.jpg</td>\n",
              "      <td>600</td>\n",
              "      <td>400</td>\n",
              "      <td>raccoon</td>\n",
              "      <td>227</td>\n",
              "      <td>93</td>\n",
              "      <td>403</td>\n",
              "      <td>298</td>\n",
              "    </tr>\n",
              "    <tr>\n",
              "      <th>4</th>\n",
              "      <td>raccoon-60.jpg</td>\n",
              "      <td>273</td>\n",
              "      <td>185</td>\n",
              "      <td>raccoon</td>\n",
              "      <td>58</td>\n",
              "      <td>33</td>\n",
              "      <td>197</td>\n",
              "      <td>127</td>\n",
              "    </tr>\n",
              "  </tbody>\n",
              "</table>\n",
              "</div>"
            ],
            "text/plain": [
              "         filename  width  height    class  xmin  ymin  xmax  ymax\n",
              "0  raccoon-17.jpg    259     194  raccoon    95    60   167   118\n",
              "1  raccoon-11.jpg    660     432  raccoon     3     1   461   431\n",
              "2  raccoon-63.jpg    600     400  raccoon    74   107   280   290\n",
              "3  raccoon-63.jpg    600     400  raccoon   227    93   403   298\n",
              "4  raccoon-60.jpg    273     185  raccoon    58    33   197   127"
            ]
          },
          "metadata": {
            "tags": []
          },
          "execution_count": 79
        }
      ]
    },
    {
      "cell_type": "markdown",
      "metadata": {
        "colab_type": "text",
        "id": "-F3CkYxUWGin"
      },
      "source": [
        "### Print the shape of the train dataset"
      ]
    },
    {
      "cell_type": "code",
      "metadata": {
        "colab_type": "code",
        "id": "uRz_MtnvWGip",
        "colab": {
          "base_uri": "https://localhost:8080/",
          "height": 34
        },
        "outputId": "756c10f2-de5d-4c2f-a18d-b42d49a562f0"
      },
      "source": [
        "train_df.shape"
      ],
      "execution_count": 80,
      "outputs": [
        {
          "output_type": "execute_result",
          "data": {
            "text/plain": [
              "(173, 8)"
            ]
          },
          "metadata": {
            "tags": []
          },
          "execution_count": 80
        }
      ]
    },
    {
      "cell_type": "code",
      "metadata": {
        "id": "BwC4ZgcNMxSW",
        "colab_type": "code",
        "colab": {
          "base_uri": "https://localhost:8080/",
          "height": 34
        },
        "outputId": "ba96ef4f-9256-45d7-e86b-6762ca1e3b26"
      },
      "source": [
        "! pip install patool"
      ],
      "execution_count": 81,
      "outputs": [
        {
          "output_type": "stream",
          "text": [
            "Requirement already satisfied: patool in /usr/local/lib/python3.6/dist-packages (1.12)\n"
          ],
          "name": "stdout"
        }
      ]
    },
    {
      "cell_type": "code",
      "metadata": {
        "id": "_hCootUyNCTq",
        "colab_type": "code",
        "colab": {
          "base_uri": "https://localhost:8080/",
          "height": 102
        },
        "outputId": "4cebe024-090e-4d83-b289-5da7a2597d00"
      },
      "source": [
        "patoolib.extract_archive(rar_location)"
      ],
      "execution_count": 82,
      "outputs": [
        {
          "output_type": "stream",
          "text": [
            "patool: Extracting /content/drive/My Drive/R9_Delhi_Internal_Dataset/images_racoon.rar ...\n",
            "patool: running /usr/bin/unrar x -- \"/content/drive/My Drive/R9_Delhi_Internal_Dataset/images_racoon.rar\"\n",
            "patool:     with cwd='./Unpack_q84bu6uf'\n",
            "patool: ... /content/drive/My Drive/R9_Delhi_Internal_Dataset/images_racoon.rar extracted to `images_racoon1' (local file exists).\n"
          ],
          "name": "stdout"
        },
        {
          "output_type": "execute_result",
          "data": {
            "text/plain": [
              "'images_racoon1'"
            ]
          },
          "metadata": {
            "tags": []
          },
          "execution_count": 82
        }
      ]
    },
    {
      "cell_type": "markdown",
      "metadata": {
        "colab_type": "text",
        "id": "axf5m10eWGis"
      },
      "source": [
        "### Declare a variable IMAGE_SIZE = 128 as we will be using MobileNet which will be taking Input shape as 128 * 128 "
      ]
    },
    {
      "cell_type": "code",
      "metadata": {
        "colab_type": "code",
        "id": "7ayEk2c9WGit",
        "colab": {}
      },
      "source": [
        "IMAGE_SIZE = 128"
      ],
      "execution_count": 0,
      "outputs": []
    },
    {
      "cell_type": "code",
      "metadata": {
        "id": "96ifdARkb1ca",
        "colab_type": "code",
        "colab": {}
      },
      "source": [
        "ALPHA = 1.0"
      ],
      "execution_count": 0,
      "outputs": []
    },
    {
      "cell_type": "code",
      "metadata": {
        "id": "3sxWPGSob134",
        "colab_type": "code",
        "colab": {}
      },
      "source": [
        ""
      ],
      "execution_count": 0,
      "outputs": []
    },
    {
      "cell_type": "markdown",
      "metadata": {
        "colab_type": "text",
        "id": "wbrrYb5IWGix"
      },
      "source": [
        "### With the help of csv.reader write a for loop which can load the train.csv file and store the path, width, height, x0,y0,x1,y1 in induvidual variables. <br>\n",
        "1. Create a list variable known as 'path' which has all the path for all the training images\n",
        "2. Create an array 'coords' which has the resized coordinates of the bounding box for the training images\n",
        "\n",
        "<u>Note:</u> All the training images should be downsampled to 128 * 128 as it is the input shape of MobileNet (which we will be using for Object detection). Hence the corresponding coordinates of the bounding boxes should be changed to match the image dimension of 128 * 128 "
      ]
    },
    {
      "cell_type": "code",
      "metadata": {
        "colab_type": "code",
        "id": "twSTiPpRWGiy",
        "colab": {
          "base_uri": "https://localhost:8080/",
          "height": 1000
        },
        "outputId": "d1e970da-f039-46ff-f0fa-7628aba1456d"
      },
      "source": [
        "\n",
        "with open(TRAIN_CSV, 'r') as csvfile:\n",
        "    paths = []\n",
        "    \n",
        "    coords = np.zeros((sum(1 for line in csvfile) -1, 4))\n",
        "    reader = csv.reader(csvfile, delimiter=',')\n",
        "    csvfile.seek(0)\n",
        "    next(reader)\n",
        "    for col, row in enumerate(reader):\n",
        "              \n",
        "        for i, r in enumerate(row[1:8]): # Parse row with eight entities\n",
        "            row[i + 1] = r\n",
        "              \n",
        "        file_name, image_width, image_height,_, x0, y0, x1, y1 = row  \n",
        "        path = IMAGE_PATH + \"/\" + file_name\n",
        "        #print(file_name, image_width, image_height, x0, y0, x1, y1)\n",
        "        coords[col, 0] = int(x0) * int( IMAGE_SIZE)/ int(image_width) # Normalize bounding box by image size\n",
        "        coords[col, 1] = int(y0) * int(IMAGE_SIZE) / int(image_height) # Normalize bounding box by image size\n",
        "        coords[col, 2] = (int(x1) - int(x0)) * int(IMAGE_SIZE )/ int(image_width )# Normalize bounding box by image size\n",
        "        coords[col, 3] = (int(y1) - int(y0)) * int(IMAGE_SIZE) / int(image_height)\n",
        "        paths.append(path)\n",
        "        print(col)\n",
        "\n",
        "\n",
        "        "
      ],
      "execution_count": 95,
      "outputs": [
        {
          "output_type": "stream",
          "text": [
            "0\n",
            "1\n",
            "2\n",
            "3\n",
            "4\n",
            "5\n",
            "6\n",
            "7\n",
            "8\n",
            "9\n",
            "10\n",
            "11\n",
            "12\n",
            "13\n",
            "14\n",
            "15\n",
            "16\n",
            "17\n",
            "18\n",
            "19\n",
            "20\n",
            "21\n",
            "22\n",
            "23\n",
            "24\n",
            "25\n",
            "26\n",
            "27\n",
            "28\n",
            "29\n",
            "30\n",
            "31\n",
            "32\n",
            "33\n",
            "34\n",
            "35\n",
            "36\n",
            "37\n",
            "38\n",
            "39\n",
            "40\n",
            "41\n",
            "42\n",
            "43\n",
            "44\n",
            "45\n",
            "46\n",
            "47\n",
            "48\n",
            "49\n",
            "50\n",
            "51\n",
            "52\n",
            "53\n",
            "54\n",
            "55\n",
            "56\n",
            "57\n",
            "58\n",
            "59\n",
            "60\n",
            "61\n",
            "62\n",
            "63\n",
            "64\n",
            "65\n",
            "66\n",
            "67\n",
            "68\n",
            "69\n",
            "70\n",
            "71\n",
            "72\n",
            "73\n",
            "74\n",
            "75\n",
            "76\n",
            "77\n",
            "78\n",
            "79\n",
            "80\n",
            "81\n",
            "82\n",
            "83\n",
            "84\n",
            "85\n",
            "86\n",
            "87\n",
            "88\n",
            "89\n",
            "90\n",
            "91\n",
            "92\n",
            "93\n",
            "94\n",
            "95\n",
            "96\n",
            "97\n",
            "98\n",
            "99\n",
            "100\n",
            "101\n",
            "102\n",
            "103\n",
            "104\n",
            "105\n",
            "106\n",
            "107\n",
            "108\n",
            "109\n",
            "110\n",
            "111\n",
            "112\n",
            "113\n",
            "114\n",
            "115\n",
            "116\n",
            "117\n",
            "118\n",
            "119\n",
            "120\n",
            "121\n",
            "122\n",
            "123\n",
            "124\n",
            "125\n",
            "126\n",
            "127\n",
            "128\n",
            "129\n",
            "130\n",
            "131\n",
            "132\n",
            "133\n",
            "134\n",
            "135\n",
            "136\n",
            "137\n",
            "138\n",
            "139\n",
            "140\n",
            "141\n",
            "142\n",
            "143\n",
            "144\n",
            "145\n",
            "146\n",
            "147\n",
            "148\n",
            "149\n",
            "150\n",
            "151\n",
            "152\n",
            "153\n",
            "154\n",
            "155\n",
            "156\n",
            "157\n",
            "158\n",
            "159\n",
            "160\n",
            "161\n",
            "162\n",
            "163\n",
            "164\n",
            "165\n",
            "166\n",
            "167\n",
            "168\n",
            "169\n",
            "170\n",
            "171\n",
            "172\n"
          ],
          "name": "stdout"
        }
      ]
    },
    {
      "cell_type": "markdown",
      "metadata": {
        "colab_type": "text",
        "id": "Z9iZWEpKWGi2"
      },
      "source": [
        "### Write a for loop which can load all the training images into a variable 'batch_images' using the paths from the 'paths' variable\n",
        "<u>Note:</u> Convert the image to RGB scale as the MobileNet accepts 3 channels as inputs   "
      ]
    },
    {
      "cell_type": "code",
      "metadata": {
        "colab_type": "code",
        "id": "h6e99qquWGi3",
        "colab": {}
      },
      "source": [
        "batch_images = np.zeros((len(paths), IMAGE_SIZE, IMAGE_SIZE, 3), dtype=np.float32)\n",
        "for i, f in enumerate(paths):\n",
        "    img = Image.open(f) # Read image\n",
        "    img = img.resize((IMAGE_SIZE, IMAGE_SIZE)) # Resize image\n",
        "    img = img.convert('RGB')\n",
        "    batch_images[i] = preprocess_input(np.array(img, dtype=np.float32))"
      ],
      "execution_count": 0,
      "outputs": []
    },
    {
      "cell_type": "markdown",
      "metadata": {
        "colab_type": "text",
        "id": "C9KU6pUTWGi9"
      },
      "source": [
        "### Import MobileNet and load MobileNet into a variable named 'model' which takes input shape of 128 * 128 * 3. Freeze all the layers. Add convolution and reshape layers at the end to ensure the output is 4 coordinates"
      ]
    },
    {
      "cell_type": "code",
      "metadata": {
        "colab_type": "code",
        "id": "nosEtf1lWGi-",
        "colab": {}
      },
      "source": [
        "model = MobileNet(input_shape=(IMAGE_SIZE, IMAGE_SIZE, 3), include_top=False, alpha=ALPHA) # Load pre-trained mobilenet\n",
        "# Do not include classification (top) layer\n",
        "\n",
        "# to freeze layers, except the new top layer, of course, which will be added below\n",
        "for layer in model.layers:\n",
        "    layer.trainable = False\n",
        "\n",
        "# Add new top layer which is a conv layer of the same size as the previous layer so that only 4 coords of BBox can be output\n",
        "x = model.layers[-1].output\n",
        "x = Conv2D(4, kernel_size=4, name=\"coords\")(x)\n",
        "# In the line above kernel size should be 3 for img size 96, 4 for img size 128, 5 for img size 160 etc.\n",
        "x = Reshape((4,))(x) # These are the 4 predicted coordinates of one BBox\n",
        "\n",
        "model = Model(inputs=model.input, outputs=x)"
      ],
      "execution_count": 0,
      "outputs": []
    },
    {
      "cell_type": "markdown",
      "metadata": {
        "colab_type": "text",
        "id": "nsQSHWgpWGjC"
      },
      "source": [
        "### Define a custom loss function IoU which calculates Intersection Over Union"
      ]
    },
    {
      "cell_type": "code",
      "metadata": {
        "colab_type": "code",
        "id": "7Ig_Gsn-WGjD",
        "colab": {}
      },
      "source": [
        "def loss(gt,pred):\n",
        "    intersections = 0\n",
        "    unions = 0\n",
        "    diff_width = np.minimum(gt[:,0] + gt[:,2], pred[:,0] + pred[:,2]) - np.maximum(gt[:,0], pred[:,0])\n",
        "    diff_height = np.minimum(gt[:,1] + gt[:,3], pred[:,1] + pred[:,3]) - np.maximum(gt[:,1], pred[:,1])\n",
        "    intersection = diff_width * diff_height\n",
        "    \n",
        "    # Compute union\n",
        "    area_gt = gt[:,2] * gt[:,3]\n",
        "    area_pred = pred[:,2] * pred[:,3]\n",
        "    union = area_gt + area_pred - intersection\n",
        "\n",
        "#     Compute intersection and union over multiple boxes\n",
        "    for j, _ in enumerate(union):\n",
        "        if union[j] > 0 and intersection[j] > 0 and union[j] >= intersection[j]:\n",
        "            intersections += intersection[j]\n",
        "            unions += union[j]\n",
        "\n",
        "    # Compute IOU. Use epsilon to prevent division by zero\n",
        "    iou = np.round(intersections / (unions + epsilon()), 4)\n",
        "    iou = iou.astype(np.float32)\n",
        "    return iou\n",
        "\n",
        "def IoU(y_true, y_pred):\n",
        "    iou = tf.py_func(loss, [y_true, y_pred], tf.float32)\n",
        "    return iou"
      ],
      "execution_count": 0,
      "outputs": []
    },
    {
      "cell_type": "code",
      "metadata": {
        "id": "PzJVswNUcYAa",
        "colab_type": "code",
        "colab": {
          "base_uri": "https://localhost:8080/",
          "height": 1000
        },
        "outputId": "9c7da4a5-35e7-4bdc-de47-5e90bc98068b"
      },
      "source": [
        "model.summary()"
      ],
      "execution_count": 89,
      "outputs": [
        {
          "output_type": "stream",
          "text": [
            "Model: \"model_2\"\n",
            "_________________________________________________________________\n",
            "Layer (type)                 Output Shape              Param #   \n",
            "=================================================================\n",
            "input_3 (InputLayer)         (None, 128, 128, 3)       0         \n",
            "_________________________________________________________________\n",
            "conv1_pad (ZeroPadding2D)    (None, 129, 129, 3)       0         \n",
            "_________________________________________________________________\n",
            "conv1 (Conv2D)               (None, 64, 64, 32)        864       \n",
            "_________________________________________________________________\n",
            "conv1_bn (BatchNormalization (None, 64, 64, 32)        128       \n",
            "_________________________________________________________________\n",
            "conv1_relu (ReLU)            (None, 64, 64, 32)        0         \n",
            "_________________________________________________________________\n",
            "conv_dw_1 (DepthwiseConv2D)  (None, 64, 64, 32)        288       \n",
            "_________________________________________________________________\n",
            "conv_dw_1_bn (BatchNormaliza (None, 64, 64, 32)        128       \n",
            "_________________________________________________________________\n",
            "conv_dw_1_relu (ReLU)        (None, 64, 64, 32)        0         \n",
            "_________________________________________________________________\n",
            "conv_pw_1 (Conv2D)           (None, 64, 64, 64)        2048      \n",
            "_________________________________________________________________\n",
            "conv_pw_1_bn (BatchNormaliza (None, 64, 64, 64)        256       \n",
            "_________________________________________________________________\n",
            "conv_pw_1_relu (ReLU)        (None, 64, 64, 64)        0         \n",
            "_________________________________________________________________\n",
            "conv_pad_2 (ZeroPadding2D)   (None, 65, 65, 64)        0         \n",
            "_________________________________________________________________\n",
            "conv_dw_2 (DepthwiseConv2D)  (None, 32, 32, 64)        576       \n",
            "_________________________________________________________________\n",
            "conv_dw_2_bn (BatchNormaliza (None, 32, 32, 64)        256       \n",
            "_________________________________________________________________\n",
            "conv_dw_2_relu (ReLU)        (None, 32, 32, 64)        0         \n",
            "_________________________________________________________________\n",
            "conv_pw_2 (Conv2D)           (None, 32, 32, 128)       8192      \n",
            "_________________________________________________________________\n",
            "conv_pw_2_bn (BatchNormaliza (None, 32, 32, 128)       512       \n",
            "_________________________________________________________________\n",
            "conv_pw_2_relu (ReLU)        (None, 32, 32, 128)       0         \n",
            "_________________________________________________________________\n",
            "conv_dw_3 (DepthwiseConv2D)  (None, 32, 32, 128)       1152      \n",
            "_________________________________________________________________\n",
            "conv_dw_3_bn (BatchNormaliza (None, 32, 32, 128)       512       \n",
            "_________________________________________________________________\n",
            "conv_dw_3_relu (ReLU)        (None, 32, 32, 128)       0         \n",
            "_________________________________________________________________\n",
            "conv_pw_3 (Conv2D)           (None, 32, 32, 128)       16384     \n",
            "_________________________________________________________________\n",
            "conv_pw_3_bn (BatchNormaliza (None, 32, 32, 128)       512       \n",
            "_________________________________________________________________\n",
            "conv_pw_3_relu (ReLU)        (None, 32, 32, 128)       0         \n",
            "_________________________________________________________________\n",
            "conv_pad_4 (ZeroPadding2D)   (None, 33, 33, 128)       0         \n",
            "_________________________________________________________________\n",
            "conv_dw_4 (DepthwiseConv2D)  (None, 16, 16, 128)       1152      \n",
            "_________________________________________________________________\n",
            "conv_dw_4_bn (BatchNormaliza (None, 16, 16, 128)       512       \n",
            "_________________________________________________________________\n",
            "conv_dw_4_relu (ReLU)        (None, 16, 16, 128)       0         \n",
            "_________________________________________________________________\n",
            "conv_pw_4 (Conv2D)           (None, 16, 16, 256)       32768     \n",
            "_________________________________________________________________\n",
            "conv_pw_4_bn (BatchNormaliza (None, 16, 16, 256)       1024      \n",
            "_________________________________________________________________\n",
            "conv_pw_4_relu (ReLU)        (None, 16, 16, 256)       0         \n",
            "_________________________________________________________________\n",
            "conv_dw_5 (DepthwiseConv2D)  (None, 16, 16, 256)       2304      \n",
            "_________________________________________________________________\n",
            "conv_dw_5_bn (BatchNormaliza (None, 16, 16, 256)       1024      \n",
            "_________________________________________________________________\n",
            "conv_dw_5_relu (ReLU)        (None, 16, 16, 256)       0         \n",
            "_________________________________________________________________\n",
            "conv_pw_5 (Conv2D)           (None, 16, 16, 256)       65536     \n",
            "_________________________________________________________________\n",
            "conv_pw_5_bn (BatchNormaliza (None, 16, 16, 256)       1024      \n",
            "_________________________________________________________________\n",
            "conv_pw_5_relu (ReLU)        (None, 16, 16, 256)       0         \n",
            "_________________________________________________________________\n",
            "conv_pad_6 (ZeroPadding2D)   (None, 17, 17, 256)       0         \n",
            "_________________________________________________________________\n",
            "conv_dw_6 (DepthwiseConv2D)  (None, 8, 8, 256)         2304      \n",
            "_________________________________________________________________\n",
            "conv_dw_6_bn (BatchNormaliza (None, 8, 8, 256)         1024      \n",
            "_________________________________________________________________\n",
            "conv_dw_6_relu (ReLU)        (None, 8, 8, 256)         0         \n",
            "_________________________________________________________________\n",
            "conv_pw_6 (Conv2D)           (None, 8, 8, 512)         131072    \n",
            "_________________________________________________________________\n",
            "conv_pw_6_bn (BatchNormaliza (None, 8, 8, 512)         2048      \n",
            "_________________________________________________________________\n",
            "conv_pw_6_relu (ReLU)        (None, 8, 8, 512)         0         \n",
            "_________________________________________________________________\n",
            "conv_dw_7 (DepthwiseConv2D)  (None, 8, 8, 512)         4608      \n",
            "_________________________________________________________________\n",
            "conv_dw_7_bn (BatchNormaliza (None, 8, 8, 512)         2048      \n",
            "_________________________________________________________________\n",
            "conv_dw_7_relu (ReLU)        (None, 8, 8, 512)         0         \n",
            "_________________________________________________________________\n",
            "conv_pw_7 (Conv2D)           (None, 8, 8, 512)         262144    \n",
            "_________________________________________________________________\n",
            "conv_pw_7_bn (BatchNormaliza (None, 8, 8, 512)         2048      \n",
            "_________________________________________________________________\n",
            "conv_pw_7_relu (ReLU)        (None, 8, 8, 512)         0         \n",
            "_________________________________________________________________\n",
            "conv_dw_8 (DepthwiseConv2D)  (None, 8, 8, 512)         4608      \n",
            "_________________________________________________________________\n",
            "conv_dw_8_bn (BatchNormaliza (None, 8, 8, 512)         2048      \n",
            "_________________________________________________________________\n",
            "conv_dw_8_relu (ReLU)        (None, 8, 8, 512)         0         \n",
            "_________________________________________________________________\n",
            "conv_pw_8 (Conv2D)           (None, 8, 8, 512)         262144    \n",
            "_________________________________________________________________\n",
            "conv_pw_8_bn (BatchNormaliza (None, 8, 8, 512)         2048      \n",
            "_________________________________________________________________\n",
            "conv_pw_8_relu (ReLU)        (None, 8, 8, 512)         0         \n",
            "_________________________________________________________________\n",
            "conv_dw_9 (DepthwiseConv2D)  (None, 8, 8, 512)         4608      \n",
            "_________________________________________________________________\n",
            "conv_dw_9_bn (BatchNormaliza (None, 8, 8, 512)         2048      \n",
            "_________________________________________________________________\n",
            "conv_dw_9_relu (ReLU)        (None, 8, 8, 512)         0         \n",
            "_________________________________________________________________\n",
            "conv_pw_9 (Conv2D)           (None, 8, 8, 512)         262144    \n",
            "_________________________________________________________________\n",
            "conv_pw_9_bn (BatchNormaliza (None, 8, 8, 512)         2048      \n",
            "_________________________________________________________________\n",
            "conv_pw_9_relu (ReLU)        (None, 8, 8, 512)         0         \n",
            "_________________________________________________________________\n",
            "conv_dw_10 (DepthwiseConv2D) (None, 8, 8, 512)         4608      \n",
            "_________________________________________________________________\n",
            "conv_dw_10_bn (BatchNormaliz (None, 8, 8, 512)         2048      \n",
            "_________________________________________________________________\n",
            "conv_dw_10_relu (ReLU)       (None, 8, 8, 512)         0         \n",
            "_________________________________________________________________\n",
            "conv_pw_10 (Conv2D)          (None, 8, 8, 512)         262144    \n",
            "_________________________________________________________________\n",
            "conv_pw_10_bn (BatchNormaliz (None, 8, 8, 512)         2048      \n",
            "_________________________________________________________________\n",
            "conv_pw_10_relu (ReLU)       (None, 8, 8, 512)         0         \n",
            "_________________________________________________________________\n",
            "conv_dw_11 (DepthwiseConv2D) (None, 8, 8, 512)         4608      \n",
            "_________________________________________________________________\n",
            "conv_dw_11_bn (BatchNormaliz (None, 8, 8, 512)         2048      \n",
            "_________________________________________________________________\n",
            "conv_dw_11_relu (ReLU)       (None, 8, 8, 512)         0         \n",
            "_________________________________________________________________\n",
            "conv_pw_11 (Conv2D)          (None, 8, 8, 512)         262144    \n",
            "_________________________________________________________________\n",
            "conv_pw_11_bn (BatchNormaliz (None, 8, 8, 512)         2048      \n",
            "_________________________________________________________________\n",
            "conv_pw_11_relu (ReLU)       (None, 8, 8, 512)         0         \n",
            "_________________________________________________________________\n",
            "conv_pad_12 (ZeroPadding2D)  (None, 9, 9, 512)         0         \n",
            "_________________________________________________________________\n",
            "conv_dw_12 (DepthwiseConv2D) (None, 4, 4, 512)         4608      \n",
            "_________________________________________________________________\n",
            "conv_dw_12_bn (BatchNormaliz (None, 4, 4, 512)         2048      \n",
            "_________________________________________________________________\n",
            "conv_dw_12_relu (ReLU)       (None, 4, 4, 512)         0         \n",
            "_________________________________________________________________\n",
            "conv_pw_12 (Conv2D)          (None, 4, 4, 1024)        524288    \n",
            "_________________________________________________________________\n",
            "conv_pw_12_bn (BatchNormaliz (None, 4, 4, 1024)        4096      \n",
            "_________________________________________________________________\n",
            "conv_pw_12_relu (ReLU)       (None, 4, 4, 1024)        0         \n",
            "_________________________________________________________________\n",
            "conv_dw_13 (DepthwiseConv2D) (None, 4, 4, 1024)        9216      \n",
            "_________________________________________________________________\n",
            "conv_dw_13_bn (BatchNormaliz (None, 4, 4, 1024)        4096      \n",
            "_________________________________________________________________\n",
            "conv_dw_13_relu (ReLU)       (None, 4, 4, 1024)        0         \n",
            "_________________________________________________________________\n",
            "conv_pw_13 (Conv2D)          (None, 4, 4, 1024)        1048576   \n",
            "_________________________________________________________________\n",
            "conv_pw_13_bn (BatchNormaliz (None, 4, 4, 1024)        4096      \n",
            "_________________________________________________________________\n",
            "conv_pw_13_relu (ReLU)       (None, 4, 4, 1024)        0         \n",
            "_________________________________________________________________\n",
            "coords (Conv2D)              (None, 1, 1, 4)           65540     \n",
            "_________________________________________________________________\n",
            "reshape_2 (Reshape)          (None, 4)                 0         \n",
            "=================================================================\n",
            "Total params: 3,294,404\n",
            "Trainable params: 65,540\n",
            "Non-trainable params: 3,228,864\n",
            "_________________________________________________________________\n"
          ],
          "name": "stdout"
        }
      ]
    },
    {
      "cell_type": "markdown",
      "metadata": {
        "colab_type": "text",
        "id": "2Zs7VcSVWGjF"
      },
      "source": [
        "### Write model.compile function & model.fit function with: <br>\n",
        "1. Optimizer = Adam, Loss = 'mse' and metrics = IoU\n",
        "2. Epochs = 30, batch_size = 32, verbose = 1"
      ]
    },
    {
      "cell_type": "code",
      "metadata": {
        "colab_type": "code",
        "id": "f35dLEJlWGjG",
        "colab": {
          "base_uri": "https://localhost:8080/",
          "height": 1000
        },
        "outputId": "00a6502f-d401-4310-abfb-9934ccd2febd"
      },
      "source": [
        "model.compile(optimizer='Adam', loss='mse', metrics=[IoU]) # Regression loss is MSE\n",
        "\n",
        "#checkpoint = ModelCheckpoint(\"model-{val_iou:.2f}.h5\", verbose=1, save_best_only=True,\n",
        "#                              save_weights_only=True, mode=\"max\", period=1) # Checkpoint best validation model\n",
        "#stop = EarlyStopping(monitor=\"val_iou\", patience=PATIENCE, mode=\"max\") # Stop early, if the validation error deteriorates\n",
        "#reduce_lr = ReduceLROnPlateau(monitor=\"val_iou\", factor=0.2, patience=10, min_lr=1e-7, verbose=1, mode=\"max\")\n",
        "# Reduce learning rate if Validation IOU does not improve\n",
        "gt = coords\n",
        "model.fit(batch_images,gt,\n",
        "            epochs=30,batch_size = 32,\n",
        "            verbose=1)"
      ],
      "execution_count": 96,
      "outputs": [
        {
          "output_type": "stream",
          "text": [
            "WARNING:tensorflow:From /usr/local/lib/python3.6/dist-packages/keras/backend/tensorflow_backend.py:1033: The name tf.assign_add is deprecated. Please use tf.compat.v1.assign_add instead.\n",
            "\n",
            "WARNING:tensorflow:From /usr/local/lib/python3.6/dist-packages/keras/backend/tensorflow_backend.py:1020: The name tf.assign is deprecated. Please use tf.compat.v1.assign instead.\n",
            "\n",
            "Epoch 1/30\n",
            "173/173 [==============================] - 7s 40ms/step - loss: 2858.2778 - IoU: 0.0851\n",
            "Epoch 2/30\n",
            "173/173 [==============================] - 5s 30ms/step - loss: 662.6192 - IoU: 0.4327\n",
            "Epoch 3/30\n",
            "173/173 [==============================] - 5s 30ms/step - loss: 645.4009 - IoU: 0.5391\n",
            "Epoch 4/30\n",
            "173/173 [==============================] - 5s 30ms/step - loss: 575.4185 - IoU: 0.5296\n",
            "Epoch 5/30\n",
            "173/173 [==============================] - 5s 30ms/step - loss: 335.2057 - IoU: 0.5905\n",
            "Epoch 6/30\n",
            "173/173 [==============================] - 5s 30ms/step - loss: 275.4648 - IoU: 0.5663\n",
            "Epoch 7/30\n",
            "173/173 [==============================] - 5s 31ms/step - loss: 256.0634 - IoU: 0.5960\n",
            "Epoch 8/30\n",
            "173/173 [==============================] - 5s 31ms/step - loss: 186.3604 - IoU: 0.6600\n",
            "Epoch 9/30\n",
            "173/173 [==============================] - 5s 31ms/step - loss: 156.6564 - IoU: 0.7090\n",
            "Epoch 10/30\n",
            "173/173 [==============================] - 5s 31ms/step - loss: 144.0377 - IoU: 0.7157\n",
            "Epoch 11/30\n",
            "173/173 [==============================] - 5s 31ms/step - loss: 129.5947 - IoU: 0.7342\n",
            "Epoch 12/30\n",
            "173/173 [==============================] - 5s 30ms/step - loss: 116.3445 - IoU: 0.7353\n",
            "Epoch 13/30\n",
            "173/173 [==============================] - 5s 30ms/step - loss: 106.8046 - IoU: 0.7501\n",
            "Epoch 14/30\n",
            "173/173 [==============================] - 5s 31ms/step - loss: 95.0547 - IoU: 0.7613\n",
            "Epoch 15/30\n",
            "173/173 [==============================] - 5s 30ms/step - loss: 89.6541 - IoU: 0.7800\n",
            "Epoch 16/30\n",
            "173/173 [==============================] - 5s 30ms/step - loss: 88.3065 - IoU: 0.7841\n",
            "Epoch 17/30\n",
            "173/173 [==============================] - 5s 31ms/step - loss: 80.0723 - IoU: 0.7837\n",
            "Epoch 18/30\n",
            "173/173 [==============================] - 5s 30ms/step - loss: 75.3892 - IoU: 0.7902\n",
            "Epoch 19/30\n",
            "173/173 [==============================] - 5s 30ms/step - loss: 81.6886 - IoU: 0.7882\n",
            "Epoch 20/30\n",
            "173/173 [==============================] - 5s 30ms/step - loss: 76.7936 - IoU: 0.7882\n",
            "Epoch 21/30\n",
            "173/173 [==============================] - 5s 30ms/step - loss: 71.2431 - IoU: 0.7935\n",
            "Epoch 22/30\n",
            "173/173 [==============================] - 5s 30ms/step - loss: 70.9127 - IoU: 0.8108\n",
            "Epoch 23/30\n",
            "173/173 [==============================] - 5s 30ms/step - loss: 62.8797 - IoU: 0.8210\n",
            "Epoch 24/30\n",
            "173/173 [==============================] - 5s 30ms/step - loss: 61.4044 - IoU: 0.8183\n",
            "Epoch 25/30\n",
            "173/173 [==============================] - 5s 31ms/step - loss: 64.4505 - IoU: 0.8185\n",
            "Epoch 26/30\n",
            "173/173 [==============================] - 5s 30ms/step - loss: 60.2788 - IoU: 0.8289\n",
            "Epoch 27/30\n",
            "173/173 [==============================] - 5s 30ms/step - loss: 61.4203 - IoU: 0.8323\n",
            "Epoch 28/30\n",
            "173/173 [==============================] - 5s 30ms/step - loss: 61.7565 - IoU: 0.8252\n",
            "Epoch 29/30\n",
            "173/173 [==============================] - 5s 30ms/step - loss: 60.0677 - IoU: 0.8346\n",
            "Epoch 30/30\n",
            "173/173 [==============================] - 5s 30ms/step - loss: 60.2797 - IoU: 0.8341\n"
          ],
          "name": "stdout"
        },
        {
          "output_type": "execute_result",
          "data": {
            "text/plain": [
              "<keras.callbacks.History at 0x7f61fce25278>"
            ]
          },
          "metadata": {
            "tags": []
          },
          "execution_count": 96
        }
      ]
    },
    {
      "cell_type": "markdown",
      "metadata": {
        "colab_type": "text",
        "id": "II1itmqiWGjK"
      },
      "source": [
        "### Pick a test image from the given data"
      ]
    },
    {
      "cell_type": "code",
      "metadata": {
        "colab_type": "code",
        "id": "0ULErYeSWGjK",
        "colab": {}
      },
      "source": [
        "# Pick a test image, run model, show image, and show predicted bounding box overlaid on the image\n",
        "import cv2\n",
        "filename =  IMAGE_PATH + '/raccoon-6.jpg'\n",
        "unscaled = cv2.imread(filename) # Original image for display"
      ],
      "execution_count": 0,
      "outputs": []
    },
    {
      "cell_type": "markdown",
      "metadata": {
        "colab_type": "text",
        "id": "h99SC9MjWGjO"
      },
      "source": [
        "### Resize the image to 128 * 128 and preprocess the image for the MobileNet model"
      ]
    },
    {
      "cell_type": "code",
      "metadata": {
        "colab_type": "code",
        "id": "J3jbKm7_WGjP",
        "colab": {}
      },
      "source": [
        "image_height, image_width, _ = unscaled.shape\n",
        "image = cv2.resize(unscaled, (IMAGE_SIZE, IMAGE_SIZE)) # Rescaled image to run the network\n",
        "feat_scaled = preprocess_input(np.array(image, dtype=np.float32))"
      ],
      "execution_count": 0,
      "outputs": []
    },
    {
      "cell_type": "markdown",
      "metadata": {
        "colab_type": "text",
        "id": "aGK4IjdaWGjR"
      },
      "source": [
        "### Predict the coordinates of the bounding box for the given test image"
      ]
    },
    {
      "cell_type": "code",
      "metadata": {
        "colab_type": "code",
        "id": "abnXH5F7WGjS",
        "colab": {}
      },
      "source": [
        "region = model.predict(x=np.array([feat_scaled]))[0] # Predict the BBox"
      ],
      "execution_count": 0,
      "outputs": []
    },
    {
      "cell_type": "markdown",
      "metadata": {
        "colab_type": "text",
        "id": "CXbjVdLWWGjW"
      },
      "source": [
        "### Plot the test image using .imshow and draw a boundary box around the image with the coordinates obtained from the model"
      ]
    },
    {
      "cell_type": "code",
      "metadata": {
        "colab_type": "code",
        "id": "t4Ah05MlWGjY",
        "colab": {
          "base_uri": "https://localhost:8080/",
          "height": 269
        },
        "outputId": "6f47bca7-19ff-4997-9b15-9707beeeb487"
      },
      "source": [
        "x0 = int(region[0] * image_width / IMAGE_SIZE) # Scale the BBox\n",
        "y0 = int(region[1] * image_height / IMAGE_SIZE)\n",
        "\n",
        "x1 = int((region[2]) * image_width / IMAGE_SIZE)\n",
        "y1 = int((region[3]) * image_height / IMAGE_SIZE)\n",
        "\n",
        "\n",
        "import matplotlib.pyplot as plt\n",
        "import matplotlib.patches as patches\n",
        "from PIL import Image\n",
        "import numpy as np\n",
        "\n",
        "\n",
        "# Create figure and axes\n",
        "fig,ax = plt.subplots(1)\n",
        "\n",
        "# Display the image\n",
        "ax.imshow(unscaled)\n",
        "\n",
        "# Create a Rectangle patch\n",
        "rect = patches.Rectangle((x0, y0), (x1 - x0) , (y1 - y0) , linewidth=2, edgecolor='r', facecolor='none')\n",
        "\n",
        "# Add the patch to the Axes\n",
        "ax.add_patch(rect)\n",
        "\n",
        "plt.show()"
      ],
      "execution_count": 100,
      "outputs": [
        {
          "output_type": "display_data",
          "data": {
            "image/png": "[encoded data removed]",
            "text/plain": [
              "<Figure size 432x288 with 1 Axes>"
            ]
          },
          "metadata": {
            "tags": []
          }
        }
      ]
    },
    {
      "cell_type": "markdown",
      "metadata": {
        "colab_type": "text",
        "id": "70uye82rMg3S"
      },
      "source": [
        "# Time Series Prediction using LSTM"
      ]
    },
    {
      "cell_type": "markdown",
      "metadata": {
        "colab_type": "text",
        "id": "CBdggSYjMg3U"
      },
      "source": [
        "### Download Data\n",
        "Link: https://datamarket.com/data/set/2324/daily-minimum-temperatures-in-melbourne-australia-1981-1990#!ds=2324&display=line\n",
        "\n",
        "#### Description\n",
        "Daily minimum temperatures in Melbourne, Australia, 1981-1990\n",
        "\n",
        "Units: Degrees Celcius\n",
        "\n",
        "#### Steps before loading\n",
        "- Rename the column name with temprature values to \"Temprature\"\n",
        "- In the last, there is one extra row in the data, remove it by opening the file and save it again.\n",
        "- There are some values in Temprature column which have a \"?\" before them, they will give error, remove \"?\" before them and save the file\n",
        "- If you don't want to do these steps, just load the data file given by Great Learning."
      ]
    },
    {
      "cell_type": "markdown",
      "metadata": {
        "colab_type": "text",
        "id": "xXaEyK4qMg3W"
      },
      "source": [
        "#### Mount google drive"
      ]
    },
    {
      "cell_type": "code",
      "metadata": {
        "colab_type": "code",
        "id": "VjoLRSg57qlt",
        "colab": {}
      },
      "source": [
        "# done above"
      ],
      "execution_count": 0,
      "outputs": []
    },
    {
      "cell_type": "markdown",
      "metadata": {
        "colab_type": "text",
        "id": "BghKtCKlMg3b"
      },
      "source": [
        "#### Change your present working directory"
      ]
    },
    {
      "cell_type": "code",
      "metadata": {
        "colab_type": "code",
        "id": "JOYCPgwJMg3c",
        "colab": {}
      },
      "source": [
        "# working directory set above"
      ],
      "execution_count": 0,
      "outputs": []
    },
    {
      "cell_type": "markdown",
      "metadata": {
        "colab_type": "text",
        "id": "UMP39JKEMg3f"
      },
      "source": [
        "### Load your data file"
      ]
    },
    {
      "cell_type": "code",
      "metadata": {
        "colab_type": "code",
        "id": "AanHqGBu7Jw2",
        "colab": {}
      },
      "source": [
        "temp_df = pd.read_csv(\"daily-minimum-temperatures-in-me.csv\")"
      ],
      "execution_count": 0,
      "outputs": []
    },
    {
      "cell_type": "markdown",
      "metadata": {
        "colab_type": "text",
        "id": "EAfx3bsQMg3j"
      },
      "source": [
        "#### Plot data"
      ]
    },
    {
      "cell_type": "code",
      "metadata": {
        "colab_type": "code",
        "id": "REU4UapqMg3k",
        "colab": {
          "base_uri": "https://localhost:8080/",
          "height": 282
        },
        "outputId": "4718ba56-c26c-436e-e0f1-d01c8a92c408"
      },
      "source": [
        "temp_df.plot()"
      ],
      "execution_count": 102,
      "outputs": [
        {
          "output_type": "execute_result",
          "data": {
            "text/plain": [
              "<matplotlib.axes._subplots.AxesSubplot at 0x7f61f1f38eb8>"
            ]
          },
          "metadata": {
            "tags": []
          },
          "execution_count": 102
        },
        {
          "output_type": "display_data",
          "data": {
            "image/png": "[encoded data removed]",
            "text/plain": [
              "<Figure size 432x288 with 1 Axes>"
            ]
          },
          "metadata": {
            "tags": []
          }
        }
      ]
    },
    {
      "cell_type": "markdown",
      "metadata": {
        "colab_type": "text",
        "id": "LWGBEOdNMg3n"
      },
      "source": [
        "#### Descibe your dataframe"
      ]
    },
    {
      "cell_type": "code",
      "metadata": {
        "colab_type": "code",
        "id": "oBWNA_kG7JxC",
        "colab": {
          "base_uri": "https://localhost:8080/",
          "height": 297
        },
        "outputId": "5e0381be-0ab3-4c39-c130-50ef199429d6"
      },
      "source": [
        "temp_df.describe() # the data shows that there is seasonality, intercept and from 1000th day to 3000th day we also observe a trend of increases tempaertures thouht it is not very apparent"
      ],
      "execution_count": 103,
      "outputs": [
        {
          "output_type": "execute_result",
          "data": {
            "text/html": [
              "<div>\n",
              "<style scoped>\n",
              "    .dataframe tbody tr th:only-of-type {\n",
              "        vertical-align: middle;\n",
              "    }\n",
              "\n",
              "    .dataframe tbody tr th {\n",
              "        vertical-align: top;\n",
              "    }\n",
              "\n",
              "    .dataframe thead th {\n",
              "        text-align: right;\n",
              "    }\n",
              "</style>\n",
              "<table border=\"1\" class=\"dataframe\">\n",
              "  <thead>\n",
              "    <tr style=\"text-align: right;\">\n",
              "      <th></th>\n",
              "      <th>Temperature</th>\n",
              "    </tr>\n",
              "  </thead>\n",
              "  <tbody>\n",
              "    <tr>\n",
              "      <th>count</th>\n",
              "      <td>3650.000000</td>\n",
              "    </tr>\n",
              "    <tr>\n",
              "      <th>mean</th>\n",
              "      <td>11.177753</td>\n",
              "    </tr>\n",
              "    <tr>\n",
              "      <th>std</th>\n",
              "      <td>4.071837</td>\n",
              "    </tr>\n",
              "    <tr>\n",
              "      <th>min</th>\n",
              "      <td>0.000000</td>\n",
              "    </tr>\n",
              "    <tr>\n",
              "      <th>25%</th>\n",
              "      <td>8.300000</td>\n",
              "    </tr>\n",
              "    <tr>\n",
              "      <th>50%</th>\n",
              "      <td>11.000000</td>\n",
              "    </tr>\n",
              "    <tr>\n",
              "      <th>75%</th>\n",
              "      <td>14.000000</td>\n",
              "    </tr>\n",
              "    <tr>\n",
              "      <th>max</th>\n",
              "      <td>26.300000</td>\n",
              "    </tr>\n",
              "  </tbody>\n",
              "</table>\n",
              "</div>"
            ],
            "text/plain": [
              "       Temperature\n",
              "count  3650.000000\n",
              "mean     11.177753\n",
              "std       4.071837\n",
              "min       0.000000\n",
              "25%       8.300000\n",
              "50%      11.000000\n",
              "75%      14.000000\n",
              "max      26.300000"
            ]
          },
          "metadata": {
            "tags": []
          },
          "execution_count": 103
        }
      ]
    },
    {
      "cell_type": "markdown",
      "metadata": {
        "colab_type": "text",
        "id": "HlPYgFPLMg3r"
      },
      "source": [
        "#### Check for null values"
      ]
    },
    {
      "cell_type": "code",
      "metadata": {
        "colab_type": "code",
        "id": "97MVIy_N7JxH",
        "colab": {
          "base_uri": "https://localhost:8080/",
          "height": 68
        },
        "outputId": "1b070c5c-a5c3-450f-e8ee-a922baa601ce"
      },
      "source": [
        "#Check for null values\n",
        "temp_df.isnull().sum()"
      ],
      "execution_count": 104,
      "outputs": [
        {
          "output_type": "execute_result",
          "data": {
            "text/plain": [
              "Date           0\n",
              "Temperature    0\n",
              "dtype: int64"
            ]
          },
          "metadata": {
            "tags": []
          },
          "execution_count": 104
        }
      ]
    },
    {
      "cell_type": "markdown",
      "metadata": {
        "colab_type": "text",
        "id": "qo6HzStBMg3v"
      },
      "source": [
        "#### Drop null values"
      ]
    },
    {
      "cell_type": "code",
      "metadata": {
        "colab_type": "code",
        "id": "fgh7mdOI7JxS",
        "colab": {}
      },
      "source": [
        "# no null values"
      ],
      "execution_count": 0,
      "outputs": []
    },
    {
      "cell_type": "markdown",
      "metadata": {
        "colab_type": "text",
        "id": "LcJgcz37Mg30"
      },
      "source": [
        "#### Get the representation of the distribution of data in the form of histogram"
      ]
    },
    {
      "cell_type": "code",
      "metadata": {
        "colab_type": "code",
        "id": "659sLAx27Jxc",
        "colab": {}
      },
      "source": [
        "import matplotlib.pyplot as plt\n"
      ],
      "execution_count": 0,
      "outputs": []
    },
    {
      "cell_type": "code",
      "metadata": {
        "id": "ZKp4Dr3sne5q",
        "colab_type": "code",
        "colab": {
          "base_uri": "https://localhost:8080/",
          "height": 315
        },
        "outputId": "5c0e5ea2-c5ae-47c0-9e61-335c027f6597"
      },
      "source": [
        "temp_df.hist()"
      ],
      "execution_count": 107,
      "outputs": [
        {
          "output_type": "execute_result",
          "data": {
            "text/plain": [
              "array([[<matplotlib.axes._subplots.AxesSubplot object at 0x7f61f1a3aac8>]],\n",
              "      dtype=object)"
            ]
          },
          "metadata": {
            "tags": []
          },
          "execution_count": 107
        },
        {
          "output_type": "display_data",
          "data": {
            "image/png": "[encoded data removed]",
            "text/plain": [
              "<Figure size 432x288 with 1 Axes>"
            ]
          },
          "metadata": {
            "tags": []
          }
        }
      ]
    },
    {
      "cell_type": "markdown",
      "metadata": {
        "colab_type": "text",
        "id": "GpH88qtBMg34"
      },
      "source": [
        "#### Check the maximum and minimum values"
      ]
    },
    {
      "cell_type": "code",
      "metadata": {
        "colab_type": "code",
        "id": "WmkjCx8c7Jxn",
        "colab": {
          "base_uri": "https://localhost:8080/",
          "height": 119
        },
        "outputId": "4a9135f8-1038-48a8-bb17-664c14d21be6"
      },
      "source": [
        "print('Min', np.min(temp_df))\n",
        "print('Max', np.max(temp_df))"
      ],
      "execution_count": 109,
      "outputs": [
        {
          "output_type": "stream",
          "text": [
            "Min Date           1981-01-01\n",
            "Temperature             0\n",
            "dtype: object\n",
            "Max Date           1990-12-31\n",
            "Temperature          26.3\n",
            "dtype: object\n"
          ],
          "name": "stdout"
        }
      ]
    },
    {
      "cell_type": "markdown",
      "metadata": {
        "colab_type": "text",
        "id": "AQVmR3ENMg37"
      },
      "source": [
        "### Normalize the data"
      ]
    },
    {
      "cell_type": "code",
      "metadata": {
        "id": "lJUcJWdwpSaf",
        "colab_type": "code",
        "colab": {}
      },
      "source": [
        "temp_df.drop(\"Date\", axis=1, inplace=True)"
      ],
      "execution_count": 0,
      "outputs": []
    },
    {
      "cell_type": "code",
      "metadata": {
        "id": "lb8iY--loqT1",
        "colab_type": "code",
        "colab": {}
      },
      "source": [
        "from sklearn.preprocessing import MinMaxScaler"
      ],
      "execution_count": 0,
      "outputs": []
    },
    {
      "cell_type": "code",
      "metadata": {
        "colab_type": "code",
        "id": "fb4SNzD27Jxw",
        "colab": {}
      },
      "source": [
        "#Normalize the data\n",
        "scaler = MinMaxScaler(feature_range=(0, 1))\n",
        "scaled = scaler.fit_transform(temp_df)"
      ],
      "execution_count": 0,
      "outputs": []
    },
    {
      "cell_type": "markdown",
      "metadata": {
        "colab_type": "text",
        "id": "Amc8j4P-Mg3-"
      },
      "source": [
        "#### Check the maximum and minimum values of scaled data"
      ]
    },
    {
      "cell_type": "code",
      "metadata": {
        "colab_type": "code",
        "id": "clv2rSfL7Jx4",
        "colab": {
          "base_uri": "https://localhost:8080/",
          "height": 85
        },
        "outputId": "17d70e0f-518b-4e4c-83ca-b19ea7321874"
      },
      "source": [
        "print('Min', np.min(temp_df))\n",
        "print('Max', np.max(temp_df))"
      ],
      "execution_count": 118,
      "outputs": [
        {
          "output_type": "stream",
          "text": [
            "Min Temperature    0.0\n",
            "dtype: float64\n",
            "Max Temperature    26.3\n",
            "dtype: float64\n"
          ],
          "name": "stdout"
        }
      ]
    },
    {
      "cell_type": "markdown",
      "metadata": {
        "colab_type": "text",
        "id": "mPwfKLsbMg4B"
      },
      "source": [
        "#### Look into some of the scaled values"
      ]
    },
    {
      "cell_type": "code",
      "metadata": {
        "colab_type": "code",
        "id": "Xq9CBinO7Jx9",
        "colab": {
          "base_uri": "https://localhost:8080/",
          "height": 204
        },
        "outputId": "c1d3d09e-439c-4feb-ff51-3ba6633b0fd6"
      },
      "source": [
        "print('Sample s', temp_df.head(10))"
      ],
      "execution_count": 122,
      "outputs": [
        {
          "output_type": "stream",
          "text": [
            "Sample s    Temperature\n",
            "0         20.7\n",
            "1         17.9\n",
            "2         18.8\n",
            "3         14.6\n",
            "4         15.8\n",
            "5         15.8\n",
            "6         15.8\n",
            "7         17.4\n",
            "8         21.8\n",
            "9         20.0\n"
          ],
          "name": "stdout"
        }
      ]
    },
    {
      "cell_type": "markdown",
      "metadata": {
        "colab_type": "text",
        "id": "4i6aEeORMg4F"
      },
      "source": [
        "### Split data into Training and Testing"
      ]
    },
    {
      "cell_type": "code",
      "metadata": {
        "colab_type": "code",
        "id": "-0Uh7lCO7JyD",
        "colab": {}
      },
      "source": [
        "#70% examples will used for training (in the begining)\n",
        "train_size = int(len(scaled) * 0.70)\n",
        "\n",
        "#30% will be used for Test\n",
        "test_size = len(scaled - train_size)"
      ],
      "execution_count": 0,
      "outputs": []
    },
    {
      "cell_type": "code",
      "metadata": {
        "id": "G0AtoqSqq73f",
        "colab_type": "code",
        "colab": {}
      },
      "source": [
        "#Split the data\n",
        "train, test = scaled[0:train_size, :], scaled[train_size: len(scaled), :]\n"
      ],
      "execution_count": 0,
      "outputs": []
    },
    {
      "cell_type": "markdown",
      "metadata": {
        "colab_type": "text",
        "id": "MYxgFlAHMg4I"
      },
      "source": [
        "#### Print train and test size"
      ]
    },
    {
      "cell_type": "code",
      "metadata": {
        "colab_type": "code",
        "id": "T9pRem3FMg4J",
        "colab": {
          "base_uri": "https://localhost:8080/",
          "height": 51
        },
        "outputId": "4a109e39-5fa9-42d9-81b7-ef7713db146b"
      },
      "source": [
        "print(\"Train size\",train_size)\n",
        "print(\"Test size\",test_size)"
      ],
      "execution_count": 125,
      "outputs": [
        {
          "output_type": "stream",
          "text": [
            "Train size 2555\n",
            "Test size 3650\n"
          ],
          "name": "stdout"
        }
      ]
    },
    {
      "cell_type": "markdown",
      "metadata": {
        "colab_type": "text",
        "id": "-UKovqKBMg4L"
      },
      "source": [
        "## Create the sequential data\n",
        "Map the temprature at a particular time t to the temprature at time t+n, where n is any number you define.\n",
        "\n",
        "For example: to map tempratures of consecutive days, use t+1, i.e. loop_back = 1"
      ]
    },
    {
      "cell_type": "markdown",
      "metadata": {
        "colab_type": "text",
        "id": "m7uoSqtKMg4M"
      },
      "source": [
        "#### Define your function to create dataset"
      ]
    },
    {
      "cell_type": "code",
      "metadata": {
        "colab_type": "code",
        "id": "jWIvInPB7JyK",
        "colab": {}
      },
      "source": [
        "#window - how long the sequence will be, default is sequence of 1\n",
        "def create_dataset(dataset, window=1):\n",
        "    \n",
        "    dataX, dataY = [], []\n",
        "    \n",
        "    for i in range(len(dataset)-window):\n",
        "        \n",
        "        a = dataset[i:(i+window), 0]        \n",
        "        dataX.append(a)\n",
        "        dataY.append(dataset[i + window, 0])\n",
        "    \n",
        "    return np.array(dataX), np.array(dataY)"
      ],
      "execution_count": 0,
      "outputs": []
    },
    {
      "cell_type": "markdown",
      "metadata": {
        "colab_type": "text",
        "id": "WePfiYR6Mg4R"
      },
      "source": [
        "#### Use function to get training and test set"
      ]
    },
    {
      "cell_type": "code",
      "metadata": {
        "colab_type": "code",
        "id": "uarOJcPk7JyQ",
        "scrolled": true,
        "colab": {}
      },
      "source": [
        "#Create Input and Output\n",
        "window_size = 1\n",
        "X_train, y_train = create_dataset(train, window_size)\n",
        "X_test, y_test = create_dataset(test, window_size)"
      ],
      "execution_count": 0,
      "outputs": []
    },
    {
      "cell_type": "markdown",
      "metadata": {
        "colab_type": "text",
        "id": "w_vztTvsMg4X"
      },
      "source": [
        "#### Transform the prepared train and test input data into the expected structure using numpy.reshape()"
      ]
    },
    {
      "cell_type": "code",
      "metadata": {
        "colab_type": "code",
        "id": "UJZ4VB4N7JyV",
        "colab": {}
      },
      "source": [
        "# The LSTM network expects the input data (X) to be provided with a \n",
        "# specific array structure in the form of: [samples, time steps, features]."
      ],
      "execution_count": 0,
      "outputs": []
    },
    {
      "cell_type": "code",
      "metadata": {
        "id": "nZTlzCNarh0C",
        "colab_type": "code",
        "colab": {
          "base_uri": "https://localhost:8080/",
          "height": 51
        },
        "outputId": "45da090d-8346-4504-b670-247663cdcb96"
      },
      "source": [
        "#Make it 3 Dimensional Data - needed for LSTM\n",
        "X_train = np.reshape(X_train, (X_train.shape[0], X_train.shape[1], 1))\n",
        "X_test = np.reshape(X_test, (X_test.shape[0], X_test.shape[1], 1))\n",
        "print(X_train.shape)\n",
        "print(X_test.shape)"
      ],
      "execution_count": 129,
      "outputs": [
        {
          "output_type": "stream",
          "text": [
            "(2554, 1, 1)\n",
            "(1094, 1, 1)\n"
          ],
          "name": "stdout"
        }
      ]
    },
    {
      "cell_type": "markdown",
      "metadata": {
        "colab_type": "text",
        "id": "2ApGy3FBMg4a"
      },
      "source": [
        "## Define Model"
      ]
    },
    {
      "cell_type": "markdown",
      "metadata": {
        "colab_type": "text",
        "id": "kx0ctZLiMg4b"
      },
      "source": [
        "### Define sequntial model, add LSTM layer and compile the model"
      ]
    },
    {
      "cell_type": "code",
      "metadata": {
        "colab_type": "code",
        "id": "yRW-Txvt7Jya",
        "colab": {
          "base_uri": "https://localhost:8080/",
          "height": 88
        },
        "outputId": "ec8b1c05-45f2-4210-99bb-c95c845481af"
      },
      "source": [
        "tf.keras.backend.clear_session()\n",
        "model = tf.keras.Sequential()\n",
        "model.add(tf.keras.layers.LSTM(32, input_shape=(window_size, 1)))\n",
        "model.add(tf.keras.layers.Dense(1))\n",
        "model.compile(optimizer='adam', loss='mse')"
      ],
      "execution_count": 130,
      "outputs": [
        {
          "output_type": "stream",
          "text": [
            "WARNING:tensorflow:From /usr/local/lib/python3.6/dist-packages/tensorflow_core/python/ops/resource_variable_ops.py:1630: calling BaseResourceVariable.__init__ (from tensorflow.python.ops.resource_variable_ops) with constraint is deprecated and will be removed in a future version.\n",
            "Instructions for updating:\n",
            "If using Keras pass *_constraint arguments to layers.\n"
          ],
          "name": "stdout"
        }
      ]
    },
    {
      "cell_type": "markdown",
      "metadata": {
        "colab_type": "text",
        "id": "zyAxLVdxMg4f"
      },
      "source": [
        "### Summarize your model"
      ]
    },
    {
      "cell_type": "code",
      "metadata": {
        "colab_type": "code",
        "id": "0I_UO7GOMg4g",
        "colab": {
          "base_uri": "https://localhost:8080/",
          "height": 221
        },
        "outputId": "fe6b415b-e465-4716-f7f2-80112c6fb407"
      },
      "source": [
        "model.summary()"
      ],
      "execution_count": 131,
      "outputs": [
        {
          "output_type": "stream",
          "text": [
            "Model: \"sequential\"\n",
            "_________________________________________________________________\n",
            "Layer (type)                 Output Shape              Param #   \n",
            "=================================================================\n",
            "lstm (LSTM)                  (None, 32)                4352      \n",
            "_________________________________________________________________\n",
            "dense (Dense)                (None, 1)                 33        \n",
            "=================================================================\n",
            "Total params: 4,385\n",
            "Trainable params: 4,385\n",
            "Non-trainable params: 0\n",
            "_________________________________________________________________\n"
          ],
          "name": "stdout"
        }
      ]
    },
    {
      "cell_type": "markdown",
      "metadata": {
        "colab_type": "text",
        "id": "orlJW-1_Mg4j"
      },
      "source": [
        "### Train the model"
      ]
    },
    {
      "cell_type": "code",
      "metadata": {
        "colab_type": "code",
        "id": "yyzESxsmMg4j",
        "colab": {
          "base_uri": "https://localhost:8080/",
          "height": 1000
        },
        "outputId": "4de439b3-3f3a-4699-9d95-976bb1eb0c37"
      },
      "source": [
        "model.fit(X_train, y_train, epochs=200, validation_data=(X_test, y_test), batch_size=32)"
      ],
      "execution_count": 132,
      "outputs": [
        {
          "output_type": "stream",
          "text": [
            "WARNING:tensorflow:From /usr/local/lib/python3.6/dist-packages/tensorflow_core/python/ops/math_grad.py:1424: where (from tensorflow.python.ops.array_ops) is deprecated and will be removed in a future version.\n",
            "Instructions for updating:\n",
            "Use tf.where in 2.0, which has the same broadcast rule as np.where\n",
            "Train on 2554 samples, validate on 1094 samples\n",
            "Epoch 1/200\n",
            "2554/2554 [==============================] - 1s 433us/sample - loss: 0.0922 - val_loss: 0.0299\n",
            "Epoch 2/200\n",
            "2554/2554 [==============================] - 0s 121us/sample - loss: 0.0161 - val_loss: 0.0126\n",
            "Epoch 3/200\n",
            "2554/2554 [==============================] - 0s 129us/sample - loss: 0.0134 - val_loss: 0.0120\n",
            "Epoch 4/200\n",
            "2554/2554 [==============================] - 0s 123us/sample - loss: 0.0127 - val_loss: 0.0113\n",
            "Epoch 5/200\n",
            "2554/2554 [==============================] - 0s 117us/sample - loss: 0.0121 - val_loss: 0.0106\n",
            "Epoch 6/200\n",
            "2554/2554 [==============================] - 0s 129us/sample - loss: 0.0115 - val_loss: 0.0100\n",
            "Epoch 7/200\n",
            "2554/2554 [==============================] - 0s 121us/sample - loss: 0.0110 - val_loss: 0.0095\n",
            "Epoch 8/200\n",
            "2554/2554 [==============================] - 0s 123us/sample - loss: 0.0107 - val_loss: 0.0094\n",
            "Epoch 9/200\n",
            "2554/2554 [==============================] - 0s 121us/sample - loss: 0.0104 - val_loss: 0.0091\n",
            "Epoch 10/200\n",
            "2554/2554 [==============================] - 0s 128us/sample - loss: 0.0102 - val_loss: 0.0090\n",
            "Epoch 11/200\n",
            "2554/2554 [==============================] - 0s 124us/sample - loss: 0.0101 - val_loss: 0.0088\n",
            "Epoch 12/200\n",
            "2554/2554 [==============================] - 0s 130us/sample - loss: 0.0101 - val_loss: 0.0087\n",
            "Epoch 13/200\n",
            "2554/2554 [==============================] - 0s 126us/sample - loss: 0.0100 - val_loss: 0.0087\n",
            "Epoch 14/200\n",
            "2554/2554 [==============================] - 0s 125us/sample - loss: 0.0101 - val_loss: 0.0087\n",
            "Epoch 15/200\n",
            "2554/2554 [==============================] - 0s 132us/sample - loss: 0.0100 - val_loss: 0.0087\n",
            "Epoch 16/200\n",
            "2554/2554 [==============================] - 0s 129us/sample - loss: 0.0100 - val_loss: 0.0090\n",
            "Epoch 17/200\n",
            "2554/2554 [==============================] - 0s 122us/sample - loss: 0.0101 - val_loss: 0.0087\n",
            "Epoch 18/200\n",
            "2554/2554 [==============================] - 0s 138us/sample - loss: 0.0100 - val_loss: 0.0088\n",
            "Epoch 19/200\n",
            "2554/2554 [==============================] - 0s 129us/sample - loss: 0.0100 - val_loss: 0.0087\n",
            "Epoch 20/200\n",
            "2554/2554 [==============================] - 0s 123us/sample - loss: 0.0100 - val_loss: 0.0087\n",
            "Epoch 21/200\n",
            "2554/2554 [==============================] - 0s 132us/sample - loss: 0.0100 - val_loss: 0.0087\n",
            "Epoch 22/200\n",
            "2554/2554 [==============================] - 0s 133us/sample - loss: 0.0101 - val_loss: 0.0086\n",
            "Epoch 23/200\n",
            "2554/2554 [==============================] - 0s 127us/sample - loss: 0.0100 - val_loss: 0.0088\n",
            "Epoch 24/200\n",
            "2554/2554 [==============================] - 0s 126us/sample - loss: 0.0101 - val_loss: 0.0087\n",
            "Epoch 25/200\n",
            "2554/2554 [==============================] - 0s 125us/sample - loss: 0.0100 - val_loss: 0.0087\n",
            "Epoch 26/200\n",
            "2554/2554 [==============================] - 0s 131us/sample - loss: 0.0100 - val_loss: 0.0088\n",
            "Epoch 27/200\n",
            "2554/2554 [==============================] - 0s 127us/sample - loss: 0.0101 - val_loss: 0.0087\n",
            "Epoch 28/200\n",
            "2554/2554 [==============================] - 0s 126us/sample - loss: 0.0100 - val_loss: 0.0087\n",
            "Epoch 29/200\n",
            "2554/2554 [==============================] - 0s 122us/sample - loss: 0.0100 - val_loss: 0.0087\n",
            "Epoch 30/200\n",
            "2554/2554 [==============================] - 0s 125us/sample - loss: 0.0100 - val_loss: 0.0087\n",
            "Epoch 31/200\n",
            "2554/2554 [==============================] - 0s 136us/sample - loss: 0.0100 - val_loss: 0.0088\n",
            "Epoch 32/200\n",
            "2554/2554 [==============================] - 0s 130us/sample - loss: 0.0100 - val_loss: 0.0087\n",
            "Epoch 33/200\n",
            "2554/2554 [==============================] - 0s 125us/sample - loss: 0.0100 - val_loss: 0.0088\n",
            "Epoch 34/200\n",
            "2554/2554 [==============================] - 0s 124us/sample - loss: 0.0100 - val_loss: 0.0088\n",
            "Epoch 35/200\n",
            "2554/2554 [==============================] - 0s 121us/sample - loss: 0.0100 - val_loss: 0.0087\n",
            "Epoch 36/200\n",
            "2554/2554 [==============================] - 0s 129us/sample - loss: 0.0101 - val_loss: 0.0087\n",
            "Epoch 37/200\n",
            "2554/2554 [==============================] - 0s 125us/sample - loss: 0.0100 - val_loss: 0.0087\n",
            "Epoch 38/200\n",
            "2554/2554 [==============================] - 0s 125us/sample - loss: 0.0100 - val_loss: 0.0088\n",
            "Epoch 39/200\n",
            "2554/2554 [==============================] - 0s 127us/sample - loss: 0.0101 - val_loss: 0.0088\n",
            "Epoch 40/200\n",
            "2554/2554 [==============================] - 0s 121us/sample - loss: 0.0100 - val_loss: 0.0088\n",
            "Epoch 41/200\n",
            "2554/2554 [==============================] - 0s 126us/sample - loss: 0.0101 - val_loss: 0.0087\n",
            "Epoch 42/200\n",
            "2554/2554 [==============================] - 0s 128us/sample - loss: 0.0100 - val_loss: 0.0088\n",
            "Epoch 43/200\n",
            "2554/2554 [==============================] - 0s 124us/sample - loss: 0.0100 - val_loss: 0.0087\n",
            "Epoch 44/200\n",
            "2554/2554 [==============================] - 0s 125us/sample - loss: 0.0100 - val_loss: 0.0087\n",
            "Epoch 45/200\n",
            "2554/2554 [==============================] - 0s 131us/sample - loss: 0.0101 - val_loss: 0.0088\n",
            "Epoch 46/200\n",
            "2554/2554 [==============================] - 0s 124us/sample - loss: 0.0100 - val_loss: 0.0087\n",
            "Epoch 47/200\n",
            "2554/2554 [==============================] - 0s 125us/sample - loss: 0.0101 - val_loss: 0.0087\n",
            "Epoch 48/200\n",
            "2554/2554 [==============================] - 0s 118us/sample - loss: 0.0101 - val_loss: 0.0087\n",
            "Epoch 49/200\n",
            "2554/2554 [==============================] - 0s 119us/sample - loss: 0.0101 - val_loss: 0.0088\n",
            "Epoch 50/200\n",
            "2554/2554 [==============================] - 0s 133us/sample - loss: 0.0101 - val_loss: 0.0086\n",
            "Epoch 51/200\n",
            "2554/2554 [==============================] - 0s 121us/sample - loss: 0.0100 - val_loss: 0.0086\n",
            "Epoch 52/200\n",
            "2554/2554 [==============================] - 0s 123us/sample - loss: 0.0100 - val_loss: 0.0092\n",
            "Epoch 53/200\n",
            "2554/2554 [==============================] - 0s 116us/sample - loss: 0.0100 - val_loss: 0.0086\n",
            "Epoch 54/200\n",
            "2554/2554 [==============================] - 0s 116us/sample - loss: 0.0100 - val_loss: 0.0086\n",
            "Epoch 55/200\n",
            "2554/2554 [==============================] - 0s 123us/sample - loss: 0.0100 - val_loss: 0.0092\n",
            "Epoch 56/200\n",
            "2554/2554 [==============================] - 0s 128us/sample - loss: 0.0101 - val_loss: 0.0090\n",
            "Epoch 57/200\n",
            "2554/2554 [==============================] - 0s 124us/sample - loss: 0.0100 - val_loss: 0.0086\n",
            "Epoch 58/200\n",
            "2554/2554 [==============================] - 0s 131us/sample - loss: 0.0100 - val_loss: 0.0086\n",
            "Epoch 59/200\n",
            "2554/2554 [==============================] - 0s 140us/sample - loss: 0.0100 - val_loss: 0.0087\n",
            "Epoch 60/200\n",
            "2554/2554 [==============================] - 0s 126us/sample - loss: 0.0100 - val_loss: 0.0086\n",
            "Epoch 61/200\n",
            "2554/2554 [==============================] - 0s 124us/sample - loss: 0.0100 - val_loss: 0.0090\n",
            "Epoch 62/200\n",
            "2554/2554 [==============================] - 0s 124us/sample - loss: 0.0100 - val_loss: 0.0086\n",
            "Epoch 63/200\n",
            "2554/2554 [==============================] - 0s 123us/sample - loss: 0.0100 - val_loss: 0.0087\n",
            "Epoch 64/200\n",
            "2554/2554 [==============================] - 0s 137us/sample - loss: 0.0100 - val_loss: 0.0086\n",
            "Epoch 65/200\n",
            "2554/2554 [==============================] - 0s 138us/sample - loss: 0.0100 - val_loss: 0.0086\n",
            "Epoch 66/200\n",
            "2554/2554 [==============================] - 0s 134us/sample - loss: 0.0100 - val_loss: 0.0087\n",
            "Epoch 67/200\n",
            "2554/2554 [==============================] - 0s 128us/sample - loss: 0.0100 - val_loss: 0.0087\n",
            "Epoch 68/200\n",
            "2554/2554 [==============================] - 0s 126us/sample - loss: 0.0100 - val_loss: 0.0086\n",
            "Epoch 69/200\n",
            "2554/2554 [==============================] - 0s 137us/sample - loss: 0.0100 - val_loss: 0.0088\n",
            "Epoch 70/200\n",
            "2554/2554 [==============================] - 0s 134us/sample - loss: 0.0101 - val_loss: 0.0087\n",
            "Epoch 71/200\n",
            "2554/2554 [==============================] - 0s 131us/sample - loss: 0.0101 - val_loss: 0.0088\n",
            "Epoch 72/200\n",
            "2554/2554 [==============================] - 0s 132us/sample - loss: 0.0100 - val_loss: 0.0087\n",
            "Epoch 73/200\n",
            "2554/2554 [==============================] - 0s 133us/sample - loss: 0.0100 - val_loss: 0.0087\n",
            "Epoch 74/200\n",
            "2554/2554 [==============================] - 0s 120us/sample - loss: 0.0101 - val_loss: 0.0088\n",
            "Epoch 75/200\n",
            "2554/2554 [==============================] - 0s 127us/sample - loss: 0.0100 - val_loss: 0.0088\n",
            "Epoch 76/200\n",
            "2554/2554 [==============================] - 0s 125us/sample - loss: 0.0100 - val_loss: 0.0087\n",
            "Epoch 77/200\n",
            "2554/2554 [==============================] - 0s 123us/sample - loss: 0.0100 - val_loss: 0.0087\n",
            "Epoch 78/200\n",
            "2554/2554 [==============================] - 0s 129us/sample - loss: 0.0100 - val_loss: 0.0086\n",
            "Epoch 79/200\n",
            "2554/2554 [==============================] - 0s 136us/sample - loss: 0.0100 - val_loss: 0.0087\n",
            "Epoch 80/200\n",
            "2554/2554 [==============================] - 0s 126us/sample - loss: 0.0100 - val_loss: 0.0087\n",
            "Epoch 81/200\n",
            "2554/2554 [==============================] - 0s 118us/sample - loss: 0.0100 - val_loss: 0.0088\n",
            "Epoch 82/200\n",
            "2554/2554 [==============================] - 0s 127us/sample - loss: 0.0100 - val_loss: 0.0089\n",
            "Epoch 83/200\n",
            "2554/2554 [==============================] - 0s 125us/sample - loss: 0.0100 - val_loss: 0.0087\n",
            "Epoch 84/200\n",
            "2554/2554 [==============================] - 0s 127us/sample - loss: 0.0100 - val_loss: 0.0088\n",
            "Epoch 85/200\n",
            "2554/2554 [==============================] - 0s 125us/sample - loss: 0.0100 - val_loss: 0.0086\n",
            "Epoch 86/200\n",
            "2554/2554 [==============================] - 0s 123us/sample - loss: 0.0100 - val_loss: 0.0087\n",
            "Epoch 87/200\n",
            "2554/2554 [==============================] - 0s 131us/sample - loss: 0.0100 - val_loss: 0.0088\n",
            "Epoch 88/200\n",
            "2554/2554 [==============================] - 0s 131us/sample - loss: 0.0100 - val_loss: 0.0086\n",
            "Epoch 89/200\n",
            "2554/2554 [==============================] - 0s 128us/sample - loss: 0.0100 - val_loss: 0.0087\n",
            "Epoch 90/200\n",
            "2554/2554 [==============================] - 0s 136us/sample - loss: 0.0100 - val_loss: 0.0088\n",
            "Epoch 91/200\n",
            "2554/2554 [==============================] - 0s 127us/sample - loss: 0.0100 - val_loss: 0.0088\n",
            "Epoch 92/200\n",
            "2554/2554 [==============================] - 0s 125us/sample - loss: 0.0101 - val_loss: 0.0087\n",
            "Epoch 93/200\n",
            "2554/2554 [==============================] - 0s 129us/sample - loss: 0.0100 - val_loss: 0.0089\n",
            "Epoch 94/200\n",
            "2554/2554 [==============================] - 0s 124us/sample - loss: 0.0100 - val_loss: 0.0087\n",
            "Epoch 95/200\n",
            "2554/2554 [==============================] - 0s 128us/sample - loss: 0.0100 - val_loss: 0.0090\n",
            "Epoch 96/200\n",
            "2554/2554 [==============================] - 0s 126us/sample - loss: 0.0100 - val_loss: 0.0087\n",
            "Epoch 97/200\n",
            "2554/2554 [==============================] - 0s 137us/sample - loss: 0.0100 - val_loss: 0.0088\n",
            "Epoch 98/200\n",
            "2554/2554 [==============================] - 0s 127us/sample - loss: 0.0101 - val_loss: 0.0088\n",
            "Epoch 99/200\n",
            "2554/2554 [==============================] - 0s 128us/sample - loss: 0.0100 - val_loss: 0.0086\n",
            "Epoch 100/200\n",
            "2554/2554 [==============================] - 0s 137us/sample - loss: 0.0100 - val_loss: 0.0087\n",
            "Epoch 101/200\n",
            "2554/2554 [==============================] - 0s 136us/sample - loss: 0.0100 - val_loss: 0.0086\n",
            "Epoch 102/200\n",
            "2554/2554 [==============================] - 0s 141us/sample - loss: 0.0100 - val_loss: 0.0086\n",
            "Epoch 103/200\n",
            "2554/2554 [==============================] - 0s 137us/sample - loss: 0.0100 - val_loss: 0.0087\n",
            "Epoch 104/200\n",
            "2554/2554 [==============================] - 0s 138us/sample - loss: 0.0100 - val_loss: 0.0091\n",
            "Epoch 105/200\n",
            "2554/2554 [==============================] - 0s 140us/sample - loss: 0.0100 - val_loss: 0.0089\n",
            "Epoch 106/200\n",
            "2554/2554 [==============================] - 0s 149us/sample - loss: 0.0100 - val_loss: 0.0086\n",
            "Epoch 107/200\n",
            "2554/2554 [==============================] - 0s 140us/sample - loss: 0.0100 - val_loss: 0.0087\n",
            "Epoch 108/200\n",
            "2554/2554 [==============================] - 0s 134us/sample - loss: 0.0100 - val_loss: 0.0087\n",
            "Epoch 109/200\n",
            "2554/2554 [==============================] - 0s 144us/sample - loss: 0.0100 - val_loss: 0.0088\n",
            "Epoch 110/200\n",
            "2554/2554 [==============================] - 0s 134us/sample - loss: 0.0100 - val_loss: 0.0087\n",
            "Epoch 111/200\n",
            "2554/2554 [==============================] - 0s 133us/sample - loss: 0.0100 - val_loss: 0.0089\n",
            "Epoch 112/200\n",
            "2554/2554 [==============================] - 0s 137us/sample - loss: 0.0101 - val_loss: 0.0087\n",
            "Epoch 113/200\n",
            "2554/2554 [==============================] - 0s 140us/sample - loss: 0.0101 - val_loss: 0.0087\n",
            "Epoch 114/200\n",
            "2554/2554 [==============================] - 0s 138us/sample - loss: 0.0100 - val_loss: 0.0087\n",
            "Epoch 115/200\n",
            "2554/2554 [==============================] - 0s 135us/sample - loss: 0.0100 - val_loss: 0.0087\n",
            "Epoch 116/200\n",
            "2554/2554 [==============================] - 0s 130us/sample - loss: 0.0100 - val_loss: 0.0091\n",
            "Epoch 117/200\n",
            "2554/2554 [==============================] - 0s 134us/sample - loss: 0.0100 - val_loss: 0.0087\n",
            "Epoch 118/200\n",
            "2554/2554 [==============================] - 0s 137us/sample - loss: 0.0100 - val_loss: 0.0086\n",
            "Epoch 119/200\n",
            "2554/2554 [==============================] - 0s 138us/sample - loss: 0.0100 - val_loss: 0.0087\n",
            "Epoch 120/200\n",
            "2554/2554 [==============================] - 0s 150us/sample - loss: 0.0100 - val_loss: 0.0089\n",
            "Epoch 121/200\n",
            "2554/2554 [==============================] - 0s 139us/sample - loss: 0.0099 - val_loss: 0.0087\n",
            "Epoch 122/200\n",
            "2554/2554 [==============================] - 0s 136us/sample - loss: 0.0100 - val_loss: 0.0087\n",
            "Epoch 123/200\n",
            "2554/2554 [==============================] - 0s 138us/sample - loss: 0.0100 - val_loss: 0.0086\n",
            "Epoch 124/200\n",
            "2554/2554 [==============================] - 0s 138us/sample - loss: 0.0100 - val_loss: 0.0093\n",
            "Epoch 125/200\n",
            "2554/2554 [==============================] - 0s 138us/sample - loss: 0.0100 - val_loss: 0.0089\n",
            "Epoch 126/200\n",
            "2554/2554 [==============================] - 0s 149us/sample - loss: 0.0100 - val_loss: 0.0088\n",
            "Epoch 127/200\n",
            "2554/2554 [==============================] - 0s 144us/sample - loss: 0.0100 - val_loss: 0.0086\n",
            "Epoch 128/200\n",
            "2554/2554 [==============================] - 0s 148us/sample - loss: 0.0100 - val_loss: 0.0086\n",
            "Epoch 129/200\n",
            "2554/2554 [==============================] - 0s 137us/sample - loss: 0.0100 - val_loss: 0.0088\n",
            "Epoch 130/200\n",
            "2554/2554 [==============================] - 0s 139us/sample - loss: 0.0100 - val_loss: 0.0087\n",
            "Epoch 131/200\n",
            "2554/2554 [==============================] - 0s 141us/sample - loss: 0.0100 - val_loss: 0.0088\n",
            "Epoch 132/200\n",
            "2554/2554 [==============================] - 0s 123us/sample - loss: 0.0100 - val_loss: 0.0088\n",
            "Epoch 133/200\n",
            "2554/2554 [==============================] - 0s 144us/sample - loss: 0.0101 - val_loss: 0.0089\n",
            "Epoch 134/200\n",
            "2554/2554 [==============================] - 0s 143us/sample - loss: 0.0100 - val_loss: 0.0089\n",
            "Epoch 135/200\n",
            "2554/2554 [==============================] - 0s 150us/sample - loss: 0.0100 - val_loss: 0.0087\n",
            "Epoch 136/200\n",
            "2554/2554 [==============================] - 0s 146us/sample - loss: 0.0100 - val_loss: 0.0088\n",
            "Epoch 137/200\n",
            "2554/2554 [==============================] - 0s 156us/sample - loss: 0.0100 - val_loss: 0.0087\n",
            "Epoch 138/200\n",
            "2554/2554 [==============================] - 0s 142us/sample - loss: 0.0100 - val_loss: 0.0087\n",
            "Epoch 139/200\n",
            "2554/2554 [==============================] - 0s 142us/sample - loss: 0.0100 - val_loss: 0.0088\n",
            "Epoch 140/200\n",
            "2554/2554 [==============================] - 0s 138us/sample - loss: 0.0100 - val_loss: 0.0087\n",
            "Epoch 141/200\n",
            "2554/2554 [==============================] - 0s 135us/sample - loss: 0.0100 - val_loss: 0.0087\n",
            "Epoch 142/200\n",
            "2554/2554 [==============================] - 0s 145us/sample - loss: 0.0100 - val_loss: 0.0087\n",
            "Epoch 143/200\n",
            "2554/2554 [==============================] - 0s 141us/sample - loss: 0.0099 - val_loss: 0.0087\n",
            "Epoch 144/200\n",
            "2554/2554 [==============================] - 0s 139us/sample - loss: 0.0100 - val_loss: 0.0087\n",
            "Epoch 145/200\n",
            "2554/2554 [==============================] - 0s 143us/sample - loss: 0.0100 - val_loss: 0.0088\n",
            "Epoch 146/200\n",
            "2554/2554 [==============================] - 0s 138us/sample - loss: 0.0100 - val_loss: 0.0087\n",
            "Epoch 147/200\n",
            "2554/2554 [==============================] - 0s 138us/sample - loss: 0.0099 - val_loss: 0.0087\n",
            "Epoch 148/200\n",
            "2554/2554 [==============================] - 0s 147us/sample - loss: 0.0100 - val_loss: 0.0088\n",
            "Epoch 149/200\n",
            "2554/2554 [==============================] - 0s 137us/sample - loss: 0.0100 - val_loss: 0.0087\n",
            "Epoch 150/200\n",
            "2554/2554 [==============================] - 0s 139us/sample - loss: 0.0100 - val_loss: 0.0087\n",
            "Epoch 151/200\n",
            "2554/2554 [==============================] - 0s 152us/sample - loss: 0.0100 - val_loss: 0.0087\n",
            "Epoch 152/200\n",
            "2554/2554 [==============================] - 0s 142us/sample - loss: 0.0100 - val_loss: 0.0087\n",
            "Epoch 153/200\n",
            "2554/2554 [==============================] - 0s 147us/sample - loss: 0.0100 - val_loss: 0.0087\n",
            "Epoch 154/200\n",
            "2554/2554 [==============================] - 0s 148us/sample - loss: 0.0100 - val_loss: 0.0088\n",
            "Epoch 155/200\n",
            "2554/2554 [==============================] - 0s 137us/sample - loss: 0.0100 - val_loss: 0.0087\n",
            "Epoch 156/200\n",
            "2554/2554 [==============================] - 0s 138us/sample - loss: 0.0100 - val_loss: 0.0088\n",
            "Epoch 157/200\n",
            "2554/2554 [==============================] - 0s 138us/sample - loss: 0.0100 - val_loss: 0.0087\n",
            "Epoch 158/200\n",
            "2554/2554 [==============================] - 0s 140us/sample - loss: 0.0100 - val_loss: 0.0087\n",
            "Epoch 159/200\n",
            "2554/2554 [==============================] - 0s 136us/sample - loss: 0.0100 - val_loss: 0.0087\n",
            "Epoch 160/200\n",
            "2554/2554 [==============================] - 0s 147us/sample - loss: 0.0100 - val_loss: 0.0087\n",
            "Epoch 161/200\n",
            "2554/2554 [==============================] - 0s 138us/sample - loss: 0.0101 - val_loss: 0.0087\n",
            "Epoch 162/200\n",
            "2554/2554 [==============================] - 0s 128us/sample - loss: 0.0100 - val_loss: 0.0087\n",
            "Epoch 163/200\n",
            "2554/2554 [==============================] - 0s 126us/sample - loss: 0.0100 - val_loss: 0.0089\n",
            "Epoch 164/200\n",
            "2554/2554 [==============================] - 0s 116us/sample - loss: 0.0100 - val_loss: 0.0087\n",
            "Epoch 165/200\n",
            "2554/2554 [==============================] - 0s 120us/sample - loss: 0.0099 - val_loss: 0.0087\n",
            "Epoch 166/200\n",
            "2554/2554 [==============================] - 0s 125us/sample - loss: 0.0100 - val_loss: 0.0087\n",
            "Epoch 167/200\n",
            "2554/2554 [==============================] - 0s 120us/sample - loss: 0.0100 - val_loss: 0.0087\n",
            "Epoch 168/200\n",
            "2554/2554 [==============================] - 0s 130us/sample - loss: 0.0100 - val_loss: 0.0087\n",
            "Epoch 169/200\n",
            "2554/2554 [==============================] - 0s 126us/sample - loss: 0.0100 - val_loss: 0.0087\n",
            "Epoch 170/200\n",
            "2554/2554 [==============================] - 0s 116us/sample - loss: 0.0100 - val_loss: 0.0088\n",
            "Epoch 171/200\n",
            "2554/2554 [==============================] - 0s 132us/sample - loss: 0.0100 - val_loss: 0.0087\n",
            "Epoch 172/200\n",
            "2554/2554 [==============================] - 0s 124us/sample - loss: 0.0100 - val_loss: 0.0088\n",
            "Epoch 173/200\n",
            "2554/2554 [==============================] - 0s 126us/sample - loss: 0.0100 - val_loss: 0.0089\n",
            "Epoch 174/200\n",
            "2554/2554 [==============================] - 0s 123us/sample - loss: 0.0100 - val_loss: 0.0091\n",
            "Epoch 175/200\n",
            "2554/2554 [==============================] - 0s 124us/sample - loss: 0.0100 - val_loss: 0.0087\n",
            "Epoch 176/200\n",
            "2554/2554 [==============================] - 0s 127us/sample - loss: 0.0100 - val_loss: 0.0087\n",
            "Epoch 177/200\n",
            "2554/2554 [==============================] - 0s 127us/sample - loss: 0.0100 - val_loss: 0.0088\n",
            "Epoch 178/200\n",
            "2554/2554 [==============================] - 0s 126us/sample - loss: 0.0100 - val_loss: 0.0087\n",
            "Epoch 179/200\n",
            "2554/2554 [==============================] - 0s 128us/sample - loss: 0.0100 - val_loss: 0.0087\n",
            "Epoch 180/200\n",
            "2554/2554 [==============================] - 0s 128us/sample - loss: 0.0100 - val_loss: 0.0089\n",
            "Epoch 181/200\n",
            "2554/2554 [==============================] - 0s 125us/sample - loss: 0.0100 - val_loss: 0.0087\n",
            "Epoch 182/200\n",
            "2554/2554 [==============================] - 0s 125us/sample - loss: 0.0100 - val_loss: 0.0087\n",
            "Epoch 183/200\n",
            "2554/2554 [==============================] - 0s 127us/sample - loss: 0.0100 - val_loss: 0.0088\n",
            "Epoch 184/200\n",
            "2554/2554 [==============================] - 0s 119us/sample - loss: 0.0100 - val_loss: 0.0088\n",
            "Epoch 185/200\n",
            "2554/2554 [==============================] - 0s 125us/sample - loss: 0.0100 - val_loss: 0.0087\n",
            "Epoch 186/200\n",
            "2554/2554 [==============================] - 0s 130us/sample - loss: 0.0100 - val_loss: 0.0088\n",
            "Epoch 187/200\n",
            "2554/2554 [==============================] - 0s 123us/sample - loss: 0.0100 - val_loss: 0.0087\n",
            "Epoch 188/200\n",
            "2554/2554 [==============================] - 0s 126us/sample - loss: 0.0101 - val_loss: 0.0088\n",
            "Epoch 189/200\n",
            "2554/2554 [==============================] - 0s 140us/sample - loss: 0.0100 - val_loss: 0.0088\n",
            "Epoch 190/200\n",
            "2554/2554 [==============================] - 0s 123us/sample - loss: 0.0100 - val_loss: 0.0087\n",
            "Epoch 191/200\n",
            "2554/2554 [==============================] - 0s 122us/sample - loss: 0.0100 - val_loss: 0.0088\n",
            "Epoch 192/200\n",
            "2554/2554 [==============================] - 0s 133us/sample - loss: 0.0100 - val_loss: 0.0087\n",
            "Epoch 193/200\n",
            "2554/2554 [==============================] - 0s 136us/sample - loss: 0.0100 - val_loss: 0.0087\n",
            "Epoch 194/200\n",
            "2554/2554 [==============================] - 0s 152us/sample - loss: 0.0100 - val_loss: 0.0087\n",
            "Epoch 195/200\n",
            "2554/2554 [==============================] - 0s 148us/sample - loss: 0.0100 - val_loss: 0.0087\n",
            "Epoch 196/200\n",
            "2554/2554 [==============================] - 0s 152us/sample - loss: 0.0100 - val_loss: 0.0087\n",
            "Epoch 197/200\n",
            "2554/2554 [==============================] - 0s 139us/sample - loss: 0.0100 - val_loss: 0.0087\n",
            "Epoch 198/200\n",
            "2554/2554 [==============================] - 0s 161us/sample - loss: 0.0100 - val_loss: 0.0088\n",
            "Epoch 199/200\n",
            "2554/2554 [==============================] - 0s 153us/sample - loss: 0.0099 - val_loss: 0.0088\n",
            "Epoch 200/200\n",
            "2554/2554 [==============================] - 0s 149us/sample - loss: 0.0099 - val_loss: 0.0087\n"
          ],
          "name": "stdout"
        },
        {
          "output_type": "execute_result",
          "data": {
            "text/plain": [
              "<tensorflow.python.keras.callbacks.History at 0x7f61f1730f28>"
            ]
          },
          "metadata": {
            "tags": []
          },
          "execution_count": 132
        }
      ]
    },
    {
      "cell_type": "markdown",
      "metadata": {
        "colab_type": "text",
        "id": "eSQgnvPKMg4m"
      },
      "source": [
        "## Make Predictions and Evaluate your model"
      ]
    },
    {
      "cell_type": "code",
      "metadata": {
        "colab_type": "code",
        "id": "85Ip5wrq7Jyi",
        "colab": {}
      },
      "source": [
        "#Get prediction for both Training and Test Data\n",
        "trainPredict = model.predict(X_train)\n",
        "testPredict = model.predict(X_test)"
      ],
      "execution_count": 0,
      "outputs": []
    },
    {
      "cell_type": "code",
      "metadata": {
        "id": "G7eLPNRluu9K",
        "colab_type": "code",
        "colab": {}
      },
      "source": [
        "#Un-normalize the predited data\n",
        "trainPredict = model.predict(X_train)\n",
        "testPredict = model.predict(X_test)\n",
        "trainPredict = scaler.inverse_transform(trainPredict)\n",
        "testPredict = scaler.inverse_transform(testPredict)"
      ],
      "execution_count": 0,
      "outputs": []
    },
    {
      "cell_type": "markdown",
      "metadata": {
        "colab_type": "text",
        "id": "Ewi6Zyl9Mg4o"
      },
      "source": [
        "## Plot the results"
      ]
    },
    {
      "cell_type": "code",
      "metadata": {
        "colab_type": "code",
        "id": "FHbIWp-D7Jyn",
        "colab": {
          "base_uri": "https://localhost:8080/",
          "height": 592
        },
        "outputId": "c7c7feba-b164-41ad-d263-43978f360c8a"
      },
      "source": [
        "trainPredictPlot = np.empty_like(scaled)\n",
        "trainPredictPlot[:, :] = np.nan\n",
        "trainPredictPlot[window_size:len(trainPredict)+window_size, :] = trainPredict\n",
        "# shift test predictions for plotting\n",
        "testPredictPlot = np.empty_like(scaled)\n",
        "testPredictPlot[:, :] = np.nan\n",
        "testPredictPlot[len(trainPredict)+(window_size*2):len(scaled), :] = testPredict\n",
        "# plot baseline and predictions\n",
        "plt.figure(figsize=(20,10))\n",
        "plt.plot(scaler.inverse_transform(scaled))\n",
        "plt.plot(trainPredictPlot)\n",
        "plt.plot(testPredictPlot)\n",
        "plt.show()"
      ],
      "execution_count": 138,
      "outputs": [
        {
          "output_type": "display_data",
          "data": {
            "image/png": "[encoded data removed]",
            "text/plain": [
              "<Figure size 1440x720 with 1 Axes>"
            ]
          },
          "metadata": {
            "tags": []
          }
        }
      ]
    },
    {
      "cell_type": "code",
      "metadata": {
        "id": "5POz2oS4u_Cx",
        "colab_type": "code",
        "colab": {
          "base_uri": "https://localhost:8080/",
          "height": 34
        },
        "outputId": "5a48eae6-230c-4637-fca5-998cefeb6bbe"
      },
      "source": [
        "myInput = np.reshape(scaler.transform(pd.DataFrame({\"Temperature\":[21.8]})), 1,1)\n",
        "int(scaler.inverse_transform(model.predict(np.reshape(myInput, (1, 1, 1)))))"
      ],
      "execution_count": 139,
      "outputs": [
        {
          "output_type": "execute_result",
          "data": {
            "text/plain": [
              "18"
            ]
          },
          "metadata": {
            "tags": []
          },
          "execution_count": 139
        }
      ]
    }
  ]
}