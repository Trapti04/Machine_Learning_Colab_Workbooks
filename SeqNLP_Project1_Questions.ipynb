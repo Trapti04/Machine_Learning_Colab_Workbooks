{
  "nbformat": 4,
  "nbformat_minor": 0,
  "metadata": {
    "colab": {
      "name": "SeqNLP_Project1_Questions.ipynb",
      "provenance": [],
      "collapsed_sections": [],
      "include_colab_link": true
    },
    "kernelspec": {
      "name": "python3",
      "display_name": "Python 3"
    },
    "accelerator": "GPU"
  },
  "cells": [
    {
      "cell_type": "markdown",
      "metadata": {
        "id": "view-in-github",
        "colab_type": "text"
      },
      "source": [
        "<a href=\"https://colab.research.google.com/github/GreatLearningAIML1/delhi-may19-batch-Trapti04/blob/master/SeqNLP_Project1_Questions.ipynb\" target=\"_parent\"><img src=\"https://colab.research.google.com/assets/colab-badge.svg\" alt=\"Open In Colab\"/></a>"
      ]
    },
    {
      "cell_type": "markdown",
      "metadata": {
        "colab_type": "text",
        "id": "xT7MKZuMRaCg"
      },
      "source": [
        "# Sentiment Classification\n",
        "\n",
        "\n",
        "### Generate Word Embeddings and retrieve outputs of each layer with Keras based on Classification task\n",
        "\n",
        "Word embeddings are a type of word representation that allows words with similar meaning to have a similar representation.\n",
        "\n",
        "It is a distributed representation for text that is perhaps one of the key breakthroughs for the impressive performance of deep learning methods on challenging natural language processing problems.\n",
        "\n",
        "We willl use the imdb dataset to learn word embeddings as we train our dataset. This dataset contains 25,000 movie reviews from IMDB, labeled with sentiment (positive or negative). \n",
        "\n",
        "\n",
        "\n",
        "### Dataset\n",
        "\n",
        "`from keras.datasets import imdb`\n",
        "\n",
        "Dataset of 25,000 movies reviews from IMDB, labeled by sentiment (positive/negative). Reviews have been preprocessed, and each review is encoded as a sequence of word indexes (integers). For convenience, the words are indexed by their frequency in the dataset, meaning the for that has index 1 is the most frequent word. Use the first 20 words from each review to speed up training, using a max vocab size of 10,000.\n",
        "\n",
        "As a convention, \"0\" does not stand for a specific word, but instead is used to encode any unknown word.\n",
        "\n",
        "\n",
        "### Aim\n",
        "\n",
        "1. Import test and train data  \n",
        "2. Import the labels ( train and test) \n",
        "3. Get the word index and then Create key value pair for word and word_id. (12.5 points)\n",
        "4. Build a Sequential Model using Keras for Sentiment Classification task. (10 points)\n",
        "5. Report the Accuracy of the model. (5 points)  \n",
        "6. Retrive the output of each layer in keras for a given single test sample from the trained model you built. (2.5 points)\n"
      ]
    },
    {
      "cell_type": "markdown",
      "metadata": {
        "colab_type": "text",
        "id": "Wq4RCyyPSYRp"
      },
      "source": [
        "#### Usage:"
      ]
    },
    {
      "cell_type": "code",
      "metadata": {
        "id": "XEucUyE3kjxd",
        "colab_type": "code",
        "colab": {
          "base_uri": "https://localhost:8080/",
          "height": 34
        },
        "outputId": "f01dcc69-0db6-4e80-ce62-6e52876671f4"
      },
      "source": [
        "from keras.preprocessing.sequence import pad_sequences\n",
        "from keras.models import Sequential\n",
        "from keras.layers import Dense, Embedding\n",
        "from keras.layers import LSTM\n",
        "from keras.datasets import imdb"
      ],
      "execution_count": 2,
      "outputs": [
        {
          "output_type": "stream",
          "text": [
            "Using TensorFlow backend.\n"
          ],
          "name": "stderr"
        }
      ]
    },
    {
      "cell_type": "code",
      "metadata": {
        "colab_type": "code",
        "id": "NGCtiXUhSWss",
        "colab": {
          "base_uri": "https://localhost:8080/",
          "height": 68
        },
        "outputId": "66e08f1c-e468-461c-bae4-0f2c1cddfb68"
      },
      "source": [
        "vocab_size = 10000 #vocab size\n",
        "print('Loading data as a list of ints...')\n",
        "(x_train, y_train), (x_test, y_test) = imdb.load_data(num_words=vocab_size) # vocab_size is no.of words to consider from the dataset, ordering based on frequency."
      ],
      "execution_count": 3,
      "outputs": [
        {
          "output_type": "stream",
          "text": [
            "Loading data as a list of ints...\n",
            "Downloading data from https://s3.amazonaws.com/text-datasets/imdb.npz\n",
            "17465344/17464789 [==============================] - 0s 0us/step\n"
          ],
          "name": "stdout"
        }
      ]
    },
    {
      "cell_type": "code",
      "metadata": {
        "id": "rNR0Pq93l4IA",
        "colab_type": "code",
        "colab": {
          "base_uri": "https://localhost:8080/",
          "height": 51
        },
        "outputId": "d6b0b7d0-a6ac-4a8c-9bc6-a06e98e5fac1"
      },
      "source": [
        "print(len(x_train), 'train sequences')\n",
        "print(len(x_test), 'test sequences')"
      ],
      "execution_count": 4,
      "outputs": [
        {
          "output_type": "stream",
          "text": [
            "25000 train sequences\n",
            "25000 test sequences\n"
          ],
          "name": "stdout"
        }
      ]
    },
    {
      "cell_type": "code",
      "metadata": {
        "colab_type": "code",
        "id": "FfeLRlWHlIFu",
        "colab": {}
      },
      "source": [
        "# cut texts after this number of words (among top max_features most common words)\n",
        "maxlen = 300  #number of word used from each review"
      ],
      "execution_count": 0,
      "outputs": []
    },
    {
      "cell_type": "code",
      "metadata": {
        "id": "h0g381XzeCyz",
        "colab_type": "code",
        "colab": {
          "base_uri": "https://localhost:8080/",
          "height": 51
        },
        "outputId": "65b3c510-e868-4a6e-9183-29e1ccc6ee22"
      },
      "source": [
        "#make all sequences of the same length\n",
        "x_train = pad_sequences(x_train, maxlen=maxlen)\n",
        "x_test =  pad_sequences(x_test, maxlen=maxlen)\n",
        "print('x_train shape:', x_train.shape)\n",
        "print('x_test shape:', x_test.shape)"
      ],
      "execution_count": 6,
      "outputs": [
        {
          "output_type": "stream",
          "text": [
            "x_train shape: (25000, 300)\n",
            "x_test shape: (25000, 300)\n"
          ],
          "name": "stdout"
        }
      ]
    },
    {
      "cell_type": "code",
      "metadata": {
        "id": "B9omGDLwYroU",
        "colab_type": "code",
        "colab": {
          "base_uri": "https://localhost:8080/",
          "height": 493
        },
        "outputId": "3acf42ca-0b6d-44e5-f240-7b95466450cf"
      },
      "source": [
        "x_test[0,:] # sample view of what a training sample looks like."
      ],
      "execution_count": 12,
      "outputs": [
        {
          "output_type": "execute_result",
          "data": {
            "text/plain": [
              "array([   0,    0,    0,    0,    0,    0,    0,    0,    0,    0,    0,\n",
              "          0,    0,    0,    0,    0,    0,    0,    0,    0,    0,    0,\n",
              "          0,    0,    0,    0,    0,    0,    0,    0,    0,    0,    0,\n",
              "          0,    0,    0,    0,    0,    0,    0,    0,    0,    0,    0,\n",
              "          0,    0,    0,    0,    0,    0,    0,    0,    0,    0,    0,\n",
              "          0,    0,    0,    0,    0,    0,    0,    0,    0,    0,    0,\n",
              "          0,    0,    0,    0,    0,    0,    0,    0,    0,    0,    0,\n",
              "          0,    0,    0,    0,    0,    0,    0,    0,    0,    0,    0,\n",
              "          0,    0,    0,    0,    0,    0,    0,    0,    0,    0,    0,\n",
              "          0,    0,    0,    0,    0,    0,    0,    0,    0,    0,    0,\n",
              "          0,    0,    0,    0,    0,    0,    0,    0,    0,    0,    0,\n",
              "          0,    0,    0,    0,    0,    0,    0,    0,    0,    0,    0,\n",
              "          0,    0,    0,    0,    0,    0,    0,    0,    0,    0,    0,\n",
              "          0,    0,    0,    0,    0,    0,    0,    0,    0,    0,    0,\n",
              "          0,    0,    0,    0,    0,    0,    0,    0,    0,    0,    0,\n",
              "          0,    0,    0,    0,    0,    0,    0,    0,    0,    0,    0,\n",
              "          0,    0,    0,    0,    0,    0,    0,    0,    0,    0,    0,\n",
              "          0,    0,    0,    0,    0,    0,    0,    0,    0,    0,    0,\n",
              "          0,    0,    0,    0,    0,    0,    0,    0,    0,    0,    0,\n",
              "          0,    0,    0,    0,    0,    0,    0,    0,    0,    0,    0,\n",
              "          0,    0,    0,    0,    0,    0,    0,    0,    0,    0,    0,\n",
              "          0,    1,  591,  202,   14,   31,    6,  717,   10,   10,    2,\n",
              "          2,    5,    4,  360,    7,    4,  177, 5760,  394,  354,    4,\n",
              "        123,    9, 1035, 1035, 1035,   10,   10,   13,   92,  124,   89,\n",
              "        488, 7944,  100,   28, 1668,   14,   31,   23,   27, 7479,   29,\n",
              "        220,  468,    8,  124,   14,  286,  170,    8,  157,   46,    5,\n",
              "         27,  239,   16,  179,    2,   38,   32,   25, 7944,  451,  202,\n",
              "         14,    6,  717], dtype=int32)"
            ]
          },
          "metadata": {
            "tags": []
          },
          "execution_count": 12
        }
      ]
    },
    {
      "cell_type": "code",
      "metadata": {
        "id": "TQ-9Y1y0m_Ku",
        "colab_type": "code",
        "colab": {
          "base_uri": "https://localhost:8080/",
          "height": 51
        },
        "outputId": "edabeb50-7f1d-4fed-e49f-cb3e19768ce3"
      },
      "source": [
        "print(len(y_train), 'train labels')\n",
        "print(len(y_test), 'test labels')"
      ],
      "execution_count": 7,
      "outputs": [
        {
          "output_type": "stream",
          "text": [
            "25000 train labels\n",
            "25000 test labels\n"
          ],
          "name": "stdout"
        }
      ]
    },
    {
      "cell_type": "code",
      "metadata": {
        "id": "345GrYjNZglk",
        "colab_type": "code",
        "colab": {
          "base_uri": "https://localhost:8080/",
          "height": 34
        },
        "outputId": "64622618-4f06-4efb-9155-beb34e553379"
      },
      "source": [
        "print('Build model...')\n",
        "model = Sequential()\n",
        "model.add(Embedding(vocab_size, 128))\n",
        "model.add(LSTM(128, dropout=0.2, recurrent_dropout=0.2))\n",
        "model.add(Dense(1, activation='sigmoid'))\n",
        "\n",
        "# will try using different optimizers and different optimizer configs\n",
        "model.compile(loss='binary_crossentropy',\n",
        "              optimizer='adam',\n",
        "              metrics=['accuracy'])\n"
      ],
      "execution_count": 8,
      "outputs": [
        {
          "output_type": "stream",
          "text": [
            "Build model...\n"
          ],
          "name": "stdout"
        }
      ]
    },
    {
      "cell_type": "code",
      "metadata": {
        "id": "Otvm1CJxpiBQ",
        "colab_type": "code",
        "colab": {}
      },
      "source": [
        "batch_size = 32"
      ],
      "execution_count": 0,
      "outputs": []
    },
    {
      "cell_type": "code",
      "metadata": {
        "id": "N1MxnShcnbMh",
        "colab_type": "code",
        "colab": {
          "base_uri": "https://localhost:8080/",
          "height": 442
        },
        "outputId": "91ddf5ff-28e2-4777-a2f2-655619589b71"
      },
      "source": [
        "print('Train...')\n",
        "model.fit(x_train, y_train,batch_size=batch_size, epochs=10,validation_data=(x_test, y_test))\n",
        "score, acc = model.evaluate(x_test, y_test, batch_size=batch_size)\n",
        "print('Test score:', score)\n",
        "print('Test accuracy:', acc)"
      ],
      "execution_count": 41,
      "outputs": [
        {
          "output_type": "stream",
          "text": [
            "Train...\n",
            "Train on 25000 samples, validate on 25000 samples\n",
            "Epoch 1/10\n",
            "25000/25000 [==============================] - 460s 18ms/step - loss: 0.2882 - accuracy: 0.8836 - val_loss: 0.3808 - val_accuracy: 0.8442\n",
            "Epoch 2/10\n",
            "25000/25000 [==============================] - 453s 18ms/step - loss: 0.2276 - accuracy: 0.9121 - val_loss: 0.3681 - val_accuracy: 0.8572\n",
            "Epoch 3/10\n",
            "25000/25000 [==============================] - 451s 18ms/step - loss: 0.1735 - accuracy: 0.9349 - val_loss: 0.3957 - val_accuracy: 0.8498\n",
            "Epoch 4/10\n",
            "25000/25000 [==============================] - 449s 18ms/step - loss: 0.1364 - accuracy: 0.9492 - val_loss: 0.4290 - val_accuracy: 0.8556\n",
            "Epoch 5/10\n",
            "25000/25000 [==============================] - 444s 18ms/step - loss: 0.1204 - accuracy: 0.9568 - val_loss: 0.4346 - val_accuracy: 0.8532\n",
            "Epoch 6/10\n",
            "25000/25000 [==============================] - 444s 18ms/step - loss: 0.0889 - accuracy: 0.9685 - val_loss: 0.4942 - val_accuracy: 0.8463\n",
            "Epoch 7/10\n",
            "25000/25000 [==============================] - 445s 18ms/step - loss: 0.0663 - accuracy: 0.9775 - val_loss: 0.5760 - val_accuracy: 0.8480\n",
            "Epoch 8/10\n",
            "25000/25000 [==============================] - 444s 18ms/step - loss: 0.0551 - accuracy: 0.9814 - val_loss: 0.5692 - val_accuracy: 0.8500\n",
            "Epoch 9/10\n",
            "25000/25000 [==============================] - 444s 18ms/step - loss: 0.0488 - accuracy: 0.9842 - val_loss: 0.6106 - val_accuracy: 0.8492\n",
            "Epoch 10/10\n",
            "25000/25000 [==============================] - 443s 18ms/step - loss: 0.0349 - accuracy: 0.9885 - val_loss: 0.6207 - val_accuracy: 0.8468\n",
            "25000/25000 [==============================] - 33s 1ms/step\n",
            "Test score: 0.6207315696120262\n",
            "Test accuracy: 0.8467599749565125\n"
          ],
          "name": "stdout"
        }
      ]
    },
    {
      "cell_type": "markdown",
      "metadata": {
        "id": "dybtUgUReCy8",
        "colab_type": "text"
      },
      "source": [
        "## Build Keras Embedding Layer Model\n",
        "We can think of the Embedding layer as a dicionary that maps a index assigned to a word to a word vector. This layer is very flexible and can be used in a few ways:\n",
        "\n",
        "* The embedding layer can be used at the start of a larger deep learning model. \n",
        "* Also we could load pre-train word embeddings into the embedding layer when we create our model.\n",
        "* Use the embedding layer to train our own word2vec models.\n",
        "\n",
        "The keras embedding layer doesn't require us to onehot encode our words, instead we have to give each word a unqiue intger number as an id. For the imdb dataset we've loaded this has already been done, but if this wasn't the case we could use sklearn [LabelEncoder](http://scikit-learn.org/stable/modules/generated/sklearn.preprocessing.LabelEncoder.html)."
      ]
    },
    {
      "cell_type": "code",
      "metadata": {
        "id": "TxNDNhrseCzA",
        "colab_type": "code",
        "colab": {
          "base_uri": "https://localhost:8080/",
          "height": 255
        },
        "outputId": "1b55df3d-83c3-4cb3-b5de-adec0a9c2581"
      },
      "source": [
        "model.summary() # summary of the model built above"
      ],
      "execution_count": 42,
      "outputs": [
        {
          "output_type": "stream",
          "text": [
            "Model: \"sequential_1\"\n",
            "_________________________________________________________________\n",
            "Layer (type)                 Output Shape              Param #   \n",
            "=================================================================\n",
            "embedding_1 (Embedding)      (None, None, 128)         1280000   \n",
            "_________________________________________________________________\n",
            "lstm_1 (LSTM)                (None, 128)               131584    \n",
            "_________________________________________________________________\n",
            "dense_1 (Dense)              (None, 1)                 129       \n",
            "=================================================================\n",
            "Total params: 1,411,713\n",
            "Trainable params: 1,411,713\n",
            "Non-trainable params: 0\n",
            "_________________________________________________________________\n"
          ],
          "name": "stdout"
        }
      ]
    },
    {
      "cell_type": "markdown",
      "metadata": {
        "id": "Igq8Qm8GeCzG",
        "colab_type": "text"
      },
      "source": [
        "## Retrive the output of each layer in keras for a given single test sample from the trained model you built"
      ]
    },
    {
      "cell_type": "code",
      "metadata": {
        "id": "jCa9FLnnw5_f",
        "colab_type": "code",
        "colab": {
          "base_uri": "https://localhost:8080/",
          "height": 391
        },
        "outputId": "b249e250-989a-4c2e-b627-eb195cdd1594"
      },
      "source": [
        "input_shape = x_test[0,:]\n",
        "print(\"Test input\", input_shape)"
      ],
      "execution_count": 43,
      "outputs": [
        {
          "output_type": "stream",
          "text": [
            "Test input [   0    0    0    0    0    0    0    0    0    0    0    0    0    0\n",
            "    0    0    0    0    0    0    0    0    0    0    0    0    0    0\n",
            "    0    0    0    0    0    0    0    0    0    0    0    0    0    0\n",
            "    0    0    0    0    0    0    0    0    0    0    0    0    0    0\n",
            "    0    0    0    0    0    0    0    0    0    0    0    0    0    0\n",
            "    0    0    0    0    0    0    0    0    0    0    0    0    0    0\n",
            "    0    0    0    0    0    0    0    0    0    0    0    0    0    0\n",
            "    0    0    0    0    0    0    0    0    0    0    0    0    0    0\n",
            "    0    0    0    0    0    0    0    0    0    0    0    0    0    0\n",
            "    0    0    0    0    0    0    0    0    0    0    0    0    0    0\n",
            "    0    0    0    0    0    0    0    0    0    0    0    0    0    0\n",
            "    0    0    0    0    0    0    0    0    0    0    0    0    0    0\n",
            "    0    0    0    0    0    0    0    0    0    0    0    0    0    0\n",
            "    0    0    0    0    0    0    0    0    0    0    0    0    0    0\n",
            "    0    0    0    0    0    0    0    0    0    0    0    0    0    0\n",
            "    0    0    0    0    0    0    0    0    0    0    0    0    0    0\n",
            "    0    0    0    0    0    0    0    0    1  591  202   14   31    6\n",
            "  717   10   10    2    2    5    4  360    7    4  177 5760  394  354\n",
            "    4  123    9 1035 1035 1035   10   10   13   92  124   89  488 7944\n",
            "  100   28 1668   14   31   23   27 7479   29  220  468    8  124   14\n",
            "  286  170    8  157   46    5   27  239   16  179    2   38   32   25\n",
            " 7944  451  202   14    6  717]\n"
          ],
          "name": "stdout"
        }
      ]
    },
    {
      "cell_type": "code",
      "metadata": {
        "id": "Tskt_1npeCzP",
        "colab_type": "code",
        "colab": {
          "base_uri": "https://localhost:8080/",
          "height": 663
        },
        "outputId": "1f02c66b-65fd-4a53-b875-f12570a3608c"
      },
      "source": [
        "from keras import backend as back\n",
        "\n",
        "inpt = model.input\n",
        "output = [layer.output for layer in model.layers]\n",
        "evalFunction = [back.function([inpt, back.learning_phase()], [out]) for out in output]\n",
        "\n",
        "layerOpt = [func([x_test[[0]], 1]) for func in evalFunction]\n",
        "print(layerOpt)"
      ],
      "execution_count": 44,
      "outputs": [
        {
          "output_type": "stream",
          "text": [
            "[[array([[[-0.01958594, -0.07941326, -0.0056704 , ..., -0.0429342 ,\n",
            "          0.03579984,  0.04388482],\n",
            "        [-0.01958594, -0.07941326, -0.0056704 , ..., -0.0429342 ,\n",
            "          0.03579984,  0.04388482],\n",
            "        [-0.01958594, -0.07941326, -0.0056704 , ..., -0.0429342 ,\n",
            "          0.03579984,  0.04388482],\n",
            "        ...,\n",
            "        [ 0.0993589 , -0.00456585, -0.09932908, ...,  0.03250732,\n",
            "          0.03377443,  0.02973673],\n",
            "        [ 0.03030975, -0.00253651,  0.04216104, ...,  0.07718196,\n",
            "         -0.00934459, -0.05002823],\n",
            "        [-0.04258195, -0.06253711, -0.17224348, ...,  0.05432844,\n",
            "         -0.07417119,  0.02632374]]], dtype=float32)], [array([[ 0.1725192 ,  0.02031459, -0.09959959, -0.15237378,  0.10832769,\n",
            "        -0.01714554, -0.09406634, -0.06904251, -0.01397615, -0.00389728,\n",
            "         0.14921723, -0.50293636,  0.05859414,  0.07923333, -0.13156933,\n",
            "        -0.48329574, -0.05083937, -0.2708171 , -0.11430614, -0.1472006 ,\n",
            "        -0.00121022,  0.07283178,  0.05321192, -0.02605742, -0.06026261,\n",
            "        -0.04836049,  0.04862405,  0.02803506, -0.16122991, -0.1116797 ,\n",
            "        -0.16515829, -0.00615289, -0.5110276 ,  0.21411467, -0.25602928,\n",
            "        -0.02232128, -0.00964604, -0.10008066,  0.08173978,  0.11683379,\n",
            "        -0.31812513, -0.04522363,  0.07530516, -0.07888705,  0.07669975,\n",
            "        -0.06780262,  0.00093909,  0.05254717,  0.12138733,  0.08401588,\n",
            "        -0.08436623, -0.06150853,  0.9258759 ,  0.10367718, -0.03830636,\n",
            "         0.11892256,  0.0737358 , -0.0304853 , -0.12195323, -0.01665873,\n",
            "         0.16241542,  0.10808758,  0.03023693,  0.05671649,  0.02240321,\n",
            "         0.11937688,  0.02460613, -0.08400914, -0.08960618, -0.5069196 ,\n",
            "         0.13059142,  0.31374854, -0.01756174, -0.10623025,  0.09916052,\n",
            "         0.00206484,  0.71061456, -0.16271824,  0.0019597 , -0.02974189,\n",
            "         0.00914805, -0.027726  ,  0.03515306, -0.00752054, -0.14501712,\n",
            "        -0.02903754, -0.04512733, -0.00296057,  0.0412994 , -0.02462517,\n",
            "         0.08558928,  0.0695386 , -0.4044924 ,  0.11573774, -0.05689604,\n",
            "        -0.00927105,  0.06872559,  0.41806427,  0.06228548, -0.0644067 ,\n",
            "         0.06153323,  0.11667389, -0.10696658, -0.05349044, -0.01996178,\n",
            "        -0.04875622, -0.00179374,  0.03731223, -0.14030774, -0.08237369,\n",
            "        -0.01761428,  0.05813473, -0.00942716,  0.10392065, -0.22361071,\n",
            "         0.09035217, -0.0888505 , -0.05916657, -0.1668967 , -0.00392406,\n",
            "         0.0632486 ,  0.00378015,  0.03062216,  0.78806853,  0.15298901,\n",
            "         0.1662515 , -0.15685797,  0.2043832 ]], dtype=float32)], [array([[0.03054881]], dtype=float32)]]\n"
          ],
          "name": "stdout"
        }
      ]
    },
    {
      "cell_type": "code",
      "metadata": {
        "id": "V5dNvn3D3H0j",
        "colab_type": "code",
        "colab": {
          "base_uri": "https://localhost:8080/",
          "height": 255
        },
        "outputId": "8570e86d-96a3-462d-e570-632d6601caad"
      },
      "source": [
        "print('Embedding layer Output')\n",
        "layerOpt[0][0]"
      ],
      "execution_count": 45,
      "outputs": [
        {
          "output_type": "stream",
          "text": [
            "Embedding layer Output\n"
          ],
          "name": "stdout"
        },
        {
          "output_type": "execute_result",
          "data": {
            "text/plain": [
              "array([[[-0.01958594, -0.07941326, -0.0056704 , ..., -0.0429342 ,\n",
              "          0.03579984,  0.04388482],\n",
              "        [-0.01958594, -0.07941326, -0.0056704 , ..., -0.0429342 ,\n",
              "          0.03579984,  0.04388482],\n",
              "        [-0.01958594, -0.07941326, -0.0056704 , ..., -0.0429342 ,\n",
              "          0.03579984,  0.04388482],\n",
              "        ...,\n",
              "        [ 0.0993589 , -0.00456585, -0.09932908, ...,  0.03250732,\n",
              "          0.03377443,  0.02973673],\n",
              "        [ 0.03030975, -0.00253651,  0.04216104, ...,  0.07718196,\n",
              "         -0.00934459, -0.05002823],\n",
              "        [-0.04258195, -0.06253711, -0.17224348, ...,  0.05432844,\n",
              "         -0.07417119,  0.02632374]]], dtype=float32)"
            ]
          },
          "metadata": {
            "tags": []
          },
          "execution_count": 45
        }
      ]
    },
    {
      "cell_type": "code",
      "metadata": {
        "id": "PXViM3cK3Mli",
        "colab_type": "code",
        "colab": {
          "base_uri": "https://localhost:8080/",
          "height": 476
        },
        "outputId": "62ca769c-d86a-421d-8328-900ccace1808"
      },
      "source": [
        "print('LSTM Output')\n",
        "layerOpt[1]"
      ],
      "execution_count": 46,
      "outputs": [
        {
          "output_type": "stream",
          "text": [
            "LSTM Output\n"
          ],
          "name": "stdout"
        },
        {
          "output_type": "execute_result",
          "data": {
            "text/plain": [
              "[array([[ 0.1725192 ,  0.02031459, -0.09959959, -0.15237378,  0.10832769,\n",
              "         -0.01714554, -0.09406634, -0.06904251, -0.01397615, -0.00389728,\n",
              "          0.14921723, -0.50293636,  0.05859414,  0.07923333, -0.13156933,\n",
              "         -0.48329574, -0.05083937, -0.2708171 , -0.11430614, -0.1472006 ,\n",
              "         -0.00121022,  0.07283178,  0.05321192, -0.02605742, -0.06026261,\n",
              "         -0.04836049,  0.04862405,  0.02803506, -0.16122991, -0.1116797 ,\n",
              "         -0.16515829, -0.00615289, -0.5110276 ,  0.21411467, -0.25602928,\n",
              "         -0.02232128, -0.00964604, -0.10008066,  0.08173978,  0.11683379,\n",
              "         -0.31812513, -0.04522363,  0.07530516, -0.07888705,  0.07669975,\n",
              "         -0.06780262,  0.00093909,  0.05254717,  0.12138733,  0.08401588,\n",
              "         -0.08436623, -0.06150853,  0.9258759 ,  0.10367718, -0.03830636,\n",
              "          0.11892256,  0.0737358 , -0.0304853 , -0.12195323, -0.01665873,\n",
              "          0.16241542,  0.10808758,  0.03023693,  0.05671649,  0.02240321,\n",
              "          0.11937688,  0.02460613, -0.08400914, -0.08960618, -0.5069196 ,\n",
              "          0.13059142,  0.31374854, -0.01756174, -0.10623025,  0.09916052,\n",
              "          0.00206484,  0.71061456, -0.16271824,  0.0019597 , -0.02974189,\n",
              "          0.00914805, -0.027726  ,  0.03515306, -0.00752054, -0.14501712,\n",
              "         -0.02903754, -0.04512733, -0.00296057,  0.0412994 , -0.02462517,\n",
              "          0.08558928,  0.0695386 , -0.4044924 ,  0.11573774, -0.05689604,\n",
              "         -0.00927105,  0.06872559,  0.41806427,  0.06228548, -0.0644067 ,\n",
              "          0.06153323,  0.11667389, -0.10696658, -0.05349044, -0.01996178,\n",
              "         -0.04875622, -0.00179374,  0.03731223, -0.14030774, -0.08237369,\n",
              "         -0.01761428,  0.05813473, -0.00942716,  0.10392065, -0.22361071,\n",
              "          0.09035217, -0.0888505 , -0.05916657, -0.1668967 , -0.00392406,\n",
              "          0.0632486 ,  0.00378015,  0.03062216,  0.78806853,  0.15298901,\n",
              "          0.1662515 , -0.15685797,  0.2043832 ]], dtype=float32)]"
            ]
          },
          "metadata": {
            "tags": []
          },
          "execution_count": 46
        }
      ]
    },
    {
      "cell_type": "code",
      "metadata": {
        "id": "ubDYFS1r3UFS",
        "colab_type": "code",
        "colab": {
          "base_uri": "https://localhost:8080/",
          "height": 51
        },
        "outputId": "08fd0dc4-0638-45a1-fbf1-93b15eb2fdf6"
      },
      "source": [
        "print('Dense Layer output')\n",
        "layerOpt[2]"
      ],
      "execution_count": 47,
      "outputs": [
        {
          "output_type": "stream",
          "text": [
            "Dense Layer output\n"
          ],
          "name": "stdout"
        },
        {
          "output_type": "execute_result",
          "data": {
            "text/plain": [
              "[array([[0.03054881]], dtype=float32)]"
            ]
          },
          "metadata": {
            "tags": []
          },
          "execution_count": 47
        }
      ]
    }
  ]
}