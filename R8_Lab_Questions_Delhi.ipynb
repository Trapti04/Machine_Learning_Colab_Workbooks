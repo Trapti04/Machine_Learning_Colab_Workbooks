{
  "nbformat": 4,
  "nbformat_minor": 0,
  "metadata": {
    "accelerator": "GPU",
    "colab": {
      "name": "R8_Lab_Questions_Delhi.ipynb",
      "provenance": [],
      "collapsed_sections": [],
      "include_colab_link": true
    },
    "kernelspec": {
      "display_name": "Python 3",
      "language": "python",
      "name": "python3"
    },
    "language_info": {
      "codemirror_mode": {
        "name": "ipython",
        "version": 3
      },
      "file_extension": ".py",
      "mimetype": "text/x-python",
      "name": "python",
      "nbconvert_exporter": "python",
      "pygments_lexer": "ipython3",
      "version": "3.7.1"
    }
  },
  "cells": [
    {
      "cell_type": "markdown",
      "metadata": {
        "id": "view-in-github",
        "colab_type": "text"
      },
      "source": [
        "<a href=\"https://colab.research.google.com/github/GreatLearningAIML1/delhi-may19-batch-Trapti04/blob/master/R8_Lab_Questions_Delhi.ipynb\" target=\"_parent\"><img src=\"https://colab.research.google.com/assets/colab-badge.svg\" alt=\"Open In Colab\"/></a>"
      ]
    },
    {
      "cell_type": "markdown",
      "metadata": {
        "colab_type": "text",
        "id": "NFfDTfhlaEI_"
      },
      "source": [
        "# Transfer Learning MNIST"
      ]
    },
    {
      "cell_type": "markdown",
      "metadata": {
        "colab_type": "text",
        "id": "rNwbqCFRaEJC"
      },
      "source": [
        "* Train a simple convnet on the MNIST dataset the first 5 digits [0-4].\n",
        "* Freeze convolutional layers and fine-tune dense layers for the classification of digits [5-9]."
      ]
    },
    {
      "cell_type": "markdown",
      "metadata": {
        "id": "5Dnzaw1i5sXF",
        "colab_type": "text"
      },
      "source": [
        "## MNIST Dataset\n",
        "The MNIST database contains 60,000 training images and 10,000 testing images taken from American Census Bureau employees and American high school students. The MNIST dataset is one of the most common datasets used for image classification and accessible from many different sources. In fact, even Tensorflow and Keras allow us to import and download the MNIST dataset directly from their API."
      ]
    },
    {
      "cell_type": "markdown",
      "metadata": {
        "id": "bpUULy1Z5sXF",
        "colab_type": "text"
      },
      "source": [
        "Let's import keras and load MNIST dataset"
      ]
    },
    {
      "cell_type": "code",
      "metadata": {
        "id": "KiG7IPhm5sXG",
        "colab_type": "code",
        "colab": {}
      },
      "source": [
        "# Initialize the random number generator\n",
        "import random\n",
        "random.seed(0)\n",
        "\n",
        "import warnings\n",
        "warnings.filterwarnings(\"ignore\")"
      ],
      "execution_count": 0,
      "outputs": []
    },
    {
      "cell_type": "code",
      "metadata": {
        "id": "unjwV8uxMZ5r",
        "colab_type": "code",
        "colab": {
          "base_uri": "https://localhost:8080/",
          "height": 35
        },
        "outputId": "4b3260fb-e570-40a0-c1c0-5a2686908d9d"
      },
      "source": [
        "%tensorflow_version 2.x"
      ],
      "execution_count": 3,
      "outputs": [
        {
          "output_type": "stream",
          "text": [
            "TensorFlow 2.x selected.\n"
          ],
          "name": "stdout"
        }
      ]
    },
    {
      "cell_type": "code",
      "metadata": {
        "id": "h3NpwqhDMpBh",
        "colab_type": "code",
        "colab": {}
      },
      "source": [
        "import tensorflow\n",
        "import numpy as np\n",
        "\n",
        "from tensorflow.keras import optimizers\n",
        "from tensorflow.keras.models import Sequential\n",
        "from tensorflow.keras.layers import Dense, Activation, Dropout, Flatten\n",
        "from tensorflow.keras.layers import Convolution2D, MaxPooling2D\n",
        "\n",
        "from tensorflow.keras.optimizers import SGD\n",
        "from tensorflow.keras.losses import categorical_crossentropy\n",
        "\n",
        "# metrics related\n",
        "from sklearn.metrics import confusion_matrix\n",
        "from sklearn.metrics import classification_report"
      ],
      "execution_count": 0,
      "outputs": []
    },
    {
      "cell_type": "code",
      "metadata": {
        "id": "ZqUiJM_Z5sXL",
        "colab_type": "code",
        "outputId": "90411db3-fb33-480b-b61d-2189c64cac71",
        "colab": {
          "base_uri": "https://localhost:8080/",
          "height": 52
        }
      },
      "source": [
        "from tensorflow.keras.backend import backend\n",
        "from tensorflow.keras.datasets import mnist\n",
        "\n",
        "# the data, shuffled and split between train and test sets\n",
        "(X_train, y_train), (X_test, y_test) = mnist.load_data()"
      ],
      "execution_count": 5,
      "outputs": [
        {
          "output_type": "stream",
          "text": [
            "Downloading data from https://storage.googleapis.com/tensorflow/tf-keras-datasets/mnist.npz\n",
            "11493376/11490434 [==============================] - 0s 0us/step\n"
          ],
          "name": "stdout"
        }
      ]
    },
    {
      "cell_type": "markdown",
      "metadata": {
        "id": "RVw4wsuW5sXO",
        "colab_type": "text"
      },
      "source": [
        "X_train and X_test contain greyscale RGB codes (from 0 to 255) while y_train and y_test contains labels from 0 to 9 which represents which number they actually are."
      ]
    },
    {
      "cell_type": "markdown",
      "metadata": {
        "id": "xgQ86Vhw5sXP",
        "colab_type": "text"
      },
      "source": [
        "Let's visualize some numbers using matplotlib"
      ]
    },
    {
      "cell_type": "code",
      "metadata": {
        "id": "VZwg00gO5sXQ",
        "colab_type": "code",
        "outputId": "03ff653d-72ef-409a-f428-3623459d2e6d",
        "colab": {
          "base_uri": "https://localhost:8080/",
          "height": 300
        }
      },
      "source": [
        "import matplotlib.pyplot as plt\n",
        "%matplotlib inline\n",
        "print(\"Label: {}\".format(y_train[1000]))\n",
        "plt.imshow(X_train[1000], cmap='gray')"
      ],
      "execution_count": 6,
      "outputs": [
        {
          "output_type": "stream",
          "text": [
            "Label: 0\n"
          ],
          "name": "stdout"
        },
        {
          "output_type": "execute_result",
          "data": {
            "text/plain": [
              "<matplotlib.image.AxesImage at 0x7f8df2de8a58>"
            ]
          },
          "metadata": {
            "tags": []
          },
          "execution_count": 6
        },
        {
          "output_type": "display_data",
          "data": {
            "image/png": "[encoded data removed]",
            "text/plain": [
              "<Figure size 432x288 with 1 Axes>"
            ]
          },
          "metadata": {
            "tags": []
          }
        }
      ]
    },
    {
      "cell_type": "markdown",
      "metadata": {
        "id": "p64mhwp95sXS",
        "colab_type": "text"
      },
      "source": [
        "## Question 1"
      ]
    },
    {
      "cell_type": "markdown",
      "metadata": {
        "id": "XxNAiWYd5sXT",
        "colab_type": "text"
      },
      "source": [
        "### Create two datasets\n",
        "- First having digits from 0 to 4\n",
        "- Second having digits from 5 to 9\n",
        "\n",
        "Hint: use labels to separate data"
      ]
    },
    {
      "cell_type": "code",
      "metadata": {
        "id": "1807m1CL5sXT",
        "colab_type": "code",
        "colab": {}
      },
      "source": [
        "X_train_04 = X_train[y_train < 5]"
      ],
      "execution_count": 0,
      "outputs": []
    },
    {
      "cell_type": "code",
      "metadata": {
        "id": "328sN1LaNZkQ",
        "colab_type": "code",
        "colab": {}
      },
      "source": [
        "X_train_59 = X_train[y_train >= 5]"
      ],
      "execution_count": 0,
      "outputs": []
    },
    {
      "cell_type": "code",
      "metadata": {
        "id": "6_NW6GWSOBHW",
        "colab_type": "code",
        "colab": {}
      },
      "source": [
        "y_train_04 =y_train[y_train < 5]\n",
        "y_train_59 = y_train[y_train >= 5]"
      ],
      "execution_count": 0,
      "outputs": []
    },
    {
      "cell_type": "code",
      "metadata": {
        "id": "F1efSWLQRPlb",
        "colab_type": "code",
        "colab": {}
      },
      "source": [
        "X_test_04 = X_test[y_test < 5]"
      ],
      "execution_count": 0,
      "outputs": []
    },
    {
      "cell_type": "code",
      "metadata": {
        "id": "J7AQw8nhRYzO",
        "colab_type": "code",
        "colab": {}
      },
      "source": [
        "X_test_59 = X_test[y_test >= 5]"
      ],
      "execution_count": 0,
      "outputs": []
    },
    {
      "cell_type": "code",
      "metadata": {
        "id": "Esr92AzqRg16",
        "colab_type": "code",
        "colab": {}
      },
      "source": [
        "y_test_04 =y_test[y_test < 5]\n",
        "y_test_59 = y_test[y_test >= 5]"
      ],
      "execution_count": 0,
      "outputs": []
    },
    {
      "cell_type": "markdown",
      "metadata": {
        "id": "M9jKcF1z5sXV",
        "colab_type": "text"
      },
      "source": [
        "## Question 2"
      ]
    },
    {
      "cell_type": "markdown",
      "metadata": {
        "id": "NMo7lvwQ5sXW",
        "colab_type": "text"
      },
      "source": [
        "### Print shape of the data\n",
        "- print shape of all variables of both the datasets you created"
      ]
    },
    {
      "cell_type": "code",
      "metadata": {
        "id": "kH7ZjEoH5sXW",
        "colab_type": "code",
        "colab": {
          "base_uri": "https://localhost:8080/",
          "height": 35
        },
        "outputId": "a9714463-d525-4916-f203-a4871b5527d2"
      },
      "source": [
        "X_train_04.shape"
      ],
      "execution_count": 13,
      "outputs": [
        {
          "output_type": "execute_result",
          "data": {
            "text/plain": [
              "(30596, 28, 28)"
            ]
          },
          "metadata": {
            "tags": []
          },
          "execution_count": 13
        }
      ]
    },
    {
      "cell_type": "code",
      "metadata": {
        "id": "W8k2Q2rQOq-Z",
        "colab_type": "code",
        "colab": {
          "base_uri": "https://localhost:8080/",
          "height": 35
        },
        "outputId": "316e1de0-0028-463c-afca-40b40cbe3fdb"
      },
      "source": [
        "X_train_59.shape"
      ],
      "execution_count": 14,
      "outputs": [
        {
          "output_type": "execute_result",
          "data": {
            "text/plain": [
              "(29404, 28, 28)"
            ]
          },
          "metadata": {
            "tags": []
          },
          "execution_count": 14
        }
      ]
    },
    {
      "cell_type": "code",
      "metadata": {
        "id": "xTTM1xZKOxZ6",
        "colab_type": "code",
        "colab": {
          "base_uri": "https://localhost:8080/",
          "height": 35
        },
        "outputId": "c54d96ea-07e7-4c47-d6c2-5f66b688b9c2"
      },
      "source": [
        "y_train_04.shape"
      ],
      "execution_count": 15,
      "outputs": [
        {
          "output_type": "execute_result",
          "data": {
            "text/plain": [
              "(30596,)"
            ]
          },
          "metadata": {
            "tags": []
          },
          "execution_count": 15
        }
      ]
    },
    {
      "cell_type": "code",
      "metadata": {
        "id": "qb6VBbnvO3bz",
        "colab_type": "code",
        "colab": {
          "base_uri": "https://localhost:8080/",
          "height": 35
        },
        "outputId": "aebaca0c-bd5c-40b1-f2b0-f33e7d8e198c"
      },
      "source": [
        "y_train_59.shape"
      ],
      "execution_count": 16,
      "outputs": [
        {
          "output_type": "execute_result",
          "data": {
            "text/plain": [
              "(29404,)"
            ]
          },
          "metadata": {
            "tags": []
          },
          "execution_count": 16
        }
      ]
    },
    {
      "cell_type": "code",
      "metadata": {
        "id": "djJ38-iaR2rA",
        "colab_type": "code",
        "colab": {
          "base_uri": "https://localhost:8080/",
          "height": 35
        },
        "outputId": "040f44d2-c0bf-483c-ffae-02f71ac920e7"
      },
      "source": [
        "X_test_04.shape"
      ],
      "execution_count": 17,
      "outputs": [
        {
          "output_type": "execute_result",
          "data": {
            "text/plain": [
              "(5139, 28, 28)"
            ]
          },
          "metadata": {
            "tags": []
          },
          "execution_count": 17
        }
      ]
    },
    {
      "cell_type": "code",
      "metadata": {
        "id": "v_e5wlbFR3EY",
        "colab_type": "code",
        "colab": {
          "base_uri": "https://localhost:8080/",
          "height": 35
        },
        "outputId": "a46c8101-9860-47bd-fb89-166681814b92"
      },
      "source": [
        "X_test_59.shape"
      ],
      "execution_count": 18,
      "outputs": [
        {
          "output_type": "execute_result",
          "data": {
            "text/plain": [
              "(4861, 28, 28)"
            ]
          },
          "metadata": {
            "tags": []
          },
          "execution_count": 18
        }
      ]
    },
    {
      "cell_type": "code",
      "metadata": {
        "id": "SQ3HVKdlR3eO",
        "colab_type": "code",
        "colab": {
          "base_uri": "https://localhost:8080/",
          "height": 35
        },
        "outputId": "19208d5a-b13b-4815-afee-608a4162ddca"
      },
      "source": [
        "y_test_04.shape"
      ],
      "execution_count": 19,
      "outputs": [
        {
          "output_type": "execute_result",
          "data": {
            "text/plain": [
              "(5139,)"
            ]
          },
          "metadata": {
            "tags": []
          },
          "execution_count": 19
        }
      ]
    },
    {
      "cell_type": "code",
      "metadata": {
        "id": "L3iz2eIwR30g",
        "colab_type": "code",
        "colab": {
          "base_uri": "https://localhost:8080/",
          "height": 35
        },
        "outputId": "33fdbe09-b926-466b-a059-b16a457af3aa"
      },
      "source": [
        "y_test_59.shape"
      ],
      "execution_count": 20,
      "outputs": [
        {
          "output_type": "execute_result",
          "data": {
            "text/plain": [
              "(4861,)"
            ]
          },
          "metadata": {
            "tags": []
          },
          "execution_count": 20
        }
      ]
    },
    {
      "cell_type": "markdown",
      "metadata": {
        "id": "IUU4PkKU5sXY",
        "colab_type": "text"
      },
      "source": [
        "## Question 3"
      ]
    },
    {
      "cell_type": "markdown",
      "metadata": {
        "id": "4I8ajqdt5sXY",
        "colab_type": "text"
      },
      "source": [
        "### Reshape data\n",
        "- reshape first dataset\n",
        "- To be able to use the dataset in Keras, we need 4-dims numpy arrays. \n",
        "- reshape features to pass it to a Conv2D layer\n",
        "- channel = 1\n",
        "- reshape features of first dataset only\n",
        "- do not reshape labels"
      ]
    },
    {
      "cell_type": "code",
      "metadata": {
        "id": "38wgBEcz5sXa",
        "colab_type": "code",
        "colab": {}
      },
      "source": [
        "X_train_04 = np.asarray(X_train_04).reshape(X_train_04.shape[0],X_train_04.shape[1], X_train_04.shape[2], 1)"
      ],
      "execution_count": 0,
      "outputs": []
    },
    {
      "cell_type": "code",
      "metadata": {
        "id": "VfeRkMMdSQsC",
        "colab_type": "code",
        "colab": {}
      },
      "source": [
        "X_test_04 = np.asarray(X_test_04).reshape(X_test_04.shape[0],X_test_04.shape[1], X_test_04.shape[2], 1)"
      ],
      "execution_count": 0,
      "outputs": []
    },
    {
      "cell_type": "markdown",
      "metadata": {
        "id": "_5H-BtNm5sXg",
        "colab_type": "text"
      },
      "source": [
        "## Question 4"
      ]
    },
    {
      "cell_type": "markdown",
      "metadata": {
        "id": "2ahCMtCl5sXh",
        "colab_type": "text"
      },
      "source": [
        "### Normalize data\n",
        "- normalize first dataset\n",
        "- we must normalize our data as it is always required in neural network models\n",
        "- we can achieve this by dividing the RGB codes to 255 (which is the maximum RGB code minus the minimum RGB code)\n",
        "- normalize X_train and X_test\n",
        "- make sure that the values are float so that we can get decimal points after division"
      ]
    },
    {
      "cell_type": "code",
      "metadata": {
        "id": "z4mti7pg5sXj",
        "colab_type": "code",
        "colab": {}
      },
      "source": [
        "X_train_04 = X_train_04 / 255.0"
      ],
      "execution_count": 0,
      "outputs": []
    },
    {
      "cell_type": "code",
      "metadata": {
        "id": "ssB9w-zlSqkz",
        "colab_type": "code",
        "colab": {}
      },
      "source": [
        "X_test_04 = X_test_04/255.0"
      ],
      "execution_count": 0,
      "outputs": []
    },
    {
      "cell_type": "code",
      "metadata": {
        "id": "N_jA1j0hTRxG",
        "colab_type": "code",
        "colab": {
          "base_uri": "https://localhost:8080/",
          "height": 35
        },
        "outputId": "2e094c29-ddab-4210-c63e-4fd8a456b4cf"
      },
      "source": [
        "X_train_04.dtype"
      ],
      "execution_count": 25,
      "outputs": [
        {
          "output_type": "execute_result",
          "data": {
            "text/plain": [
              "dtype('float64')"
            ]
          },
          "metadata": {
            "tags": []
          },
          "execution_count": 25
        }
      ]
    },
    {
      "cell_type": "markdown",
      "metadata": {
        "id": "TfQ6545D5sXp",
        "colab_type": "text"
      },
      "source": [
        "### Print shape of data and number of images\n",
        "- for first dataset\n",
        "- print shape of X_train\n",
        "- print number of images in X_train\n",
        "- print number of images in X_test"
      ]
    },
    {
      "cell_type": "code",
      "metadata": {
        "id": "uQfQXZMo5sXp",
        "colab_type": "code",
        "colab": {
          "base_uri": "https://localhost:8080/",
          "height": 70
        },
        "outputId": "b6c12f4a-a0b9-4c04-fbee-96c32ba1aaf9"
      },
      "source": [
        "print(X_train_04.shape)\n",
        "print(X_train_04.shape[0])\n",
        "print(X_test_04.shape[0])"
      ],
      "execution_count": 26,
      "outputs": [
        {
          "output_type": "stream",
          "text": [
            "(30596, 28, 28, 1)\n",
            "30596\n",
            "5139\n"
          ],
          "name": "stdout"
        }
      ]
    },
    {
      "cell_type": "markdown",
      "metadata": {
        "id": "9oFjomSh5sXu",
        "colab_type": "text"
      },
      "source": [
        "## Question 5"
      ]
    },
    {
      "cell_type": "markdown",
      "metadata": {
        "id": "2lEFQQNk5sXu",
        "colab_type": "text"
      },
      "source": [
        "### One-hot encode the class vector\n",
        "- encode labels of first dataset\n",
        "- convert class vectors (integers) to binary class matrix\n",
        "- convert y_train and y_test\n",
        "- number of classes: 5\n",
        "- we are doing this to use categorical_crossentropy as loss\n",
        "\n",
        "Hint: you can use keras.utils.to_categorical"
      ]
    },
    {
      "cell_type": "code",
      "metadata": {
        "id": "aejx3Zb35sXv",
        "colab_type": "code",
        "colab": {}
      },
      "source": [
        "#ONE HOT VECTOR CONVERSION\n",
        "y_test_04 = tensorflow.keras.utils.to_categorical(y_test_04, num_classes=5)\n",
        "y_train_04 = tensorflow.keras.utils.to_categorical(y_train_04, num_classes=5)"
      ],
      "execution_count": 0,
      "outputs": []
    },
    {
      "cell_type": "markdown",
      "metadata": {
        "id": "PlkiipRA5sXw",
        "colab_type": "text"
      },
      "source": [
        "## Question 6\n",
        "We will build our model by using high level Keras."
      ]
    },
    {
      "cell_type": "markdown",
      "metadata": {
        "id": "KzYMC_xm5sXx",
        "colab_type": "text"
      },
      "source": [
        "### Initialize a sequential model\n",
        "- define a sequential model\n",
        "- add 2 convolutional layers\n",
        "    - no of filters: 32\n",
        "    - kernel size: 3x3\n",
        "    - activation: \"relu\"\n",
        "    - input shape: (28, 28, 1) for first layer\n",
        "- add a max pooling layer of size 2x2\n",
        "- add a dropout layer\n",
        "    - dropout layers fight with the overfitting by disregarding some of the neurons while training\n",
        "    - use dropout rate 0.2"
      ]
    },
    {
      "cell_type": "code",
      "metadata": {
        "id": "mDr-HKl-5sXx",
        "colab_type": "code",
        "colab": {}
      },
      "source": [
        "model = Sequential()\n",
        "\n",
        "model.add(Convolution2D(32, (3, 3), padding=\"same\",activation = \"relu\", input_shape=(28,28,1)))\n",
        "model.add(Convolution2D(32, (3, 3), padding=\"same\",activation = \"relu\"))\n",
        "\n",
        "model.add(MaxPooling2D(pool_size=(2, 2)))\n",
        "\n",
        "model.add(Dropout(0.2))"
      ],
      "execution_count": 0,
      "outputs": []
    },
    {
      "cell_type": "markdown",
      "metadata": {
        "id": "k2RaPWiP5sXz",
        "colab_type": "text"
      },
      "source": [
        "## Question 7"
      ]
    },
    {
      "cell_type": "markdown",
      "metadata": {
        "id": "4ajGIM6t5sXz",
        "colab_type": "text"
      },
      "source": [
        "### Add classification layers\n",
        "- do this after doing question 6\n",
        "- flatten the data\n",
        "    - add Flatten later\n",
        "    - flatten layers flatten 2D arrays to 1D array before building the fully connected layers\n",
        "- add 2 dense layers\n",
        "    - number of neurons in first layer: 128\n",
        "    - number of neurons in last layer: number of classes\n",
        "    - activation function in first layer: relu\n",
        "    - activation function in last layer: softmax\n",
        "    - we may experiment with any number of neurons for the first Dense layer; however, the final Dense layer must have neurons equal to the number of output classes\n",
        "- you can add a dropout layer in between, if necessary"
      ]
    },
    {
      "cell_type": "code",
      "metadata": {
        "id": "jBxWAN265sX0",
        "colab_type": "code",
        "colab": {}
      },
      "source": [
        "model.add(Flatten())\n",
        "model.add(Dense(128, activation = \"relu\"))\n",
        "model.add(Dropout(0.2))\n",
        "model.add(Dense(5, activation = \"softmax\"))"
      ],
      "execution_count": 0,
      "outputs": []
    },
    {
      "cell_type": "markdown",
      "metadata": {
        "id": "Lhtm4d5K5sX1",
        "colab_type": "text"
      },
      "source": [
        "## Question 8"
      ]
    },
    {
      "cell_type": "markdown",
      "metadata": {
        "id": "SmXg8EaF5sX2",
        "colab_type": "text"
      },
      "source": [
        "### Compile and fit the model\n",
        "- compile your model\n",
        "    - loss: \"categorical_crossentropy\"\n",
        "    - metrics: \"accuracy\"\n",
        "    - optimizer: \"sgd\"\n",
        "- fit your model\n",
        "    - give train data - features and labels\n",
        "    - batch size: 128\n",
        "    - epochs: 10\n",
        "    - give validation data - features and labels"
      ]
    },
    {
      "cell_type": "code",
      "metadata": {
        "id": "cgclxC8s5sX4",
        "colab_type": "code",
        "colab": {
          "base_uri": "https://localhost:8080/",
          "height": 444
        },
        "outputId": "91754226-8ba9-4460-a2c6-7094d374c24e"
      },
      "source": [
        "model.summary()"
      ],
      "execution_count": 30,
      "outputs": [
        {
          "output_type": "stream",
          "text": [
            "Model: \"sequential\"\n",
            "_________________________________________________________________\n",
            "Layer (type)                 Output Shape              Param #   \n",
            "=================================================================\n",
            "conv2d (Conv2D)              (None, 28, 28, 32)        320       \n",
            "_________________________________________________________________\n",
            "conv2d_1 (Conv2D)            (None, 28, 28, 32)        9248      \n",
            "_________________________________________________________________\n",
            "max_pooling2d (MaxPooling2D) (None, 14, 14, 32)        0         \n",
            "_________________________________________________________________\n",
            "dropout (Dropout)            (None, 14, 14, 32)        0         \n",
            "_________________________________________________________________\n",
            "flatten (Flatten)            (None, 6272)              0         \n",
            "_________________________________________________________________\n",
            "dense (Dense)                (None, 128)               802944    \n",
            "_________________________________________________________________\n",
            "dropout_1 (Dropout)          (None, 128)               0         \n",
            "_________________________________________________________________\n",
            "dense_1 (Dense)              (None, 5)                 645       \n",
            "=================================================================\n",
            "Total params: 813,157\n",
            "Trainable params: 813,157\n",
            "Non-trainable params: 0\n",
            "_________________________________________________________________\n"
          ],
          "name": "stdout"
        }
      ]
    },
    {
      "cell_type": "code",
      "metadata": {
        "id": "YzKip9qyXmuQ",
        "colab_type": "code",
        "colab": {}
      },
      "source": [
        "opt = SGD()\n",
        "# use categorical_crossentropy as there are 5 classes\n",
        "model.compile(loss=\"categorical_crossentropy\", optimizer=opt, metrics=[\"accuracy\"])"
      ],
      "execution_count": 0,
      "outputs": []
    },
    {
      "cell_type": "code",
      "metadata": {
        "id": "W3fZKnqIaWfK",
        "colab_type": "code",
        "colab": {
          "base_uri": "https://localhost:8080/",
          "height": 35
        },
        "outputId": "1b7def00-0dd8-4a7e-f6c6-8101689bb470"
      },
      "source": [
        "y_test_04.shape"
      ],
      "execution_count": 32,
      "outputs": [
        {
          "output_type": "execute_result",
          "data": {
            "text/plain": [
              "(5139, 5)"
            ]
          },
          "metadata": {
            "tags": []
          },
          "execution_count": 32
        }
      ]
    },
    {
      "cell_type": "code",
      "metadata": {
        "id": "XVck8HElZE9s",
        "colab_type": "code",
        "colab": {
          "base_uri": "https://localhost:8080/",
          "height": 586
        },
        "outputId": "89a01156-86de-4aac-e192-2884cbe8c8ce"
      },
      "source": [
        "model.fit(X_train_04,y_train_04,          \n",
        "          validation_data=(X_test_04,y_test_04),\n",
        "          epochs=15,\n",
        "          batch_size = 128)"
      ],
      "execution_count": 33,
      "outputs": [
        {
          "output_type": "stream",
          "text": [
            "Train on 30596 samples, validate on 5139 samples\n",
            "Epoch 1/15\n",
            "30596/30596 [==============================] - 8s 261us/sample - loss: 0.5409 - accuracy: 0.8489 - val_loss: 0.1153 - val_accuracy: 0.9669\n",
            "Epoch 2/15\n",
            "30596/30596 [==============================] - 1s 45us/sample - loss: 0.1536 - accuracy: 0.9534 - val_loss: 0.3188 - val_accuracy: 0.8842\n",
            "Epoch 3/15\n",
            "30596/30596 [==============================] - 1s 45us/sample - loss: 0.1274 - accuracy: 0.9592 - val_loss: 0.0704 - val_accuracy: 0.9784\n",
            "Epoch 4/15\n",
            "30596/30596 [==============================] - 1s 45us/sample - loss: 0.1101 - accuracy: 0.9651 - val_loss: 0.0631 - val_accuracy: 0.9805\n",
            "Epoch 5/15\n",
            "30596/30596 [==============================] - 1s 45us/sample - loss: 0.0981 - accuracy: 0.9677 - val_loss: 0.0543 - val_accuracy: 0.9840\n",
            "Epoch 6/15\n",
            "30596/30596 [==============================] - 1s 45us/sample - loss: 0.0887 - accuracy: 0.9721 - val_loss: 0.0543 - val_accuracy: 0.9821\n",
            "Epoch 7/15\n",
            "30596/30596 [==============================] - 1s 45us/sample - loss: 0.0829 - accuracy: 0.9746 - val_loss: 0.0460 - val_accuracy: 0.9854\n",
            "Epoch 8/15\n",
            "30596/30596 [==============================] - 1s 45us/sample - loss: 0.0772 - accuracy: 0.9759 - val_loss: 0.0973 - val_accuracy: 0.9677\n",
            "Epoch 9/15\n",
            "30596/30596 [==============================] - 1s 45us/sample - loss: 0.0755 - accuracy: 0.9761 - val_loss: 0.0807 - val_accuracy: 0.9743\n",
            "Epoch 10/15\n",
            "30596/30596 [==============================] - 1s 44us/sample - loss: 0.0691 - accuracy: 0.9790 - val_loss: 0.0493 - val_accuracy: 0.9825\n",
            "Epoch 11/15\n",
            "30596/30596 [==============================] - 1s 44us/sample - loss: 0.0645 - accuracy: 0.9801 - val_loss: 0.0353 - val_accuracy: 0.9885\n",
            "Epoch 12/15\n",
            "30596/30596 [==============================] - 1s 45us/sample - loss: 0.0609 - accuracy: 0.9817 - val_loss: 0.0328 - val_accuracy: 0.9899\n",
            "Epoch 13/15\n",
            "30596/30596 [==============================] - 1s 44us/sample - loss: 0.0594 - accuracy: 0.9821 - val_loss: 0.0293 - val_accuracy: 0.9907\n",
            "Epoch 14/15\n",
            "30596/30596 [==============================] - 1s 44us/sample - loss: 0.0574 - accuracy: 0.9824 - val_loss: 0.0296 - val_accuracy: 0.9893\n",
            "Epoch 15/15\n",
            "30596/30596 [==============================] - 1s 45us/sample - loss: 0.0548 - accuracy: 0.9830 - val_loss: 0.0270 - val_accuracy: 0.9909\n"
          ],
          "name": "stdout"
        },
        {
          "output_type": "execute_result",
          "data": {
            "text/plain": [
              "<tensorflow.python.keras.callbacks.History at 0x7f8dcc745fd0>"
            ]
          },
          "metadata": {
            "tags": []
          },
          "execution_count": 33
        }
      ]
    },
    {
      "cell_type": "markdown",
      "metadata": {
        "id": "oSVZUu3p5sX5",
        "colab_type": "text"
      },
      "source": [
        "## Question 9"
      ]
    },
    {
      "cell_type": "markdown",
      "metadata": {
        "id": "Y5TQ3yLV5sX6",
        "colab_type": "text"
      },
      "source": [
        "### Evaluate model\n",
        "- evaluate your model and get accuracy\n",
        "- use test features and labels"
      ]
    },
    {
      "cell_type": "code",
      "metadata": {
        "id": "bBvuD3ba5sX7",
        "colab_type": "code",
        "colab": {}
      },
      "source": [
        "y_pred_04 = model.predict(X_test_04)"
      ],
      "execution_count": 0,
      "outputs": []
    },
    {
      "cell_type": "code",
      "metadata": {
        "id": "a5aB9xYjeV9T",
        "colab_type": "code",
        "colab": {
          "base_uri": "https://localhost:8080/",
          "height": 106
        },
        "outputId": "47d6695c-8acc-44ab-869c-a71c571d2cde"
      },
      "source": [
        "# Convert predictions classes to one hot vectors \n",
        "Y_pred_04 = np.argmax(y_pred_04 ,axis = 1) \n",
        "# Convert validation observations to one hot vectors\n",
        "Y_true = np.argmax(y_test_04,axis = 1) \n",
        "# compute the confusion matrix\n",
        "\n",
        "confusion_mtx = confusion_matrix(Y_true, Y_pred_04) \n",
        "# plot the confusion matrix\n",
        "confusion_mtx"
      ],
      "execution_count": 35,
      "outputs": [
        {
          "output_type": "execute_result",
          "data": {
            "text/plain": [
              "array([[ 976,    0,    1,    3,    0],\n",
              "       [   1, 1130,    4,    0,    0],\n",
              "       [   6,    3, 1010,    9,    4],\n",
              "       [   0,    2,    4, 1002,    2],\n",
              "       [   1,    0,    7,    0,  974]])"
            ]
          },
          "metadata": {
            "tags": []
          },
          "execution_count": 35
        }
      ]
    },
    {
      "cell_type": "code",
      "metadata": {
        "colab_type": "code",
        "outputId": "01edbb44-0074-4be1-c474-c73a6687f9fc",
        "id": "SeX05haigHzK",
        "colab": {
          "base_uri": "https://localhost:8080/",
          "height": 230
        }
      },
      "source": [
        "\n",
        "target_names = ['class 0', 'class 1', 'class 2', 'class 3', 'class 4', ]\n",
        "print(classification_report(Y_true, Y_pred_04, target_names= target_names))"
      ],
      "execution_count": 36,
      "outputs": [
        {
          "output_type": "stream",
          "text": [
            "              precision    recall  f1-score   support\n",
            "\n",
            "     class 0       0.99      1.00      0.99       980\n",
            "     class 1       1.00      1.00      1.00      1135\n",
            "     class 2       0.98      0.98      0.98      1032\n",
            "     class 3       0.99      0.99      0.99      1010\n",
            "     class 4       0.99      0.99      0.99       982\n",
            "\n",
            "    accuracy                           0.99      5139\n",
            "   macro avg       0.99      0.99      0.99      5139\n",
            "weighted avg       0.99      0.99      0.99      5139\n",
            "\n"
          ],
          "name": "stdout"
        }
      ]
    },
    {
      "cell_type": "markdown",
      "metadata": {
        "id": "8aUzOh9m5sX-",
        "colab_type": "text"
      },
      "source": [
        "## Question 10"
      ]
    },
    {
      "cell_type": "markdown",
      "metadata": {
        "id": "srd-YYNH5sX-",
        "colab_type": "text"
      },
      "source": [
        "## Transfer learning\n",
        "Now we will apply this model on second dataset (5-9 digits)\n",
        "\n",
        "- fix the first convolution layers so that the weights in the convolution layers dont get updated in the process of training\n",
        "- get the second dataset\n",
        "- train the last 2 dense layers\n",
        "- predict the accuracy and loss"
      ]
    },
    {
      "cell_type": "markdown",
      "metadata": {
        "id": "KvhdH7D55sYA",
        "colab_type": "text"
      },
      "source": [
        "### Make only dense layers trainable\n",
        "- set trainalble = False for all layers other than Dense layers"
      ]
    },
    {
      "cell_type": "code",
      "metadata": {
        "colab_type": "code",
        "id": "brN7VZHFaEJ4",
        "colab": {
          "base_uri": "https://localhost:8080/",
          "height": 301
        },
        "outputId": "a18246f3-2015-4e1f-95e1-dd58c3a65488"
      },
      "source": [
        "#Freezing layers in the model which don't have 'dense' in their name\n",
        "for layer in model.layers:\n",
        "  if('dense' not in layer.name): #prefix detection to freeze layers which does not have dense\n",
        "    #Freezing a layer\n",
        "    layer.trainable = False\n",
        "\n",
        "#Module to print colourful statements\n",
        "from termcolor import colored\n",
        "\n",
        "#Check which layers have been frozen \n",
        "for layer in model.layers:\n",
        "  print (colored(layer.name, 'blue'))\n",
        "  print (colored(layer.trainable, 'red'))"
      ],
      "execution_count": 37,
      "outputs": [
        {
          "output_type": "stream",
          "text": [
            "\u001b[34mconv2d\u001b[0m\n",
            "\u001b[31mFalse\u001b[0m\n",
            "\u001b[34mconv2d_1\u001b[0m\n",
            "\u001b[31mFalse\u001b[0m\n",
            "\u001b[34mmax_pooling2d\u001b[0m\n",
            "\u001b[31mFalse\u001b[0m\n",
            "\u001b[34mdropout\u001b[0m\n",
            "\u001b[31mFalse\u001b[0m\n",
            "\u001b[34mflatten\u001b[0m\n",
            "\u001b[31mFalse\u001b[0m\n",
            "\u001b[34mdense\u001b[0m\n",
            "\u001b[31mTrue\u001b[0m\n",
            "\u001b[34mdropout_1\u001b[0m\n",
            "\u001b[31mFalse\u001b[0m\n",
            "\u001b[34mdense_1\u001b[0m\n",
            "\u001b[31mTrue\u001b[0m\n"
          ],
          "name": "stdout"
        }
      ]
    },
    {
      "cell_type": "markdown",
      "metadata": {
        "id": "FYR9VGzO5sYE",
        "colab_type": "text"
      },
      "source": [
        "### Modify data\n",
        "- in your second data, class labels will start from 5 to 9 but for keras.utils.to_categorical the labels should start from 0\n",
        "- so you need to subtract 5 from train and test labels"
      ]
    },
    {
      "cell_type": "code",
      "metadata": {
        "id": "lC5W75L35sYF",
        "colab_type": "code",
        "colab": {}
      },
      "source": [
        "y_test_59 = y_test_59 - 5"
      ],
      "execution_count": 0,
      "outputs": []
    },
    {
      "cell_type": "code",
      "metadata": {
        "id": "IpBkGsG3iQNr",
        "colab_type": "code",
        "colab": {
          "base_uri": "https://localhost:8080/",
          "height": 35
        },
        "outputId": "c259a724-d2fe-4297-917d-b93e96dbe38c"
      },
      "source": [
        "y_test_59"
      ],
      "execution_count": 39,
      "outputs": [
        {
          "output_type": "execute_result",
          "data": {
            "text/plain": [
              "array([2, 4, 0, ..., 4, 0, 1], dtype=uint8)"
            ]
          },
          "metadata": {
            "tags": []
          },
          "execution_count": 39
        }
      ]
    },
    {
      "cell_type": "code",
      "metadata": {
        "id": "K-IvY27vic_q",
        "colab_type": "code",
        "colab": {}
      },
      "source": [
        "y_train_59 = y_train_59 - 5"
      ],
      "execution_count": 0,
      "outputs": []
    },
    {
      "cell_type": "markdown",
      "metadata": {
        "id": "YGY3OTBt5sYG",
        "colab_type": "text"
      },
      "source": [
        "### Reshape data\n",
        "- reshape second dataset\n",
        "- To be able to use the dataset in Keras, we need 4-dims numpy arrays. \n",
        "- reshape features to pass it to a Conv2D layer\n",
        "- channel = 1\n",
        "- reshape features of first dataset only\n",
        "- do not reshape labels"
      ]
    },
    {
      "cell_type": "code",
      "metadata": {
        "id": "0V7RUlRD5sYH",
        "colab_type": "code",
        "colab": {}
      },
      "source": [
        "X_train_59 = np.asarray(X_train_59).reshape(X_train_59.shape[0],X_train_59.shape[1], X_train_59.shape[2], 1)"
      ],
      "execution_count": 0,
      "outputs": []
    },
    {
      "cell_type": "code",
      "metadata": {
        "id": "fXxtEouDjd75",
        "colab_type": "code",
        "colab": {}
      },
      "source": [
        "X_test_59 = np.asarray(X_test_59).reshape(X_test_59.shape[0],X_test_59.shape[1], X_test_59.shape[2], 1)"
      ],
      "execution_count": 0,
      "outputs": []
    },
    {
      "cell_type": "markdown",
      "metadata": {
        "id": "c7omqMQH5sYJ",
        "colab_type": "text"
      },
      "source": [
        "### Normalize data\n",
        "- normalize second data\n",
        "- we must normalize our data as it is always required in neural network models\n",
        "- we can achieve this by dividing the RGB codes to 255 (which is the maximum RGB code minus the minimum RGB code)\n",
        "- normalize X_train and X_test\n",
        "- make sure that the values are float so that we can get decimal points after division"
      ]
    },
    {
      "cell_type": "code",
      "metadata": {
        "id": "PEFYNHRp5sYJ",
        "colab_type": "code",
        "colab": {}
      },
      "source": [
        "X_train_59 = X_train_59 / 255.0\n",
        "X_test_59 = X_test_59 / 255.0"
      ],
      "execution_count": 0,
      "outputs": []
    },
    {
      "cell_type": "markdown",
      "metadata": {
        "id": "0OfdlF655sYM",
        "colab_type": "text"
      },
      "source": [
        "### Print shape of data and number of images\n",
        "- print shape of X_train\n",
        "- print number of images in X_train\n",
        "- print number of images in X_test"
      ]
    },
    {
      "cell_type": "code",
      "metadata": {
        "id": "bZEkCQ-P5sYO",
        "colab_type": "code",
        "colab": {
          "base_uri": "https://localhost:8080/",
          "height": 35
        },
        "outputId": "496c9ef8-a59b-4ebe-8d70-8e685c175f22"
      },
      "source": [
        "print(X_train_59.shape)"
      ],
      "execution_count": 44,
      "outputs": [
        {
          "output_type": "stream",
          "text": [
            "(29404, 28, 28, 1)\n"
          ],
          "name": "stdout"
        }
      ]
    },
    {
      "cell_type": "code",
      "metadata": {
        "id": "eyN31WwgkNUA",
        "colab_type": "code",
        "colab": {
          "base_uri": "https://localhost:8080/",
          "height": 52
        },
        "outputId": "6b3845f0-2e97-4a71-b830-3545e5ad70d6"
      },
      "source": [
        "print(X_train_59.shape[0])\n",
        "print(X_test_59.shape[0])"
      ],
      "execution_count": 45,
      "outputs": [
        {
          "output_type": "stream",
          "text": [
            "29404\n",
            "4861\n"
          ],
          "name": "stdout"
        }
      ]
    },
    {
      "cell_type": "markdown",
      "metadata": {
        "id": "c_3-0Qwo5sYQ",
        "colab_type": "text"
      },
      "source": [
        "### One-hot encode the class vector\n",
        "- convert class vectors (integers) to binary class matrix\n",
        "- convert y_train and y_test\n",
        "- number of classes: 5\n",
        "- we are doing this to use categorical_crossentropy as loss\n",
        "\n",
        "Hint: you can use keras.utils.to_categorical"
      ]
    },
    {
      "cell_type": "code",
      "metadata": {
        "id": "k46Me5Re5sYR",
        "colab_type": "code",
        "colab": {}
      },
      "source": [
        "#ONE HOT VECTOR CONVERSION\n",
        "y_test_59 = tensorflow.keras.utils.to_categorical(y_test_59, num_classes=5)\n",
        "y_train_59 = tensorflow.keras.utils.to_categorical(y_train_59, num_classes=5)"
      ],
      "execution_count": 0,
      "outputs": []
    },
    {
      "cell_type": "markdown",
      "metadata": {
        "id": "D9xEoW515sYS",
        "colab_type": "text"
      },
      "source": [
        "### Fit the model\n",
        "- give train data - features and labels\n",
        "- batch size: 128\n",
        "- epochs: 10\n",
        "- give validation data - features and labels"
      ]
    },
    {
      "cell_type": "code",
      "metadata": {
        "id": "B6f-XAc-5sYT",
        "colab_type": "code",
        "colab": {
          "base_uri": "https://localhost:8080/",
          "height": 408
        },
        "outputId": "d32d3142-4a83-435d-c479-fb903bf32aaf"
      },
      "source": [
        "model.fit(X_train_59,y_train_59,          \n",
        "          validation_data=(X_test_59,y_test_59),\n",
        "          epochs=10,\n",
        "          batch_size = 128)"
      ],
      "execution_count": 47,
      "outputs": [
        {
          "output_type": "stream",
          "text": [
            "Train on 29404 samples, validate on 4861 samples\n",
            "Epoch 1/10\n",
            "29404/29404 [==============================] - 1s 46us/sample - loss: 0.4018 - accuracy: 0.8692 - val_loss: 0.1841 - val_accuracy: 0.9430\n",
            "Epoch 2/10\n",
            "29404/29404 [==============================] - 1s 46us/sample - loss: 0.2100 - accuracy: 0.9309 - val_loss: 0.1316 - val_accuracy: 0.9582\n",
            "Epoch 3/10\n",
            "29404/29404 [==============================] - 1s 46us/sample - loss: 0.1686 - accuracy: 0.9445 - val_loss: 0.1145 - val_accuracy: 0.9652\n",
            "Epoch 4/10\n",
            "29404/29404 [==============================] - 1s 45us/sample - loss: 0.1494 - accuracy: 0.9519 - val_loss: 0.1008 - val_accuracy: 0.9679\n",
            "Epoch 5/10\n",
            "29404/29404 [==============================] - 1s 45us/sample - loss: 0.1363 - accuracy: 0.9547 - val_loss: 0.0892 - val_accuracy: 0.9714\n",
            "Epoch 6/10\n",
            "29404/29404 [==============================] - 1s 45us/sample - loss: 0.1234 - accuracy: 0.9600 - val_loss: 0.0789 - val_accuracy: 0.9733\n",
            "Epoch 7/10\n",
            "29404/29404 [==============================] - 1s 44us/sample - loss: 0.1158 - accuracy: 0.9615 - val_loss: 0.0786 - val_accuracy: 0.9741\n",
            "Epoch 8/10\n",
            "29404/29404 [==============================] - 1s 44us/sample - loss: 0.1072 - accuracy: 0.9645 - val_loss: 0.0739 - val_accuracy: 0.9745\n",
            "Epoch 9/10\n",
            "29404/29404 [==============================] - 1s 44us/sample - loss: 0.1008 - accuracy: 0.9663 - val_loss: 0.0718 - val_accuracy: 0.9745\n",
            "Epoch 10/10\n",
            "29404/29404 [==============================] - 1s 46us/sample - loss: 0.0979 - accuracy: 0.9692 - val_loss: 0.0667 - val_accuracy: 0.9768\n"
          ],
          "name": "stdout"
        },
        {
          "output_type": "execute_result",
          "data": {
            "text/plain": [
              "<tensorflow.python.keras.callbacks.History at 0x7f8dcc5aa7f0>"
            ]
          },
          "metadata": {
            "tags": []
          },
          "execution_count": 47
        }
      ]
    },
    {
      "cell_type": "markdown",
      "metadata": {
        "id": "85ginrII5sYV",
        "colab_type": "text"
      },
      "source": [
        "### Evaluate model\n",
        "- evaluate your model and get accuracy\n",
        "- use test features and labels"
      ]
    },
    {
      "cell_type": "code",
      "metadata": {
        "id": "k11-vrsm5sYW",
        "colab_type": "code",
        "colab": {}
      },
      "source": [
        "y_pred_59 = model.predict(X_test_59)"
      ],
      "execution_count": 0,
      "outputs": []
    },
    {
      "cell_type": "code",
      "metadata": {
        "id": "4UuE7ttplDyp",
        "colab_type": "code",
        "colab": {
          "base_uri": "https://localhost:8080/",
          "height": 106
        },
        "outputId": "2fd47a42-6e13-400b-a9d5-1dd1c389d5a0"
      },
      "source": [
        "# Convert predictions classes to one hot vectors \n",
        "Y_pred_59 = np.argmax(y_pred_59 ,axis = 1) \n",
        "# Convert validation observations to one hot vectors\n",
        "Y_true = np.argmax(y_test_59,axis = 1) \n",
        "# compute the confusion matrix\n",
        "\n",
        "new_confusion_mtx = confusion_matrix(Y_true, Y_pred_59) \n",
        "# plot the confusion matrix\n",
        "new_confusion_mtx"
      ],
      "execution_count": 49,
      "outputs": [
        {
          "output_type": "execute_result",
          "data": {
            "text/plain": [
              "array([[ 871,    9,    1,    8,    3],\n",
              "       [   9,  944,    1,    3,    1],\n",
              "       [   0,    1, 1006,    5,   16],\n",
              "       [  12,    9,    5,  944,    4],\n",
              "       [   8,    2,    7,    9,  983]])"
            ]
          },
          "metadata": {
            "tags": []
          },
          "execution_count": 49
        }
      ]
    },
    {
      "cell_type": "code",
      "metadata": {
        "id": "ORQYXyFZlTCI",
        "colab_type": "code",
        "colab": {
          "base_uri": "https://localhost:8080/",
          "height": 230
        },
        "outputId": "e645ae77-873a-416d-b985-b1fd529b9d2a"
      },
      "source": [
        "new_target_names = ['class 5', 'class 6', 'class 7', 'class 8', 'class 9', ]\n",
        "print(classification_report(Y_true, Y_pred_59, target_names= new_target_names))"
      ],
      "execution_count": 50,
      "outputs": [
        {
          "output_type": "stream",
          "text": [
            "              precision    recall  f1-score   support\n",
            "\n",
            "     class 5       0.97      0.98      0.97       892\n",
            "     class 6       0.98      0.99      0.98       958\n",
            "     class 7       0.99      0.98      0.98      1028\n",
            "     class 8       0.97      0.97      0.97       974\n",
            "     class 9       0.98      0.97      0.98      1009\n",
            "\n",
            "    accuracy                           0.98      4861\n",
            "   macro avg       0.98      0.98      0.98      4861\n",
            "weighted avg       0.98      0.98      0.98      4861\n",
            "\n"
          ],
          "name": "stdout"
        }
      ]
    },
    {
      "cell_type": "markdown",
      "metadata": {
        "id": "dTNhSDqn5sYY",
        "colab_type": "text"
      },
      "source": [
        "-----------------------------------------------------------------------------"
      ]
    },
    {
      "cell_type": "markdown",
      "metadata": {
        "colab_type": "text",
        "id": "FU-HwvIdH0M-"
      },
      "source": [
        "# Sentiment analysis \n",
        "\n",
        "The objective of the second problem is to perform Sentiment analysis from the tweets collected from the users targeted at various mobile devices.\n",
        "Based on the tweet posted by a user (text), we will classify if the sentiment of the user targeted at a particular mobile device is positive or not."
      ]
    },
    {
      "cell_type": "markdown",
      "metadata": {
        "id": "aIWWfNks5sYa",
        "colab_type": "text"
      },
      "source": [
        "## Question 1"
      ]
    },
    {
      "cell_type": "markdown",
      "metadata": {
        "colab_type": "text",
        "id": "nAQDiZHRH0M_"
      },
      "source": [
        "### Read the data\n",
        "- read tweets.csv\n",
        "- use latin encoding if it gives encoding error while loading"
      ]
    },
    {
      "cell_type": "code",
      "metadata": {
        "id": "1LXgfHJim01W",
        "colab_type": "code",
        "colab": {
          "base_uri": "https://localhost:8080/",
          "height": 126
        },
        "outputId": "dbbb82be-1ca1-4a71-b0ad-17db3684851f"
      },
      "source": [
        "from google.colab import drive\n",
        "drive.mount('/content/drive')"
      ],
      "execution_count": 51,
      "outputs": [
        {
          "output_type": "stream",
          "text": [
            "Go to this URL in a browser: https://accounts.google.com/o/oauth2/auth?client_id=947318989803-6bn6qk8qdgf4n4g3pfee6491hc0brc4i.apps.googleusercontent.com&redirect_uri=urn%3aietf%3awg%3aoauth%3a2.0%3aoob&response_type=code&scope=email%20https%3a%2f%2fwww.googleapis.com%2fauth%2fdocs.test%20https%3a%2f%2fwww.googleapis.com%2fauth%2fdrive%20https%3a%2f%2fwww.googleapis.com%2fauth%2fdrive.photos.readonly%20https%3a%2f%2fwww.googleapis.com%2fauth%2fpeopleapi.readonly\n",
            "\n",
            "Enter your authorization code:\n",
            "··········\n",
            "Mounted at /content/drive\n"
          ],
          "name": "stdout"
        }
      ]
    },
    {
      "cell_type": "code",
      "metadata": {
        "colab_type": "code",
        "id": "3eXGIe-SH0NA",
        "colab": {
          "base_uri": "https://localhost:8080/",
          "height": 88
        },
        "outputId": "746cc050-7e7a-43ef-d88b-1dd54da8ee62"
      },
      "source": [
        "%ls \"/content/drive/My Drive/Documents\""
      ],
      "execution_count": 52,
      "outputs": [
        {
          "output_type": "stream",
          "text": [
            " Churn.csv        \u001b[0m\u001b[01;34m'My Kindle Content'\u001b[0m/     \u001b[01;34mRecommender_Systems\u001b[0m/\n",
            " desktop.ini       \u001b[01;34mProject-case_study-2\u001b[0m/   \u001b[01;34mStatistical_Learning\u001b[0m/\n",
            "\u001b[01;34m'ML Deployment'\u001b[0m/   \u001b[01;34mR6InternalLab\u001b[0m/         \u001b[01;34m'Supervised Learning'\u001b[0m/\n",
            " \u001b[01;34mModel_Tuning\u001b[0m/     \u001b[01;34mR8_lab\u001b[0m/                \u001b[01;34m'Unsupervised Learning'\u001b[0m/\n"
          ],
          "name": "stdout"
        }
      ]
    },
    {
      "cell_type": "code",
      "metadata": {
        "id": "uI0TQEjloIOu",
        "colab_type": "code",
        "colab": {}
      },
      "source": [
        "import pandas as pd\n",
        "import re\n",
        "from sklearn.model_selection import train_test_split\n",
        "from sklearn.feature_extraction.text import CountVectorizer\n",
        "\n",
        "from sklearn.model_selection import GridSearchCV\n",
        "from sklearn.linear_model import LogisticRegression\n",
        "from sklearn.naive_bayes import MultinomialNB"
      ],
      "execution_count": 0,
      "outputs": []
    },
    {
      "cell_type": "code",
      "metadata": {
        "id": "pRcgim7KnGlk",
        "colab_type": "code",
        "colab": {}
      },
      "source": [
        "tweet_df= pd.read_csv(\"/content/drive/My Drive/Documents/R8_lab/tweets.csv\", encoding=\"latin-1\")"
      ],
      "execution_count": 0,
      "outputs": []
    },
    {
      "cell_type": "code",
      "metadata": {
        "id": "E5ZEejALpz-R",
        "colab_type": "code",
        "colab": {
          "base_uri": "https://localhost:8080/",
          "height": 35
        },
        "outputId": "8595af6a-0200-4d89-bc6c-e2be2c5e41f3"
      },
      "source": [
        "tweet_df.shape"
      ],
      "execution_count": 120,
      "outputs": [
        {
          "output_type": "execute_result",
          "data": {
            "text/plain": [
              "(9093, 3)"
            ]
          },
          "metadata": {
            "tags": []
          },
          "execution_count": 120
        }
      ]
    },
    {
      "cell_type": "markdown",
      "metadata": {
        "id": "39pqw0aE5sYe",
        "colab_type": "text"
      },
      "source": [
        "### Drop null values\n",
        "- drop all the rows with null values"
      ]
    },
    {
      "cell_type": "code",
      "metadata": {
        "id": "BF_69oyI5sYf",
        "colab_type": "code",
        "colab": {}
      },
      "source": [
        "tweet_df.dropna(axis =0, inplace =True)"
      ],
      "execution_count": 0,
      "outputs": []
    },
    {
      "cell_type": "code",
      "metadata": {
        "id": "dEr6oGF7qUGV",
        "colab_type": "code",
        "colab": {
          "base_uri": "https://localhost:8080/",
          "height": 35
        },
        "outputId": "597baeca-f03a-497a-b11c-5cbe72933efa"
      },
      "source": [
        "tweet_df.shape"
      ],
      "execution_count": 122,
      "outputs": [
        {
          "output_type": "execute_result",
          "data": {
            "text/plain": [
              "(3291, 3)"
            ]
          },
          "metadata": {
            "tags": []
          },
          "execution_count": 122
        }
      ]
    },
    {
      "cell_type": "markdown",
      "metadata": {
        "id": "0bm4bDiy5sYg",
        "colab_type": "text"
      },
      "source": [
        "### Print the dataframe\n",
        "- print initial 5 rows of the data\n",
        "- use df.head()"
      ]
    },
    {
      "cell_type": "code",
      "metadata": {
        "scrolled": true,
        "id": "ceSlvAVa5sYh",
        "colab_type": "code",
        "colab": {
          "base_uri": "https://localhost:8080/",
          "height": 194
        },
        "outputId": "29d016d2-a164-4efb-d660-3730d7e1fb20"
      },
      "source": [
        "tweet_df.head()"
      ],
      "execution_count": 123,
      "outputs": [
        {
          "output_type": "execute_result",
          "data": {
            "text/html": [
              "<div>\n",
              "<style scoped>\n",
              "    .dataframe tbody tr th:only-of-type {\n",
              "        vertical-align: middle;\n",
              "    }\n",
              "\n",
              "    .dataframe tbody tr th {\n",
              "        vertical-align: top;\n",
              "    }\n",
              "\n",
              "    .dataframe thead th {\n",
              "        text-align: right;\n",
              "    }\n",
              "</style>\n",
              "<table border=\"1\" class=\"dataframe\">\n",
              "  <thead>\n",
              "    <tr style=\"text-align: right;\">\n",
              "      <th></th>\n",
              "      <th>tweet_text</th>\n",
              "      <th>emotion_in_tweet_is_directed_at</th>\n",
              "      <th>is_there_an_emotion_directed_at_a_brand_or_product</th>\n",
              "    </tr>\n",
              "  </thead>\n",
              "  <tbody>\n",
              "    <tr>\n",
              "      <th>0</th>\n",
              "      <td>.@wesley83 I have a 3G iPhone. After 3 hrs twe...</td>\n",
              "      <td>iPhone</td>\n",
              "      <td>Negative emotion</td>\n",
              "    </tr>\n",
              "    <tr>\n",
              "      <th>1</th>\n",
              "      <td>@jessedee Know about @fludapp ? Awesome iPad/i...</td>\n",
              "      <td>iPad or iPhone App</td>\n",
              "      <td>Positive emotion</td>\n",
              "    </tr>\n",
              "    <tr>\n",
              "      <th>2</th>\n",
              "      <td>@swonderlin Can not wait for #iPad 2 also. The...</td>\n",
              "      <td>iPad</td>\n",
              "      <td>Positive emotion</td>\n",
              "    </tr>\n",
              "    <tr>\n",
              "      <th>3</th>\n",
              "      <td>@sxsw I hope this year's festival isn't as cra...</td>\n",
              "      <td>iPad or iPhone App</td>\n",
              "      <td>Negative emotion</td>\n",
              "    </tr>\n",
              "    <tr>\n",
              "      <th>4</th>\n",
              "      <td>@sxtxstate great stuff on Fri #SXSW: Marissa M...</td>\n",
              "      <td>Google</td>\n",
              "      <td>Positive emotion</td>\n",
              "    </tr>\n",
              "  </tbody>\n",
              "</table>\n",
              "</div>"
            ],
            "text/plain": [
              "                                          tweet_text  ... is_there_an_emotion_directed_at_a_brand_or_product\n",
              "0  .@wesley83 I have a 3G iPhone. After 3 hrs twe...  ...                                   Negative emotion\n",
              "1  @jessedee Know about @fludapp ? Awesome iPad/i...  ...                                   Positive emotion\n",
              "2  @swonderlin Can not wait for #iPad 2 also. The...  ...                                   Positive emotion\n",
              "3  @sxsw I hope this year's festival isn't as cra...  ...                                   Negative emotion\n",
              "4  @sxtxstate great stuff on Fri #SXSW: Marissa M...  ...                                   Positive emotion\n",
              "\n",
              "[5 rows x 3 columns]"
            ]
          },
          "metadata": {
            "tags": []
          },
          "execution_count": 123
        }
      ]
    },
    {
      "cell_type": "markdown",
      "metadata": {
        "id": "jcWfPVqG5sYi",
        "colab_type": "text"
      },
      "source": [
        "## Question 2"
      ]
    },
    {
      "cell_type": "markdown",
      "metadata": {
        "id": "JBbAeip_5sYj",
        "colab_type": "text"
      },
      "source": [
        "### Preprocess data\n",
        "- convert all text to lowercase - use .lower()\n",
        "- select only numbers, alphabets, and #+_ from text - use re.sub()\n",
        "- strip all the text - use .strip()\n",
        "    - this is for removing extra spaces"
      ]
    },
    {
      "cell_type": "code",
      "metadata": {
        "id": "PE4Bn_YT5sYj",
        "colab_type": "code",
        "colab": {}
      },
      "source": [
        "for x in tweet_df.columns:\n",
        "    tweet_df[x] = tweet_df[x].map(lambda x: x.lower())\n",
        "    tweet_df[x] = tweet_df[x].map(lambda x: re.sub('[^a-z0-9#+_\\s]', ' ', x)) \n",
        "    tweet_df[x] = tweet_df[x].map(lambda x: x.strip())"
      ],
      "execution_count": 0,
      "outputs": []
    },
    {
      "cell_type": "markdown",
      "metadata": {
        "id": "QlMvbtrK5sYl",
        "colab_type": "text"
      },
      "source": [
        "print dataframe"
      ]
    },
    {
      "cell_type": "code",
      "metadata": {
        "id": "afocjaUn5sYm",
        "colab_type": "code",
        "colab": {
          "base_uri": "https://localhost:8080/",
          "height": 194
        },
        "outputId": "b9151d7f-2906-4e85-fda0-5e897b715278"
      },
      "source": [
        "tweet_df.head()"
      ],
      "execution_count": 125,
      "outputs": [
        {
          "output_type": "execute_result",
          "data": {
            "text/html": [
              "<div>\n",
              "<style scoped>\n",
              "    .dataframe tbody tr th:only-of-type {\n",
              "        vertical-align: middle;\n",
              "    }\n",
              "\n",
              "    .dataframe tbody tr th {\n",
              "        vertical-align: top;\n",
              "    }\n",
              "\n",
              "    .dataframe thead th {\n",
              "        text-align: right;\n",
              "    }\n",
              "</style>\n",
              "<table border=\"1\" class=\"dataframe\">\n",
              "  <thead>\n",
              "    <tr style=\"text-align: right;\">\n",
              "      <th></th>\n",
              "      <th>tweet_text</th>\n",
              "      <th>emotion_in_tweet_is_directed_at</th>\n",
              "      <th>is_there_an_emotion_directed_at_a_brand_or_product</th>\n",
              "    </tr>\n",
              "  </thead>\n",
              "  <tbody>\n",
              "    <tr>\n",
              "      <th>0</th>\n",
              "      <td>wesley83 i have a 3g iphone  after 3 hrs tweet...</td>\n",
              "      <td>iphone</td>\n",
              "      <td>negative emotion</td>\n",
              "    </tr>\n",
              "    <tr>\n",
              "      <th>1</th>\n",
              "      <td>jessedee know about  fludapp   awesome ipad ip...</td>\n",
              "      <td>ipad or iphone app</td>\n",
              "      <td>positive emotion</td>\n",
              "    </tr>\n",
              "    <tr>\n",
              "      <th>2</th>\n",
              "      <td>swonderlin can not wait for #ipad 2 also  they...</td>\n",
              "      <td>ipad</td>\n",
              "      <td>positive emotion</td>\n",
              "    </tr>\n",
              "    <tr>\n",
              "      <th>3</th>\n",
              "      <td>sxsw i hope this year s festival isn t as cras...</td>\n",
              "      <td>ipad or iphone app</td>\n",
              "      <td>negative emotion</td>\n",
              "    </tr>\n",
              "    <tr>\n",
              "      <th>4</th>\n",
              "      <td>sxtxstate great stuff on fri #sxsw  marissa ma...</td>\n",
              "      <td>google</td>\n",
              "      <td>positive emotion</td>\n",
              "    </tr>\n",
              "  </tbody>\n",
              "</table>\n",
              "</div>"
            ],
            "text/plain": [
              "                                          tweet_text  ... is_there_an_emotion_directed_at_a_brand_or_product\n",
              "0  wesley83 i have a 3g iphone  after 3 hrs tweet...  ...                                   negative emotion\n",
              "1  jessedee know about  fludapp   awesome ipad ip...  ...                                   positive emotion\n",
              "2  swonderlin can not wait for #ipad 2 also  they...  ...                                   positive emotion\n",
              "3  sxsw i hope this year s festival isn t as cras...  ...                                   negative emotion\n",
              "4  sxtxstate great stuff on fri #sxsw  marissa ma...  ...                                   positive emotion\n",
              "\n",
              "[5 rows x 3 columns]"
            ]
          },
          "metadata": {
            "tags": []
          },
          "execution_count": 125
        }
      ]
    },
    {
      "cell_type": "markdown",
      "metadata": {
        "id": "bcTUnvtg5sYn",
        "colab_type": "text"
      },
      "source": [
        "## Question 3"
      ]
    },
    {
      "cell_type": "markdown",
      "metadata": {
        "id": "4gnaeSXZ5sYo",
        "colab_type": "text"
      },
      "source": [
        "### Preprocess data\n",
        "- in column \"is_there_an_emotion_directed_at_a_brand_or_product\"\n",
        "    - select only those rows where value equal to \"positive emotion\" or \"negative emotion\"\n",
        "- find the value counts of \"positive emotion\" and \"negative emotion\""
      ]
    },
    {
      "cell_type": "code",
      "metadata": {
        "id": "nIYLLgTWIYmb",
        "colab_type": "code",
        "colab": {
          "base_uri": "https://localhost:8080/",
          "height": 88
        },
        "outputId": "fc130286-b611-409c-ecf2-c357f601804e"
      },
      "source": [
        " tweet_df.loc[tweet_df['is_there_an_emotion_directed_at_a_brand_or_product'] == 'negative emotion'].count()"
      ],
      "execution_count": 126,
      "outputs": [
        {
          "output_type": "execute_result",
          "data": {
            "text/plain": [
              "tweet_text                                            519\n",
              "emotion_in_tweet_is_directed_at                       519\n",
              "is_there_an_emotion_directed_at_a_brand_or_product    519\n",
              "dtype: int64"
            ]
          },
          "metadata": {
            "tags": []
          },
          "execution_count": 126
        }
      ]
    },
    {
      "cell_type": "code",
      "metadata": {
        "id": "Vh6_1aSrJRxM",
        "colab_type": "code",
        "colab": {
          "base_uri": "https://localhost:8080/",
          "height": 88
        },
        "outputId": "ab71dcfb-389b-42b6-a47a-63016e31eb08"
      },
      "source": [
        "tweet_df.loc[tweet_df['is_there_an_emotion_directed_at_a_brand_or_product'] == 'positive emotion'].count()"
      ],
      "execution_count": 127,
      "outputs": [
        {
          "output_type": "execute_result",
          "data": {
            "text/plain": [
              "tweet_text                                            2672\n",
              "emotion_in_tweet_is_directed_at                       2672\n",
              "is_there_an_emotion_directed_at_a_brand_or_product    2672\n",
              "dtype: int64"
            ]
          },
          "metadata": {
            "tags": []
          },
          "execution_count": 127
        }
      ]
    },
    {
      "cell_type": "code",
      "metadata": {
        "id": "3VFYB4eh5sYr",
        "colab_type": "code",
        "colab": {
          "base_uri": "https://localhost:8080/",
          "height": 194
        },
        "outputId": "ccec762e-c29c-444c-a067-6335c5399c09"
      },
      "source": [
        "tweet_df.head()"
      ],
      "execution_count": 128,
      "outputs": [
        {
          "output_type": "execute_result",
          "data": {
            "text/html": [
              "<div>\n",
              "<style scoped>\n",
              "    .dataframe tbody tr th:only-of-type {\n",
              "        vertical-align: middle;\n",
              "    }\n",
              "\n",
              "    .dataframe tbody tr th {\n",
              "        vertical-align: top;\n",
              "    }\n",
              "\n",
              "    .dataframe thead th {\n",
              "        text-align: right;\n",
              "    }\n",
              "</style>\n",
              "<table border=\"1\" class=\"dataframe\">\n",
              "  <thead>\n",
              "    <tr style=\"text-align: right;\">\n",
              "      <th></th>\n",
              "      <th>tweet_text</th>\n",
              "      <th>emotion_in_tweet_is_directed_at</th>\n",
              "      <th>is_there_an_emotion_directed_at_a_brand_or_product</th>\n",
              "    </tr>\n",
              "  </thead>\n",
              "  <tbody>\n",
              "    <tr>\n",
              "      <th>0</th>\n",
              "      <td>wesley83 i have a 3g iphone  after 3 hrs tweet...</td>\n",
              "      <td>iphone</td>\n",
              "      <td>negative emotion</td>\n",
              "    </tr>\n",
              "    <tr>\n",
              "      <th>1</th>\n",
              "      <td>jessedee know about  fludapp   awesome ipad ip...</td>\n",
              "      <td>ipad or iphone app</td>\n",
              "      <td>positive emotion</td>\n",
              "    </tr>\n",
              "    <tr>\n",
              "      <th>2</th>\n",
              "      <td>swonderlin can not wait for #ipad 2 also  they...</td>\n",
              "      <td>ipad</td>\n",
              "      <td>positive emotion</td>\n",
              "    </tr>\n",
              "    <tr>\n",
              "      <th>3</th>\n",
              "      <td>sxsw i hope this year s festival isn t as cras...</td>\n",
              "      <td>ipad or iphone app</td>\n",
              "      <td>negative emotion</td>\n",
              "    </tr>\n",
              "    <tr>\n",
              "      <th>4</th>\n",
              "      <td>sxtxstate great stuff on fri #sxsw  marissa ma...</td>\n",
              "      <td>google</td>\n",
              "      <td>positive emotion</td>\n",
              "    </tr>\n",
              "  </tbody>\n",
              "</table>\n",
              "</div>"
            ],
            "text/plain": [
              "                                          tweet_text  ... is_there_an_emotion_directed_at_a_brand_or_product\n",
              "0  wesley83 i have a 3g iphone  after 3 hrs tweet...  ...                                   negative emotion\n",
              "1  jessedee know about  fludapp   awesome ipad ip...  ...                                   positive emotion\n",
              "2  swonderlin can not wait for #ipad 2 also  they...  ...                                   positive emotion\n",
              "3  sxsw i hope this year s festival isn t as cras...  ...                                   negative emotion\n",
              "4  sxtxstate great stuff on fri #sxsw  marissa ma...  ...                                   positive emotion\n",
              "\n",
              "[5 rows x 3 columns]"
            ]
          },
          "metadata": {
            "tags": []
          },
          "execution_count": 128
        }
      ]
    },
    {
      "cell_type": "code",
      "metadata": {
        "id": "aH8cOwdMPxMK",
        "colab_type": "code",
        "colab": {
          "base_uri": "https://localhost:8080/",
          "height": 88
        },
        "outputId": "bd18629a-1be9-4e61-eb09-76cd2102a5b4"
      },
      "source": [
        "tweet_df['is_there_an_emotion_directed_at_a_brand_or_product'].unique().tolist()"
      ],
      "execution_count": 129,
      "outputs": [
        {
          "output_type": "execute_result",
          "data": {
            "text/plain": [
              "['negative emotion',\n",
              " 'positive emotion',\n",
              " 'no emotion toward brand or product',\n",
              " 'i can t tell']"
            ]
          },
          "metadata": {
            "tags": []
          },
          "execution_count": 129
        }
      ]
    },
    {
      "cell_type": "code",
      "metadata": {
        "id": "afF28ah8MTTb",
        "colab_type": "code",
        "colab": {}
      },
      "source": [
        "pp_tweet_df = tweet_df.loc[tweet_df['is_there_an_emotion_directed_at_a_brand_or_product'] == 'negative emotion']"
      ],
      "execution_count": 0,
      "outputs": []
    },
    {
      "cell_type": "code",
      "metadata": {
        "id": "MGiGJPoDR1is",
        "colab_type": "code",
        "colab": {
          "base_uri": "https://localhost:8080/",
          "height": 35
        },
        "outputId": "67744235-3c66-4be5-e516-848e1c19b4f6"
      },
      "source": [
        "pp_tweet_df.shape"
      ],
      "execution_count": 134,
      "outputs": [
        {
          "output_type": "execute_result",
          "data": {
            "text/plain": [
              "(519, 3)"
            ]
          },
          "metadata": {
            "tags": []
          },
          "execution_count": 134
        }
      ]
    },
    {
      "cell_type": "code",
      "metadata": {
        "id": "8Qk86SsMR8ZU",
        "colab_type": "code",
        "colab": {}
      },
      "source": [
        "pp_tweet_df = pp_tweet_df.append(tweet_df.loc[tweet_df['is_there_an_emotion_directed_at_a_brand_or_product'] == 'positive emotion'])"
      ],
      "execution_count": 0,
      "outputs": []
    },
    {
      "cell_type": "code",
      "metadata": {
        "id": "l9kyOEvMSVbv",
        "colab_type": "code",
        "colab": {
          "base_uri": "https://localhost:8080/",
          "height": 35
        },
        "outputId": "b8598083-8f6e-4a34-cd24-2cd2863f2d12"
      },
      "source": [
        "pp_tweet_df.shape"
      ],
      "execution_count": 138,
      "outputs": [
        {
          "output_type": "execute_result",
          "data": {
            "text/plain": [
              "(3191, 3)"
            ]
          },
          "metadata": {
            "tags": []
          },
          "execution_count": 138
        }
      ]
    },
    {
      "cell_type": "markdown",
      "metadata": {
        "id": "6icGcVTE5sYz",
        "colab_type": "text"
      },
      "source": [
        "## Question 4"
      ]
    },
    {
      "cell_type": "markdown",
      "metadata": {
        "id": "Rg0rSepj5sYz",
        "colab_type": "text"
      },
      "source": [
        "### Encode labels\n",
        "- in column \"is_there_an_emotion_directed_at_a_brand_or_product\"\n",
        "    - change \"positive emotion\" to 1\n",
        "    - change \"negative emotion\" to 0\n",
        "- use map function to replace values"
      ]
    },
    {
      "cell_type": "code",
      "metadata": {
        "id": "-FjTu4swKO99",
        "colab_type": "code",
        "colab": {}
      },
      "source": [
        "pp_tweet_df.is_there_an_emotion_directed_at_a_brand_or_product = pp_tweet_df.is_there_an_emotion_directed_at_a_brand_or_product.map({\"positive emotion\" : 1,\"negative emotion\" : 0}).astype(int)"
      ],
      "execution_count": 0,
      "outputs": []
    },
    {
      "cell_type": "markdown",
      "metadata": {
        "id": "sC1qSe3h5sY2",
        "colab_type": "text"
      },
      "source": [
        "## Question 5"
      ]
    },
    {
      "cell_type": "markdown",
      "metadata": {
        "id": "aWlAN_Ts5sY2",
        "colab_type": "text"
      },
      "source": [
        "### Get feature and label\n",
        "- get column \"tweet_text\" as feature\n",
        "- get column \"is_there_an_emotion_directed_at_a_brand_or_product\" as label"
      ]
    },
    {
      "cell_type": "code",
      "metadata": {
        "id": "9A3sOZzR5sY4",
        "colab_type": "code",
        "colab": {}
      },
      "source": [
        "X = pp_tweet_df[\"tweet_text\" ]\n",
        "y = pp_tweet_df['is_there_an_emotion_directed_at_a_brand_or_product']\n"
      ],
      "execution_count": 0,
      "outputs": []
    },
    {
      "cell_type": "code",
      "metadata": {
        "id": "6p2sg7UDTHBF",
        "colab_type": "code",
        "colab": {
          "base_uri": "https://localhost:8080/",
          "height": 52
        },
        "outputId": "761f023c-7e2a-4da1-cf76-6f4710a52edd"
      },
      "source": [
        "print(X.shape)\n",
        "print(y.shape)"
      ],
      "execution_count": 144,
      "outputs": [
        {
          "output_type": "stream",
          "text": [
            "(3191,)\n",
            "(3191,)\n"
          ],
          "name": "stdout"
        }
      ]
    },
    {
      "cell_type": "markdown",
      "metadata": {
        "colab_type": "text",
        "id": "3YErwYLCH0N_"
      },
      "source": [
        "### Create train and test data\n",
        "- use train_test_split to get train and test set\n",
        "- set a random_state\n",
        "- test_size: 0.25"
      ]
    },
    {
      "cell_type": "code",
      "metadata": {
        "colab_type": "code",
        "id": "lNkwrGgEH0OA",
        "colab": {}
      },
      "source": [
        "# Split X and y into training and test set in 75:25 ratio\n",
        "\n",
        "X_train, X_test, y_train, y_test = train_test_split(X, y, test_size=0.25, random_state=1)"
      ],
      "execution_count": 0,
      "outputs": []
    },
    {
      "cell_type": "markdown",
      "metadata": {
        "id": "gMok2IX35sY8",
        "colab_type": "text"
      },
      "source": [
        "## Question 6"
      ]
    },
    {
      "cell_type": "markdown",
      "metadata": {
        "id": "dSqYjPuT5sY8",
        "colab_type": "text"
      },
      "source": [
        "### Vectorize data\n",
        "- create document-term matrix\n",
        "- use CountVectorizer()\n",
        "    - ngram_range: (1, 2)\n",
        "    - stop_words: 'english'\n",
        "    - min_df: 2   \n",
        "- do fit_transform on X_train\n",
        "- do transform on X_test"
      ]
    },
    {
      "cell_type": "code",
      "metadata": {
        "id": "bb9PnnqT5sY8",
        "colab_type": "code",
        "colab": {
          "base_uri": "https://localhost:8080/",
          "height": 55
        },
        "outputId": "cdefdf07-f991-44d7-d5b6-ebecfc1d8090"
      },
      "source": [
        "cv = CountVectorizer( min_df=2, stop_words = 'english',ngram_range =(1,2))\n",
        "train_dtm = cv.fit_transform(X_train)\n",
        "print(cv.get_feature_names())\n",
        "test_dtm = cv.transform(X_test)"
      ],
      "execution_count": 150,
      "outputs": [
        {
          "output_type": "stream",
          "text": [
            "['000', '03', '10', '10 attendees', '10 hours', '10 iphone', '100', '101', '11', '11ntc', '11ntc sxsw', '12', '12 months', '12b', '12b miles', '13', '13 google', '14', '14 day', '1413', '15', '15 details', '15 hard', '15 iphone', '15 minute', '150', '150 million', '1500', '1500 macbook', '15k', '15k newsapps', '1986', '1st', '1st day', '1st prize', '1st time', '20', '20 min', '200', '2011', '2011 computing', '2011 google', '2011 link', '2011 mention', '2011 novelty', '2011 prizes', '22', '22 tracks', '24', '24 amp', '24 hours', '24 stream', '25', '250k', '2day', '2nd', '2nd place', '2nd prize', '2s', '2s sxsw', '2yrs', '30', '30 line', '30pm', '32', '32gb', '35', '35 million', '37', '3d', '3d buildings', '3d rendering', '3d xml', '3g', '3g 64mb', '3g ipad', '3g iphone', '40', '40 google', '40 users', '4g', '4g austin', '4sq', '4sq sxsw', '4square', '50', '5pm', '5pm sxsw', '5pm tomorrow', '60', '64gb', '64gig', '64gig wifi', '64mb', '64mb apple', '65', '65 link', '6th', '6th amp', '6th congress', '6th st', '6th time', '70', '70 1st', '70 digital', '70 went', '80', '80 party', '80s', '89', '89 startups', '911tweets', '911tweets panel', '96', '96 apple', 'aapl', 'aapl open', 'able', 'absolutely', 'absolutely rt', 'abt', 'abt google', 'accessible', 'accesssxsw', 'accordion', 'accordion toodamnlucky', 'account', 'achieve', 'achieve success', 'aclu', 'aclu google', 'aclu party', 'acquired', 'acquired 89', 'action', 'action having', 'action link', 'action sxsw', 'actions', 'actions world', 'actsofsharing', 'actsofsharing com', 'actually', 'actually task', 'ad', 'ad insertion', 'ad think', 'add', 'added', 'added sxsw', 'addicts', 'addition', 'admit', 'admit apple', 'admits', 'admits google', 'adoption', 'advertising', 'advice', 'advice google', 'advisory', 'advisory board', 'affirmative', 'affirmative action', 'afternoon', 'afternoon sxsw', 'agents', 'agents utilize', 'agileagency', 'agileagency sxsw', 'ago', 'agree', 'agree apple', 'agree mention', 'agreed', 'agreed novelty', 'ah', 'ahead', 'ahhh', 'ain', 'air', 'air ipad', 'airline', 'airline mentioned', 'airport', 'airport people', 'airports', 'airports downloaded', 'alarm', 'alex', 'alex backup', 'allow', 'allowing', 'alternate', 'alternate routes', 'amazing', 'amazing apple', 'amazing google', 'amazing sxsw', 'amazing way', 'amazingly', 'america', 'america quot', 'america really', 'america user', 'amigos', 'amigos don', 'amp', 'amp android', 'amp autonomous', 'amp best', 'amp bing', 'amp bring', 'amp congress', 'amp enter', 'amp foursquare', 'amp future', 'amp google', 'amp great', 'amp ipad', 'amp iphone', 'amp leasing', 'amp light', 'amp live', 'amp mention', 'amp new', 'amp panel', 'amp person', 'amp physical', 'amp start', 'amp succeed', 'amp sxswi', 'amp wifi', 'analytics', 'andoid', 'andoid app', 'android', 'android app', 'android apps', 'android camera', 'android choice', 'android dev', 'android fan', 'android geeks', 'android iphone', 'android just', 'android leading', 'android link', 'android looking', 'android market', 'android marketplace', 'android meetup', 'android party', 'android phone', 'android phones', 'android pretty', 'android rt', 'android sweeeeet', 'android sxsw', 'android tablet', 'androidsxsw', 'androidsxsw sxsw', 'announce', 'announce details', 'announced', 'announcing', 'annoying', 'anybody', 'anymore', 'anymore quot', 'ap', 'apis', 'app', 'app amp', 'app android', 'app available', 'app awesome', 'app bizzy', 'app built', 'app change', 'app comes', 'app download', 'app featured', 'app freespeech', 'app getting', 'app highlight', 'app hitlantis', 'app ipad', 'app iphone', 'app just', 'app link', 'app live', 'app ll', 'app love', 'app madebymany', 'app makes', 'app mention', 'app moonbot', 'app nicely', 'app overlay', 'app quot', 'app ready', 'app really', 'app rt', 'app schedules', 'app share', 'app song', 'app store', 'app sxsw', 'app sxswi', 'app team', 'app thanks', 'app time', 'app unreal', 'app updates', 'app use', 'app way', 'app week', 'app won', 'app yr', 'apparently', 'apparently spazmatics', 'appears', 'appears trending', 'apple', 'apple ad', 'apple amp', 'apple app', 'apple austin', 'apple classiest', 'apple comes', 'apple continued', 'apple credit', 'apple devices', 'apple does', 'apple drumroll', 'apple elegant', 'apple fan', 'apple fanboy', 'apple fanboys', 'apple fans', 'apple far', 'apple gap', 'apple gear', 'apple google', 'apple great', 'apple greatest', 'apple hawk', 'apple ipad', 'apple ipad2', 'apple ipod', 'apple joy', 'apple just', 'apple knows', 'apple like', 'apple link', 'apple listened', 'apple marketing', 'apple mention', 'apple open', 'apple opened', 'apple opening', 'apple opens', 'apple pagemaker', 'apple played', 'apple pop', 'apple popup', 'apple products', 'apple puts', 'apple quarter', 'apple quot', 'apple releasing', 'apple rumored', 'apple saves', 'apple schools', 'apple set', 'apple sets', 'apple setting', 'apple smart', 'apple smartphone', 'apple sneaky', 'apple stole', 'apple store', 'apple stores', 'apple stuff', 'apple survival', 'apple sxsw', 'apple taking', 'apple temporary', 'apple wins', 'appleatxdt', 'appolicious', 'appolicious app', 'appreciate', 'appreciate design', 'approaches', 'approval', 'approved', 'approved new', 'apps', 'apps connected', 'apps fades', 'apps grooving', 'apps ipad', 'apps iphone', 'apps ll', 'apps make', 'apps mention', 'apps rock', 'apps scan', 'apps speech', 'apps survive', 'apps sxsw', 'apps tv', 'apps ve', 'apps vids', 'aquent', 'aquent booth', 'aren', 'arm', 'aron', 'aron pilhofer', 'arrived', 'art', 'art ice', 'art interactive', 'art project', 'article', 'article sxsw', 'artist', 'artist link', 'artist mention', 'artists', 'artists quot', 'artwork', 'ask', 'asked', 'asleep', 'ass', 'assisted', 'assisted quot', 'att', 'attend', 'attend sxsw', 'attendees', 'attendees blame', 'attendees course', 'attendees mac', 'attending', 'attention', 'attracting', 'atx', 'audience', 'audience laugh', 'audience sharing', 'audio', 'augmented', 'augmented reality', 'aus', 'aus sxsw', 'austin', 'austin apple', 'austin bbq', 'austin bound', 'austin city', 'austin convention', 'austin details', 'austin eats', 'austin enjoy', 'austin guide', 'austin ipad', 'austin iphone', 'austin link', 'austin mention', 'austin nerds', 'austin open', 'austin pics', 'austin pop', 'austin sell', 'austin selling', 'austin store', 'austin swarms', 'austin sxsw', 'austin tacos', 'auto', 'autocorrects', 'autonomous', 'autonomous driving', 'available', 'available android', 'available iphone', 'available link', 'available online', 'average', 'avoid', 'aw', 'aw sxsw', 'awards', 'awards thanks', 'away', 'away apple', 'away ipad', 'away phone', 'awesome', 'awesome austin', 'awesome day', 'awesome got', 'awesome hands', 'awesome integration', 'awesome ipad', 'awesome new', 'awesome rt', 'awesome sxsw', 'awesome using', 'awesomely', 'awesomely rad', 'awesomeness', 'awesomeness apple', 'awkward', 'baby', 'backup', 'backup charger', 'bad', 'bad just', 'badge', 'badgeless', 'badgeless event', 'badges', 'bag', 'bajillions', 'bajillions ipad2s', 'ballroom', 'banality', 'band', 'band rock', 'bands', 'bands food', 'bank', 'bank america', 'banking', 'bankinnovation', 'bankinnovation sxsw', 'bar', 'bar charge', 'barry', 'barry diller', 'bars', 'barton', 'based', 'based amp', 'based quot', 'based tools', 'basis', 'battery', 'battery dies', 'battery life', 'battery sxsw', 'batterykiller', 'batterykiller sxsw', 'bavcid', 'bavcid sxsw', 'bb', 'bbq', 'bbq iphone', 'bbq sxsw', 'bear', 'beat', 'beat free', 'beautiful', 'beautifully', 'beautifully smart', 'beauty', 'beauty web', 'bed', 'beer', 'begins', 'begins apple', 'begins sxsw', 'believe', 'believe god', 'belinsky', 'belinsky 911tweets', 'beluga', 'beluga iphone', 'best', 'best andoid', 'best apps', 'best butt', 'best buy', 'best ipad', 'best iphone', 'best photo', 'best swag', 'best thing', 'bestappever', 'bestappever sxsw', 'bet', 'beta', 'beta testing', 'better', 'better barry', 'better hisxsw', 'better ipad', 'better paid', 'better quot', 'better sxsw', 'bettersearch', 'big', 'big chunky', 'big fan', 'big line', 'big news', 'big social', 'big stereo', 'big sxsw', 'bigger', 'bigger ipad', 'bigger sxsw', 'biggest', 'billion', 'bing', 'bing amp', 'bing search', 'bing session', 'bing smackdown', 'bing sxsw', 'bing website', 'bit', 'bit book', 'bit ly', 'biz', 'biz concept', 'bizzy', 'bizzy quot', 'bizzy using', 'black', 'blackberry', 'blackberry party', 'blackberry sxsw', 'blame', 'blame microsoft', 'block', 'block sxsw', 'block week', 'blocks', 'blocks long', 'blog', 'blog post', 'blog quot', 'blogger', 'blogging', 'blogs', 'blogs link', 'bloody', 'bloody banality', 'blue', 'board', 'board link', 'bomb', 'bomb iphone', 'book', 'book fetishism', 'book ipad', 'book killer', 'books', 'boomers', 'booth', 'booth 1413', 'booth enter', 'booth sxsw', 'booyah', 'booyah rt', 'bored', 'bored keynote', 'bought', 'bought ipad', 'bought ipad2', 'bought lunch', 'bound', 'bound apple', 'bout', 'boxes', 'boxes electronics', 'boy', 'boyfriend', 'boyfriend aw', 'brain', 'brain mwrc11', 'brain rt', 'brain search', 'brand', 'brand focuses', 'brands', 'break', 'breaking', 'bridging', 'bridging digital', 'brilliant', 'brilliant apple', 'brilliant sxsw', 'bring', 'bring ipad', 'bring people', 'bring trucks', 'bringing', 'brings', 'british', 'broadcastr', 'broadcastr bestappever', 'broadfeed', 'brought', 'brought google', 'browser', 'browser iphone', 'browserwars', 'browserwars panel', 'browsing', 'bt', 'bt sxsw', 'build', 'building', 'building netflix', 'building sxsw', 'buildings', 'built', 'built html5', 'built sxsw', 'burn', 'burn sxsw', 'business', 'business apple', 'business instead', 'business vs', 'busy', 'busy sxsw', 'butt', 'butt sxsw', 'button', 'button heat', 'button iphone', 'buttons', 'buy', 'buy 14', 'buy ipad', 'buy ipad2', 'buy new', 'buy sxsw', 'buyers', 'buyers report', 'buying', 'buying ipad', 'buying ipad2', 'buzz', 'buzz link', 'buzz quot', 'buzz sxsw', 'buzzing', 'cab', 'cake', 'cake like', 'calendar', 'calendar featuring', 'california', 'called', 'called circles', 'called zms', 'cam', 'came', 'camera', 'camera sxsw', 'cameras', 'canada', 'canada 2nd', 'canadian', 'canadian dollar', 'cancel', 'car', 'car sighting', 'card', 'care', 'caring', 'caring business', 'carry', 'case', 'case boyfriend', 'case catch', 'case mention', 'case sxsw', 'case zazzlesxsw', 'cases', 'cases check', 'cases sxsw', 'cashmore', 'cashmore ipad', 'cashmore think', 'catch', 'catch sxsw', 'catching', 'cause', 'cause love', 'caused', 'caused giggle', 'cbatsxsw', 'cc', 'cc mention', 'celebrate', 'celebrate charity', 'celebrating', 'cell', 'cell phone', 'center', 'center mention', 'center today', 'ceo', 'ceo mention', 'ch', 'ch sxsw', 'chance', 'chance win', 'change', 'change broadcastr', 'changed', 'changed mind', 'changes', 'changes gowalla', 'charge', 'charge bar', 'charge iphone', 'charged', 'charger', 'charger iphone', 'chargers', 'charging', 'charging iphone', 'charity', 'charity water', 'charm', 'check', 'check blog', 'check dokobots', 'check free', 'check google', 'check googletv', 'check latest', 'check link', 'check mention', 'check new', 'check rt', 'check sxsw', 'checked', 'checking', 'checking apple', 'checking ipad', 'checkins', 'checkins sxsw', 'checkout', 'checkout line', 'cheeky', 'cheeky app', 'cheers', 'chevysmc', 'chief', 'chief talent', 'choice', 'choice awards', 'choice sxsw', 'chris', 'christmas', 'chunky', 'chunky elements', 'circle', 'circles', 'circles google', 'circles link', 'circles possibly', 'circles previews', 'circles quot', 'circles real', 'circles social', 'circles sxsw', 'circles today', 'city', 'city end', 'city guide', 'clarity', 'clarity trumps', 'clark', 'clark hate', 'class', 'classiest', 'classiest fascist', 'clean', 'clean organize', 'clearly', 'clever', 'clever apple', 'clicked', 'clicked location', 'client', 'clocks', 'close', 'cloud', 'cnet', 'cnet blogs', 'cnet link', 'cnet news', 'cnn', 'cnn iphone', 'cnn wired', 'cnngrill', 'cnnmoney', 'cnnmoney sxsw', 'code', 'code apps', 'coffee', 'collection', 'collection egomaniacs', 'colors', 'com', 'com best', 'com interactive', 'com link', 'com powermat', 'com sxsw', 'com tonight', 'come', 'come 5pm', 'come aquent', 'come celebrate', 'come mention', 'come party', 'come playsxsw', 'come pubcamp', 'come running', 'come sxsw', 'comes', 'comes cool', 'comes sxsw', 'coming', 'coming ipad', 'coming mention', 'coming soon', 'coming sxsw', 'coming tomorrow', 'comment', 'comment uosxsw', 'comments', 'communication', 'communication showcased', 'community', 'company', 'company america', 'compatible', 'compatible maybe', 'complete', 'completely', 'computer', 'computer choice', 'computing', 'computing device', 'concept', 'concept sxsw', 'concert', 'conf', 'conference', 'conference link', 'conference room', 'conferences', 'conferences events', 'conferences quot', 'confirmed', 'congrats', 'congrats iphone', 'congrats mention', 'congrats sxsw', 'congress', 'congress austin', 'congress deal', 'congress signs', 'congress sxsw', 'connect', 'connect digital', 'connect social', 'connected', 'connected tv', 'connectedtv', 'consciously', 'consciously early', 'constant', 'consultation', 'consumer', 'consumerization', 'cont', 'cont link', 'content', 'content mention', 'content rightfully', 'content today', 'contest', 'contextual', 'contextual discovery', 'continued', 'continued existence', 'continued survival', 'continues', 'continues rise', 'continuous', 'control', 'convention', 'convention center', 'conversation', 'convinced', 'cool', 'cool app', 'cool apple', 'cool apps', 'cool free', 'cool geogames', 'cool heatmap', 'cool link', 'cool means', 'cool rt', 'cool song', 'cool stuff', 'cool sxsw', 'cool tech', 'cool technology', 'cooler', 'cooler lame', 'coolest', 'coordinate', 'coordinate sxsw4japan', 'copy', 'cord', 'core', 'core sxsw', 'corner', 'corner 6th', 'corner googleio', 'correct', 'couch', 'couldn', 'counting', 'counting days', 'couple', 'course', 'course link', 'courtesy', 'cover', 'coverage', 'covered', 'cow', 'cow just', 'crashed', 'crashes', 'crashes time', 'crashing', 'crashy', 'crashy year', 'crazy', 'cream', 'cream nifty', 'cream sandwich', 'creating', 'creating dynamic', 'creative', 'credit', 'credit fixing', 'crew', 'crowd', 'crowd austin', 'crowd swarms', 'crowd sxsw', 'crowded', 'crowdsourcing', 'crowley', 'crowley cashmore', 'ctia', 'ctia corner', 'cult', 'cursor', 'custom', 'custom mention', 'customer', 'customer service', 'customers', 'customers sxsw', 'cuz', 'cuz don', 'daily', 'daily grape', 'daily sxsw', 'damn', 'dan', 'dang', 'dangerous', 'data', 'data google', 'data sxsw', 'dawn', 'dawn ipad', 'day', 'day apple', 'day business', 'day driven', 'day exhibit', 'day good', 'day return', 'day sxsw', 'days', 'days great', 'days ipad', 'days sxsw', 'dead', 'dead need', 'deal', 'deal mass', 'dealing', 'deals', 'dear', 'dear mention', 'dear sxsw', 'debating', 'debut', 'debut sxsw', 'debuts', 'decided', 'decided need', 'decision', 'def', 'definitely', 'definitely iphone', 'delegates', 'delegates link', 'delegates mention', 'delete', 'delete button', 'deleting', 'delicious', 'delicious mobile', 'delightful', 'delightful like', 'dell', 'demand', 'demand link', 'demo', 'demo horrible', 'demo league', 'demo meet', 'demo mention', 'democracy', 'demonstrates', 'demonstrates pause', 'dennis', 'dennis crowley', 'density', 'density tap', 'design', 'design big', 'design giving', 'design good', 'design headaches', 'design ipad', 'design panel', 'design sxsw', 'design trumping', 'designing', 'designing boomers', 'designing ipad', 'desktop', 'details', 'details ipad', 'details link', 'details revealed', 'dev', 'dev house', 'dev meetup', 'developed', 'developed ipad', 'developer', 'developers', 'developers matter', 'development', 'device', 'device bigger', 'device sxsw', 'devices', 'devs', 'did', 'did mention', 'didn', 'die', 'died', 'dies', 'different', 'digital', 'digital amp', 'digital delegates', 'digital physical', 'digital sales', 'diller', 'diller says', 'diller sxsw', 'directors', 'disagree', 'disappointed', 'disappointed ipad', 'disaster', 'discotalk', 'discotalk sxsw', 'discover', 'discover new', 'discovered', 'discovery', 'discovr', 'discovr iphone', 'discovr named', 'discuss', 'discuss new', 'display', 'displaying', 'displaying place', 'disruptive', 'disruptive innovation', 'divide', 'divide maps', 'dj', 'dj mention', 'dl', 'dm', 'doc', 'doc mention', 'dock', 'docs', 'does', 'does great', 'does look', 'does right', 'does work', 'doesn', 'doesn look', 'doesn work', 'doing', 'doing disruptive', 'doing sxsw', 'doing work', 'dokobots', 'dokobots game', 'dollar', 'dollar means', 'dollars', 'domo', 'don', 'don conferences', 'don forget', 'don iphone', 'don know', 'don mention', 'don miss', 'don need', 'don think', 'dont', 'dont know', 'doodle', 'doodle team', 'doodles', 'doodles sxsw', 'door', 'double', 'double revenue', 'doubt', 'douche', 'douche away', 'douche cake', 'download', 'download app', 'download check', 'download earthhour', 'download iphone', 'download qrank', 'download qrcode', 'downloaded', 'downloads', 'downtown', 'downtown apple', 'downtown austin', 'downtown line', 'drag', 'drag drop', 'draw', 'draw picture', 'dream', 'dreams', 'drink', 'drink free', 'drinks', 'drinks mention', 'drive', 'drive 12b', 'driven', 'driven google', 'drivers', 'driving', 'driving sxsw', 'droid', 'drop', 'drop store', 'dropped', 'dropping', 'dropping sxsw', 'drumroll', 'drumroll mention', 'dude', 'dynamic', 'dynamic google', 'dynamic video', 'early', 'early day', 'early help', 'early nerdbird', 'early startups', 'earth', 'earthhour', 'earthquake', 'easier', 'easy', 'easy connect', 'eat', 'eats', 'eats bbq', 'effective', 'efficient', 'effort', 'egomaniacs', 'egomaniacs history', 'electronics', 'electronics awesome', 'elegant', 'elegant fascist', 'elements', 'elements generous', 'elevate', 'embarrassed', 'embarrassed iphone', 'emc', 'emc booth', 'employees', 'enchanting', 'enchanting offer', 'enchantment', 'enchantment mention', 'enchantment sxsw', 'end', 'end sxsw', 'endorsement', 'energy', 'engaging', 'engine', 'engine share', 'engines', 'english', 'english japanese', 'enjoy', 'enjoy ipad', 'enjoy sxsw', 'enjoying', 'enjoying changes', 'enjoying sxsw', 'enter', 'enter win', 'enterprise', 'entire', 'entirely', 'entry', 'entry friends', 'environment', 'envy', 'epic', 'epic sxsw', 'epicurious', 'epicurious flipboard', 'error', 'ers', 'ers rt', 'esp', 'especially', 'essential', 'etch', 'etch sketch', 'europe', 'event', 'event free', 'events', 'events link', 'eventseekr', 'eventseekr app', 'evernote', 'everyday', 'everyday sxsw', 'evo', 'ex', 'example', 'example retail', 'examples', 'examples good', 'excellent', 'excellent way', 'excited', 'excited apple', 'excited hls', 'excited meet', 'excited sxsw', 'exciting', 'exciting new', 'exciting things', 'exclusive', 'exclusive shot', 'excuse', 'exhibit', 'exhibit hall', 'exist', 'existence', 'existence god', 'exists', 'expect', 'expect sxsw', 'expected', 'expecting', 'expensive', 'expensive seo', 'experience', 'experience sxsw', 'experiment', 'experts', 'experts cnet', 'experts link', 'experts quot', 'experts sxsw', 'explanation', 'explanation apple', 'explanation instantly', 'exploiting', 'exploiting apple', 'explorer', 'explorer app', 'extra', 'extraordinary', 'extraordinary hackers', 'eyeballed', 'eyeballed ip4', 'fab5', 'fabulous', 'face', 'facebook', 'facebook com', 'facebook google', 'facebook killer', 'factor', 'fades', 'fades fast', 'fail', 'fail link', 'fail sxsw', 'fail whale', 'failed', 'fam', 'fam showing', 'fan', 'fan just', 'fan new', 'fan quot', 'fanboy', 'fanboys', 'fanboys link', 'fandango', 'fandango karaoke', 'fandango tkts', 'fans', 'fans peek', 'fantastic', 'far', 'far apple', 'far computer', 'far google', 'far mention', 'far super', 'farmers', 'fascist', 'fascist company', 'fashion', 'fast', 'fast digital', 'fast fun', 'fast mention', 'fast rt', 'fast society', 'fast sxsw', 'faster', 'fav', 'fave', 'fave ipad', 'fave new', 'favorite', 'fb', 'fb page', 'fear', 'feature', 'feature saving', 'featured', 'featured artists', 'featured sxsw', 'features', 'features link', 'featuring', 'featuring parties', 'feed', 'feed geek', 'feel', 'feel like', 'feeling', 'feelings', 'feelings google', 'fell', 'fell asleep', 'fellow', 'fellow festgoers', 'fest', 'fest tip', 'festgoers', 'festgoers lines', 'festival', 'festival explorer', 'festival isn', 'festival popup', 'fetishism', 'fetishism ipads', 'fh', 'fi', 'fi sxsw', 'fight', 'fight way', 'film', 'film sxsw', 'filmaster', 'filmaster iphone', 'filming', 'filming ipad', 'finally', 'finally iphone', 'finder', 'finder english', 'finder japan', 'finding', 'fine', 'fingers', 'finished', 'firstworldproblems', 'fishing', 'fix', 'fixing', 'fixing christmas', 'flash', 'flash apple', 'flash looks', 'flight', 'flights', 'flipboard', 'flipboard cnn', 'flipboard iphone', 'flipboard platform', 'flipboard sxsw', 'fly', 'focus', 'focuses', 'focuses purpose', 'focusing', 'focusing bridging', 'fogo', 'fogo ch', 'folks', 'folks sxsw', 'follow', 'followers', 'fonts', 'food', 'food art', 'food don', 'foodspotting', 'foot', 'footage', 'forbes', 'force', 'forget', 'forget snap', 'forgot', 'forgotten', 'form', 'forward', 'forward delicious', 'forward hearing', 'forward learning', 'forward seeing', 'forward smcdallas', 'foursquare', 'foursquare gowalla', 'foursquare sleeves', 'foursquare sxsw', 'franchised', 'franchised band', 'freaking', 'free', 'free android', 'free coffee', 'free daily', 'free drinks', 'free food', 'free google', 'free ipad', 'free iphone', 'free itunes', 'free limited', 'free link', 'free lp', 'free march', 'free portable', 'free qr', 'free sxsw', 'free texting', 'free thanks', 'free ts', 'freespeech', 'freespeech mention', 'fresh', 'fri', 'friday', 'friday austin', 'friend', 'friends', 'friends city', 'friends house', 'friends sxsw', 'frostwire', 'frostwire android', 'fruit', 'fruit link', 'ft', 'ftw', 'fuck', 'fuck iphone', 'fucking', 'fully', 'fun', 'fun amp', 'fun creating', 'fun future', 'fun google', 'fun interactive', 'fun mention', 'fun sxsw', 'function', 'funny', 'fusion', 'fusion tables', 'future', 'future conferences', 'future google', 'future networks', 'future quot', 'future registers', 'future sxsw', 'fwd', 'fwd checking', 'fxsw', 'g03mzb', 'gadget', 'gadget sxsw', 'gadgets', 'galaxy', 'game', 'game mention', 'game sxsw', 'games', 'gap', 'gap mention', 'gave', 'gave ipad', 'gear', 'geek', 'geek influx', 'geek power', 'geek programming', 'geek sxsw', 'geekout', 'geeks', 'geeks need', 'geeks sxsw', 'gen', 'generous', 'generous space', 'genius', 'genius apple', 'geo', 'geo location', 'geogames', 'geogames sxsw', 'geolocation', 'getjarsxsw', 'gets', 'gets tax', 'getting', 'getting ipad', 'getting ipad2', 'getting iphone', 'getting new', 'getting panned', 'getting ready', 'giant', 'gift', 'giggle', 'giggle audience', 'girl', 'giveaway', 'giveaway sxsw', 'gives', 'gives iphone', 'giving', 'giving away', 'giving free', 'glad', 'glued', 'glued iphone', 'god', 'god explanation', 'god quot', 'god rt', 'goers', 'goes', 'goes sale', 'going', 'going busy', 'going sxsw', 'going year', 'gold', 'gold gym', 'gone', 'gonna', 'gonna miss', 'good', 'good artist', 'good crowd', 'good idea', 'good info', 'good ipad', 'good job', 'good luck', 'good news', 'good people', 'good schtuff', 'good sxsw', 'good time', 'good times', 'good ui', 'good wi', 'good work', 'goodness', 'google', 'google aclu', 'google amp', 'google analytics', 'google apps', 'google art', 'google bing', 'google buzz', 'google calendar', 'google circle', 'google circles', 'google connect', 'google did', 'google doc', 'google docs', 'google doodle', 'google doodles', 'google focusing', 'google great', 'google h4ckers', 'google hotpot', 'google incapable', 'google industry', 'google isn', 'google labs', 'google latitude', 'google launch', 'google launched', 'google launching', 'google league', 'google link', 'google literally', 'google location', 'google logos', 'google lost', 'google map', 'google maps', 'google marissa', 'google mayer', 'google mention', 'google needs', 'google new', 'google nexus', 'google party', 'google people', 'google photobooth', 'google places', 'google planning', 'google presentation', 'google presenting', 'google preview', 'google product', 'google products', 'google quot', 'google reader', 'google real', 'google right', 'google route', 'google saving', 'google says', 'google search', 'google set', 'google sponsored', 'google street', 'google sxsw', 'google takes', 'google theatre', 'google throw', 'google throwin', 'google tonight', 'google tool', 'google tops', 'google tries', 'google tv', 'google tweet', 'google unveiling', 'google using', 'google web', 'google win', 'googledoodle', 'googledoodle sxsw', 'googledoodles', 'googleio', 'googleio hop', 'googletv', 'googletv ipad', 'got', 'got exciting', 'got free', 'got hooked', 'got ipad', 'got lot', 'got shiny', 'got turkey', 'gotta', 'gotta link', 'gotta love', 'gotto', 'gotto ipad2', 'gowalla', 'gowalla android', 'gowalla link', 'gowalla wins', 'gps', 'gps navigation', 'grab', 'grabbed', 'gram', 'gram app', 'gram cheeky', 'gram ipad', 'grand', 'grape', 'grape app', 'graph', 'grateful', 'great', 'great app', 'great day', 'great example', 'great idea', 'great ipad', 'great job', 'great panel', 'great partner', 'great products', 'great quot', 'great recap', 'great session', 'great social', 'great sxsw', 'great talk', 'great way', 'great work', 'greatest', 'greatest collection', 'grooving', 'grooving sxsw', 'group', 'group texting', 'groupme', 'groups', 'growing', 'grrr', 'gsd', 'gsd amp', 'gsdm', 'gsdm google', 'gsdm sxsw', 'gt', 'gt gt', 'gt link', 'gt rt', 'guards', 'guards austin', 'guess', 'guest', 'guest post', 'guide', 'guide austin', 'guide iphone', 'gun', 'gun mention', 'guy', 'guy just', 'guy kawasaki', 'guykawasaki', 'guykawasaki sxsw', 'guys', 'gym', 'h2o', 'h4ckers', 'h4ckers sxsw', 'ha', 'ha rt', 'hackathon', 'hackers', 'hackers cool', 'haha', 'haha awesomely', 'haha rt', 'half', 'halfway', 'hall', 'hall open', 'hand', 'hand packed', 'handle', 'handle sxsw', 'hands', 'hands contest', 'hands review', 'hands thing', 'handy', 'hang', 'hanging', 'hanging mention', 'happen', 'happened', 'happening', 'happily', 'happy', 'happy dev', 'happy discovr', 'happy hour', 'happy quot', 'happy sxsw', 'happy thank', 'hard', 'hard beat', 'hard feelings', 'hard time', 'hate', 'hate ipad', 'haven', 'haven seen', 'haven tried', 'having', 'having fun', 'having hard', 'having meetings', 'having really', 'having trouble', 'having women', 'hawk', 'hawk ipad', 'haz', 'hcsm', 'head', 'head iphone', 'headaches', 'headaches quot', 'headaches sxsw', 'headaches tablet', 'headaches tablets', 'headed', 'headed sxsw', 'heading', 'heading apple', 'heading austin', 'heading free', 'heading sxsw', 'heads', 'hear', 'hear apple', 'hear mention', 'heard', 'heard apple', 'heard cuz', 'heard don', 'heard google', 'heard sxsw', 'heard weekend', 'hearing', 'heart', 'heat', 'heat million', 'heat tracker', 'heatmap', 'heatmap iphone', 'heats', 'heats fast', 'heavier', 'heavier laptop', 'heck', 'held', 'hell', 'hell sxsw', 'hello', 'hello holler', 'help', 'help prep', 'helped', 'helping', 'helping clean', 'helps', 'hey', 'hey apple', 'hey lucky', 'hey marissa', 'hey mention', 'hey sxsw', 'hi', 'hide', 'high', 'higher', 'highlight', 'highlight sxsw', 'hilarious', 'hilton', 'hilton salon', 'hipster', 'hipsters', 'hire', 'hire qualified', 'history', 'history quot', 'hisxsw', 'hisxsw sxsw', 'hit', 'hitlantis', 'hitlantis com', 'hitlantis ipad', 'hls', 'hls dynamic', 'hmm', 'hmm ipad', 'hmm sxsw', 'hmmm', 'hold', 'hold ipad', 'holding', 'holding ipad', 'holla', 'holla rt', 'holler', 'holler gram', 'hollergram', 'hollergram ipad', 'hollergram sxsw', 'holy', 'holy cow', 'holytrafficjams', 'home', 'home read', 'homeless', 'honesty', 'honor', 'honor apple', 'hoo', 'hoo mention', 'hooked', 'hooked paolo', 'hooray', 'hootsuite', 'hop', 'hop skip', 'hope', 'hope mention', 'hope year', 'hopefully', 'hoping', 'hoping ll', 'horrible', 'horrible terrible', 'hot', 'hot just', 'hot latest', 'hot mention', 'hotel', 'hotpot', 'hotpot amp', 'hotpot sxsw', 'hotpot watch', 'hotpot yelp', 'hour', 'hour semantic', 'hour tonight', 'hour wait', 'hours', 'hours announce', 'hours ipad', 'house', 'house google', 'house sxsw', 'hrs', 'hrs tweeting', 'htdfim', 'htdfim hollergram', 'html5', 'html5 flash', 'http', 'http bit', 'huge', 'hyatt', 'i41h53', 'ice', 'ice cream', 'id', 'idea', 'idea google', 'idea rt', 'ie9', 'ie9 launch', 'ignore', 'ignore quot', 'il', 'im', 'imacs', 'imacs brilliant', 'image', 'images', 'images jcpenney', 'images macys', 'imho', 'imho developers', 'immersive', 'important', 'impressed', 'impression', 'impressive', 'impressive integration', 'impressive lines', 'impromptu', 'impromptu parties', 'improve', 'improve sxsw', 'improve website', 'improvement', 'improvement worth', 'impulsive', 'incapable', 'incapable doing', 'incl', 'included', 'includes', 'includes uberguide', 'including', 'including drag', 'including google', 'indoor', 'industry', 'industry 70', 'industry party', 'influence', 'influx', 'influx ipad2', 'info', 'info link', 'info mention', 'info nike', 'info songs', 'informal', 'informal unscientific', 'information', 'innotribe', 'innovate', 'innovation', 'innovation acquired', 'innovators', 'insanely', 'insanely amp', 'insertion', 'insertion tv', 'inside', 'insights', 'insights tapworthy', 'inspiring', 'instagram', 'installed', 'installed sxsw', 'installing', 'installing mention', 'instant', 'instantly', 'instantly knew', 'instead', 'instead link', 'instead sxsw', 'instead users', 'integrated', 'integration', 'integration link', 'integration personalized', 'intelligent', 'interact', 'interactive', 'interactive book', 'interactive live', 'interactive maps', 'interested', 'interesting', 'interesting link', 'interesting presentation', 'interesting rt', 'interface', 'interface sxsw', 'interfaces', 'interfaces new', 'internet', 'interrupt', 'interrupt regularly', 'intimate', 'intro', 'introduced', 'ios', 'ios android', 'ios just', 'ios tweetdeck', 'ip4', 'ipad', 'ipad 2s', 'ipad 3g', 'ipad acquired', 'ipad amp', 'ipad app', 'ipad apple', 'ipad apps', 'ipad art', 'ipad austin', 'ipad available', 'ipad awesome', 'ipad best', 'ipad better', 'ipad button', 'ipad case', 'ipad cases', 'ipad come', 'ipad coming', 'ipad cool', 'ipad cooler', 'ipad day', 'ipad design', 'ipad designing', 'ipad dj', 'ipad dont', 'ipad download', 'ipad downtown', 'ipad draw', 'ipad envy', 'ipad fail', 'ipad gadget', 'ipad game', 'ipad giveaway', 'ipad gives', 'ipad goes', 'ipad going', 'ipad great', 'ipad hand', 'ipad imho', 'ipad interfaces', 'ipad ipad', 'ipad iphone', 'ipad just', 'ipad kick', 'ipad kinda', 'ipad launch', 'ipad leave', 'ipad like', 'ipad line', 'ipad link', 'ipad listen', 'ipad ll', 'ipad look', 'ipad lounge', 'ipad magazine', 'ipad march', 'ipad mention', 'ipad minor', 'ipad mobile', 'ipad money', 'ipad navigation', 'ipad news', 'ipad ordered', 'ipad owners', 'ipad pass', 'ipad person', 'ipad photos', 'ipad physical', 'ipad pop', 'ipad pretty', 'ipad queue', 'ipad quibids', 'ipad quot', 'ipad ready', 'ipad release', 'ipad resulting', 'ipad right', 'ipad rt', 'ipad said', 'ipad sale', 'ipad sales', 'ipad seriously', 'ipad session', 'ipad sold', 'ipad someones', 'ipad store', 'ipad subscriptions', 'ipad sxsw', 'ipad tablet', 'ipad takes', 'ipad taking', 'ipad thing', 'ipad think', 'ipad time', 'ipad upgrade', 'ipad users', 'ipad usguys', 'ipad wait', 'ipad webdoc', 'ipad winning', 'ipad women', 'ipad worry', 'ipad year', 'ipad yes', 'ipad2', 'ipad2 apple', 'ipad2 austin', 'ipad2 cc', 'ipad2 come', 'ipad2 comes', 'ipad2 cool', 'ipad2 later', 'ipad2 launch', 'ipad2 link', 'ipad2 love', 'ipad2 media', 'ipad2 mention', 'ipad2 release', 'ipad2 sxsw', 'ipad2 today', 'ipad2 woohoo', 'ipad2s', 'ipad2s sxsw', 'ipads', 'ipads apple', 'ipads link', 'ipads slowly', 'ipads sxsw', 'ipads teach', 'iphone', 'iphone 96', 'iphone actually', 'iphone alarm', 'iphone amigos', 'iphone amp', 'iphone android', 'iphone app', 'iphone apps', 'iphone available', 'iphone awesome', 'iphone battery', 'iphone blackberry', 'iphone called', 'iphone case', 'iphone cases', 'iphone ceo', 'iphone charger', 'iphone charging', 'iphone come', 'iphone developer', 'iphone douche', 'iphone facebook', 'iphone free', 'iphone game', 'iphone geolocation', 'iphone guide', 'iphone hand', 'iphone hilarious', 'iphone hrs', 'iphone ipad', 'iphone just', 'iphone link', 'iphone makes', 'iphone mention', 'iphone new', 'iphone quot', 'iphone rt', 'iphone safari', 'iphone started', 'iphone sxsw', 'iphone table', 'iphone team', 'iphone tell', 'iphone thanks', 'iphone thankyouecon', 'iphone tweet', 'iphone twitter', 'iphone use', 'iphone users', 'iphone version', 'iphone video', 'iphone vs', 'iphone4', 'iphones', 'ipod', 'ipod iphone', 'iqlab', 'iqlab sxsw', 'ireport', 'ireport link', 'iron', 'iron hot', 'ironic', 'isn', 'isn crashy', 'isn ipad', 'isn social', 'issue', 'issue ipad', 'issues', 'itunes', 'itunes app', 'itunes austin', 'itunes link', 'itunes sxsw', 'japan', 'japan quake', 'japan read', 'japan relief', 'japanese', 'japanese link', 'jcpenney', 'jcpenney images', 'jealous', 'jealous mention', 'jealous sxsw', 'job', 'job ipad', 'job protecting', 'job sxsw', 'job team', 'jobs', 'jobs doesn', 'join', 'join actsofsharing', 'join sxswbarcrawl', 'joke', 'jonathan', 'jonathan zaggle', 'josh', 'josh clark', 'joy', 'joy sxsw', 'jr', 'js', 'juice', 'juice pack', 'juicepack', 'jump', 'jump good', 'jump start', 'just', 'just 15k', 'just added', 'just announced', 'just approved', 'just bought', 'just clicked', 'just data', 'just downloaded', 'just fight', 'just gave', 'just got', 'just held', 'just high', 'just installed', 'just ipad', 'just launched', 'just learning', 'just left', 'just like', 'just look', 'just picked', 'just read', 'just released', 'just said', 'just saw', 'just shat', 'just showed', 'just starting', 'just sxsw', 'just synced', 'just time', 'just took', 'just used', 'just visit', 'just walked', 'just want', 'just won', 'kara', 'kara swisher', 'karaoke', 'karaoke 1st', 'kawasaki', 'kawasaki delightful', 'kawasaki quot', 'kawasaki thisisdare', 'keeping', 'keeps', 'keyboard', 'keynote', 'keynote sxsw', 'kick', 'kick sxsw', 'kick time', 'kicking', 'kid', 'kids', 'kill', 'killcommunity', 'killcommunity room', 'killer', 'killer impressive', 'killer ipad', 'killer photoes', 'killer supposedly', 'killing', 'killing austin', 'killing sxsw', 'kinda', 'kinda cool', 'kinda embarrassed', 'kindle', 'kirkus', 'kirkus sxsw', 'knew', 'knew use', 'know', 'know apple', 'know means', 'know mention', 'know original', 'know sxsw', 'known', 'knows', 'la', 'labs', 'lame', 'lame iphone', 'landlords', 'landlords amp', 'laptop', 'laptop amp', 'laptop ipad', 'laptop sxsw', 'laptops', 'late', 'late night', 'late sxsw', 'later', 'later today', 'latest', 'latest stream', 'latest version', 'latitude', 'laugh', 'launch', 'launch apple', 'launch bit', 'launch circles', 'launch day', 'launch downtown', 'launch link', 'launch ludicon', 'launch major', 'launch mention', 'launch new', 'launch sxsw', 'launch today', 'launched', 'launched months', 'launched spin', 'launched sxsw', 'launches', 'launches new', 'launching', 'launching sxsw', 'lax', 'lax heading', 'layed', 'layed future', 'leading', 'leading market', 'league', 'league extraordinary', 'leanstartup', 'leanstartup amp', 'leanstartup sxsw', 'learn', 'learned', 'learning', 'learning things', 'leasing', 'leasing agents', 'leave', 'leave vuvuzela', 'leaves', 'leaving', 'leaving sxsw', 'left', 'left brain', 'left sxsw', 'lego', 'leisurely', 'let', 'let sxsw', 'lets', 'letting', 'level', 'lewis', 'library', 'library tv', 'lie', 'life', 'life coming', 'life sxsw', 'light', 'light hold', 'lightbox', 'like', 'like apple', 'like google', 'like ipad', 'like iphone', 'like job', 'like people', 'like street', 'like sxsw', 'like walking', 'like web', 'like world', 'likeability', 'likeability virgin', 'liked', 'likely', 'likely appreciate', 'likes', 'lil', 'limited', 'limited time', 'line', 'line 10', 'line 6th', 'line apple', 'line austin', 'line block', 'line ipad', 'line ipad2', 'line long', 'line moving', 'line outside', 'line pop', 'line popup', 'line sxsw', 'line temp', 'lines', 'lines good', 'lines sxsw', 'lining', 'link', 'link aapl', 'link amp', 'link android', 'link app', 'link apple', 'link austin', 'link bands', 'link brilliant', 'link built', 'link cc', 'link cnet', 'link cnn', 'link entry', 'link google', 'link hollergram', 'link ipad', 'link ipad2', 'link iphone', 'link iqlab', 'link itunes', 'link join', 'link leave', 'link like', 'link link', 'link lt', 'link mashable', 'link media', 'link mention', 'link photo', 'link played', 'link rt', 'link share', 'link socialmedia', 'link sxsw', 'link sxswh', 'link sxswi', 'link tc', 'link tech', 'link tech_news', 'link technology', 'link tip', 'link travel', 'link wssxsw', 'links', 'links sxsw', 'lisa', 'list', 'listen', 'listen annoying', 'listened', 'listened temp', 'listening', 'listening google', 'literally', 'literally product', 'little', 'little mention', 'live', 'live iphone', 'live link', 'live music', 'live stream', 'live sxsw', 'live video', 'lives', 'lives sxsw', 'living', 'living ipad', 'll', 'll austin', 'll dropping', 'll likely', 'll probably', 'll showing', 'll sxsw', 'll tell', 'll use', 'll win', 'load', 'location', 'location based', 'location leanstartup', 'locations', 'logo', 'logos', 'lol', 'lol rt', 'lol sxsw', 'lonely', 'lonely job', 'lonely planet', 'long', 'long line', 'long sxsw', 'long term', 'long time', 'longer', 'look', 'look interesting', 'look like', 'look new', 'look sxsw', 'look zomg', 'looking', 'looking forward', 'looking fwd', 'looks', 'looks awesome', 'looks great', 'looks interesting', 'looks like', 'looks ridiculous', 'lose', 'lose hour', 'losers', 'lost', 'lost way', 'lot', 'lot better', 'lot sxsw', 'lots', 'louisiana', 'louisiana cool', 'lounge', 'lounge sxsw', 'love', 'love android', 'love apple', 'love early', 'love film', 'love google', 'love ipad2', 'love mention', 'love new', 'love place', 'love rt', 'love sxsw', 'loved', 'lovely', 'lovin', 'loving', 'loving new', 'lp', 'lp austin', 'lt', 'lt lt', 'luck', 'luck sxsw', 'lucky', 'ludicon', 'ludicon based', 'lug', 'lugging', 'lugging laptop', 'lunch', 'lunch line', 'lustre', 'lustre pearl', 'lxh', 'ly', 'ly g03mzb', 'ly htdfim', 'lying', 'lying signal', 'lynn', 'mac', 'mac ipad', 'macbook', 'macbook air', 'macbook ipad', 'macbook pro', 'machines', 'machines mystery', 'macys', 'macys trashy', 'madebymany', 'madebymany http', 'madness', 'mae', 'magazine', 'maggie', 'maggie mae', 'magic', 'magic iphone', 'magnetic', 'magnetic cover', 'mags', 'major', 'major new', 'make', 'make sxsw', 'makes', 'makes easy', 'makes good', 'makes happy', 'makes want', 'makeshift', 'makeshift apple', 'makeshift sxsw', 'making', 'mall', 'man', 'man google', 'man need', 'management', 'management iphone', 'map', 'mapquest', 'maps', 'maps 150', 'maps demo', 'maps feature', 'maps mention', 'maps mobile', 'maps navigation', 'maps rerouted', 'maps route', 'maps saves', 'maps street', 'maps streetview', 'maps sxsw', 'maps usage', 'maps use', 'maps users', 'march', 'march 11', 'march 15', 'marissa', 'marissa mayer', 'marissagoogle', 'marissagoogle sxsw', 'mark', 'mark belinsky', 'market', 'market getting', 'market link', 'market opportunity', 'market share', 'marketing', 'marketing experts', 'marketing genius', 'marketing link', 'marketplace', 'marketplace hot', 'mart', 'mart airports', 'mashable', 'mashable link', 'mass', 'mass geek', 'matching', 'matching people', 'matt', 'matter', 'matter ipad', 'maybe', 'maybe year', 'mayer', 'mayer admits', 'mayer discuss', 'mayer google', 'mayer keynote', 'mayer location', 'mayer sxsw', 'mayer tell', 'mccannsxsw', 'mean', 'means', 'means stock', 'means watch', 'means winning', 'meant', 'measuring', 'measuring displaying', 'media', 'media google', 'media sxsw', 'meet', 'meet link', 'meet mention', 'meet sxsw', 'meeting', 'meetings', 'meetings line', 'meetup', 'meetup sxsw', 'megastore', 'megastore sxsw', 'mention', 'mention 10', 'mention 150', 'mention 24', 'mention 40', 'mention aapl', 'mention advisory', 'mention agree', 'mention amp', 'mention android', 'mention app', 'mention apparently', 'mention apple', 'mention apps', 'mention austin', 'mention awesome', 'mention bad', 'mention begins', 'mention best', 'mention big', 'mention bing', 'mention blackberry', 'mention book', 'mention bt', 'mention case', 'mention caused', 'mention cc', 'mention charge', 'mention charging', 'mention check', 'mention checking', 'mention client', 'mention cnngrill', 'mention come', 'mention confirmed', 'mention congrats', 'mention cool', 'mention day', 'mention decided', 'mention demonstrates', 'mention developed', 'mention did', 'mention didn', 'mention diller', 'mention does', 'mention domo', 'mention don', 'mention enchantment', 'mention excited', 'mention exciting', 'mention fam', 'mention favorite', 'mention feeling', 'mention finally', 'mention flipboard', 'mention fogo', 'mention forward', 'mention free', 'mention fun', 'mention fxsw', 'mention geeks', 'mention getting', 'mention giving', 'mention glad', 'mention going', 'mention good', 'mention google', 'mention got', 'mention great', 'mention group', 'mention gt', 'mention guest', 'mention ha', 'mention hanging', 'mention having', 'mention head', 'mention heading', 'mention heard', 'mention hello', 'mention hey', 'mention hilton', 'mention hollergram', 'mention hope', 'mention hot', 'mention hours', 'mention improve', 'mention informal', 'mention interesting', 'mention interrupt', 'mention ipad', 'mention ipad2', 'mention iphone', 'mention ironic', 'mention jealous', 'mention join', 'mention just', 'mention killer', 'mention know', 'mention leanstartup', 'mention life', 'mention line', 'mention link', 'mention live', 'mention living', 'mention ll', 'mention lol', 'mention lonely', 'mention look', 'mention looking', 'mention looks', 'mention lose', 'mention love', 'mention lustre', 'mention maggie', 'mention marissa', 'mention mention', 'mention mentionr', 'mention met', 'mention need', 'mention new', 'mention news', 'mention nice', 'mention official', 'mention oh', 'mention opposite', 'mention party', 'mention peter', 'mention playing', 'mention psych', 'mention putting', 'mention quot', 'mention random', 'mention ready', 'mention really', 'mention retiring', 'mention route', 'mention rt', 'mention rumor', 'mention sadly', 'mention said', 'mention saw', 'mention says', 'mention second', 'mention security', 'mention seen', 'mention set', 'mention smart', 'mention smartphone', 'mention social', 'mention speakeasy', 'mention studies', 'mention sxsw', 'mention sxswi', 'mention table', 'mention talk', 'mention talking', 'mention tapworthy', 'mention team', 'mention tech', 'mention tell', 'mention temp', 'mention thank', 'mention thanks', 'mention think', 'mention time', 'mention timely', 'mention updated', 'mention uses', 'mention ve', 'mention video', 'mention w00t', 'mention wait', 'mention win', 'mention winning', 'mention won', 'mention wow', 'mention wrote', 'mention yes', 'mentioned', 'mentioned guy', 'mentionr', 'messages', 'messaging', 'messaging platform', 'met', 'met team', 'microsoft', 'microsoft apple', 'midnight', 'midnight sxsw', 'mike', 'mike tyson', 'miles', 'miles day', 'miles year', 'million', 'million miles', 'million mobile', 'million suns', 'million users', 'min', 'min wait', 'mind', 'minor', 'minor improvement', 'minor step', 'minute', 'minutes', 'miss', 'miss mention', 'missed', 'missing', 'mistakes', 'mistakes building', 'mk', 'mk link', 'mobile', 'mobile 3d', 'mobile 4g', 'mobile apps', 'mobile compatible', 'mobile devices', 'mobile google', 'mobile link', 'mobile looks', 'mobile maps', 'mobile space', 'mobile sxsw', 'mobile users', 'mobilefarm', 'mobilefarm sxsw', 'mode', 'model', 'model future', 'model rt', 'mom', 'mom ipad', 'moma', 'moma examples', 'moment', 'moment sxsw', 'monday', 'money', 'money burn', 'money japan', 'money sxsw', 'monopoly', 'month', 'months', 'months ago', 'months says', 'moonbot', 'moonbot studios', 'mophie', 'mophie juice', 'morning', 'morning link', 'morning sxsw', 'mosaicxm', 'mosaicxm link', 'mosaicxm mk', 'motorola', 'movie', 'moving', 'moving daily', 'mullenweg', 'museums', 'music', 'music industry', 'music iphone', 'music link', 'music photos', 'music sampler', 'music sxsw', 'musicviz', 'mwrc11', 'mwrc11 left', 'mystery', 'mystery boxes', 'named', 'named apps', 'native', 'natural', 'navigating', 'navigation', 'navigation assisted', 'navigation jr', 'navigation schemas', 'navigation using', 'near', 'near sxsw', 'need', 'need downtown', 'need ipad', 'need sxsw', 'need upgrade', 'need use', 'needs', 'needs way', 'nerd', 'nerdbird', 'nerdbird sxsw', 'nerds', 'nerds sxsw', 'nerds town', 'netflix', 'netflix iphone', 'network', 'network called', 'network circles', 'network sxsw', 'networks', 'networks just', 'networks people', 'new', 'new android', 'new app', 'new biz', 'new bomb', 'new buyers', 'new features', 'new google', 'new ipad', 'new ipad2', 'new ipads', 'new iphone', 'new mention', 'new music', 'new navigation', 'new post', 'new products', 'new quot', 'new social', 'new sxsw', 'new ubersocial', 'new version', 'new video', 'new web', 'new whrrl', 'new york', 'newest', 'newest ios', 'news', 'news apps', 'news austin', 'news content', 'news google', 'news iphone', 'news link', 'news sxsw', 'newsapps', 'newsapps sxsw', 'nexus', 'nexus phone', 'nice', 'nice apple', 'nice job', 'nice rt', 'nice sxsw', 'nicely', 'nieuwe', 'nieuwe regel', 'nifty', 'nifty interactive', 'night', 'night fishing', 'nike', 'nike sneakers', 'non', 'noon', 'normal', 'note', 'notes', 'notes sxsw', 'novelty', 'novelty ipad', 'npr', 'npr music', 'nptech', 'nten', 'nten 11ntc', 'nyt', 'nyt app', 'object', 'object survive', 'observation', 'observation apple', 'observer', 'observer tomlinson', 'obviously', 'obviously want', 'offer', 'offer likeability', 'office', 'officer', 'officer apple', 'official', 'official sxsw', 'officially', 'oh', 'oh apple', 'oh god', 'ok', 'ok presenters', 'okay', 'old', 'old explanation', 'old ipads', 'old sxsw', 'omg', 'online', 'online ordering', 'ooooo', 'ooooo apple', 'open', 'open graph', 'open pop', 'open popup', 'open sxsw', 'open temporary', 'open til', 'openbeta', 'openbeta vip', 'opened', 'opened pop', 'opening', 'opening apple', 'opening downtown', 'opening pop', 'opening popup', 'opening store', 'opening sxsw', 'opening temp', 'opening temporary', 'opens', 'opens pop', 'opens quot', 'opens temporary', 'opinions', 'opinions holding', 'opportunity', 'opportunity ignore', 'opposite', 'opposite sides', 'options', 'order', 'order ipad', 'ordered', 'ordering', 'ordering urs', 'org', 'org rsvp', 'organic', 'organize', 'organize news', 'organizing', 'original', 'original content', 'ossum', 'ouch', 'outlet', 'outside', 'outside apple', 'outside sxsw', 'overflow', 'overheard', 'overlay', 'overlay foursquare', 'owners', 'owners sxsw', 'pack', 'packed', 'packed room', 'packing', 'page', 'page info', 'pagemaker', 'pagemaker saved', 'pages', 'paid', 'paid free', 'panel', 'panel apple', 'panel good', 'panel like', 'panel sxsw', 'panels', 'panned', 'panned design', 'paolo', 'paolo alex', 'papa', 'papa sangre', 'parties', 'parties cases', 'parties sxsw', 'partner', 'party', 'party best', 'party blackberry', 'party come', 'party details', 'party don', 'party good', 'party google', 'party jump', 'party kinda', 'party like', 'party link', 'party mention', 'party party', 'party shout', 'party sxsw', 'party tonight', 'party wed', 'pass', 'pass mobile', 'passes', 'past', 'past 12', 'pause', 'pause video', 'pay', 'pc', 'pearl', 'pearl teamandroidsxsw', 'pedicab', 'peek', 'peek space', 'peeps', 'people', 'people apple', 'people demo', 'people doing', 'people finder', 'people good', 'people like', 'people love', 'people meet', 'people obviously', 'people people', 'people planes', 'people socially', 'people standing', 'people sxsw', 'people using', 'people wal', 'people work', 'perfect', 'perfect sxsw', 'performance', 'performance link', 'performance sxsw', 'permanent', 'person', 'person finder', 'person friends', 'person just', 'person sxsw', 'person tell', 'personal', 'personalized', 'personalized recommendations', 'peter', 'peter cashmore', 'petting', 'petting iphone', 'phone', 'phone sxsw', 'phone talk', 'phones', 'phones getjarsxsw', 'photo', 'photo just', 'photo win', 'photobooth', 'photoes', 'photoes iphone', 'photos', 'photos airport', 'photos video', 'photos videos', 'physical', 'physical divide', 'physical messaging', 'physical worlds', 'pi', 'pi day', 'pic', 'pic ipad', 'pic link', 'pick', 'pick ipad', 'pick spot', 'picked', 'picked ipad', 'picked mention', 'pics', 'pics apps', 'pics gowalla', 'picture', 'picture good', 'picture ipad', 'pictures', 'piece', 'pilhofer', 'place', 'place days', 'place fandango', 'place makes', 'places', 'places hotpot', 'plan', 'plane', 'plane sxsw', 'planes', 'planes airports', 'planet', 'planner', 'planning', 'planning launch', 'plans', 'plans google', 'platform', 'platform flipboard', 'platform holler', 'platform iphone', 'play', 'play android', 'play new', 'played', 'played apple', 'played fruit', 'player', 'player pick', 'players', 'players tell', 'playhopskoch', 'playhopskoch apple', 'playing', 'playing fave', 'playing ipad', 'playsxsw', 'plenty', 'pls', 'pls rt', 'plugin', 'plugin stations', 'plus', 'plus iphone', 'plus strong', 'pm', 'pm sxsw', 'pnid', 'pnid sxsw', 'pocket', 'podcast', 'point', 'point yes', 'policy', 'policy imacs', 'poor', 'pop', 'pop apple', 'pop austin', 'pop ipad', 'pop quot', 'pop retail', 'pop shop', 'pop shops', 'pop store', 'pop sxsw', 'popping', 'popular', 'popup', 'popup apple', 'popup quot', 'popup shop', 'popup store', 'popupstore', 'portable', 'portable iphone', 'positive', 'positive actions', 'positive sxsw', 'possible', 'possibly', 'possibly today', 'post', 'post mention', 'potential', 'poursite', 'poursite sxsw', 'power', 'power link', 'powermat', 'powermatteam', 'ppl', 'pr', 'pre', 'pre sxsw', 'prefer', 'prep', 'prep sxsw', 'preparation', 'prepared', 'present', 'presentation', 'presentation building', 'presentation google', 'presentation mention', 'presentation sxsw', 'presenters', 'presenters using', 'presenting', 'preso', 'press', 'pressure', 'pretty', 'pretty cool', 'pretty excited', 'pretty sure', 'pretty sxsw', 'preview', 'preview major', 'preview new', 'previews', 'previews far', 'price', 'privacy', 'privacy location', 'prize', 'prize useful', 'prize yr', 'prizes', 'pro', 'pro ipad', 'probably', 'probably good', 'probably need', 'problem', 'process', 'product', 'product apple', 'product better', 'product sxsw', 'product team', 'products', 'products apple', 'products google', 'products including', 'professionals', 'programming', 'programming big', 'project', 'project google', 'project like', 'projects', 'promo', 'promotion', 'promotion chevysmc', 'proof', 'props', 'protecting', 'protecting ipad', 'protecting users', 'ps', 'psych', 'psych sxsw', 'pub', 'pub 6th', 'pubcamp', 'pubcamp kirkus', 'pubcamp sxsw', 'public', 'public sxsw', 'publishers', 'pulling', 'purchase', 'purchase ipad', 'purchased', 'purchasing', 'pure', 'purpose', 'purpose object', 'push', 'puts', 'putting', 'putting gun', 'qagb', 'qagb sxsw', 'qr', 'qr code', 'qrafter', 'qrafter better', 'qrank', 'qrank ipad', 'qrcode', 'qrcode iphone', 'quake', 'quake link', 'qualified', 'qualified talented', 'quality', 'quality trumps', 'quantity', 'quantity tapworthy', 'quarter', 'quarter music', 'question', 'question amp', 'questioner', 'questioner sxsw', 'queue', 'queue epic', 'queue sxsw', 'quibids', 'quibids custom', 'quick', 'quicker', 'quickly', 'quite', 'quite scene', 'quot', 'quot affirmative', 'quot amazing', 'quot apple', 'quot believe', 'quot big', 'quot bizzy', 'quot check', 'quot circles', 'quot classiest', 'quot cool', 'quot don', 'quot explanation', 'quot facebook', 'quot flipboard', 'quot gave', 'quot google', 'quot got', 'quot haha', 'quot having', 'quot ipad', 'quot ipad2', 'quot iphone', 'quot just', 'quot kara', 'quot lewis', 'quot link', 'quot ll', 'quot marissa', 'quot mark', 'quot market', 'quot mention', 'quot mistakes', 'quot mobile', 'quot new', 'quot oh', 'quot petting', 'quot pop', 'quot popup', 'quot product', 'quot protecting', 'quot quot', 'quot reason', 'quot rt', 'quot store', 'quot sxsw', 'quot tapworthy', 'quot thanks', 'quot think', 'quot trending', 'quot uses', 'quot year', 'rad', 'rad ipad', 'raises', 'raises hand', 'random', 'random apple', 'ranking', 'rankings', 'rankings advice', 'rate', 'ratio', 'ratio like', 'read', 'read apple', 'read google', 'read link', 'reader', 'reader feed', 'reader iphone', 'readership', 'readership quot', 'ready', 'ready poursite', 'ready rock', 'ready sxsw', 'ready word', 'real', 'real time', 'reality', 'realize', 'realized', 'really', 'really cool', 'really don', 'really elegant', 'really enjoying', 'really fast', 'really great', 'really need', 'really nice', 'really want', 'reason', 'reason google', 'recap', 'recharge', 'recipe', 'recommendation', 'recommendations', 'recommendations really', 'refrigerator', 'regel', 'regel quot', 'registers', 'registers checkout', 'regularly', 'regularly scheduled', 'reilly', 'reilly sxsw', 'release', 'release ipad', 'released', 'released discovr', 'releases', 'releasing', 'releasing ios', 'relief', 'relief don', 'relief effort', 'rendering', 'replaced', 'replacement', 'report', 'report link', 'rerouted', 'rerouted images', 'research', 'resist', 'respect', 'rest', 'restaurant', 'restraunts', 'restraunts comment', 'resulting', 'resulting shameless', 'results', 'results sxsw', 'retail', 'retail store', 'retail stores', 'retiring', 'retiring wine', 'return', 'return policy', 'retweet', 'revealed', 'revealed link', 'revenue', 'revenue issue', 'review', 'review ipad', 'reviews', 'reward', 'ridiculous', 'ridiculous expect', 'ridiculously', 'right', 'right brain', 'right studentsforcleanwater', 'right sxsw', 'right thing', 'rightfully', 'rightfully sxsw', 'rise', 'rise 13', 'rise_austin', 'rise_austin dead', 'rji', 'robot', 'robot wars', 'robots', 'rock', 'rock sxsw', 'rockin', 'rocking', 'rocks', 'rocks sxsw', 'room', 'room doesn', 'room people', 'room raises', 'room socialviewing', 'room sxsw', 'route', 'route traffic', 'routes', 'routes traffic', 'rsvp', 'rt', 'rt haha', 'rt mention', 'rt sxsw', 'rules', 'rules sxsw', 'rumor', 'rumor apple', 'rumor google', 'rumored', 'rumored opening', 'rumors', 'rumors apple', 'rumours', 'rumours abt', 'run', 'run frostwire', 'running', 'runs', 'saatchiny', 'sadly', 'sadly wasn', 'safari', 'safari doesn', 'said', 'said quot', 'sale', 'sale friday', 'sale sxsw', 'sales', 'sales sxsw', 'sales touchingstories', 'salon', 'sampler', 'sampler itunes', 'samsung', 'samsung people', 'san', 'sandwich', 'sangre', 'savebrands', 'savebrands sxsw', 'saved', 'saved apple', 'saves', 'saves sxsw', 'saves users', 'saving', 'saving drivers', 'saving ipad', 'saving users', 'savvy', 'saw', 'saw lax', 'saw ossum', 'saw picture', 'saw preview', 'say', 'say hi', 'say yes', 'saying', 'says', 'says double', 'says douche', 'says google', 'says mayer', 'says mention', 'says sxsw', 'scale', 'scan', 'scan vcards', 'scarborough', 'scarborough building', 'scene', 'scene geek', 'scenes', 'schedule', 'schedule android', 'schedule app', 'schedule heavier', 'scheduled', 'scheduled sxsw', 'schedules', 'schemas', 'school', 'schools', 'schools marketing', 'schtuff', 'schtuff google', 'schwag', 'score', 'screen', 'screen quot', 'screen size', 'sea', 'search', 'search engine', 'search engines', 'search google', 'search probably', 'search results', 'search sxsw', 'search useful', 'searches', 'seats', 'seats sxsw', 'second', 'second day', 'secret', 'security', 'security guards', 'seeing', 'seeing amp', 'seen', 'seen apple', 'seen best', 'seen impressive', 'seen sxsw', 'self', 'sell', 'sell bajillions', 'sell ipad', 'sell ipad2', 'sell new', 'selling', 'selling early', 'selling ipad', 'selling ipad2', 'semantic', 'semantic web', 'sense', 'seo', 'seo consultation', 'seriously', 'seriously sxsw', 'serve', 'serve readership', 'service', 'service circles', 'services', 'services sxsw', 'session', 'session ipad', 'session mention', 'session sxsw', 'sessions', 'sessions sxsw', 'set', 'set open', 'set person', 'set place', 'set pop', 'set sxsw', 'sets', 'sets 000', 'sets temporary', 'setting', 'setting pop', 'shades', 'shakespeare', 'shakespeare pub', 'shameless', 'shameless promotion', 'share', 'share continues', 'share photos', 'share pics', 'share smart', 'sharing', 'sharing opinions', 'shat', 'shell', 'shell 1500', 'shiny', 'shiny new', 'shit', 'shit thanks', 'shitty', 'shop', 'shop austin', 'shop core', 'shop mention', 'shop sxsw', 'shop thoughts', 'shops', 'shops link', 'short', 'shot', 'shot exploiting', 'shot sxsw', 'shoulder', 'shout', 'shout spazmatics', 'showcased', 'showcased sxsw', 'showed', 'showed cool', 'showed mention', 'showing', 'showing ipad', 'showing new', 'showing sxsw', 'shows', 'sick', 'sides', 'sides killcommunity', 'sighting', 'sighting sxsw', 'sightings', 'sign', 'signal', 'signal say', 'signal strength', 'signed', 'signs', 'signs point', 'silly', 'simple', 'simple idea', 'single', 'sister', 'site', 'site coming', 'sites', 'sitting', 'size', 'sketch', 'skiers', 'skip', 'skip jump', 'skyfire', 'skyfire browser', 'slated', 'slated pop', 'sleepy', 'sleeves', 'sleeves sxsw', 'slides', 'slow', 'slowly', 'slowly surely', 'smackdown', 'smackdown bloody', 'small', 'smart', 'smart apple', 'smart company', 'smart mention', 'smart phones', 'smart played', 'smart rt', 'smart simple', 'smartest', 'smartest ipad', 'smartphone', 'smartphone rules', 'smartphone ve', 'smcdallas', 'smcdallas pre', 'smileyparty', 'snap', 'snap photo', 'sneakers', 'sneakers performance', 'sneaky', 'sneaky usual', 'social', 'social apps', 'social media', 'social network', 'social networks', 'social proof', 'social search', 'social service', 'social technical', 'social technology', 'socially', 'socialmedia', 'socialmedia tech', 'socialviewing', 'socialviewing session', 'society', 'society launches', 'software', 'sold', 'sold 64gig', 'sold 70', 'solid', 'solution', 'solving', 'someones', 'someones gotta', 'song', 'song explorer', 'song info', 'songs', 'songs 24', 'sony', 'sony xperia', 'soon', 'sorry', 'sound', 'sound voice', 'sounds', 'sounds like', 'source', 'south', 'south southwest', 'southby', 'southwest', 'space', 'space buzz', 'space clarity', 'space slated', 'spazmatics', 'spazmatics franchised', 'spazmatics sxsw', 'speak', 'speak quot', 'speakeasy', 'speakeasy link', 'speaks', 'special', 'speech', 'speech ipad', 'speech therapy', 'spend', 'spending', 'spent', 'spin', 'spin ipad', 'sponsored', 'sponsored happy', 'sponsored mashable', 'spot', 'spot ipad', 'spotted', 'spotted sxsw', 'square', 'srsly', 'st', 'st delete', 'stage', 'stand', 'stand line', 'standing', 'standing line', 'starry', 'starry night', 'start', 'start impromptu', 'start sxsw', 'started', 'started lying', 'started working', 'starting', 'starting ctia', 'starting transfer', 'starts', 'startupbus', 'startups', 'startups achieve', 'startups years', 'station', 'stations', 'stations sxsw', 'stay', 'stay tuned', 'steampunk', 'steampunk time', 'step', 'step customer', 'step tell', 'stereo', 'stereo quot', 'steve', 'steve jobs', 'steve wozniak', 'stock', 'stock apple', 'stole', 'stole little', 'stop', 'stop emc', 'stop sxsw', 'stopped', 'stops', 'store', 'store 6th', 'store amp', 'store android', 'store appears', 'store apple', 'store austin', 'store block', 'store coming', 'store days', 'store downtown', 'store going', 'store great', 'store handle', 'store includes', 'store ipad', 'store ipad2', 'store just', 'store killing', 'store launch', 'store layed', 'store like', 'store line', 'store link', 'store looking', 'store mall', 'store management', 'store mention', 'store near', 'store open', 'store opening', 'store selling', 'store set', 'store sold', 'store sxsw', 'store today', 'store tomorrow', 'store wish', 'stores', 'stores sxsw', 'story', 'strangers', 'strategy', 'stream', 'stream apple', 'stream isn', 'stream live', 'streaming', 'streaming just', 'streaming sxsw', 'streaming time', 'streams', 'street', 'street view', 'streetview', 'streetview hotpot', 'strength', 'striking', 'striking iron', 'strong', 'strong canadian', 'strong rumours', 'struggle', 'struggle sxsw', 'stuck', 'studentsforcleanwater', 'studentsforcleanwater org', 'studies', 'studies players', 'studios', 'studios louisiana', 'stuff', 'stuff like', 'stuff sxsw', 'stupid', 'style', 'subscriptions', 'subscriptions newsapps', 'succeed', 'succeed google', 'success', 'success apple', 'success google', 'suck', 'suck rt', 'sucks', 'sucks sxsw', 'suggestions', 'sunday', 'suns', 'suns tapworthy', 'super', 'super fast', 'super happy', 'super positive', 'support', 'support link', 'supposedly', 'supposedly mention', 'sure', 'sure download', 'surely', 'surprise', 'surprise apple', 'survival', 'survival existence', 'survive', 'survive amp', 'survive sxsw', 'swag', 'swag thanks', 'swarms', 'swarms ipad', 'sweeeeet', 'sweeeeet nice', 'sweet', 'sweet apple', 'swisher', 'swisher sxsw', 'switch', 'sxflip', 'sxflip sxsw', 'sxsh', 'sxsw', 'sxsw 10', 'sxsw 2011', 'sxsw 6th', 'sxsw accordion', 'sxsw action', 'sxsw amazing', 'sxsw amp', 'sxsw android', 'sxsw app', 'sxsw apple', 'sxsw attendees', 'sxsw atx', 'sxsw austin', 'sxsw awesomeness', 'sxsw best', 'sxsw beta', 'sxsw booth', 'sxsw bring', 'sxsw cbatsxsw', 'sxsw cc', 'sxsw check', 'sxsw checkins', 'sxsw cnet', 'sxsw cnn', 'sxsw com', 'sxsw come', 'sxsw coming', 'sxsw comments', 'sxsw conf', 'sxsw conference', 'sxsw connectedtv', 'sxsw cont', 'sxsw cool', 'sxsw crowd', 'sxsw day', 'sxsw definitely', 'sxsw delegates', 'sxsw demand', 'sxsw demo', 'sxsw details', 'sxsw diller', 'sxsw discover', 'sxsw does', 'sxsw doesn', 'sxsw download', 'sxsw elevate', 'sxsw enchantment', 'sxsw ers', 'sxsw excellent', 'sxsw fail', 'sxsw far', 'sxsw fb', 'sxsw featured', 'sxsw festival', 'sxsw fh', 'sxsw flights', 'sxsw flipboard', 'sxsw folks', 'sxsw free', 'sxsw gadgets', 'sxsw geek', 'sxsw getting', 'sxsw going', 'sxsw good', 'sxsw google', 'sxsw googledoodles', 'sxsw gotto', 'sxsw gps', 'sxsw great', 'sxsw gsdm', 'sxsw gt', 'sxsw hands', 'sxsw hire', 'sxsw holytrafficjams', 'sxsw hope', 'sxsw http', 'sxsw huge', 'sxsw il', 'sxsw including', 'sxsw interactive', 'sxsw ipad', 'sxsw ipad2', 'sxsw ipads', 'sxsw iphone', 'sxsw just', 'sxsw let', 'sxsw like', 'sxsw line', 'sxsw link', 'sxsw ll', 'sxsw looking', 'sxsw love', 'sxsw lt', 'sxsw lxh', 'sxsw macbook', 'sxsw making', 'sxsw man', 'sxsw marissa', 'sxsw means', 'sxsw mention', 'sxsw mobile', 'sxsw model', 'sxsw mosaicxm', 'sxsw music', 'sxsw musicviz', 'sxsw new', 'sxsw newsapps', 'sxsw nice', 'sxsw nptech', 'sxsw office', 'sxsw panel', 'sxsw parties', 'sxsw party', 'sxsw peeps', 'sxsw people', 'sxsw pic', 'sxsw plans', 'sxsw pls', 'sxsw plus', 'sxsw pnid', 'sxsw pop', 'sxsw popup', 'sxsw popupstore', 'sxsw poursite', 'sxsw prepared', 'sxsw presentation', 'sxsw pretty', 'sxsw qagb', 'sxsw quot', 'sxsw really', 'sxsw release', 'sxsw retweet', 'sxsw right', 'sxsw rji', 'sxsw rt', 'sxsw rumor', 'sxsw run', 'sxsw schedule', 'sxsw seen', 'sxsw sell', 'sxsw session', 'sxsw set', 'sxsw sightings', 'sxsw silly', 'sxsw sleepy', 'sxsw smartest', 'sxsw socialmedia', 'sxsw special', 'sxsw sponsored', 'sxsw starting', 'sxsw startupbus', 'sxsw stop', 'sxsw store', 'sxsw stream', 'sxsw style', 'sxsw sucks', 'sxsw sure', 'sxsw sxsw11', 'sxsw sxswchi', 'sxsw sxswi', 'sxsw taking', 'sxsw talk', 'sxsw taught', 'sxsw tech', 'sxsw techcrunch', 'sxsw temp', 'sxsw thanks', 'sxsw timely', 'sxsw tmsxsw', 'sxsw today', 'sxsw tomorrow', 'sxsw tonight', 'sxsw tons', 'sxsw trade', 'sxsw tradeshow', 'sxsw trend', 'sxsw tuesday', 'sxsw twitter', 'sxsw use', 'sxsw using', 'sxsw uxdes', 'sxsw vb', 'sxsw video', 'sxsw visit', 'sxsw want', 'sxsw wearing', 'sxsw web3', 'sxsw week', 'sxsw weekend', 'sxsw wife', 'sxsw winning', 'sxsw wins', 'sxsw wish', 'sxsw yay', 'sxsw year', 'sxsw11', 'sxsw2011', 'sxsw4japan', 'sxsw4japan relief', 'sxswbarcrawl', 'sxswbarcrawl sxswi', 'sxswchi', 'sxswchi link', 'sxswfail', 'sxswh', 'sxswi', 'sxswi innotribe', 'sxswi link', 'sxswi mention', 'sxswi sxsw', 'sxswmobileapps', 'sxswmobileapps sxsw', 'sxswnui', 'sxtxstate', 'sync', 'synced', 'synced ipad2', 'table', 'table wanted', 'tables', 'tablet', 'tablet morning', 'tablets', 'tacos', 'tacos super', 'tag', 'takes', 'takes sxsw', 'taking', 'taking old', 'taking photos', 'taking sxsw', 'talent', 'talent officer', 'talented', 'talented women', 'talk', 'talk fellow', 'talk google', 'talk mention', 'talk striking', 'talk sxsw', 'talked', 'talking', 'talking ipad', 'talks', 'tap', 'tap quality', 'tap quantity', 'tapworthy', 'tapworthy hisxsw', 'tapworthy sxsw', 'target', 'task', 'task sxsw', 'taught', 'taught want', 'tax', 'tax write', 'taxi', 'taxi magic', 'tbwasxsw', 'tbwasxsw sxsw', 'tc', 'tc apple', 'tchin', 'tchin party', 'teach', 'teach america', 'teaching', 'team', 'team android', 'team google', 'team gsdm', 'team set', 'team started', 'team sxsw', 'teamandroidsxsw', 'teamandroidsxsw cause', 'tech', 'tech apple', 'tech begins', 'tech heard', 'tech ipad2', 'tech savvy', 'tech_news', 'tech_news apple', 'techcrunch', 'techcrunch link', 'technews', 'technical', 'technical quot', 'technology', 'technology amazing', 'technology don', 'technology heard', 'tee', 'tell', 'tell know', 'tell new', 'tell people', 'tell quot', 'tell seats', 'tells', 'temp', 'temp apple', 'temp store', 'temporary', 'temporary apple', 'temporary ipad', 'temporary megastore', 'temporary store', 'temporary sxsw', 'temptation', 'tempted', 'tempting', 'term', 'term sxsw', 'terms', 'terrible', 'terrible google', 'test', 'testing', 'testing interactive', 'texas', 'texas observer', 'texas sxsw', 'text', 'texting', 'texting app', 'texting war', 'thank', 'thank bavcid', 'thank god', 'thank rt', 'thanks', 'thanks apple', 'thanks big', 'thanks google', 'thanks mention', 'thanks sxsw', 'thankyouecon', 'thankyouecon sxsw', 'theatre', 'theatre ok', 'theirs', 'theme', 'therapy', 'therapy communication', 'thing', 'thing apparently', 'thing insanely', 'thing japan', 'thing sxsw', 'thing ve', 'things', 'things ll', 'things screen', 'think', 'think google', 'think ipad', 'think link', 'think ll', 'think people', 'think quot', 'think speak', 'think sxsw', 'thinking', 'thinks', 'thisisdare', 'thisisdare sxsw', 'thought', 'thoughts', 'thoughts landlords', 'thousands', 'threw', 'threw ipad', 'thrilled', 'thrilled chief', 'throw', 'throw tchin', 'throwin', 'throwin party', 'throwing', 'thx', 'tidbit', 'til', 'til android', 'til midnight', 'tim', 'tim reilly', 'time', 'time android', 'time check', 'time day', 'time gps', 'time ipad2', 'time link', 'time looks', 'time machines', 'time open', 'time search', 'time sxsw', 'time tweeting', 'time users', 'timely', 'timely good', 'timely rt', 'times', 'timing', 'tiny', 'tip', 'tip don', 'tip mention', 'title', 'title tag', 'tkts', 'tkts useless', 'tmsxsw', 'toast', 'today', 'today ipad', 'today link', 'today mention', 'today quot', 'today share', 'today sxsw', 'today sxswi', 'today thanks', 'today world', 'tomlinson', 'tomlinson says', 'tomorrow', 'tomorrow apple', 'tomorrow link', 'tomorrow mention', 'tomorrow sxsw', 'ton', 'tonight', 'tonight google', 'tonight person', 'tonight rt', 'tonight sxsw', 'tons', 'tons ipad2s', 'tons music', 'toodamnlucky', 'took', 'tool', 'tool measuring', 'tools', 'tools past', 'tops', 'tops 65', 'total', 'totally', 'totally agree', 'toting', 'touch', 'touched', 'touchingstories', 'touchingstories tbwasxsw', 'town', 'town sxsw', 'track', 'tracker', 'tracker cool', 'tracks', 'trade', 'traded', 'tradeshow', 'tradeshow demo', 'traffic', 'traffic google', 'traffic saving', 'traffic sxsw', 'transfer', 'transfer bit', 'trashy', 'trashy restraunts', 'travel', 'trend', 'trend audience', 'trending', 'trending sxsw', 'trending sxswi', 'tried', 'tried new', 'tries', 'trip', 'tron', 'trouble', 'truck', 'trucks', 'trucks signal', 'true', 'true rt', 'trumping', 'trumping content', 'trumps', 'trumps density', 'trumps tap', 'trustworthiness', 'trustworthiness zappos', 'try', 'trying', 'trying steve', 'ts', 'ts sxsw', 'tshirt', 'tsunami', 'tuesday', 'tuesday 15', 'tumblr', 'tumblr com', 'tuned', 'turkey', 'turkey rt', 'turn', 'turn ipad', 'turned', 'turning', 'tv', 'tv demo', 'tv experience', 'tv google', 'tv moving', 'tv quot', 'tv room', 'tv working', 'tweet', 'tweet love', 'tweet quot', 'tweetdeck', 'tweetdeck unstable', 'tweeting', 'tweeting new', 'tweeting rise_austin', 'tweeting sxsw', 'tweeting using', 'tweets', 'twit', 'twitter', 'twitter app', 'twitter does', 'type', 'typing', 'tyson', 'uberguide', 'uberguide sxsw', 'ubersocial', 'ubersocial iphone', 'ui', 'ui insights', 'umm', 'umshini', 'umshini wam', 'unboxing', 'unless', 'unless money', 'unofficial', 'unreal', 'unreal just', 'unscientific', 'unscientific observation', 'unstable', 'unstable nten', 'unveiling', 'unveiling new', 'uosxsw', 'uosxsw sxsw', 'update', 'update iphone', 'updated', 'updated iphone', 'updated npr', 'updates', 'updates iphone', 'updating', 'upgrade', 'upgrade newest', 'upgrade plugin', 'ur', 'ur iphone', 'urs', 'urs sxsw', 'usa', 'usage', 'usage mobile', 'use', 'use google', 'use ipad', 'use mobile', 'use sxsw', 'use time', 'used', 'used ipad', 'useful', 'useful info', 'useful ipad', 'useless', 'useless canada', 'user', 'user gets', 'users', 'users 40', 'users drive', 'users mention', 'users mobile', 'users privacy', 'users struggle', 'users sxsw', 'users tim', 'users years', 'uses', 'uses google', 'uses windows', 'usguys', 'usguys sxsw', 'using', 'using alternate', 'using check', 'using google', 'using ipad', 'using iphone', 'using mention', 'using sxsw', 'ustream', 'ustream skyfire', 'usual', 'usual link', 'utilize', 'utilize pop', 'ux', 'uxdes', 'uxdes sxsw', 'v2', 'v5', 'valley', 'valuable', 'valuable device', 'vb', 'vb mention', 'vcards', 'vcards download', 've', 've eyeballed', 've got', 've having', 've heard', 've seen', 've used', 'vector', 'vegas', 'verizon', 'verizon iphone', 'version', 'version google', 'version mention', 'version whrrl', 'vid', 'video', 'video ad', 'video camera', 'video ireport', 'video link', 'video new', 'video player', 'video streaming', 'videos', 'videos whatcha', 'vids', 'view', 'view art', 'view car', 'viewed', 'views', 'vinh', 'vip', 'vip badge', 'virgin', 'virgin product', 'virtual', 'visit', 'visit fb', 'visiting', 'visualization', 'voice', 'voice shot', 'voluntarily', 'voluntarily quot', 'vs', 'vs android', 'vs users', 'vuvuzela', 'vuvuzela home', 'w00t', 'w00t mention', 'wait', 'wait anymore', 'wait ipad', 'wait line', 'wait rt', 'wait samsung', 'wait til', 'waited', 'waiting', 'waiting line', 'waiting outside', 'wal', 'wal mart', 'walk', 'walk conference', 'walked', 'walking', 'walking apple', 'walking ipad', 'wam', 'wanna', 'want', 'want demo', 'want home', 'want ipad', 'want ipad2', 'want iphone', 'want make', 'want shell', 'want win', 'wanted', 'wanted buy', 'wants', 'war', 'war heats', 'wars', 'wars steampunk', 'wasn', 'wasted', 'wasted time', 'watch', 'watch ustream', 'watch yelp', 'watched', 'watching', 'water', 'water tonight', 'way', 'way apple', 'way caring', 'way coordinate', 'way queue', 'way serve', 'way sxsw', 'wearing', 'wearing openbeta', 'web', 'web apps', 'web austin', 'web fonts', 'web site', 'web3', 'web3 saatchiny', 'webdoc', 'webdoc com', 'website', 'website ranking', 'website rankings', 'wed', 'wed hoping', 'week', 'week early', 'week long', 'week right', 'week sxsw', 'weekend', 'weekend sxsw', 'weeks', 'weird', 'welcome', 'went', 'went new', 'whale', 'whale artist', 'whatcha', 'whatcha think', 'white', 'white ipad', 'whoa', 'whrrl', 'whrrl app', 'whrrl available', 'wi', 'wi fi', 'wife', 'wife iphone', 'wifi', 'wifi white', 'willing', 'win', 'win awesome', 'win free', 'win ipad', 'win long', 'win macbook', 'win sony', 'win sxsw', 'windows', 'windows voluntarily', 'wine', 'wine library', 'winner', 'winning', 'winning mention', 'winning performance', 'winning quot', 'winning shit', 'winning sxsw', 'wins', 'wins best', 'wins ipad', 'wins sxsw', 'wired', 'wired moma', 'wise', 'wish', 'wish austin', 'wish ipad', 'wish purchase', 'wish sxsw', 'wishing', 'women', 'women consciously', 'women hands', 'women product', 'won', 'won 2nd', 'won ipad', 'won sxsw', 'wonder', 'wonder apple', 'wonder google', 'wondering', 'woo', 'woo hoo', 'woohoo', 'wooooo', 'wooooo did', 'woot', 'word', 'word quot', 'wordpress', 'work', 'work agileagency', 'work check', 'work fun', 'work people', 'working', 'working ipad', 'working ipad2', 'working sxsw', 'works', 'works google', 'world', 'world download', 'world expensive', 'world ipad', 'world sxsw', 'worlds', 'worlds mobile', 'worry', 'worry link', 'worst', 'worth', 'worth time', 'worth unless', 'wouldn', 'wow', 'wow apple', 'wow mention', 'wow rock', 'wow rt', 'wow shakespeare', 'wow sxsw', 'wow thing', 'wozniak', 'wozniak drink', 'write', 'write buy', 'writing', 'writing notes', 'wrong', 'wrote', 'wrote hollergram', 'wssxsw', 'wtf', 'www', 'xml', 'xoom', 'xperia', 'xperia play', 'ya', 'yall', 'yay', 'yay rt', 'yeah', 'year', 'year festival', 'year google', 'year including', 'year ipad', 'year iphone', 'year old', 'year sxsw', 'years', 'years day', 'years mention', 'years time', 'yelp', 'yelp killer', 'yelp sxsw', 'yep', 'yes', 'yes gowalla', 'yes link', 'yes rt', 'yes sxsw', 'yes updated', 'yesterday', 'york', 'york times', 'youtube', 'yr', 'yr fandango', 'yr iphone', 'yrs', 'zaarly', 'zaggle', 'zaggle showed', 'zappos', 'zappos amp', 'zazzlesxsw', 'zazzlesxsw sxsw', 'zero', 'zms', 'zms mention', 'zomg', 'zomg mention', 'zoom']\n"
          ],
          "name": "stdout"
        }
      ]
    },
    {
      "cell_type": "markdown",
      "metadata": {
        "id": "qanDXve15sY_",
        "colab_type": "text"
      },
      "source": [
        "## Question 7"
      ]
    },
    {
      "cell_type": "markdown",
      "metadata": {
        "id": "uMaRNFkV5sY_",
        "colab_type": "text"
      },
      "source": [
        "### Select classifier logistic regression\n",
        "- use logistic regression for predicting sentiment of the given tweet\n",
        "- initialize classifier"
      ]
    },
    {
      "cell_type": "code",
      "metadata": {
        "id": "GT3dNgB55sZA",
        "colab_type": "code",
        "colab": {
          "base_uri": "https://localhost:8080/",
          "height": 141
        },
        "outputId": "42da7904-0f40-47a5-8334-75b69f3c4639"
      },
      "source": [
        "param_grid = {'C': [0.001, 0.01, 0.1, 1, 10]}\n",
        "grid = GridSearchCV(LogisticRegression(), param_grid, cv=5)\n",
        "grid.fit(train_dtm, y_train)\n",
        "\n",
        "print(\"Best cross-validation score: {:.2f}\".format(grid.best_score_))\n",
        "print(\"Best parameters: \", grid.best_params_)\n",
        "print(\"Best estimator: \", grid.best_estimator_)"
      ],
      "execution_count": 153,
      "outputs": [
        {
          "output_type": "stream",
          "text": [
            "Best cross-validation score: 0.87\n",
            "Best parameters:  {'C': 1}\n",
            "Best estimator:  LogisticRegression(C=1, class_weight=None, dual=False, fit_intercept=True,\n",
            "                   intercept_scaling=1, l1_ratio=None, max_iter=100,\n",
            "                   multi_class='auto', n_jobs=None, penalty='l2',\n",
            "                   random_state=None, solver='lbfgs', tol=0.0001, verbose=0,\n",
            "                   warm_start=False)\n"
          ],
          "name": "stdout"
        }
      ]
    },
    {
      "cell_type": "markdown",
      "metadata": {
        "id": "pqQ6_HX35sZD",
        "colab_type": "text"
      },
      "source": [
        "### Fit the classifer\n",
        "- fit logistic regression classifier"
      ]
    },
    {
      "cell_type": "code",
      "metadata": {
        "id": "EIzvnNkq5sZD",
        "colab_type": "code",
        "colab": {
          "base_uri": "https://localhost:8080/",
          "height": 106
        },
        "outputId": "ab8a5b1a-96e4-45e3-d974-df833f8044fa"
      },
      "source": [
        "lr = grid.best_estimator_\n",
        "lr.fit(train_dtm, y_train)\n"
      ],
      "execution_count": 155,
      "outputs": [
        {
          "output_type": "execute_result",
          "data": {
            "text/plain": [
              "LogisticRegression(C=1, class_weight=None, dual=False, fit_intercept=True,\n",
              "                   intercept_scaling=1, l1_ratio=None, max_iter=100,\n",
              "                   multi_class='auto', n_jobs=None, penalty='l2',\n",
              "                   random_state=None, solver='lbfgs', tol=0.0001, verbose=0,\n",
              "                   warm_start=False)"
            ]
          },
          "metadata": {
            "tags": []
          },
          "execution_count": 155
        }
      ]
    },
    {
      "cell_type": "markdown",
      "metadata": {
        "id": "SZpMsYQF5sZF",
        "colab_type": "text"
      },
      "source": [
        "## Question 8"
      ]
    },
    {
      "cell_type": "markdown",
      "metadata": {
        "id": "KGnQnUww5sZF",
        "colab_type": "text"
      },
      "source": [
        "### Select classifier naive bayes\n",
        "- use naive bayes for predicting sentiment of the given tweet\n",
        "- initialize classifier\n",
        "- use MultinomialNB"
      ]
    },
    {
      "cell_type": "code",
      "metadata": {
        "colab_type": "code",
        "id": "2AbVYssaH0OE",
        "colab": {}
      },
      "source": [
        "param_grid = {'C': [0.001, 0.01, 0.1, 1, 10]}\n",
        "grid = GridSearchCV(LogisticRegression(), param_grid, cv=5)\n",
        "grid.fit(train_dtm, y_train)\n",
        "\n",
        "print(\"Best cross-validation score: {:.2f}\".format(grid.best_score_))\n",
        "print(\"Best parameters: \", grid.best_params_)\n",
        "print(\"Best estimator: \", grid.best_estimator_)"
      ],
      "execution_count": 0,
      "outputs": []
    },
    {
      "cell_type": "markdown",
      "metadata": {
        "id": "QEaG942m5sZI",
        "colab_type": "text"
      },
      "source": [
        "### Fit the classifer\n",
        "- fit naive bayes classifier"
      ]
    },
    {
      "cell_type": "code",
      "metadata": {
        "id": "rLwRBj1R5sZI",
        "colab_type": "code",
        "colab": {
          "base_uri": "https://localhost:8080/",
          "height": 70
        },
        "outputId": "fc31d734-2677-44d3-ab0b-06f686ce2f51"
      },
      "source": [
        "param_grid_nb = {'alpha': [0.001]}\n",
        "nb_grid = GridSearchCV(MultinomialNB(), param_grid_nb, cv=5)\n",
        "nb_grid.fit(train_dtm, y_train)\n",
        "\n",
        "print(\"Best cross-validation score: {:.2f}\".format(nb_grid.best_score_))\n",
        "print(\"Best parameters: \", nb_grid.best_params_)\n",
        "print(\"Best estimator: \", nb_grid.best_estimator_)"
      ],
      "execution_count": 162,
      "outputs": [
        {
          "output_type": "stream",
          "text": [
            "Best cross-validation score: 0.85\n",
            "Best parameters:  {'alpha': 0.001}\n",
            "Best estimator:  MultinomialNB(alpha=0.001, class_prior=None, fit_prior=True)\n"
          ],
          "name": "stdout"
        }
      ]
    },
    {
      "cell_type": "markdown",
      "metadata": {
        "id": "A7mgwYDJ5sZM",
        "colab_type": "text"
      },
      "source": [
        "## Question 9"
      ]
    },
    {
      "cell_type": "markdown",
      "metadata": {
        "id": "sZkA3tce5sZN",
        "colab_type": "text"
      },
      "source": [
        "### Make predictions on logistic regression\n",
        "- use your trained logistic regression model to make predictions on X_test"
      ]
    },
    {
      "cell_type": "code",
      "metadata": {
        "id": "l3f0M1ch5sZO",
        "colab_type": "code",
        "colab": {
          "base_uri": "https://localhost:8080/",
          "height": 675
        },
        "outputId": "e83748a1-9d54-48e8-fe85-12c9cd20eba8"
      },
      "source": [
        "lr.predict(test_dtm)\n"
      ],
      "execution_count": 156,
      "outputs": [
        {
          "output_type": "execute_result",
          "data": {
            "text/plain": [
              "array([1, 0, 1, 1, 1, 1, 1, 1, 1, 1, 1, 0, 1, 1, 1, 1, 1, 1, 1, 1, 1, 1,\n",
              "       1, 1, 1, 1, 1, 0, 1, 1, 1, 1, 1, 1, 0, 1, 1, 0, 1, 1, 1, 1, 1, 1,\n",
              "       1, 1, 1, 1, 1, 1, 1, 1, 0, 1, 1, 1, 1, 1, 1, 1, 1, 1, 1, 1, 1, 1,\n",
              "       1, 1, 1, 1, 1, 1, 1, 1, 1, 1, 1, 1, 0, 1, 1, 1, 1, 1, 1, 1, 1, 1,\n",
              "       1, 1, 1, 1, 1, 1, 1, 0, 1, 1, 0, 1, 1, 1, 1, 1, 1, 1, 1, 1, 1, 1,\n",
              "       1, 1, 1, 1, 1, 1, 1, 1, 1, 1, 1, 1, 1, 1, 1, 1, 1, 1, 1, 1, 1, 1,\n",
              "       1, 1, 1, 1, 1, 1, 1, 1, 1, 1, 1, 1, 1, 1, 1, 1, 1, 1, 1, 1, 1, 1,\n",
              "       1, 1, 1, 1, 1, 1, 1, 1, 1, 1, 1, 0, 1, 0, 1, 1, 1, 1, 1, 1, 1, 1,\n",
              "       1, 1, 1, 1, 1, 1, 1, 1, 1, 1, 1, 1, 1, 1, 1, 1, 1, 1, 1, 1, 1, 1,\n",
              "       1, 1, 1, 1, 1, 1, 1, 1, 1, 1, 1, 1, 1, 1, 1, 1, 1, 1, 1, 1, 1, 1,\n",
              "       1, 1, 1, 1, 1, 1, 1, 1, 1, 1, 1, 0, 1, 1, 1, 1, 1, 0, 1, 1, 1, 1,\n",
              "       1, 1, 1, 1, 1, 0, 1, 1, 1, 1, 1, 1, 1, 1, 1, 1, 1, 1, 1, 1, 1, 1,\n",
              "       1, 1, 1, 1, 0, 1, 1, 0, 1, 1, 1, 1, 0, 1, 0, 1, 1, 1, 1, 1, 1, 1,\n",
              "       1, 1, 1, 1, 1, 1, 1, 1, 1, 1, 0, 1, 1, 0, 1, 1, 0, 1, 1, 0, 1, 1,\n",
              "       1, 1, 1, 1, 1, 1, 1, 0, 1, 1, 1, 1, 1, 1, 0, 1, 0, 1, 1, 1, 1, 1,\n",
              "       1, 0, 0, 1, 1, 1, 1, 1, 1, 1, 1, 1, 1, 1, 1, 1, 1, 1, 1, 1, 1, 1,\n",
              "       1, 1, 1, 1, 1, 1, 1, 1, 1, 1, 0, 1, 1, 1, 1, 1, 1, 1, 1, 1, 1, 1,\n",
              "       1, 1, 1, 1, 1, 1, 1, 1, 1, 1, 1, 1, 1, 1, 1, 1, 1, 1, 0, 0, 1, 1,\n",
              "       1, 1, 1, 1, 0, 1, 1, 1, 1, 0, 1, 1, 1, 1, 1, 1, 1, 1, 1, 0, 1, 1,\n",
              "       0, 1, 1, 1, 1, 1, 0, 1, 1, 0, 1, 1, 1, 1, 1, 1, 1, 1, 1, 1, 1, 1,\n",
              "       1, 1, 1, 1, 1, 1, 0, 1, 1, 1, 1, 1, 1, 1, 1, 1, 1, 1, 1, 1, 1, 1,\n",
              "       1, 1, 1, 1, 1, 1, 1, 1, 0, 1, 1, 1, 1, 1, 1, 1, 1, 1, 1, 0, 1, 1,\n",
              "       1, 1, 1, 1, 1, 1, 1, 1, 1, 1, 1, 1, 1, 1, 1, 1, 1, 1, 1, 0, 1, 1,\n",
              "       1, 1, 1, 1, 1, 0, 1, 1, 1, 0, 1, 1, 1, 1, 1, 1, 1, 1, 1, 0, 1, 0,\n",
              "       1, 1, 0, 1, 1, 1, 1, 1, 1, 1, 1, 1, 1, 1, 1, 1, 1, 1, 1, 1, 1, 1,\n",
              "       1, 1, 1, 1, 1, 0, 1, 1, 1, 1, 1, 1, 1, 1, 1, 1, 1, 1, 1, 1, 1, 1,\n",
              "       1, 1, 1, 1, 1, 1, 1, 1, 1, 1, 1, 1, 1, 1, 1, 1, 1, 1, 1, 1, 1, 1,\n",
              "       0, 1, 1, 1, 1, 1, 1, 1, 1, 1, 1, 1, 1, 1, 1, 1, 1, 1, 1, 1, 1, 1,\n",
              "       0, 1, 1, 1, 1, 1, 1, 1, 1, 1, 1, 1, 1, 1, 1, 0, 1, 1, 1, 1, 1, 1,\n",
              "       1, 1, 1, 1, 1, 1, 1, 1, 0, 1, 1, 1, 1, 1, 1, 1, 1, 1, 1, 1, 1, 1,\n",
              "       1, 1, 1, 1, 1, 1, 1, 1, 1, 1, 1, 1, 0, 1, 1, 1, 0, 1, 1, 1, 1, 1,\n",
              "       1, 1, 1, 1, 1, 1, 1, 0, 1, 1, 1, 1, 1, 1, 1, 1, 1, 1, 1, 1, 1, 1,\n",
              "       1, 1, 1, 1, 1, 1, 1, 1, 1, 1, 1, 1, 1, 1, 1, 1, 1, 1, 1, 1, 1, 1,\n",
              "       1, 1, 1, 1, 1, 1, 1, 1, 1, 1, 0, 1, 0, 1, 1, 1, 0, 1, 1, 1, 0, 1,\n",
              "       1, 1, 1, 1, 1, 1, 1, 0, 1, 1, 1, 1, 1, 1, 1, 1, 1, 1, 0, 1, 1, 1,\n",
              "       1, 1, 1, 1, 1, 1, 1, 0, 1, 1, 1, 1, 1, 1, 1, 0, 1, 1, 1, 1, 1, 1,\n",
              "       1, 1, 1, 1, 1, 1])"
            ]
          },
          "metadata": {
            "tags": []
          },
          "execution_count": 156
        }
      ]
    },
    {
      "cell_type": "markdown",
      "metadata": {
        "id": "lrIxjMUB5sZQ",
        "colab_type": "text"
      },
      "source": [
        "### Make predictions on naive bayes\n",
        "- use your trained naive bayes model to make predictions on X_test\n",
        "- use a different variable name to store predictions so that they are kept separately"
      ]
    },
    {
      "cell_type": "code",
      "metadata": {
        "id": "ZSQnwyLU5sZQ",
        "colab_type": "code",
        "colab": {
          "base_uri": "https://localhost:8080/",
          "height": 35
        },
        "outputId": "2188bc2d-8819-4ced-e80b-9bf823a8d5b7"
      },
      "source": [
        "nb_lr = nb_grid.best_estimator_\n",
        "nb_lr.fit(train_dtm, y_train)"
      ],
      "execution_count": 163,
      "outputs": [
        {
          "output_type": "execute_result",
          "data": {
            "text/plain": [
              "MultinomialNB(alpha=0.001, class_prior=None, fit_prior=True)"
            ]
          },
          "metadata": {
            "tags": []
          },
          "execution_count": 163
        }
      ]
    },
    {
      "cell_type": "markdown",
      "metadata": {
        "id": "rwXQUE7b5sZS",
        "colab_type": "text"
      },
      "source": [
        "## Question 10"
      ]
    },
    {
      "cell_type": "markdown",
      "metadata": {
        "id": "E6SITIE75sZT",
        "colab_type": "text"
      },
      "source": [
        "### Calculate accuracy of logistic regression\n",
        "- check accuracy of logistic regression classifer\n",
        "- use sklearn.metrics.accuracy_score"
      ]
    },
    {
      "cell_type": "code",
      "metadata": {
        "colab_type": "code",
        "id": "clv2X0kKH0Ok",
        "colab": {
          "base_uri": "https://localhost:8080/",
          "height": 35
        },
        "outputId": "d700152c-7a22-4f65-8897-06917cef7bfb"
      },
      "source": [
        "print(\"Score: {:.2f}\".format(lr.score(test_dtm, y_test)))"
      ],
      "execution_count": 157,
      "outputs": [
        {
          "output_type": "stream",
          "text": [
            "Score: 0.88\n"
          ],
          "name": "stdout"
        }
      ]
    },
    {
      "cell_type": "markdown",
      "metadata": {
        "id": "1Fd_Gnd05sZV",
        "colab_type": "text"
      },
      "source": [
        "### Calculate accuracy of naive bayes\n",
        "- check accuracy of naive bayes classifer\n",
        "- use sklearn.metrics.accuracy_score"
      ]
    },
    {
      "cell_type": "code",
      "metadata": {
        "colab_type": "code",
        "id": "d32uBpHi5sZW",
        "colab": {
          "base_uri": "https://localhost:8080/",
          "height": 35
        },
        "outputId": "c4d69f58-5661-4abb-9836-15e93499a580"
      },
      "source": [
        "print(\"Score: {:.2f}\".format(nb_lr.score(test_dtm, y_test)))"
      ],
      "execution_count": 164,
      "outputs": [
        {
          "output_type": "stream",
          "text": [
            "Score: 0.87\n"
          ],
          "name": "stdout"
        }
      ]
    }
  ]
}